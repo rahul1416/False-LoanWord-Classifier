{
 "cells": [
  {
   "cell_type": "code",
   "execution_count": 2,
   "metadata": {},
   "outputs": [],
   "source": [
    "import torch\n",
    "from transformers import BertModel\n",
    "\n",
    "\n",
    "class LoanWordClassifier(torch.nn.Module):\n",
    "    def __init__(self, num_phonetic_embeddings, num_labels=2):\n",
    "        super().__init__()\n",
    "        self.bert = BertModel.from_pretrained(\"model/tuned-bert\")\n",
    "        for param in self.bert.parameters():\n",
    "            param.requires_grad = False\n",
    "            \n",
    "        self.phonetic_embedder = torch.nn.Embedding(num_phonetic_embeddings, embedding_dim=64)\n",
    "        \n",
    "        bert_hidden_size = self.bert.config.hidden_size \n",
    "        phonetic_size = 64\n",
    "        unicode_size = 25 \n",
    "        other_size = 1\n",
    "        \n",
    "        total_input_size = bert_hidden_size + phonetic_size + unicode_size + other_size\n",
    "        \n",
    "        self.classifier = torch.nn.Sequential(\n",
    "            torch.nn.Linear(total_input_size, 256),\n",
    "            torch.nn.ReLU(),\n",
    "            torch.nn.Linear(256, num_labels)\n",
    "        )\n",
    "\n",
    "    def forward(self, input_ids, attention_mask, phonetic_seq, unicode_feature, other_feature):\n",
    "        \n",
    "        outputs = self.bert(input_ids=input_ids, attention_mask=attention_mask)\n",
    "        last_hidden_states = outputs.last_hidden_state \n",
    "        pooled_output = last_hidden_states.mean(dim=1) \n",
    "        phonetic_emb = self.phonetic_embedder(phonetic_seq).mean(dim=1) \n",
    "\n",
    "    \n",
    "        unicode_feature = unicode_feature.view(unicode_feature.size(0), -1)  \n",
    "        other_feature = other_feature.view(other_feature.size(0), -1)      \n",
    "\n",
    "    \n",
    "        combined = torch.cat([\n",
    "            pooled_output,       \n",
    "            phonetic_emb,        \n",
    "            unicode_feature,     \n",
    "            other_feature        \n",
    "        ], dim=1)               \n",
    "        \n",
    "        logits = self.classifier(combined)\n",
    "        return logits"
   ]
  },
  {
   "cell_type": "code",
   "execution_count": 9,
   "metadata": {},
   "outputs": [
    {
     "name": "stderr",
     "output_type": "stream",
     "text": [
      "/tmp/ipykernel_5306/1483854922.py:7: FutureWarning: You are using `torch.load` with `weights_only=False` (the current default value), which uses the default pickle module implicitly. It is possible to construct malicious pickle data which will execute arbitrary code during unpickling (See https://github.com/pytorch/pytorch/blob/main/SECURITY.md#untrusted-models for more details). In a future release, the default value for `weights_only` will be flipped to `True`. This limits the functions that could be executed during unpickling. Arbitrary objects will no longer be allowed to be loaded via this mode unless they are explicitly allowlisted by the user via `torch.serialization.add_safe_globals`. We recommend you start setting `weights_only=True` for any use case where you don't have full control of the loaded file. Please open an issue on GitHub for any issues related to this experimental feature.\n",
      "  model.load_state_dict(torch.load(\"model/loan_word_model.pth\", map_location=torch.device('cpu')))\n"
     ]
    },
    {
     "name": "stdout",
     "output_type": "stream",
     "text": [
      "False loan words: ['government', 'abordage']\n"
     ]
    }
   ],
   "source": [
    "import torch\n",
    "from transformers import BertTokenizer\n",
    "import epitran\n",
    "\n",
    "# Load model and tokenizer\n",
    "model = LoanWordClassifier(111212)\n",
    "model.load_state_dict(torch.load(\"model/loan_word_model.pth\", map_location=torch.device('cpu')))\n",
    "model.eval()\n",
    "tokenizer = BertTokenizer.from_pretrained(\"model/tuned-bert-tokenizer\")\n",
    "epi = epitran.Epitran(\"fra-Latn\")\n",
    "\n",
    "device = torch.device(\"cuda\" if torch.cuda.is_available() else \"cpu\")\n",
    "\n",
    "def normalize(unicode_values):\n",
    "    mean_value = sum(unicode_values) / len(unicode_values)\n",
    "    return [val - mean_value for val in unicode_values]\n",
    "\n",
    "def extract_features(word, max_len=25):\n",
    "    try:\n",
    "        loan_epitran = epi.transliterate(word)\n",
    "        phonetic_seq = [ord(c) for c in loan_epitran] \n",
    "    except IndexError as e:\n",
    "        print(f\"Transliteration failed for '{word}': {e}\")\n",
    "        phonetic_seq = [0] \n",
    "\n",
    "    unicode_features = [ord(c) for c in word]\n",
    "    unicode_features = normalize(unicode_features)\n",
    "\n",
    "    if len(unicode_features) < max_len:\n",
    "        unicode_features = unicode_features + [0] * (max_len - len(unicode_features))\n",
    "    else:\n",
    "        unicode_features = unicode_features[:max_len]  # Truncate if longer\n",
    "\n",
    "    return phonetic_seq, unicode_features, [len(word)]\n",
    "\n",
    "\n",
    "\n",
    "sentence = \"The government governed a new abordage policy.\"\n",
    "words = sentence.split()\n",
    "\n",
    "false_loans = []\n",
    "for word in words:\n",
    "    phonetic_seq, unicode_feature, other_feature = extract_features(word)\n",
    "    inputs = tokenizer(word, return_tensors=\"pt\", padding=True, truncation=True)\n",
    "\n",
    "    with torch.no_grad():\n",
    "        logits = model(\n",
    "            input_ids=inputs[\"input_ids\"].to(device),\n",
    "            attention_mask=inputs[\"attention_mask\"].to(device),\n",
    "            phonetic_seq=torch.tensor([phonetic_seq], dtype=torch.long).to(device),\n",
    "            unicode_feature=torch.tensor([unicode_feature], dtype=torch.float).to(device),\n",
    "            other_feature=torch.tensor([other_feature], dtype=torch.float).to(device)\n",
    "        )\n",
    "        probs = torch.softmax(logits, dim=1)\n",
    "        # print(word , probs)\n",
    "        \n",
    "        if torch.argmax(probs) == 1:  \n",
    "            false_loans.append(word)\n",
    "\n",
    "print(\"False loan words:\", false_loans)"
   ]
  },
  {
   "cell_type": "code",
   "execution_count": 26,
   "metadata": {},
   "outputs": [
    {
     "name": "stdout",
     "output_type": "stream",
     "text": [
      "False loan words: ['pan']\n",
      "In Spanish, 'pan' means bread, but in English, it means a cooking utensil.\n"
     ]
    }
   ],
   "source": [
    "sentence = \"She loves eating pan with butter.\"\n",
    "words = sentence.split()\n",
    "false_loans = []\n",
    "for word in words:\n",
    "    phonetic_seq, unicode_feature, other_feature = extract_features(word)\n",
    "    inputs = tokenizer(word, return_tensors=\"pt\", padding=True, truncation=True)\n",
    "\n",
    "    with torch.no_grad():\n",
    "        logits = model(\n",
    "            input_ids=inputs[\"input_ids\"].to(device),\n",
    "            attention_mask=inputs[\"attention_mask\"].to(device),\n",
    "            phonetic_seq=torch.tensor([phonetic_seq], dtype=torch.long).to(device),\n",
    "            unicode_feature=torch.tensor([unicode_feature], dtype=torch.float).to(device),\n",
    "            other_feature=torch.tensor([other_feature], dtype=torch.float).to(device)\n",
    "        )\n",
    "        probs = torch.softmax(logits, dim=1)\n",
    "        # print(word , probs)\n",
    "        \n",
    "        if torch.argmax(probs) == 1:  \n",
    "            false_loans.append(word)\n",
    "\n",
    "print(\"False loan words:\", false_loans)\n",
    "print(\"In Spanish, 'pan' means bread, but in English, it means a cooking utensil.\")"
   ]
  },
  {
   "cell_type": "code",
   "execution_count": 27,
   "metadata": {},
   "outputs": [
    {
     "name": "stdout",
     "output_type": "stream",
     "text": [
      "False loan words: ['smoking']\n",
      "In French, 'sensibilisation' means awareness, but 'sensibilization' is not a common English word.\n"
     ]
    }
   ],
   "source": [
    "sentence = \"He wore a stylish smoking to the party.\"\n",
    "words = sentence.split()\n",
    "false_loans = []\n",
    "for word in words:\n",
    "    phonetic_seq, unicode_feature, other_feature = extract_features(word)\n",
    "    inputs = tokenizer(word, return_tensors=\"pt\", padding=True, truncation=True)\n",
    "\n",
    "    with torch.no_grad():\n",
    "        logits = model(\n",
    "            input_ids=inputs[\"input_ids\"].to(device),\n",
    "            attention_mask=inputs[\"attention_mask\"].to(device),\n",
    "            phonetic_seq=torch.tensor([phonetic_seq], dtype=torch.long).to(device),\n",
    "            unicode_feature=torch.tensor([unicode_feature], dtype=torch.float).to(device),\n",
    "            other_feature=torch.tensor([other_feature], dtype=torch.float).to(device)\n",
    "        )\n",
    "        probs = torch.softmax(logits, dim=1)\n",
    "        # print(word , probs)\n",
    "        \n",
    "        if torch.argmax(probs) == 1:  \n",
    "            false_loans.append(word)\n",
    "\n",
    "print(\"False loan words:\", false_loans)\n",
    "print(\"In French, 'sensibilisation' means awareness, but 'sensibilization' is not a common English word.\")"
   ]
  },
  {
   "cell_type": "code",
   "execution_count": 28,
   "metadata": {},
   "outputs": [
    {
     "name": "stdout",
     "output_type": "stream",
     "text": [
      "False loan words: ['actual']\n",
      "In many languages like Spanish and French, 'actual' means current, but in English, it means real.\n"
     ]
    }
   ],
   "source": [
    "sentence = \"Can you help me with my actual problem?\"\n",
    "words = sentence.split()\n",
    "false_loans = []\n",
    "for word in words:\n",
    "    phonetic_seq, unicode_feature, other_feature = extract_features(word)\n",
    "    inputs = tokenizer(word, return_tensors=\"pt\", padding=True, truncation=True)\n",
    "\n",
    "    with torch.no_grad():\n",
    "        logits = model(\n",
    "            input_ids=inputs[\"input_ids\"].to(device),\n",
    "            attention_mask=inputs[\"attention_mask\"].to(device),\n",
    "            phonetic_seq=torch.tensor([phonetic_seq], dtype=torch.long).to(device),\n",
    "            unicode_feature=torch.tensor([unicode_feature], dtype=torch.float).to(device),\n",
    "            other_feature=torch.tensor([other_feature], dtype=torch.float).to(device)\n",
    "        )\n",
    "        probs = torch.softmax(logits, dim=1)\n",
    "        # print(word , probs)\n",
    "        \n",
    "        if torch.argmax(probs) == 1:  \n",
    "            false_loans.append(word)\n",
    "\n",
    "print(\"False loan words:\", false_loans)\n",
    "print(\"In many languages like Spanish and French, 'actual' means current, but in English, it means real.\")"
   ]
  },
  {
   "cell_type": "code",
   "execution_count": 29,
   "metadata": {},
   "outputs": [
    {
     "name": "stdout",
     "output_type": "stream",
     "text": [
      "False loan words: []\n",
      "In German, 'Handy' means mobile phone, but in English, 'handy' means useful.\n"
     ]
    }
   ],
   "source": [
    "sentence = \"I bought a new handy yesterday.\"\n",
    "words = sentence.split()\n",
    "\n",
    "false_loans = []\n",
    "for word in words:\n",
    "    phonetic_seq, unicode_feature, other_feature = extract_features(word)\n",
    "    inputs = tokenizer(word, return_tensors=\"pt\", padding=True, truncation=True)\n",
    "\n",
    "    with torch.no_grad():\n",
    "        logits = model(\n",
    "            input_ids=inputs[\"input_ids\"].to(device),\n",
    "            attention_mask=inputs[\"attention_mask\"].to(device),\n",
    "            phonetic_seq=torch.tensor([phonetic_seq], dtype=torch.long).to(device),\n",
    "            unicode_feature=torch.tensor([unicode_feature], dtype=torch.float).to(device),\n",
    "            other_feature=torch.tensor([other_feature], dtype=torch.float).to(device)\n",
    "        )\n",
    "        probs = torch.softmax(logits, dim=1)\n",
    "        # print(word , probs)\n",
    "        \n",
    "        if torch.argmax(probs) == 1:  \n",
    "            false_loans.append(word)\n",
    "\n",
    "print(\"False loan words:\", false_loans)\n",
    "print(\"In German, 'Handy' means mobile phone, but in English, 'handy' means useful.\")"
   ]
  },
  {
   "cell_type": "code",
   "execution_count": null,
   "metadata": {},
   "outputs": [],
   "source": []
  }
 ],
 "metadata": {
  "kernelspec": {
   "display_name": "base",
   "language": "python",
   "name": "python3"
  },
  "language_info": {
   "codemirror_mode": {
    "name": "ipython",
    "version": 3
   },
   "file_extension": ".py",
   "mimetype": "text/x-python",
   "name": "python",
   "nbconvert_exporter": "python",
   "pygments_lexer": "ipython3",
   "version": "3.12.2"
  }
 },
 "nbformat": 4,
 "nbformat_minor": 2
}

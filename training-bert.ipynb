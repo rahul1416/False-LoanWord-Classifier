{
 "cells": [
  {
   "cell_type": "code",
   "execution_count": 1,
   "id": "f50d7f0d",
   "metadata": {
    "_cell_guid": "b1076dfc-b9ad-4769-8c92-a6c4dae69d19",
    "_uuid": "8f2839f25d086af736a60e9eeb907d3b93b6e0e5",
    "execution": {
     "iopub.execute_input": "2025-03-26T06:56:49.868261Z",
     "iopub.status.busy": "2025-03-26T06:56:49.867957Z",
     "iopub.status.idle": "2025-03-26T06:57:02.629357Z",
     "shell.execute_reply": "2025-03-26T06:57:02.628361Z"
    },
    "papermill": {
     "duration": 12.767578,
     "end_time": "2025-03-26T06:57:02.631050",
     "exception": false,
     "start_time": "2025-03-26T06:56:49.863472",
     "status": "completed"
    },
    "tags": []
   },
   "outputs": [
    {
     "name": "stdout",
     "output_type": "stream",
     "text": [
      "Collecting phonetics\r\n",
      "  Downloading phonetics-1.0.5.tar.gz (8.8 kB)\r\n",
      "  Preparing metadata (setup.py) ... \u001b[?25l\u001b[?25hdone\r\n",
      "Building wheels for collected packages: phonetics\r\n",
      "  Building wheel for phonetics (setup.py) ... \u001b[?25l\u001b[?25hdone\r\n",
      "  Created wheel for phonetics: filename=phonetics-1.0.5-py2.py3-none-any.whl size=8696 sha256=3159d0a7a398f00dbd24291af51167f84367ba6a7d91ca76e32f314be6fabf2c\r\n",
      "  Stored in directory: /root/.cache/pip/wheels/b7/1e/82/80a78c7d1ad7fc6e0af1b4d9009360b251c0e50fe59f046edb\r\n",
      "Successfully built phonetics\r\n",
      "Installing collected packages: phonetics\r\n",
      "Successfully installed phonetics-1.0.5\r\n",
      "Collecting epitran\r\n",
      "  Downloading epitran-1.26.0-py2.py3-none-any.whl.metadata (34 kB)\r\n",
      "Requirement already satisfied: setuptools in /usr/local/lib/python3.10/dist-packages (from epitran) (75.1.0)\r\n",
      "Requirement already satisfied: regex in /usr/local/lib/python3.10/dist-packages (from epitran) (2024.11.6)\r\n",
      "Collecting panphon>=0.20 (from epitran)\r\n",
      "  Downloading panphon-0.21.2-py2.py3-none-any.whl.metadata (15 kB)\r\n",
      "Requirement already satisfied: marisa-trie in /usr/local/lib/python3.10/dist-packages (from epitran) (1.2.1)\r\n",
      "Requirement already satisfied: requests in /usr/local/lib/python3.10/dist-packages (from epitran) (2.32.3)\r\n",
      "Collecting jamo (from epitran)\r\n",
      "  Downloading jamo-0.4.1-py3-none-any.whl.metadata (2.3 kB)\r\n",
      "Collecting unicodecsv (from panphon>=0.20->epitran)\r\n",
      "  Downloading unicodecsv-0.14.1.tar.gz (10 kB)\r\n",
      "  Preparing metadata (setup.py) ... \u001b[?25l\u001b[?25hdone\r\n",
      "Requirement already satisfied: PyYAML in /usr/local/lib/python3.10/dist-packages (from panphon>=0.20->epitran) (6.0.2)\r\n",
      "Requirement already satisfied: numpy>=1.20.2 in /usr/local/lib/python3.10/dist-packages (from panphon>=0.20->epitran) (1.26.4)\r\n",
      "Requirement already satisfied: editdistance in /usr/local/lib/python3.10/dist-packages (from panphon>=0.20->epitran) (0.8.1)\r\n",
      "Collecting munkres (from panphon>=0.20->epitran)\r\n",
      "  Downloading munkres-1.1.4-py2.py3-none-any.whl.metadata (980 bytes)\r\n",
      "Requirement already satisfied: charset-normalizer<4,>=2 in /usr/local/lib/python3.10/dist-packages (from requests->epitran) (3.4.1)\r\n",
      "Requirement already satisfied: idna<4,>=2.5 in /usr/local/lib/python3.10/dist-packages (from requests->epitran) (3.10)\r\n",
      "Requirement already satisfied: urllib3<3,>=1.21.1 in /usr/local/lib/python3.10/dist-packages (from requests->epitran) (2.3.0)\r\n",
      "Requirement already satisfied: certifi>=2017.4.17 in /usr/local/lib/python3.10/dist-packages (from requests->epitran) (2025.1.31)\r\n",
      "Requirement already satisfied: mkl_fft in /usr/local/lib/python3.10/dist-packages (from numpy>=1.20.2->panphon>=0.20->epitran) (1.3.8)\r\n",
      "Requirement already satisfied: mkl_random in /usr/local/lib/python3.10/dist-packages (from numpy>=1.20.2->panphon>=0.20->epitran) (1.2.4)\r\n",
      "Requirement already satisfied: mkl_umath in /usr/local/lib/python3.10/dist-packages (from numpy>=1.20.2->panphon>=0.20->epitran) (0.1.1)\r\n",
      "Requirement already satisfied: mkl in /usr/local/lib/python3.10/dist-packages (from numpy>=1.20.2->panphon>=0.20->epitran) (2025.0.1)\r\n",
      "Requirement already satisfied: tbb4py in /usr/local/lib/python3.10/dist-packages (from numpy>=1.20.2->panphon>=0.20->epitran) (2022.0.0)\r\n",
      "Requirement already satisfied: mkl-service in /usr/local/lib/python3.10/dist-packages (from numpy>=1.20.2->panphon>=0.20->epitran) (2.4.1)\r\n",
      "Requirement already satisfied: intel-openmp>=2024 in /usr/local/lib/python3.10/dist-packages (from mkl->numpy>=1.20.2->panphon>=0.20->epitran) (2024.2.0)\r\n",
      "Requirement already satisfied: tbb==2022.* in /usr/local/lib/python3.10/dist-packages (from mkl->numpy>=1.20.2->panphon>=0.20->epitran) (2022.0.0)\r\n",
      "Requirement already satisfied: tcmlib==1.* in /usr/local/lib/python3.10/dist-packages (from tbb==2022.*->mkl->numpy>=1.20.2->panphon>=0.20->epitran) (1.2.0)\r\n",
      "Requirement already satisfied: intel-cmplr-lib-rt in /usr/local/lib/python3.10/dist-packages (from mkl_umath->numpy>=1.20.2->panphon>=0.20->epitran) (2024.2.0)\r\n",
      "Requirement already satisfied: intel-cmplr-lib-ur==2024.2.0 in /usr/local/lib/python3.10/dist-packages (from intel-openmp>=2024->mkl->numpy>=1.20.2->panphon>=0.20->epitran) (2024.2.0)\r\n",
      "Downloading epitran-1.26.0-py2.py3-none-any.whl (188 kB)\r\n",
      "\u001b[2K   \u001b[90m━━━━━━━━━━━━━━━━━━━━━━━━━━━━━━━━━━━━━━━━\u001b[0m \u001b[32m188.5/188.5 kB\u001b[0m \u001b[31m11.5 MB/s\u001b[0m eta \u001b[36m0:00:00\u001b[0m\r\n",
      "\u001b[?25hDownloading panphon-0.21.2-py2.py3-none-any.whl (75 kB)\r\n",
      "\u001b[2K   \u001b[90m━━━━━━━━━━━━━━━━━━━━━━━━━━━━━━━━━━━━━━━━\u001b[0m \u001b[32m75.4/75.4 kB\u001b[0m \u001b[31m4.1 MB/s\u001b[0m eta \u001b[36m0:00:00\u001b[0m\r\n",
      "\u001b[?25hDownloading jamo-0.4.1-py3-none-any.whl (9.5 kB)\r\n",
      "Downloading munkres-1.1.4-py2.py3-none-any.whl (7.0 kB)\r\n",
      "Building wheels for collected packages: unicodecsv\r\n",
      "  Building wheel for unicodecsv (setup.py) ... \u001b[?25l\u001b[?25hdone\r\n",
      "  Created wheel for unicodecsv: filename=unicodecsv-0.14.1-py3-none-any.whl size=10744 sha256=bd56e8bfd868e5580e72907ab543ab8a66fa2cb4f1553b0a14543ebcf627cf65\r\n",
      "  Stored in directory: /root/.cache/pip/wheels/9c/ea/66/8e45247b09052a933eb1a680b7c64802298faba58aac9b346b\r\n",
      "Successfully built unicodecsv\r\n",
      "Installing collected packages: unicodecsv, munkres, jamo, panphon, epitran\r\n",
      "Successfully installed epitran-1.26.0 jamo-0.4.1 munkres-1.1.4 panphon-0.21.2 unicodecsv-0.14.1\r\n"
     ]
    }
   ],
   "source": [
    "!pip install phonetics\n",
    "!pip install epitran"
   ]
  },
  {
   "cell_type": "code",
   "execution_count": 2,
   "id": "79d585a0",
   "metadata": {
    "execution": {
     "iopub.execute_input": "2025-03-26T06:57:02.640109Z",
     "iopub.status.busy": "2025-03-26T06:57:02.639785Z",
     "iopub.status.idle": "2025-03-26T06:57:26.797125Z",
     "shell.execute_reply": "2025-03-26T06:57:26.796326Z"
    },
    "papermill": {
     "duration": 24.163368,
     "end_time": "2025-03-26T06:57:26.798687",
     "exception": false,
     "start_time": "2025-03-26T06:57:02.635319",
     "status": "completed"
    },
    "tags": []
   },
   "outputs": [],
   "source": [
    "import pandas as pd\n",
    "import numpy as np\n",
    "import phonetics\n",
    "import torch\n",
    "import epitran\n",
    "from transformers import BertTokenizer, BertForSequenceClassification, AdamW\n",
    "from torch.utils.data import DataLoader, Dataset\n",
    "from scipy.spatial.distance import cosine\n",
    "from sklearn.model_selection import train_test_split\n",
    "from sklearn.ensemble import RandomForestClassifier\n",
    "from sklearn.metrics import accuracy_score"
   ]
  },
  {
   "cell_type": "code",
   "execution_count": 3,
   "id": "be125cca",
   "metadata": {
    "execution": {
     "iopub.execute_input": "2025-03-26T06:57:26.808202Z",
     "iopub.status.busy": "2025-03-26T06:57:26.807589Z",
     "iopub.status.idle": "2025-03-26T06:57:28.231605Z",
     "shell.execute_reply": "2025-03-26T06:57:28.230903Z"
    },
    "papermill": {
     "duration": 1.430222,
     "end_time": "2025-03-26T06:57:28.233221",
     "exception": false,
     "start_time": "2025-03-26T06:57:26.802999",
     "status": "completed"
    },
    "tags": []
   },
   "outputs": [
    {
     "name": "stdout",
     "output_type": "stream",
     "text": [
      "<class 'pandas.core.frame.DataFrame'>\n",
      "RangeIndex: 47384 entries, 0 to 47383\n",
      "Data columns (total 21 columns):\n",
      " #   Column                                       Non-Null Count  Dtype  \n",
      "---  ------                                       --------------  -----  \n",
      " 0   loan_word                                    47384 non-null  object \n",
      " 1   original_word                                47384 non-null  object \n",
      " 2   loan_word_epitran                            47384 non-null  object \n",
      " 3   original_word_epitran                        47384 non-null  object \n",
      " 4   loan_english                                 47159 non-null  object \n",
      " 5   original_english                             47175 non-null  object \n",
      " 6   Fast Levenshtein Distance Div Maxlen         47384 non-null  float64\n",
      " 7   Dolgo Prime Distance Div Maxlen              47384 non-null  float64\n",
      " 8   Feature Edit Distance Div Maxlen             47384 non-null  float64\n",
      " 9   Hamming Feature Distance Div Maxlen          47384 non-null  float64\n",
      " 10  Weighted Feature Distance Div Maxlen         47384 non-null  float64\n",
      " 11  Partial Hamming Feature Distance Div Maxlen  47384 non-null  float64\n",
      " 12  plain Levenshtein                            47384 non-null  int64  \n",
      " 13  loan_unicode                                 47384 non-null  object \n",
      " 14  original_unicode                             47384 non-null  object \n",
      " 15  label                                        47384 non-null  object \n",
      " 16  label_bin                                    47384 non-null  int64  \n",
      " 17  DNN_logits                                   47384 non-null  float64\n",
      " 18  MBERT_cos_sim                                47384 non-null  float64\n",
      " 19  XLM_cos_sim                                  47384 non-null  float64\n",
      " 20  language_pair                                47384 non-null  object \n",
      "dtypes: float64(9), int64(2), object(10)\n",
      "memory usage: 7.6+ MB\n",
      "None\n"
     ]
    }
   ],
   "source": [
    "import pandas as pd\n",
    "import os\n",
    "\n",
    "# List of language pairs\n",
    "language_pairs = [\n",
    "    (\"Azerbaijani\", \"Arabic\"),\n",
    "    (\"Catalan\", \"Arabic\"),\n",
    "    (\"Chinese\", \"English\"),\n",
    "    (\"English\", \"French\"),\n",
    "    (\"English\", \"German\"),\n",
    "    (\"Finnish\", \"Swedish\"),\n",
    "    (\"German\", \"French\"),\n",
    "    (\"German\", \"Italian\"),\n",
    "    (\"Hindi\", \"Persian\"),\n",
    "    (\"Hungarian\", \"German\"),\n",
    "    (\"Indonesian\", \"Dutch\"),\n",
    "    (\"Kazakh\", \"Russian\"),\n",
    "    (\"Persian\", \"Arabic\"),\n",
    "    (\"Polish\", \"French\"),\n",
    "    (\"Romanian\", \"French\"),\n",
    "    (\"Romanian\", \"Hungarian\"),\n",
    "]\n",
    "\n",
    "def read_language(lang1, lang2):\n",
    "    file_path = f\"/kaggle/input/dataset/Datasets/production_train_test/{lang1}-{lang2}/balanced/{lang1}-{lang2}-train_production_balanced.csv\"    \n",
    "    if os.path.exists(file_path):  \n",
    "        df = pd.read_csv(file_path)\n",
    "        df = df.drop(columns=[col for col in ['Unnamed: 0.1', 'Unnamed: 0'] if col in df.columns], errors=\"ignore\")\n",
    "        df[\"language_pair\"] = f\"{lang1}-{lang2}\"\n",
    "        return df\n",
    "    else:\n",
    "        print(f\"File not found: {file_path}\")\n",
    "        return None\n",
    "\n",
    "dfs = [read_language(lang1, lang2) for lang1, lang2 in language_pairs]\n",
    "dfs = [df for df in dfs if df is not None]\n",
    "\n",
    "final_df = pd.concat(dfs, ignore_index=True)\n",
    "\n",
    "print(final_df.info())\n",
    "\n",
    "final_df.to_csv(\"all_languages_combined.csv\", index=False)\n"
   ]
  },
  {
   "cell_type": "code",
   "execution_count": null,
   "id": "b7edbcae",
   "metadata": {
    "papermill": {
     "duration": 0.003603,
     "end_time": "2025-03-26T06:57:28.241000",
     "exception": false,
     "start_time": "2025-03-26T06:57:28.237397",
     "status": "completed"
    },
    "tags": []
   },
   "outputs": [],
   "source": []
  },
  {
   "cell_type": "code",
   "execution_count": 4,
   "id": "89cb8397",
   "metadata": {
    "execution": {
     "iopub.execute_input": "2025-03-26T06:57:28.249390Z",
     "iopub.status.busy": "2025-03-26T06:57:28.249134Z",
     "iopub.status.idle": "2025-03-26T06:57:29.272031Z",
     "shell.execute_reply": "2025-03-26T06:57:29.271219Z"
    },
    "papermill": {
     "duration": 1.028707,
     "end_time": "2025-03-26T06:57:29.273344",
     "exception": false,
     "start_time": "2025-03-26T06:57:28.244637",
     "status": "completed"
    },
    "tags": []
   },
   "outputs": [
    {
     "name": "stdout",
     "output_type": "stream",
     "text": [
      "Transliterated text: ɛlo\n"
     ]
    },
    {
     "data": {
      "text/plain": [
       "{'word': 'hello',\n",
       " 'phonetic': 'ɛlo',\n",
       " 'unicode': [-2.4000000000000057,\n",
       "  -5.400000000000006,\n",
       "  1.5999999999999943,\n",
       "  1.5999999999999943,\n",
       "  4.599999999999994],\n",
       " 'length': 5}"
      ]
     },
     "execution_count": 4,
     "metadata": {},
     "output_type": "execute_result"
    }
   ],
   "source": [
    "# need to install - sudo apt-get install flite\n",
    "\n",
    "epi = epitran.Epitran('fra-Latn')\n",
    "\n",
    "device = torch.device(\"cuda\" if torch.cuda.is_available() else \"cpu\")\n",
    "\n",
    "def normalize(unicode_values):\n",
    "    mean_value = sum(unicode_values) / len(unicode_values)\n",
    "    return [val - mean_value for val in unicode_values]\n",
    "\n",
    "def extract_features(word):\n",
    "    try:\n",
    "        loan_epitran = epi.transliterate(word)\n",
    "        print(f\"Transliterated text: {loan_epitran}\")\n",
    "    except IndexError as e:\n",
    "        print(f\"Transliteration failed: {e}\")\n",
    "        loan_epitran = \"N/A\"\n",
    "    unicode_features = [ord(c) for c in word]\n",
    "    unicode_features = normalize(unicode_features)\n",
    "    return {\n",
    "        \"word\": word,\n",
    "        \"phonetic\": loan_epitran,\n",
    "        \"unicode\": unicode_features,\n",
    "        \"length\": len(word)\n",
    "    }\n",
    "\n",
    "extract_features(\"hello\")"
   ]
  },
  {
   "cell_type": "code",
   "execution_count": 5,
   "id": "640c56fb",
   "metadata": {
    "execution": {
     "iopub.execute_input": "2025-03-26T06:57:29.282478Z",
     "iopub.status.busy": "2025-03-26T06:57:29.282213Z",
     "iopub.status.idle": "2025-03-26T06:57:42.025059Z",
     "shell.execute_reply": "2025-03-26T06:57:42.024292Z"
    },
    "papermill": {
     "duration": 12.74929,
     "end_time": "2025-03-26T06:57:42.026745",
     "exception": false,
     "start_time": "2025-03-26T06:57:29.277455",
     "status": "completed"
    },
    "tags": []
   },
   "outputs": [],
   "source": [
    "epi = epitran.Epitran('fra-Latn')\n",
    "\n",
    "def normalize(unicode_values):\n",
    "    \"\"\"Normalize Unicode values by subtracting the mean.\"\"\"\n",
    "    mean_value = sum(unicode_values) / len(unicode_values)\n",
    "    return [val - mean_value for val in unicode_values]\n",
    "\n",
    "def extract_features(word):\n",
    "    \"\"\"Extract phonetic and Unicode-based features for a word.\"\"\"\n",
    "    try:\n",
    "        loan_epitran = epi.transliterate(word)  # Phonetic transliteration\n",
    "    except IndexError as e:\n",
    "        print(f\"Transliteration failed for '{word}': {e}\")\n",
    "\n",
    "    unicode_features = [ord(c) for c in word]  # Convert to Unicode\n",
    "    unicode_features = normalize(unicode_features)  # Normalize Unicode values\n",
    "\n",
    "    return {\n",
    "        \"phonetic\": loan_epitran,\n",
    "        \"unicode\": unicode_features,\n",
    "        \"length\": len(word)\n",
    "    }\n",
    "\n",
    "\n",
    "df_features = final_df[\"loan_word\"].apply(extract_features).apply(pd.Series)\n",
    "df_features\n",
    "df = pd.concat([final_df, df_features], axis=1)"
   ]
  },
  {
   "cell_type": "code",
   "execution_count": null,
   "id": "cd3d4a50",
   "metadata": {
    "papermill": {
     "duration": 0.004242,
     "end_time": "2025-03-26T06:57:42.035369",
     "exception": false,
     "start_time": "2025-03-26T06:57:42.031127",
     "status": "completed"
    },
    "tags": []
   },
   "outputs": [],
   "source": []
  },
  {
   "cell_type": "code",
   "execution_count": 6,
   "id": "ab7a095f",
   "metadata": {
    "execution": {
     "iopub.execute_input": "2025-03-26T06:57:42.044537Z",
     "iopub.status.busy": "2025-03-26T06:57:42.044240Z",
     "iopub.status.idle": "2025-03-26T06:57:58.352386Z",
     "shell.execute_reply": "2025-03-26T06:57:58.351612Z"
    },
    "papermill": {
     "duration": 16.314422,
     "end_time": "2025-03-26T06:57:58.354001",
     "exception": false,
     "start_time": "2025-03-26T06:57:42.039579",
     "status": "completed"
    },
    "tags": []
   },
   "outputs": [
    {
     "name": "stderr",
     "output_type": "stream",
     "text": [
      "<ipython-input-6-54159fa235c6>:1: FutureWarning: Downcasting behavior in `replace` is deprecated and will be removed in a future version. To retain the old behavior, explicitly call `result.infer_objects(copy=False)`. To opt-in to the future behavior, set `pd.set_option('future.no_silent_downcasting', True)`\n",
      "  df['label'] = df[\"label\"].replace(['random', 'hard_negative', 'loan', 'synonym'],[0,1,0,0])\n"
     ]
    },
    {
     "data": {
      "application/vnd.jupyter.widget-view+json": {
       "model_id": "9036ea0102c54000bdbdb06c3c8b06ed",
       "version_major": 2,
       "version_minor": 0
      },
      "text/plain": [
       "tokenizer_config.json:   0%|          | 0.00/49.0 [00:00<?, ?B/s]"
      ]
     },
     "metadata": {},
     "output_type": "display_data"
    },
    {
     "data": {
      "application/vnd.jupyter.widget-view+json": {
       "model_id": "b4cc71c156974d238675268ec298342d",
       "version_major": 2,
       "version_minor": 0
      },
      "text/plain": [
       "vocab.txt:   0%|          | 0.00/996k [00:00<?, ?B/s]"
      ]
     },
     "metadata": {},
     "output_type": "display_data"
    },
    {
     "data": {
      "application/vnd.jupyter.widget-view+json": {
       "model_id": "15c235a3ab824106b05a8c7b09e2e360",
       "version_major": 2,
       "version_minor": 0
      },
      "text/plain": [
       "tokenizer.json:   0%|          | 0.00/1.96M [00:00<?, ?B/s]"
      ]
     },
     "metadata": {},
     "output_type": "display_data"
    },
    {
     "data": {
      "application/vnd.jupyter.widget-view+json": {
       "model_id": "90f90798bc93408eb4eee4801f214dae",
       "version_major": 2,
       "version_minor": 0
      },
      "text/plain": [
       "config.json:   0%|          | 0.00/625 [00:00<?, ?B/s]"
      ]
     },
     "metadata": {},
     "output_type": "display_data"
    }
   ],
   "source": [
    "df['label'] = df[\"label\"].replace(['random', 'hard_negative', 'loan', 'synonym'],[0,1,0,0])\n",
    "tokenizer = BertTokenizer.from_pretrained(\"bert-base-multilingual-cased\")\n",
    "\n",
    "\n",
    "def tokenize_and_encode(text, tokenizer, max_length=120):\n",
    "    encoding = tokenizer(\n",
    "        text,\n",
    "        padding=\"max_length\",\n",
    "        truncation=True,\n",
    "        max_length=max_length,\n",
    "        return_tensors=\"pt\"\n",
    "    )\n",
    "    return encoding[\"input_ids\"].squeeze(0), encoding[\"attention_mask\"].squeeze(0)\n",
    "\n",
    "df['phonetic_'], df['attention_masks'] = zip(*df['phonetic'].apply(\n",
    "    lambda x: tokenize_and_encode(x, tokenizer)\n",
    "))\n",
    "\n",
    "def pad_sequence(seq, maxlen, pad_value=0):\n",
    "    \"\"\"Pads sequences with pad_value up to maxlen.\"\"\"\n",
    "    return seq + [pad_value] * (maxlen - len(seq))\n",
    "\n",
    "max_unicode_len = 30\n",
    "\n",
    "df['unicode_padded'] = df['unicode'].apply(lambda x: pad_sequence(x, max_unicode_len))\n"
   ]
  },
  {
   "cell_type": "code",
   "execution_count": null,
   "id": "a0851a55",
   "metadata": {
    "papermill": {
     "duration": 0.004188,
     "end_time": "2025-03-26T06:57:58.363107",
     "exception": false,
     "start_time": "2025-03-26T06:57:58.358919",
     "status": "completed"
    },
    "tags": []
   },
   "outputs": [],
   "source": []
  },
  {
   "cell_type": "code",
   "execution_count": 7,
   "id": "56560ed9",
   "metadata": {
    "execution": {
     "iopub.execute_input": "2025-03-26T06:57:58.372969Z",
     "iopub.status.busy": "2025-03-26T06:57:58.372624Z",
     "iopub.status.idle": "2025-03-26T07:49:28.750592Z",
     "shell.execute_reply": "2025-03-26T07:49:28.749857Z"
    },
    "papermill": {
     "duration": 3090.384533,
     "end_time": "2025-03-26T07:49:28.751906",
     "exception": false,
     "start_time": "2025-03-26T06:57:58.367373",
     "status": "completed"
    },
    "tags": []
   },
   "outputs": [
    {
     "data": {
      "application/vnd.jupyter.widget-view+json": {
       "model_id": "8a086025f6c543c398398443eca8370b",
       "version_major": 2,
       "version_minor": 0
      },
      "text/plain": [
       "model.safetensors:   0%|          | 0.00/714M [00:00<?, ?B/s]"
      ]
     },
     "metadata": {},
     "output_type": "display_data"
    },
    {
     "name": "stderr",
     "output_type": "stream",
     "text": [
      "Some weights of BertForSequenceClassification were not initialized from the model checkpoint at bert-base-multilingual-cased and are newly initialized: ['classifier.bias', 'classifier.weight']\n",
      "You should probably TRAIN this model on a down-stream task to be able to use it for predictions and inference.\n",
      "/usr/local/lib/python3.10/dist-packages/transformers/optimization.py:591: FutureWarning: This implementation of AdamW is deprecated and will be removed in a future version. Use the PyTorch implementation torch.optim.AdamW instead, or set `no_deprecation_warning=True` to disable this warning\n",
      "  warnings.warn(\n",
      "Epoch 1: 100%|██████████| 371/371 [01:02<00:00,  5.97it/s, loss=0.228]\n"
     ]
    },
    {
     "name": "stdout",
     "output_type": "stream",
     "text": [
      "Epoch 1, Loss: 0.22834462734727526\n"
     ]
    },
    {
     "name": "stderr",
     "output_type": "stream",
     "text": [
      "Epoch 2: 100%|██████████| 371/371 [01:01<00:00,  5.99it/s, loss=0.193]\n"
     ]
    },
    {
     "name": "stdout",
     "output_type": "stream",
     "text": [
      "Epoch 2, Loss: 0.1933460118615563\n"
     ]
    },
    {
     "name": "stderr",
     "output_type": "stream",
     "text": [
      "Epoch 3: 100%|██████████| 371/371 [01:01<00:00,  6.04it/s, loss=0.181]\n"
     ]
    },
    {
     "name": "stdout",
     "output_type": "stream",
     "text": [
      "Epoch 3, Loss: 0.18081258730385502\n"
     ]
    },
    {
     "name": "stderr",
     "output_type": "stream",
     "text": [
      "Epoch 4: 100%|██████████| 371/371 [01:01<00:00,  6.04it/s, loss=0.173]\n"
     ]
    },
    {
     "name": "stdout",
     "output_type": "stream",
     "text": [
      "Epoch 4, Loss: 0.17288236368216595\n"
     ]
    },
    {
     "name": "stderr",
     "output_type": "stream",
     "text": [
      "Epoch 5: 100%|██████████| 371/371 [01:01<00:00,  6.04it/s, loss=0.165]\n"
     ]
    },
    {
     "name": "stdout",
     "output_type": "stream",
     "text": [
      "Epoch 5, Loss: 0.1652151090557363\n"
     ]
    },
    {
     "name": "stderr",
     "output_type": "stream",
     "text": [
      "Epoch 6: 100%|██████████| 371/371 [01:01<00:00,  6.04it/s, loss=0.155]\n"
     ]
    },
    {
     "name": "stdout",
     "output_type": "stream",
     "text": [
      "Epoch 6, Loss: 0.15544505006661313\n"
     ]
    },
    {
     "name": "stderr",
     "output_type": "stream",
     "text": [
      "Epoch 7: 100%|██████████| 371/371 [01:01<00:00,  6.04it/s, loss=0.149]\n"
     ]
    },
    {
     "name": "stdout",
     "output_type": "stream",
     "text": [
      "Epoch 7, Loss: 0.149126036117742\n"
     ]
    },
    {
     "name": "stderr",
     "output_type": "stream",
     "text": [
      "Epoch 8: 100%|██████████| 371/371 [01:01<00:00,  6.04it/s, loss=0.142]\n"
     ]
    },
    {
     "name": "stdout",
     "output_type": "stream",
     "text": [
      "Epoch 8, Loss: 0.14168508782621342\n"
     ]
    },
    {
     "name": "stderr",
     "output_type": "stream",
     "text": [
      "Epoch 9: 100%|██████████| 371/371 [01:01<00:00,  6.04it/s, loss=0.134]\n"
     ]
    },
    {
     "name": "stdout",
     "output_type": "stream",
     "text": [
      "Epoch 9, Loss: 0.13424277203182647\n"
     ]
    },
    {
     "name": "stderr",
     "output_type": "stream",
     "text": [
      "Epoch 10: 100%|██████████| 371/371 [01:01<00:00,  6.03it/s, loss=0.125]\n"
     ]
    },
    {
     "name": "stdout",
     "output_type": "stream",
     "text": [
      "Epoch 10, Loss: 0.12475995043659147\n"
     ]
    },
    {
     "name": "stderr",
     "output_type": "stream",
     "text": [
      "Epoch 11: 100%|██████████| 371/371 [01:01<00:00,  6.04it/s, loss=0.119]\n"
     ]
    },
    {
     "name": "stdout",
     "output_type": "stream",
     "text": [
      "Epoch 11, Loss: 0.11850718328493304\n"
     ]
    },
    {
     "name": "stderr",
     "output_type": "stream",
     "text": [
      "Epoch 12: 100%|██████████| 371/371 [01:01<00:00,  6.04it/s, loss=0.11]\n"
     ]
    },
    {
     "name": "stdout",
     "output_type": "stream",
     "text": [
      "Epoch 12, Loss: 0.11013716926692792\n"
     ]
    },
    {
     "name": "stderr",
     "output_type": "stream",
     "text": [
      "Epoch 13: 100%|██████████| 371/371 [01:01<00:00,  5.99it/s, loss=0.104]\n"
     ]
    },
    {
     "name": "stdout",
     "output_type": "stream",
     "text": [
      "Epoch 13, Loss: 0.10352582091872262\n"
     ]
    },
    {
     "name": "stderr",
     "output_type": "stream",
     "text": [
      "Epoch 14: 100%|██████████| 371/371 [01:01<00:00,  6.04it/s, loss=0.0993]\n"
     ]
    },
    {
     "name": "stdout",
     "output_type": "stream",
     "text": [
      "Epoch 14, Loss: 0.09933326911492489\n"
     ]
    },
    {
     "name": "stderr",
     "output_type": "stream",
     "text": [
      "Epoch 15: 100%|██████████| 371/371 [01:01<00:00,  6.04it/s, loss=0.0922]\n"
     ]
    },
    {
     "name": "stdout",
     "output_type": "stream",
     "text": [
      "Epoch 15, Loss: 0.09220582221175301\n"
     ]
    },
    {
     "name": "stderr",
     "output_type": "stream",
     "text": [
      "Epoch 16: 100%|██████████| 371/371 [01:01<00:00,  6.04it/s, loss=0.0862]\n"
     ]
    },
    {
     "name": "stdout",
     "output_type": "stream",
     "text": [
      "Epoch 16, Loss: 0.08619845535033796\n"
     ]
    },
    {
     "name": "stderr",
     "output_type": "stream",
     "text": [
      "Epoch 17: 100%|██████████| 371/371 [01:01<00:00,  6.04it/s, loss=0.0803]\n"
     ]
    },
    {
     "name": "stdout",
     "output_type": "stream",
     "text": [
      "Epoch 17, Loss: 0.08026497254795784\n"
     ]
    },
    {
     "name": "stderr",
     "output_type": "stream",
     "text": [
      "Epoch 18: 100%|██████████| 371/371 [01:01<00:00,  6.04it/s, loss=0.0773]\n"
     ]
    },
    {
     "name": "stdout",
     "output_type": "stream",
     "text": [
      "Epoch 18, Loss: 0.07727399695729913\n"
     ]
    },
    {
     "name": "stderr",
     "output_type": "stream",
     "text": [
      "Epoch 19: 100%|██████████| 371/371 [01:01<00:00,  6.04it/s, loss=0.0719]\n"
     ]
    },
    {
     "name": "stdout",
     "output_type": "stream",
     "text": [
      "Epoch 19, Loss: 0.07189182280700884\n"
     ]
    },
    {
     "name": "stderr",
     "output_type": "stream",
     "text": [
      "Epoch 20: 100%|██████████| 371/371 [01:01<00:00,  6.04it/s, loss=0.0662]\n"
     ]
    },
    {
     "name": "stdout",
     "output_type": "stream",
     "text": [
      "Epoch 20, Loss: 0.06615425176627311\n"
     ]
    },
    {
     "name": "stderr",
     "output_type": "stream",
     "text": [
      "Epoch 21: 100%|██████████| 371/371 [01:01<00:00,  6.04it/s, loss=0.0631]\n"
     ]
    },
    {
     "name": "stdout",
     "output_type": "stream",
     "text": [
      "Epoch 21, Loss: 0.0630623845714885\n"
     ]
    },
    {
     "name": "stderr",
     "output_type": "stream",
     "text": [
      "Epoch 22: 100%|██████████| 371/371 [01:01<00:00,  6.04it/s, loss=0.0595]\n"
     ]
    },
    {
     "name": "stdout",
     "output_type": "stream",
     "text": [
      "Epoch 22, Loss: 0.05946778968438466\n"
     ]
    },
    {
     "name": "stderr",
     "output_type": "stream",
     "text": [
      "Epoch 23: 100%|██████████| 371/371 [01:01<00:00,  6.04it/s, loss=0.0569]\n"
     ]
    },
    {
     "name": "stdout",
     "output_type": "stream",
     "text": [
      "Epoch 23, Loss: 0.05685866390407648\n"
     ]
    },
    {
     "name": "stderr",
     "output_type": "stream",
     "text": [
      "Epoch 24: 100%|██████████| 371/371 [01:01<00:00,  6.04it/s, loss=0.0548]\n"
     ]
    },
    {
     "name": "stdout",
     "output_type": "stream",
     "text": [
      "Epoch 24, Loss: 0.054798679062318445\n"
     ]
    },
    {
     "name": "stderr",
     "output_type": "stream",
     "text": [
      "Epoch 25: 100%|██████████| 371/371 [01:01<00:00,  5.99it/s, loss=0.0481]\n"
     ]
    },
    {
     "name": "stdout",
     "output_type": "stream",
     "text": [
      "Epoch 25, Loss: 0.04808460109970078\n"
     ]
    },
    {
     "name": "stderr",
     "output_type": "stream",
     "text": [
      "Epoch 26: 100%|██████████| 371/371 [01:01<00:00,  6.04it/s, loss=0.0464]\n"
     ]
    },
    {
     "name": "stdout",
     "output_type": "stream",
     "text": [
      "Epoch 26, Loss: 0.046422282940484685\n"
     ]
    },
    {
     "name": "stderr",
     "output_type": "stream",
     "text": [
      "Epoch 27: 100%|██████████| 371/371 [01:01<00:00,  6.04it/s, loss=0.0462]\n"
     ]
    },
    {
     "name": "stdout",
     "output_type": "stream",
     "text": [
      "Epoch 27, Loss: 0.04624701582266876\n"
     ]
    },
    {
     "name": "stderr",
     "output_type": "stream",
     "text": [
      "Epoch 28: 100%|██████████| 371/371 [01:01<00:00,  6.04it/s, loss=0.0427]\n"
     ]
    },
    {
     "name": "stdout",
     "output_type": "stream",
     "text": [
      "Epoch 28, Loss: 0.04268178650657483\n"
     ]
    },
    {
     "name": "stderr",
     "output_type": "stream",
     "text": [
      "Epoch 29: 100%|██████████| 371/371 [01:01<00:00,  6.04it/s, loss=0.0409]\n"
     ]
    },
    {
     "name": "stdout",
     "output_type": "stream",
     "text": [
      "Epoch 29, Loss: 0.040875322867004134\n"
     ]
    },
    {
     "name": "stderr",
     "output_type": "stream",
     "text": [
      "Epoch 30: 100%|██████████| 371/371 [01:01<00:00,  6.03it/s, loss=0.0378]\n"
     ]
    },
    {
     "name": "stdout",
     "output_type": "stream",
     "text": [
      "Epoch 30, Loss: 0.03784740433935327\n"
     ]
    },
    {
     "name": "stderr",
     "output_type": "stream",
     "text": [
      "Epoch 31: 100%|██████████| 371/371 [01:01<00:00,  6.04it/s, loss=0.0397]\n"
     ]
    },
    {
     "name": "stdout",
     "output_type": "stream",
     "text": [
      "Epoch 31, Loss: 0.03970676245035433\n"
     ]
    },
    {
     "name": "stderr",
     "output_type": "stream",
     "text": [
      "Epoch 32: 100%|██████████| 371/371 [01:01<00:00,  6.04it/s, loss=0.0355]\n"
     ]
    },
    {
     "name": "stdout",
     "output_type": "stream",
     "text": [
      "Epoch 32, Loss: 0.03549488787187861\n"
     ]
    },
    {
     "name": "stderr",
     "output_type": "stream",
     "text": [
      "Epoch 33: 100%|██████████| 371/371 [01:01<00:00,  6.04it/s, loss=0.0342]\n"
     ]
    },
    {
     "name": "stdout",
     "output_type": "stream",
     "text": [
      "Epoch 33, Loss: 0.03419149527514499\n"
     ]
    },
    {
     "name": "stderr",
     "output_type": "stream",
     "text": [
      "Epoch 34: 100%|██████████| 371/371 [01:01<00:00,  6.04it/s, loss=0.0321]\n"
     ]
    },
    {
     "name": "stdout",
     "output_type": "stream",
     "text": [
      "Epoch 34, Loss: 0.032144862184780486\n"
     ]
    },
    {
     "name": "stderr",
     "output_type": "stream",
     "text": [
      "Epoch 35: 100%|██████████| 371/371 [01:01<00:00,  6.04it/s, loss=0.0318]\n"
     ]
    },
    {
     "name": "stdout",
     "output_type": "stream",
     "text": [
      "Epoch 35, Loss: 0.03182166152146728\n"
     ]
    },
    {
     "name": "stderr",
     "output_type": "stream",
     "text": [
      "Epoch 36: 100%|██████████| 371/371 [01:01<00:00,  6.04it/s, loss=0.0323]\n"
     ]
    },
    {
     "name": "stdout",
     "output_type": "stream",
     "text": [
      "Epoch 36, Loss: 0.032276869962378496\n"
     ]
    },
    {
     "name": "stderr",
     "output_type": "stream",
     "text": [
      "Epoch 37: 100%|██████████| 371/371 [01:01<00:00,  6.00it/s, loss=0.0287]\n"
     ]
    },
    {
     "name": "stdout",
     "output_type": "stream",
     "text": [
      "Epoch 37, Loss: 0.0286706754011466\n"
     ]
    },
    {
     "name": "stderr",
     "output_type": "stream",
     "text": [
      "Epoch 38: 100%|██████████| 371/371 [01:01<00:00,  6.04it/s, loss=0.0291]\n"
     ]
    },
    {
     "name": "stdout",
     "output_type": "stream",
     "text": [
      "Epoch 38, Loss: 0.02914399319489027\n"
     ]
    },
    {
     "name": "stderr",
     "output_type": "stream",
     "text": [
      "Epoch 39: 100%|██████████| 371/371 [01:01<00:00,  6.04it/s, loss=0.0274]\n"
     ]
    },
    {
     "name": "stdout",
     "output_type": "stream",
     "text": [
      "Epoch 39, Loss: 0.027422290307286414\n"
     ]
    },
    {
     "name": "stderr",
     "output_type": "stream",
     "text": [
      "Epoch 40: 100%|██████████| 371/371 [01:01<00:00,  6.04it/s, loss=0.0271]\n"
     ]
    },
    {
     "name": "stdout",
     "output_type": "stream",
     "text": [
      "Epoch 40, Loss: 0.02708465071059914\n"
     ]
    },
    {
     "name": "stderr",
     "output_type": "stream",
     "text": [
      "Epoch 41: 100%|██████████| 371/371 [01:01<00:00,  6.04it/s, loss=0.026]\n"
     ]
    },
    {
     "name": "stdout",
     "output_type": "stream",
     "text": [
      "Epoch 41, Loss: 0.025985350888040458\n"
     ]
    },
    {
     "name": "stderr",
     "output_type": "stream",
     "text": [
      "Epoch 42: 100%|██████████| 371/371 [01:01<00:00,  6.04it/s, loss=0.0256]\n"
     ]
    },
    {
     "name": "stdout",
     "output_type": "stream",
     "text": [
      "Epoch 42, Loss: 0.02561909328321512\n"
     ]
    },
    {
     "name": "stderr",
     "output_type": "stream",
     "text": [
      "Epoch 43: 100%|██████████| 371/371 [01:01<00:00,  6.04it/s, loss=0.0251]\n"
     ]
    },
    {
     "name": "stdout",
     "output_type": "stream",
     "text": [
      "Epoch 43, Loss: 0.02510017377335071\n"
     ]
    },
    {
     "name": "stderr",
     "output_type": "stream",
     "text": [
      "Epoch 44: 100%|██████████| 371/371 [01:01<00:00,  6.03it/s, loss=0.0221]\n"
     ]
    },
    {
     "name": "stdout",
     "output_type": "stream",
     "text": [
      "Epoch 44, Loss: 0.022117305025640334\n"
     ]
    },
    {
     "name": "stderr",
     "output_type": "stream",
     "text": [
      "Epoch 45: 100%|██████████| 371/371 [01:01<00:00,  6.03it/s, loss=0.0231]\n"
     ]
    },
    {
     "name": "stdout",
     "output_type": "stream",
     "text": [
      "Epoch 45, Loss: 0.023111556881958383\n"
     ]
    },
    {
     "name": "stderr",
     "output_type": "stream",
     "text": [
      "Epoch 46: 100%|██████████| 371/371 [01:01<00:00,  6.03it/s, loss=0.0235]\n"
     ]
    },
    {
     "name": "stdout",
     "output_type": "stream",
     "text": [
      "Epoch 46, Loss: 0.023486615945597623\n"
     ]
    },
    {
     "name": "stderr",
     "output_type": "stream",
     "text": [
      "Epoch 47: 100%|██████████| 371/371 [01:01<00:00,  6.03it/s, loss=0.0209]\n"
     ]
    },
    {
     "name": "stdout",
     "output_type": "stream",
     "text": [
      "Epoch 47, Loss: 0.020939104386725818\n"
     ]
    },
    {
     "name": "stderr",
     "output_type": "stream",
     "text": [
      "Epoch 48: 100%|██████████| 371/371 [01:01<00:00,  6.04it/s, loss=0.0205]\n"
     ]
    },
    {
     "name": "stdout",
     "output_type": "stream",
     "text": [
      "Epoch 48, Loss: 0.02047517222066465\n"
     ]
    },
    {
     "name": "stderr",
     "output_type": "stream",
     "text": [
      "Epoch 49: 100%|██████████| 371/371 [01:01<00:00,  5.99it/s, loss=0.0196]\n"
     ]
    },
    {
     "name": "stdout",
     "output_type": "stream",
     "text": [
      "Epoch 49, Loss: 0.019584939286802806\n"
     ]
    },
    {
     "name": "stderr",
     "output_type": "stream",
     "text": [
      "Epoch 50: 100%|██████████| 371/371 [01:01<00:00,  6.04it/s, loss=0.0195]\n"
     ]
    },
    {
     "name": "stdout",
     "output_type": "stream",
     "text": [
      "Epoch 50, Loss: 0.01951124999879902\n"
     ]
    },
    {
     "data": {
      "text/plain": [
       "('tuned-bert-tokenizer/tokenizer_config.json',\n",
       " 'tuned-bert-tokenizer/special_tokens_map.json',\n",
       " 'tuned-bert-tokenizer/vocab.txt',\n",
       " 'tuned-bert-tokenizer/added_tokens.json')"
      ]
     },
     "execution_count": 7,
     "metadata": {},
     "output_type": "execute_result"
    }
   ],
   "source": [
    "import torch\n",
    "from torch.utils.data import DataLoader, TensorDataset\n",
    "from transformers import BertTokenizer, BertForSequenceClassification, AdamW\n",
    "from tqdm import tqdm\n",
    "\n",
    "tokenizer = BertTokenizer.from_pretrained(\"bert-base-multilingual-cased\")\n",
    "\n",
    "text_pairs = list(zip(df[\"original_word\"], df[\"loan_word\"]))\n",
    "labels = torch.tensor(df[\"label\"].tolist())\n",
    "\n",
    "inputs = tokenizer.batch_encode_plus(\n",
    "    [f\"{loan} [SEP] {original}\" for loan, original in text_pairs],\n",
    "    padding=True,\n",
    "    truncation=True,\n",
    "    return_tensors=\"pt\",\n",
    "    max_length=128,\n",
    ")\n",
    "\n",
    "batch_size = 128\n",
    "dataset = TensorDataset(inputs[\"input_ids\"], inputs[\"attention_mask\"], labels)\n",
    "dataloader2 = DataLoader(dataset, batch_size=batch_size, shuffle=True)\n",
    "\n",
    "model = BertForSequenceClassification.from_pretrained(\"bert-base-multilingual-cased\", num_labels=2)\n",
    "\n",
    "for name, param in model.bert.named_parameters():\n",
    "    if not any(layer in name for layer in [\"encoder.layer.9\",\"encoder.layer.10\", \"encoder.layer.11\"]):\n",
    "        param.requires_grad = False\n",
    "\n",
    "device = torch.device(\"cuda\" if torch.cuda.is_available() else \"cpu\")\n",
    "model.to(device)\n",
    "\n",
    "optimizer = AdamW(filter(lambda p: p.requires_grad, model.parameters()), lr=2e-5)\n",
    "\n",
    "for epoch in range(50):\n",
    "    model.train()\n",
    "    total_loss = 0\n",
    "    progress_bar = tqdm(dataloader2, desc=f\"Epoch {epoch+1}\")\n",
    "\n",
    "    for batch in progress_bar:\n",
    "        input_ids, attention_mask, batch_labels = [b.to(device) for b in batch]\n",
    "\n",
    "        optimizer.zero_grad()\n",
    "        outputs = model(input_ids=input_ids, attention_mask=attention_mask, labels=batch_labels)\n",
    "        loss = outputs.loss\n",
    "        loss.backward()\n",
    "        optimizer.step()\n",
    "\n",
    "        total_loss += loss.item()\n",
    "        progress_bar.set_postfix(loss=total_loss / (progress_bar.n + 1))\n",
    "\n",
    "    print(f\"Epoch {epoch+1}, Loss: {total_loss / len(dataloader2)}\")\n",
    "\n",
    "model.save_pretrained(\"tuned-bert\")\n",
    "tokenizer.save_pretrained(\"tuned-bert-tokenizer\")\n"
   ]
  },
  {
   "cell_type": "code",
   "execution_count": null,
   "id": "32b5c877",
   "metadata": {
    "execution": {
     "iopub.execute_input": "2025-03-26T07:49:32.366188Z",
     "iopub.status.busy": "2025-03-26T07:49:32.365854Z",
     "iopub.status.idle": "2025-03-26T07:50:09.450071Z",
     "shell.execute_reply": "2025-03-26T07:50:09.448979Z"
    },
    "papermill": {
     "duration": 40.473491,
     "end_time": "2025-03-26T07:50:11.070568",
     "exception": false,
     "start_time": "2025-03-26T07:49:30.597077",
     "status": "completed"
    },
    "tags": []
   },
   "outputs": [],
   "source": []
  },
  {
   "cell_type": "code",
   "execution_count": 9,
   "id": "f14a6622",
   "metadata": {
    "execution": {
     "iopub.execute_input": "2025-03-26T07:50:14.772910Z",
     "iopub.status.busy": "2025-03-26T07:50:14.772522Z",
     "iopub.status.idle": "2025-03-26T07:50:15.613532Z",
     "shell.execute_reply": "2025-03-26T07:50:15.612760Z"
    },
    "papermill": {
     "duration": 2.713849,
     "end_time": "2025-03-26T07:50:15.614866",
     "exception": false,
     "start_time": "2025-03-26T07:50:12.901017",
     "status": "completed"
    },
    "tags": []
   },
   "outputs": [
    {
     "name": "stdout",
     "output_type": "stream",
     "text": [
      "tensor([[ 6.3890, -6.8924]], device='cuda:0')\n",
      "Prediction: 0\n"
     ]
    }
   ],
   "source": [
    "import torch\n",
    "from transformers import BertTokenizer, BertForSequenceClassification\n",
    "\n",
    "model_path = \"tuned-bert\"\n",
    "tokenizer_path = \"tuned-bert-tokenizer\"\n",
    "\n",
    "tokenizer = BertTokenizer.from_pretrained(tokenizer_path)\n",
    "model = BertForSequenceClassification.from_pretrained(model_path)\n",
    "\n",
    "device = torch.device(\"cuda\" if torch.cuda.is_available() else \"cpu\")\n",
    "model.to(device)\n",
    "model.eval()  # Set model to evaluation mode\n",
    "\n",
    "def predict(loan_word, original_word):\n",
    "    \"\"\"Predicts if a loanword belongs to the target language.\"\"\"\n",
    "    \n",
    "    encoded_input = tokenizer(\n",
    "        f\"{loan_word} [SEP] {original_word}\",\n",
    "        padding=\"max_length\",\n",
    "        truncation=True,\n",
    "        max_length=128,\n",
    "        return_tensors=\"pt\",\n",
    "    )\n",
    "\n",
    "    input_ids = encoded_input[\"input_ids\"].to(device)\n",
    "    attention_mask = encoded_input[\"attention_mask\"].to(device)\n",
    "\n",
    "    with torch.no_grad():\n",
    "        outputs = model(input_ids=input_ids, attention_mask=attention_mask)\n",
    "    \n",
    "    logits = outputs.logits\n",
    "    predicted_label = torch.argmax(logits, dim=1).item()  # Convert to class label\n",
    "    print(logits)\n",
    "    return predicted_label\n",
    "\n",
    "loan_word = \"qəhbə\"\n",
    "original_word = \"قَحْبَة\"\n",
    "\n",
    "predicted_class = predict(loan_word, original_word)\n",
    "print(f\"Prediction: {predicted_class}\")\n"
   ]
  },
  {
   "cell_type": "code",
   "execution_count": 10,
   "id": "31ab58c1",
   "metadata": {
    "execution": {
     "iopub.execute_input": "2025-03-26T07:50:19.172484Z",
     "iopub.status.busy": "2025-03-26T07:50:19.172142Z",
     "iopub.status.idle": "2025-03-26T07:50:19.210996Z",
     "shell.execute_reply": "2025-03-26T07:50:19.210265Z"
    },
    "papermill": {
     "duration": 1.825755,
     "end_time": "2025-03-26T07:50:19.212407",
     "exception": false,
     "start_time": "2025-03-26T07:50:17.386652",
     "status": "completed"
    },
    "tags": []
   },
   "outputs": [
    {
     "name": "stdout",
     "output_type": "stream",
     "text": [
      "Layer: bert.embeddings.word_embeddings.weight | Shape: torch.Size([119547, 768])\n",
      "Layer: bert.embeddings.position_embeddings.weight | Shape: torch.Size([512, 768])\n",
      "Layer: bert.embeddings.token_type_embeddings.weight | Shape: torch.Size([2, 768])\n",
      "Layer: bert.embeddings.LayerNorm.weight | Shape: torch.Size([768])\n",
      "Layer: bert.embeddings.LayerNorm.bias | Shape: torch.Size([768])\n",
      "Layer: bert.encoder.layer.0.attention.self.query.weight | Shape: torch.Size([768, 768])\n",
      "Layer: bert.encoder.layer.0.attention.self.query.bias | Shape: torch.Size([768])\n",
      "Layer: bert.encoder.layer.0.attention.self.key.weight | Shape: torch.Size([768, 768])\n",
      "Layer: bert.encoder.layer.0.attention.self.key.bias | Shape: torch.Size([768])\n",
      "Layer: bert.encoder.layer.0.attention.self.value.weight | Shape: torch.Size([768, 768])\n",
      "Layer: bert.encoder.layer.0.attention.self.value.bias | Shape: torch.Size([768])\n",
      "Layer: bert.encoder.layer.0.attention.output.dense.weight | Shape: torch.Size([768, 768])\n",
      "Layer: bert.encoder.layer.0.attention.output.dense.bias | Shape: torch.Size([768])\n",
      "Layer: bert.encoder.layer.0.attention.output.LayerNorm.weight | Shape: torch.Size([768])\n",
      "Layer: bert.encoder.layer.0.attention.output.LayerNorm.bias | Shape: torch.Size([768])\n",
      "Layer: bert.encoder.layer.0.intermediate.dense.weight | Shape: torch.Size([3072, 768])\n",
      "Layer: bert.encoder.layer.0.intermediate.dense.bias | Shape: torch.Size([3072])\n",
      "Layer: bert.encoder.layer.0.output.dense.weight | Shape: torch.Size([768, 3072])\n",
      "Layer: bert.encoder.layer.0.output.dense.bias | Shape: torch.Size([768])\n",
      "Layer: bert.encoder.layer.0.output.LayerNorm.weight | Shape: torch.Size([768])\n",
      "Layer: bert.encoder.layer.0.output.LayerNorm.bias | Shape: torch.Size([768])\n",
      "Layer: bert.encoder.layer.1.attention.self.query.weight | Shape: torch.Size([768, 768])\n",
      "Layer: bert.encoder.layer.1.attention.self.query.bias | Shape: torch.Size([768])\n",
      "Layer: bert.encoder.layer.1.attention.self.key.weight | Shape: torch.Size([768, 768])\n",
      "Layer: bert.encoder.layer.1.attention.self.key.bias | Shape: torch.Size([768])\n",
      "Layer: bert.encoder.layer.1.attention.self.value.weight | Shape: torch.Size([768, 768])\n",
      "Layer: bert.encoder.layer.1.attention.self.value.bias | Shape: torch.Size([768])\n",
      "Layer: bert.encoder.layer.1.attention.output.dense.weight | Shape: torch.Size([768, 768])\n",
      "Layer: bert.encoder.layer.1.attention.output.dense.bias | Shape: torch.Size([768])\n",
      "Layer: bert.encoder.layer.1.attention.output.LayerNorm.weight | Shape: torch.Size([768])\n",
      "Layer: bert.encoder.layer.1.attention.output.LayerNorm.bias | Shape: torch.Size([768])\n",
      "Layer: bert.encoder.layer.1.intermediate.dense.weight | Shape: torch.Size([3072, 768])\n",
      "Layer: bert.encoder.layer.1.intermediate.dense.bias | Shape: torch.Size([3072])\n",
      "Layer: bert.encoder.layer.1.output.dense.weight | Shape: torch.Size([768, 3072])\n",
      "Layer: bert.encoder.layer.1.output.dense.bias | Shape: torch.Size([768])\n",
      "Layer: bert.encoder.layer.1.output.LayerNorm.weight | Shape: torch.Size([768])\n",
      "Layer: bert.encoder.layer.1.output.LayerNorm.bias | Shape: torch.Size([768])\n",
      "Layer: bert.encoder.layer.2.attention.self.query.weight | Shape: torch.Size([768, 768])\n",
      "Layer: bert.encoder.layer.2.attention.self.query.bias | Shape: torch.Size([768])\n",
      "Layer: bert.encoder.layer.2.attention.self.key.weight | Shape: torch.Size([768, 768])\n",
      "Layer: bert.encoder.layer.2.attention.self.key.bias | Shape: torch.Size([768])\n",
      "Layer: bert.encoder.layer.2.attention.self.value.weight | Shape: torch.Size([768, 768])\n",
      "Layer: bert.encoder.layer.2.attention.self.value.bias | Shape: torch.Size([768])\n",
      "Layer: bert.encoder.layer.2.attention.output.dense.weight | Shape: torch.Size([768, 768])\n",
      "Layer: bert.encoder.layer.2.attention.output.dense.bias | Shape: torch.Size([768])\n",
      "Layer: bert.encoder.layer.2.attention.output.LayerNorm.weight | Shape: torch.Size([768])\n",
      "Layer: bert.encoder.layer.2.attention.output.LayerNorm.bias | Shape: torch.Size([768])\n",
      "Layer: bert.encoder.layer.2.intermediate.dense.weight | Shape: torch.Size([3072, 768])\n",
      "Layer: bert.encoder.layer.2.intermediate.dense.bias | Shape: torch.Size([3072])\n",
      "Layer: bert.encoder.layer.2.output.dense.weight | Shape: torch.Size([768, 3072])\n",
      "Layer: bert.encoder.layer.2.output.dense.bias | Shape: torch.Size([768])\n",
      "Layer: bert.encoder.layer.2.output.LayerNorm.weight | Shape: torch.Size([768])\n",
      "Layer: bert.encoder.layer.2.output.LayerNorm.bias | Shape: torch.Size([768])\n",
      "Layer: bert.encoder.layer.3.attention.self.query.weight | Shape: torch.Size([768, 768])\n",
      "Layer: bert.encoder.layer.3.attention.self.query.bias | Shape: torch.Size([768])\n",
      "Layer: bert.encoder.layer.3.attention.self.key.weight | Shape: torch.Size([768, 768])\n",
      "Layer: bert.encoder.layer.3.attention.self.key.bias | Shape: torch.Size([768])\n",
      "Layer: bert.encoder.layer.3.attention.self.value.weight | Shape: torch.Size([768, 768])\n",
      "Layer: bert.encoder.layer.3.attention.self.value.bias | Shape: torch.Size([768])\n",
      "Layer: bert.encoder.layer.3.attention.output.dense.weight | Shape: torch.Size([768, 768])\n",
      "Layer: bert.encoder.layer.3.attention.output.dense.bias | Shape: torch.Size([768])\n",
      "Layer: bert.encoder.layer.3.attention.output.LayerNorm.weight | Shape: torch.Size([768])\n",
      "Layer: bert.encoder.layer.3.attention.output.LayerNorm.bias | Shape: torch.Size([768])\n",
      "Layer: bert.encoder.layer.3.intermediate.dense.weight | Shape: torch.Size([3072, 768])\n",
      "Layer: bert.encoder.layer.3.intermediate.dense.bias | Shape: torch.Size([3072])\n",
      "Layer: bert.encoder.layer.3.output.dense.weight | Shape: torch.Size([768, 3072])\n",
      "Layer: bert.encoder.layer.3.output.dense.bias | Shape: torch.Size([768])\n",
      "Layer: bert.encoder.layer.3.output.LayerNorm.weight | Shape: torch.Size([768])\n",
      "Layer: bert.encoder.layer.3.output.LayerNorm.bias | Shape: torch.Size([768])\n",
      "Layer: bert.encoder.layer.4.attention.self.query.weight | Shape: torch.Size([768, 768])\n",
      "Layer: bert.encoder.layer.4.attention.self.query.bias | Shape: torch.Size([768])\n",
      "Layer: bert.encoder.layer.4.attention.self.key.weight | Shape: torch.Size([768, 768])\n",
      "Layer: bert.encoder.layer.4.attention.self.key.bias | Shape: torch.Size([768])\n",
      "Layer: bert.encoder.layer.4.attention.self.value.weight | Shape: torch.Size([768, 768])\n",
      "Layer: bert.encoder.layer.4.attention.self.value.bias | Shape: torch.Size([768])\n",
      "Layer: bert.encoder.layer.4.attention.output.dense.weight | Shape: torch.Size([768, 768])\n",
      "Layer: bert.encoder.layer.4.attention.output.dense.bias | Shape: torch.Size([768])\n",
      "Layer: bert.encoder.layer.4.attention.output.LayerNorm.weight | Shape: torch.Size([768])\n",
      "Layer: bert.encoder.layer.4.attention.output.LayerNorm.bias | Shape: torch.Size([768])\n",
      "Layer: bert.encoder.layer.4.intermediate.dense.weight | Shape: torch.Size([3072, 768])\n",
      "Layer: bert.encoder.layer.4.intermediate.dense.bias | Shape: torch.Size([3072])\n",
      "Layer: bert.encoder.layer.4.output.dense.weight | Shape: torch.Size([768, 3072])\n",
      "Layer: bert.encoder.layer.4.output.dense.bias | Shape: torch.Size([768])\n",
      "Layer: bert.encoder.layer.4.output.LayerNorm.weight | Shape: torch.Size([768])\n",
      "Layer: bert.encoder.layer.4.output.LayerNorm.bias | Shape: torch.Size([768])\n",
      "Layer: bert.encoder.layer.5.attention.self.query.weight | Shape: torch.Size([768, 768])\n",
      "Layer: bert.encoder.layer.5.attention.self.query.bias | Shape: torch.Size([768])\n",
      "Layer: bert.encoder.layer.5.attention.self.key.weight | Shape: torch.Size([768, 768])\n",
      "Layer: bert.encoder.layer.5.attention.self.key.bias | Shape: torch.Size([768])\n",
      "Layer: bert.encoder.layer.5.attention.self.value.weight | Shape: torch.Size([768, 768])\n",
      "Layer: bert.encoder.layer.5.attention.self.value.bias | Shape: torch.Size([768])\n",
      "Layer: bert.encoder.layer.5.attention.output.dense.weight | Shape: torch.Size([768, 768])\n",
      "Layer: bert.encoder.layer.5.attention.output.dense.bias | Shape: torch.Size([768])\n",
      "Layer: bert.encoder.layer.5.attention.output.LayerNorm.weight | Shape: torch.Size([768])\n",
      "Layer: bert.encoder.layer.5.attention.output.LayerNorm.bias | Shape: torch.Size([768])\n",
      "Layer: bert.encoder.layer.5.intermediate.dense.weight | Shape: torch.Size([3072, 768])\n",
      "Layer: bert.encoder.layer.5.intermediate.dense.bias | Shape: torch.Size([3072])\n",
      "Layer: bert.encoder.layer.5.output.dense.weight | Shape: torch.Size([768, 3072])\n",
      "Layer: bert.encoder.layer.5.output.dense.bias | Shape: torch.Size([768])\n",
      "Layer: bert.encoder.layer.5.output.LayerNorm.weight | Shape: torch.Size([768])\n",
      "Layer: bert.encoder.layer.5.output.LayerNorm.bias | Shape: torch.Size([768])\n",
      "Layer: bert.encoder.layer.6.attention.self.query.weight | Shape: torch.Size([768, 768])\n",
      "Layer: bert.encoder.layer.6.attention.self.query.bias | Shape: torch.Size([768])\n",
      "Layer: bert.encoder.layer.6.attention.self.key.weight | Shape: torch.Size([768, 768])\n",
      "Layer: bert.encoder.layer.6.attention.self.key.bias | Shape: torch.Size([768])\n",
      "Layer: bert.encoder.layer.6.attention.self.value.weight | Shape: torch.Size([768, 768])\n",
      "Layer: bert.encoder.layer.6.attention.self.value.bias | Shape: torch.Size([768])\n",
      "Layer: bert.encoder.layer.6.attention.output.dense.weight | Shape: torch.Size([768, 768])\n",
      "Layer: bert.encoder.layer.6.attention.output.dense.bias | Shape: torch.Size([768])\n",
      "Layer: bert.encoder.layer.6.attention.output.LayerNorm.weight | Shape: torch.Size([768])\n",
      "Layer: bert.encoder.layer.6.attention.output.LayerNorm.bias | Shape: torch.Size([768])\n",
      "Layer: bert.encoder.layer.6.intermediate.dense.weight | Shape: torch.Size([3072, 768])\n",
      "Layer: bert.encoder.layer.6.intermediate.dense.bias | Shape: torch.Size([3072])\n",
      "Layer: bert.encoder.layer.6.output.dense.weight | Shape: torch.Size([768, 3072])\n",
      "Layer: bert.encoder.layer.6.output.dense.bias | Shape: torch.Size([768])\n",
      "Layer: bert.encoder.layer.6.output.LayerNorm.weight | Shape: torch.Size([768])\n",
      "Layer: bert.encoder.layer.6.output.LayerNorm.bias | Shape: torch.Size([768])\n",
      "Layer: bert.encoder.layer.7.attention.self.query.weight | Shape: torch.Size([768, 768])\n",
      "Layer: bert.encoder.layer.7.attention.self.query.bias | Shape: torch.Size([768])\n",
      "Layer: bert.encoder.layer.7.attention.self.key.weight | Shape: torch.Size([768, 768])\n",
      "Layer: bert.encoder.layer.7.attention.self.key.bias | Shape: torch.Size([768])\n",
      "Layer: bert.encoder.layer.7.attention.self.value.weight | Shape: torch.Size([768, 768])\n",
      "Layer: bert.encoder.layer.7.attention.self.value.bias | Shape: torch.Size([768])\n",
      "Layer: bert.encoder.layer.7.attention.output.dense.weight | Shape: torch.Size([768, 768])\n",
      "Layer: bert.encoder.layer.7.attention.output.dense.bias | Shape: torch.Size([768])\n",
      "Layer: bert.encoder.layer.7.attention.output.LayerNorm.weight | Shape: torch.Size([768])\n",
      "Layer: bert.encoder.layer.7.attention.output.LayerNorm.bias | Shape: torch.Size([768])\n",
      "Layer: bert.encoder.layer.7.intermediate.dense.weight | Shape: torch.Size([3072, 768])\n",
      "Layer: bert.encoder.layer.7.intermediate.dense.bias | Shape: torch.Size([3072])\n",
      "Layer: bert.encoder.layer.7.output.dense.weight | Shape: torch.Size([768, 3072])\n",
      "Layer: bert.encoder.layer.7.output.dense.bias | Shape: torch.Size([768])\n",
      "Layer: bert.encoder.layer.7.output.LayerNorm.weight | Shape: torch.Size([768])\n",
      "Layer: bert.encoder.layer.7.output.LayerNorm.bias | Shape: torch.Size([768])\n",
      "Layer: bert.encoder.layer.8.attention.self.query.weight | Shape: torch.Size([768, 768])\n",
      "Layer: bert.encoder.layer.8.attention.self.query.bias | Shape: torch.Size([768])\n",
      "Layer: bert.encoder.layer.8.attention.self.key.weight | Shape: torch.Size([768, 768])\n",
      "Layer: bert.encoder.layer.8.attention.self.key.bias | Shape: torch.Size([768])\n",
      "Layer: bert.encoder.layer.8.attention.self.value.weight | Shape: torch.Size([768, 768])\n",
      "Layer: bert.encoder.layer.8.attention.self.value.bias | Shape: torch.Size([768])\n",
      "Layer: bert.encoder.layer.8.attention.output.dense.weight | Shape: torch.Size([768, 768])\n",
      "Layer: bert.encoder.layer.8.attention.output.dense.bias | Shape: torch.Size([768])\n",
      "Layer: bert.encoder.layer.8.attention.output.LayerNorm.weight | Shape: torch.Size([768])\n",
      "Layer: bert.encoder.layer.8.attention.output.LayerNorm.bias | Shape: torch.Size([768])\n",
      "Layer: bert.encoder.layer.8.intermediate.dense.weight | Shape: torch.Size([3072, 768])\n",
      "Layer: bert.encoder.layer.8.intermediate.dense.bias | Shape: torch.Size([3072])\n",
      "Layer: bert.encoder.layer.8.output.dense.weight | Shape: torch.Size([768, 3072])\n",
      "Layer: bert.encoder.layer.8.output.dense.bias | Shape: torch.Size([768])\n",
      "Layer: bert.encoder.layer.8.output.LayerNorm.weight | Shape: torch.Size([768])\n",
      "Layer: bert.encoder.layer.8.output.LayerNorm.bias | Shape: torch.Size([768])\n",
      "Layer: bert.encoder.layer.9.attention.self.query.weight | Shape: torch.Size([768, 768])\n",
      "Layer: bert.encoder.layer.9.attention.self.query.bias | Shape: torch.Size([768])\n",
      "Layer: bert.encoder.layer.9.attention.self.key.weight | Shape: torch.Size([768, 768])\n",
      "Layer: bert.encoder.layer.9.attention.self.key.bias | Shape: torch.Size([768])\n",
      "Layer: bert.encoder.layer.9.attention.self.value.weight | Shape: torch.Size([768, 768])\n",
      "Layer: bert.encoder.layer.9.attention.self.value.bias | Shape: torch.Size([768])\n",
      "Layer: bert.encoder.layer.9.attention.output.dense.weight | Shape: torch.Size([768, 768])\n",
      "Layer: bert.encoder.layer.9.attention.output.dense.bias | Shape: torch.Size([768])\n",
      "Layer: bert.encoder.layer.9.attention.output.LayerNorm.weight | Shape: torch.Size([768])\n",
      "Layer: bert.encoder.layer.9.attention.output.LayerNorm.bias | Shape: torch.Size([768])\n",
      "Layer: bert.encoder.layer.9.intermediate.dense.weight | Shape: torch.Size([3072, 768])\n",
      "Layer: bert.encoder.layer.9.intermediate.dense.bias | Shape: torch.Size([3072])\n",
      "Layer: bert.encoder.layer.9.output.dense.weight | Shape: torch.Size([768, 3072])\n",
      "Layer: bert.encoder.layer.9.output.dense.bias | Shape: torch.Size([768])\n",
      "Layer: bert.encoder.layer.9.output.LayerNorm.weight | Shape: torch.Size([768])\n",
      "Layer: bert.encoder.layer.9.output.LayerNorm.bias | Shape: torch.Size([768])\n",
      "Layer: bert.encoder.layer.10.attention.self.query.weight | Shape: torch.Size([768, 768])\n",
      "Layer: bert.encoder.layer.10.attention.self.query.bias | Shape: torch.Size([768])\n",
      "Layer: bert.encoder.layer.10.attention.self.key.weight | Shape: torch.Size([768, 768])\n",
      "Layer: bert.encoder.layer.10.attention.self.key.bias | Shape: torch.Size([768])\n",
      "Layer: bert.encoder.layer.10.attention.self.value.weight | Shape: torch.Size([768, 768])\n",
      "Layer: bert.encoder.layer.10.attention.self.value.bias | Shape: torch.Size([768])\n",
      "Layer: bert.encoder.layer.10.attention.output.dense.weight | Shape: torch.Size([768, 768])\n",
      "Layer: bert.encoder.layer.10.attention.output.dense.bias | Shape: torch.Size([768])\n",
      "Layer: bert.encoder.layer.10.attention.output.LayerNorm.weight | Shape: torch.Size([768])\n",
      "Layer: bert.encoder.layer.10.attention.output.LayerNorm.bias | Shape: torch.Size([768])\n",
      "Layer: bert.encoder.layer.10.intermediate.dense.weight | Shape: torch.Size([3072, 768])\n",
      "Layer: bert.encoder.layer.10.intermediate.dense.bias | Shape: torch.Size([3072])\n",
      "Layer: bert.encoder.layer.10.output.dense.weight | Shape: torch.Size([768, 3072])\n",
      "Layer: bert.encoder.layer.10.output.dense.bias | Shape: torch.Size([768])\n",
      "Layer: bert.encoder.layer.10.output.LayerNorm.weight | Shape: torch.Size([768])\n",
      "Layer: bert.encoder.layer.10.output.LayerNorm.bias | Shape: torch.Size([768])\n",
      "Layer: bert.encoder.layer.11.attention.self.query.weight | Shape: torch.Size([768, 768])\n",
      "Layer: bert.encoder.layer.11.attention.self.query.bias | Shape: torch.Size([768])\n",
      "Layer: bert.encoder.layer.11.attention.self.key.weight | Shape: torch.Size([768, 768])\n",
      "Layer: bert.encoder.layer.11.attention.self.key.bias | Shape: torch.Size([768])\n",
      "Layer: bert.encoder.layer.11.attention.self.value.weight | Shape: torch.Size([768, 768])\n",
      "Layer: bert.encoder.layer.11.attention.self.value.bias | Shape: torch.Size([768])\n",
      "Layer: bert.encoder.layer.11.attention.output.dense.weight | Shape: torch.Size([768, 768])\n",
      "Layer: bert.encoder.layer.11.attention.output.dense.bias | Shape: torch.Size([768])\n",
      "Layer: bert.encoder.layer.11.attention.output.LayerNorm.weight | Shape: torch.Size([768])\n",
      "Layer: bert.encoder.layer.11.attention.output.LayerNorm.bias | Shape: torch.Size([768])\n",
      "Layer: bert.encoder.layer.11.intermediate.dense.weight | Shape: torch.Size([3072, 768])\n",
      "Layer: bert.encoder.layer.11.intermediate.dense.bias | Shape: torch.Size([3072])\n",
      "Layer: bert.encoder.layer.11.output.dense.weight | Shape: torch.Size([768, 3072])\n",
      "Layer: bert.encoder.layer.11.output.dense.bias | Shape: torch.Size([768])\n",
      "Layer: bert.encoder.layer.11.output.LayerNorm.weight | Shape: torch.Size([768])\n",
      "Layer: bert.encoder.layer.11.output.LayerNorm.bias | Shape: torch.Size([768])\n",
      "Layer: bert.pooler.dense.weight | Shape: torch.Size([768, 768])\n",
      "Layer: bert.pooler.dense.bias | Shape: torch.Size([768])\n",
      "Layer: classifier.weight | Shape: torch.Size([2, 768])\n",
      "Layer: classifier.bias | Shape: torch.Size([2])\n"
     ]
    }
   ],
   "source": [
    "for name, param in model.named_parameters():\n",
    "    print(f\"Layer: {name} | Shape: {param.shape}\")\n"
   ]
  },
  {
   "cell_type": "code",
   "execution_count": 11,
   "id": "2e851f8f",
   "metadata": {
    "execution": {
     "iopub.execute_input": "2025-03-26T07:50:22.754327Z",
     "iopub.status.busy": "2025-03-26T07:50:22.754007Z",
     "iopub.status.idle": "2025-03-26T07:50:22.831810Z",
     "shell.execute_reply": "2025-03-26T07:50:22.830806Z"
    },
    "papermill": {
     "duration": 1.860984,
     "end_time": "2025-03-26T07:50:22.833136",
     "exception": false,
     "start_time": "2025-03-26T07:50:20.972152",
     "status": "completed"
    },
    "tags": []
   },
   "outputs": [
    {
     "data": {
      "text/html": [
       "<div>\n",
       "<style scoped>\n",
       "    .dataframe tbody tr th:only-of-type {\n",
       "        vertical-align: middle;\n",
       "    }\n",
       "\n",
       "    .dataframe tbody tr th {\n",
       "        vertical-align: top;\n",
       "    }\n",
       "\n",
       "    .dataframe thead th {\n",
       "        text-align: right;\n",
       "    }\n",
       "</style>\n",
       "<table border=\"1\" class=\"dataframe\">\n",
       "  <thead>\n",
       "    <tr style=\"text-align: right;\">\n",
       "      <th></th>\n",
       "      <th>loan_word</th>\n",
       "      <th>original_word</th>\n",
       "      <th>loan_word_epitran</th>\n",
       "      <th>original_word_epitran</th>\n",
       "      <th>loan_english</th>\n",
       "      <th>original_english</th>\n",
       "      <th>Fast Levenshtein Distance Div Maxlen</th>\n",
       "      <th>Dolgo Prime Distance Div Maxlen</th>\n",
       "      <th>Feature Edit Distance Div Maxlen</th>\n",
       "      <th>Hamming Feature Distance Div Maxlen</th>\n",
       "      <th>...</th>\n",
       "      <th>Partial Hamming Feature Distance Div Maxlen</th>\n",
       "      <th>plain Levenshtein</th>\n",
       "      <th>loan_unicode</th>\n",
       "      <th>original_unicode</th>\n",
       "      <th>label</th>\n",
       "      <th>label_bin</th>\n",
       "      <th>DNN_logits</th>\n",
       "      <th>MBERT_cos_sim</th>\n",
       "      <th>XLM_cos_sim</th>\n",
       "      <th>language_pair</th>\n",
       "    </tr>\n",
       "  </thead>\n",
       "  <tbody>\n",
       "    <tr>\n",
       "      <th>0</th>\n",
       "      <td>Möhkəmlik</td>\n",
       "      <td>البطولة</td>\n",
       "      <td>mœhkæmlɪk</td>\n",
       "      <td>albtˤuːlt</td>\n",
       "      <td>Durability</td>\n",
       "      <td>Championship</td>\n",
       "      <td>1.000000</td>\n",
       "      <td>0.666667</td>\n",
       "      <td>0.354167</td>\n",
       "      <td>0.393519</td>\n",
       "      <td>...</td>\n",
       "      <td>0.377315</td>\n",
       "      <td>9</td>\n",
       "      <td>Latin</td>\n",
       "      <td>Arabic</td>\n",
       "      <td>synonym</td>\n",
       "      <td>0</td>\n",
       "      <td>-18.639088</td>\n",
       "      <td>0.805898</td>\n",
       "      <td>0.519797</td>\n",
       "      <td>Azerbaijani-Arabic</td>\n",
       "    </tr>\n",
       "    <tr>\n",
       "      <th>1</th>\n",
       "      <td>mehriban</td>\n",
       "      <td>مرن</td>\n",
       "      <td>mehrɪbɑn</td>\n",
       "      <td>mrn</td>\n",
       "      <td>kind</td>\n",
       "      <td>flexible</td>\n",
       "      <td>0.625000</td>\n",
       "      <td>0.625000</td>\n",
       "      <td>0.557292</td>\n",
       "      <td>0.625000</td>\n",
       "      <td>...</td>\n",
       "      <td>0.625000</td>\n",
       "      <td>8</td>\n",
       "      <td>Latin</td>\n",
       "      <td>Arabic</td>\n",
       "      <td>synonym</td>\n",
       "      <td>0</td>\n",
       "      <td>-9.437688</td>\n",
       "      <td>0.833718</td>\n",
       "      <td>0.753124</td>\n",
       "      <td>Azerbaijani-Arabic</td>\n",
       "    </tr>\n",
       "    <tr>\n",
       "      <th>2</th>\n",
       "      <td>qəhbə</td>\n",
       "      <td>قَحْبَة</td>\n",
       "      <td>ɡæhbæ</td>\n",
       "      <td>qَħْbَt</td>\n",
       "      <td>bastard</td>\n",
       "      <td>whore</td>\n",
       "      <td>0.857143</td>\n",
       "      <td>0.600000</td>\n",
       "      <td>0.291667</td>\n",
       "      <td>0.325000</td>\n",
       "      <td>...</td>\n",
       "      <td>0.312500</td>\n",
       "      <td>7</td>\n",
       "      <td>Latin</td>\n",
       "      <td>Arabic</td>\n",
       "      <td>loan</td>\n",
       "      <td>1</td>\n",
       "      <td>4.729791</td>\n",
       "      <td>0.672404</td>\n",
       "      <td>0.517030</td>\n",
       "      <td>Azerbaijani-Arabic</td>\n",
       "    </tr>\n",
       "    <tr>\n",
       "      <th>3</th>\n",
       "      <td>təslim olmaq</td>\n",
       "      <td>التنازل عن العرش</td>\n",
       "      <td>tæslɪm ɔlmɑɡ</td>\n",
       "      <td>altnaːzl ʕn aːlʕrʃ</td>\n",
       "      <td>surrender</td>\n",
       "      <td>abdication</td>\n",
       "      <td>0.777778</td>\n",
       "      <td>0.571429</td>\n",
       "      <td>0.299107</td>\n",
       "      <td>0.333333</td>\n",
       "      <td>...</td>\n",
       "      <td>0.318452</td>\n",
       "      <td>15</td>\n",
       "      <td>Latin</td>\n",
       "      <td>Arabic</td>\n",
       "      <td>synonym</td>\n",
       "      <td>0</td>\n",
       "      <td>-49.171078</td>\n",
       "      <td>0.902082</td>\n",
       "      <td>0.500199</td>\n",
       "      <td>Azerbaijani-Arabic</td>\n",
       "    </tr>\n",
       "    <tr>\n",
       "      <th>4</th>\n",
       "      <td>tələsmək</td>\n",
       "      <td>مضطرب</td>\n",
       "      <td>tælæsmæk</td>\n",
       "      <td>mdˤtˤrb</td>\n",
       "      <td>hurry up</td>\n",
       "      <td>مضطرب</td>\n",
       "      <td>1.000000</td>\n",
       "      <td>0.875000</td>\n",
       "      <td>0.466146</td>\n",
       "      <td>0.520833</td>\n",
       "      <td>...</td>\n",
       "      <td>0.505208</td>\n",
       "      <td>8</td>\n",
       "      <td>Latin</td>\n",
       "      <td>Arabic</td>\n",
       "      <td>synonym</td>\n",
       "      <td>0</td>\n",
       "      <td>-7.328197</td>\n",
       "      <td>0.871732</td>\n",
       "      <td>0.551427</td>\n",
       "      <td>Azerbaijani-Arabic</td>\n",
       "    </tr>\n",
       "    <tr>\n",
       "      <th>...</th>\n",
       "      <td>...</td>\n",
       "      <td>...</td>\n",
       "      <td>...</td>\n",
       "      <td>...</td>\n",
       "      <td>...</td>\n",
       "      <td>...</td>\n",
       "      <td>...</td>\n",
       "      <td>...</td>\n",
       "      <td>...</td>\n",
       "      <td>...</td>\n",
       "      <td>...</td>\n",
       "      <td>...</td>\n",
       "      <td>...</td>\n",
       "      <td>...</td>\n",
       "      <td>...</td>\n",
       "      <td>...</td>\n",
       "      <td>...</td>\n",
       "      <td>...</td>\n",
       "      <td>...</td>\n",
       "      <td>...</td>\n",
       "      <td>...</td>\n",
       "    </tr>\n",
       "    <tr>\n",
       "      <th>47379</th>\n",
       "      <td>Barabas</td>\n",
       "      <td>Fellak</td>\n",
       "      <td>barabas</td>\n",
       "      <td>fɛlːɒk</td>\n",
       "      <td>Barabas</td>\n",
       "      <td>Fellak</td>\n",
       "      <td>1.000000</td>\n",
       "      <td>0.428571</td>\n",
       "      <td>0.351190</td>\n",
       "      <td>0.392857</td>\n",
       "      <td>...</td>\n",
       "      <td>0.377976</td>\n",
       "      <td>6</td>\n",
       "      <td>Latin</td>\n",
       "      <td>Latin</td>\n",
       "      <td>random</td>\n",
       "      <td>0</td>\n",
       "      <td>-10.796869</td>\n",
       "      <td>0.893563</td>\n",
       "      <td>0.532925</td>\n",
       "      <td>Romanian-Hungarian</td>\n",
       "    </tr>\n",
       "    <tr>\n",
       "      <th>47380</th>\n",
       "      <td>Agrișteu</td>\n",
       "      <td>Egrestő</td>\n",
       "      <td>aɡriʃteu</td>\n",
       "      <td>ɛɡrɛʃtøː</td>\n",
       "      <td>Agristeu</td>\n",
       "      <td>Egrestő</td>\n",
       "      <td>0.500000</td>\n",
       "      <td>0.125000</td>\n",
       "      <td>0.143229</td>\n",
       "      <td>0.156250</td>\n",
       "      <td>...</td>\n",
       "      <td>0.156250</td>\n",
       "      <td>5</td>\n",
       "      <td>Latin</td>\n",
       "      <td>Latin</td>\n",
       "      <td>loan</td>\n",
       "      <td>1</td>\n",
       "      <td>3.594073</td>\n",
       "      <td>0.913684</td>\n",
       "      <td>0.794811</td>\n",
       "      <td>Romanian-Hungarian</td>\n",
       "    </tr>\n",
       "    <tr>\n",
       "      <th>47381</th>\n",
       "      <td>Hădărău</td>\n",
       "      <td>Hadaró</td>\n",
       "      <td>hədərəu</td>\n",
       "      <td>hɒdɒroː</td>\n",
       "      <td>Hădărău</td>\n",
       "      <td>Hadaró</td>\n",
       "      <td>0.571429</td>\n",
       "      <td>0.142857</td>\n",
       "      <td>0.181548</td>\n",
       "      <td>0.196429</td>\n",
       "      <td>...</td>\n",
       "      <td>0.196429</td>\n",
       "      <td>4</td>\n",
       "      <td>Latin</td>\n",
       "      <td>Latin</td>\n",
       "      <td>loan</td>\n",
       "      <td>1</td>\n",
       "      <td>0.199825</td>\n",
       "      <td>0.855007</td>\n",
       "      <td>0.712788</td>\n",
       "      <td>Romanian-Hungarian</td>\n",
       "    </tr>\n",
       "    <tr>\n",
       "      <th>47382</th>\n",
       "      <td>Mateiaș</td>\n",
       "      <td>Mátyás</td>\n",
       "      <td>mateiaʃ</td>\n",
       "      <td>maːcaːʃ</td>\n",
       "      <td>Mateiaș</td>\n",
       "      <td>Matthias</td>\n",
       "      <td>0.571429</td>\n",
       "      <td>0.428571</td>\n",
       "      <td>0.288690</td>\n",
       "      <td>0.321429</td>\n",
       "      <td>...</td>\n",
       "      <td>0.318452</td>\n",
       "      <td>5</td>\n",
       "      <td>Latin</td>\n",
       "      <td>Latin</td>\n",
       "      <td>loan</td>\n",
       "      <td>1</td>\n",
       "      <td>-0.000949</td>\n",
       "      <td>0.877873</td>\n",
       "      <td>0.582590</td>\n",
       "      <td>Romanian-Hungarian</td>\n",
       "    </tr>\n",
       "    <tr>\n",
       "      <th>47383</th>\n",
       "      <td>Cuștelnic</td>\n",
       "      <td>Csüdőtelke</td>\n",
       "      <td>kuʃtelnik</td>\n",
       "      <td>t͡ʃydøːtɛlkɛ</td>\n",
       "      <td>Cuştelnic</td>\n",
       "      <td>Plot of land</td>\n",
       "      <td>0.833333</td>\n",
       "      <td>0.333333</td>\n",
       "      <td>0.231481</td>\n",
       "      <td>0.263889</td>\n",
       "      <td>...</td>\n",
       "      <td>0.231481</td>\n",
       "      <td>7</td>\n",
       "      <td>Latin</td>\n",
       "      <td>Latin</td>\n",
       "      <td>loan</td>\n",
       "      <td>1</td>\n",
       "      <td>-5.592077</td>\n",
       "      <td>0.867511</td>\n",
       "      <td>0.709948</td>\n",
       "      <td>Romanian-Hungarian</td>\n",
       "    </tr>\n",
       "  </tbody>\n",
       "</table>\n",
       "<p>47384 rows × 21 columns</p>\n",
       "</div>"
      ],
      "text/plain": [
       "          loan_word     original_word loan_word_epitran original_word_epitran  \\\n",
       "0         Möhkəmlik           البطولة         mœhkæmlɪk             albtˤuːlt   \n",
       "1          mehriban               مرن          mehrɪbɑn                   mrn   \n",
       "2             qəhbə           قَحْبَة             ɡæhbæ               qَħْbَt   \n",
       "3      təslim olmaq  التنازل عن العرش      tæslɪm ɔlmɑɡ    altnaːzl ʕn aːlʕrʃ   \n",
       "4          tələsmək             مضطرب          tælæsmæk               mdˤtˤrb   \n",
       "...             ...               ...               ...                   ...   \n",
       "47379       Barabas            Fellak           barabas                fɛlːɒk   \n",
       "47380      Agrișteu           Egrestő          aɡriʃteu              ɛɡrɛʃtøː   \n",
       "47381       Hădărău            Hadaró           hədərəu               hɒdɒroː   \n",
       "47382       Mateiaș            Mátyás           mateiaʃ               maːcaːʃ   \n",
       "47383     Cuștelnic        Csüdőtelke         kuʃtelnik          t͡ʃydøːtɛlkɛ   \n",
       "\n",
       "      loan_english original_english  Fast Levenshtein Distance Div Maxlen  \\\n",
       "0       Durability     Championship                              1.000000   \n",
       "1             kind         flexible                              0.625000   \n",
       "2          bastard            whore                              0.857143   \n",
       "3        surrender       abdication                              0.777778   \n",
       "4         hurry up            مضطرب                              1.000000   \n",
       "...            ...              ...                                   ...   \n",
       "47379      Barabas           Fellak                              1.000000   \n",
       "47380     Agristeu          Egrestő                              0.500000   \n",
       "47381      Hădărău           Hadaró                              0.571429   \n",
       "47382      Mateiaș         Matthias                              0.571429   \n",
       "47383    Cuştelnic     Plot of land                              0.833333   \n",
       "\n",
       "       Dolgo Prime Distance Div Maxlen  Feature Edit Distance Div Maxlen  \\\n",
       "0                             0.666667                          0.354167   \n",
       "1                             0.625000                          0.557292   \n",
       "2                             0.600000                          0.291667   \n",
       "3                             0.571429                          0.299107   \n",
       "4                             0.875000                          0.466146   \n",
       "...                                ...                               ...   \n",
       "47379                         0.428571                          0.351190   \n",
       "47380                         0.125000                          0.143229   \n",
       "47381                         0.142857                          0.181548   \n",
       "47382                         0.428571                          0.288690   \n",
       "47383                         0.333333                          0.231481   \n",
       "\n",
       "       Hamming Feature Distance Div Maxlen  ...  \\\n",
       "0                                 0.393519  ...   \n",
       "1                                 0.625000  ...   \n",
       "2                                 0.325000  ...   \n",
       "3                                 0.333333  ...   \n",
       "4                                 0.520833  ...   \n",
       "...                                    ...  ...   \n",
       "47379                             0.392857  ...   \n",
       "47380                             0.156250  ...   \n",
       "47381                             0.196429  ...   \n",
       "47382                             0.321429  ...   \n",
       "47383                             0.263889  ...   \n",
       "\n",
       "       Partial Hamming Feature Distance Div Maxlen  plain Levenshtein  \\\n",
       "0                                         0.377315                  9   \n",
       "1                                         0.625000                  8   \n",
       "2                                         0.312500                  7   \n",
       "3                                         0.318452                 15   \n",
       "4                                         0.505208                  8   \n",
       "...                                            ...                ...   \n",
       "47379                                     0.377976                  6   \n",
       "47380                                     0.156250                  5   \n",
       "47381                                     0.196429                  4   \n",
       "47382                                     0.318452                  5   \n",
       "47383                                     0.231481                  7   \n",
       "\n",
       "       loan_unicode original_unicode    label label_bin  DNN_logits  \\\n",
       "0             Latin           Arabic  synonym         0  -18.639088   \n",
       "1             Latin           Arabic  synonym         0   -9.437688   \n",
       "2             Latin           Arabic     loan         1    4.729791   \n",
       "3             Latin           Arabic  synonym         0  -49.171078   \n",
       "4             Latin           Arabic  synonym         0   -7.328197   \n",
       "...             ...              ...      ...       ...         ...   \n",
       "47379         Latin            Latin   random         0  -10.796869   \n",
       "47380         Latin            Latin     loan         1    3.594073   \n",
       "47381         Latin            Latin     loan         1    0.199825   \n",
       "47382         Latin            Latin     loan         1   -0.000949   \n",
       "47383         Latin            Latin     loan         1   -5.592077   \n",
       "\n",
       "       MBERT_cos_sim  XLM_cos_sim       language_pair  \n",
       "0           0.805898     0.519797  Azerbaijani-Arabic  \n",
       "1           0.833718     0.753124  Azerbaijani-Arabic  \n",
       "2           0.672404     0.517030  Azerbaijani-Arabic  \n",
       "3           0.902082     0.500199  Azerbaijani-Arabic  \n",
       "4           0.871732     0.551427  Azerbaijani-Arabic  \n",
       "...              ...          ...                 ...  \n",
       "47379       0.893563     0.532925  Romanian-Hungarian  \n",
       "47380       0.913684     0.794811  Romanian-Hungarian  \n",
       "47381       0.855007     0.712788  Romanian-Hungarian  \n",
       "47382       0.877873     0.582590  Romanian-Hungarian  \n",
       "47383       0.867511     0.709948  Romanian-Hungarian  \n",
       "\n",
       "[47384 rows x 21 columns]"
      ]
     },
     "execution_count": 11,
     "metadata": {},
     "output_type": "execute_result"
    }
   ],
   "source": [
    "final_df"
   ]
  },
  {
   "cell_type": "code",
   "execution_count": null,
   "id": "808756f7",
   "metadata": {
    "papermill": {
     "duration": 1.79552,
     "end_time": "2025-03-26T07:50:26.582731",
     "exception": false,
     "start_time": "2025-03-26T07:50:24.787211",
     "status": "completed"
    },
    "tags": []
   },
   "outputs": [],
   "source": []
  }
 ],
 "metadata": {
  "kaggle": {
   "accelerator": "gpu",
   "dataSources": [
    {
     "datasetId": 6943082,
     "sourceId": 11132396,
     "sourceType": "datasetVersion"
    }
   ],
   "dockerImageVersionId": 30918,
   "isGpuEnabled": true,
   "isInternetEnabled": true,
   "language": "python",
   "sourceType": "notebook"
  },
  "kernelspec": {
   "display_name": "base",
   "language": "python",
   "name": "python3"
  },
  "language_info": {
   "codemirror_mode": {
    "name": "ipython",
    "version": 3
   },
   "file_extension": ".py",
   "mimetype": "text/x-python",
   "name": "python",
   "nbconvert_exporter": "python",
   "pygments_lexer": "ipython3",
   "version": "3.12.2"
  },
  "papermill": {
   "default_parameters": {},
   "duration": 3224.105501,
   "end_time": "2025-03-26T07:50:31.315313",
   "environment_variables": {},
   "exception": null,
   "input_path": "__notebook__.ipynb",
   "output_path": "__notebook__.ipynb",
   "parameters": {},
   "start_time": "2025-03-26T06:56:47.209812",
   "version": "2.6.0"
  },
  "widgets": {
   "application/vnd.jupyter.widget-state+json": {
    "state": {
     "00020c0dddba4974a77f790b3a2abbdc": {
      "model_module": "@jupyter-widgets/base",
      "model_module_version": "2.0.0",
      "model_name": "LayoutModel",
      "state": {
       "_model_module": "@jupyter-widgets/base",
       "_model_module_version": "2.0.0",
       "_model_name": "LayoutModel",
       "_view_count": null,
       "_view_module": "@jupyter-widgets/base",
       "_view_module_version": "2.0.0",
       "_view_name": "LayoutView",
       "align_content": null,
       "align_items": null,
       "align_self": null,
       "border_bottom": null,
       "border_left": null,
       "border_right": null,
       "border_top": null,
       "bottom": null,
       "display": null,
       "flex": null,
       "flex_flow": null,
       "grid_area": null,
       "grid_auto_columns": null,
       "grid_auto_flow": null,
       "grid_auto_rows": null,
       "grid_column": null,
       "grid_gap": null,
       "grid_row": null,
       "grid_template_areas": null,
       "grid_template_columns": null,
       "grid_template_rows": null,
       "height": null,
       "justify_content": null,
       "justify_items": null,
       "left": null,
       "margin": null,
       "max_height": null,
       "max_width": null,
       "min_height": null,
       "min_width": null,
       "object_fit": null,
       "object_position": null,
       "order": null,
       "overflow": null,
       "padding": null,
       "right": null,
       "top": null,
       "visibility": null,
       "width": null
      }
     },
     "02ab99b6327f45ca84e207875e062566": {
      "model_module": "@jupyter-widgets/base",
      "model_module_version": "2.0.0",
      "model_name": "LayoutModel",
      "state": {
       "_model_module": "@jupyter-widgets/base",
       "_model_module_version": "2.0.0",
       "_model_name": "LayoutModel",
       "_view_count": null,
       "_view_module": "@jupyter-widgets/base",
       "_view_module_version": "2.0.0",
       "_view_name": "LayoutView",
       "align_content": null,
       "align_items": null,
       "align_self": null,
       "border_bottom": null,
       "border_left": null,
       "border_right": null,
       "border_top": null,
       "bottom": null,
       "display": null,
       "flex": null,
       "flex_flow": null,
       "grid_area": null,
       "grid_auto_columns": null,
       "grid_auto_flow": null,
       "grid_auto_rows": null,
       "grid_column": null,
       "grid_gap": null,
       "grid_row": null,
       "grid_template_areas": null,
       "grid_template_columns": null,
       "grid_template_rows": null,
       "height": null,
       "justify_content": null,
       "justify_items": null,
       "left": null,
       "margin": null,
       "max_height": null,
       "max_width": null,
       "min_height": null,
       "min_width": null,
       "object_fit": null,
       "object_position": null,
       "order": null,
       "overflow": null,
       "padding": null,
       "right": null,
       "top": null,
       "visibility": null,
       "width": null
      }
     },
     "0634d5076aea490090356caeb6d9eacb": {
      "model_module": "@jupyter-widgets/controls",
      "model_module_version": "2.0.0",
      "model_name": "HTMLModel",
      "state": {
       "_dom_classes": [],
       "_model_module": "@jupyter-widgets/controls",
       "_model_module_version": "2.0.0",
       "_model_name": "HTMLModel",
       "_view_count": null,
       "_view_module": "@jupyter-widgets/controls",
       "_view_module_version": "2.0.0",
       "_view_name": "HTMLView",
       "description": "",
       "description_allow_html": false,
       "layout": "IPY_MODEL_cde36e53bf2c483aa8bb809b41ea44e5",
       "placeholder": "​",
       "style": "IPY_MODEL_82fb42032c67439fb0bff5aab161766a",
       "tabbable": null,
       "tooltip": null,
       "value": "tokenizer_config.json: 100%"
      }
     },
     "0c1a1679b1d54da290e41b25f47a49b9": {
      "model_module": "@jupyter-widgets/base",
      "model_module_version": "2.0.0",
      "model_name": "LayoutModel",
      "state": {
       "_model_module": "@jupyter-widgets/base",
       "_model_module_version": "2.0.0",
       "_model_name": "LayoutModel",
       "_view_count": null,
       "_view_module": "@jupyter-widgets/base",
       "_view_module_version": "2.0.0",
       "_view_name": "LayoutView",
       "align_content": null,
       "align_items": null,
       "align_self": null,
       "border_bottom": null,
       "border_left": null,
       "border_right": null,
       "border_top": null,
       "bottom": null,
       "display": null,
       "flex": null,
       "flex_flow": null,
       "grid_area": null,
       "grid_auto_columns": null,
       "grid_auto_flow": null,
       "grid_auto_rows": null,
       "grid_column": null,
       "grid_gap": null,
       "grid_row": null,
       "grid_template_areas": null,
       "grid_template_columns": null,
       "grid_template_rows": null,
       "height": null,
       "justify_content": null,
       "justify_items": null,
       "left": null,
       "margin": null,
       "max_height": null,
       "max_width": null,
       "min_height": null,
       "min_width": null,
       "object_fit": null,
       "object_position": null,
       "order": null,
       "overflow": null,
       "padding": null,
       "right": null,
       "top": null,
       "visibility": null,
       "width": null
      }
     },
     "0d71b5bd2f244ea2ae68bd1e7e9c2440": {
      "model_module": "@jupyter-widgets/controls",
      "model_module_version": "2.0.0",
      "model_name": "ProgressStyleModel",
      "state": {
       "_model_module": "@jupyter-widgets/controls",
       "_model_module_version": "2.0.0",
       "_model_name": "ProgressStyleModel",
       "_view_count": null,
       "_view_module": "@jupyter-widgets/base",
       "_view_module_version": "2.0.0",
       "_view_name": "StyleView",
       "bar_color": null,
       "description_width": ""
      }
     },
     "1444b1434db04d6a82aa003907720402": {
      "model_module": "@jupyter-widgets/controls",
      "model_module_version": "2.0.0",
      "model_name": "HTMLModel",
      "state": {
       "_dom_classes": [],
       "_model_module": "@jupyter-widgets/controls",
       "_model_module_version": "2.0.0",
       "_model_name": "HTMLModel",
       "_view_count": null,
       "_view_module": "@jupyter-widgets/controls",
       "_view_module_version": "2.0.0",
       "_view_name": "HTMLView",
       "description": "",
       "description_allow_html": false,
       "layout": "IPY_MODEL_cbeda142e66348a098c8d8ba8dd27265",
       "placeholder": "​",
       "style": "IPY_MODEL_726a6c582fbd4c8897865e4293957c28",
       "tabbable": null,
       "tooltip": null,
       "value": "tokenizer.json: 100%"
      }
     },
     "15c235a3ab824106b05a8c7b09e2e360": {
      "model_module": "@jupyter-widgets/controls",
      "model_module_version": "2.0.0",
      "model_name": "HBoxModel",
      "state": {
       "_dom_classes": [],
       "_model_module": "@jupyter-widgets/controls",
       "_model_module_version": "2.0.0",
       "_model_name": "HBoxModel",
       "_view_count": null,
       "_view_module": "@jupyter-widgets/controls",
       "_view_module_version": "2.0.0",
       "_view_name": "HBoxView",
       "box_style": "",
       "children": [
        "IPY_MODEL_1444b1434db04d6a82aa003907720402",
        "IPY_MODEL_cc7a3e20f85b48fc954782241c93423a",
        "IPY_MODEL_c0ee3d4ff0864e8b88b83c73efa2a5d5"
       ],
       "layout": "IPY_MODEL_616b343c076a4862a91bf909497487b7",
       "tabbable": null,
       "tooltip": null
      }
     },
     "1a90117c13b4463c950dc3c927d4db0d": {
      "model_module": "@jupyter-widgets/controls",
      "model_module_version": "2.0.0",
      "model_name": "HTMLModel",
      "state": {
       "_dom_classes": [],
       "_model_module": "@jupyter-widgets/controls",
       "_model_module_version": "2.0.0",
       "_model_name": "HTMLModel",
       "_view_count": null,
       "_view_module": "@jupyter-widgets/controls",
       "_view_module_version": "2.0.0",
       "_view_name": "HTMLView",
       "description": "",
       "description_allow_html": false,
       "layout": "IPY_MODEL_875ed2c3d59847afb46922b4b774779d",
       "placeholder": "​",
       "style": "IPY_MODEL_28a77ba98b3244738437fd64aab1d7d1",
       "tabbable": null,
       "tooltip": null,
       "value": " 714M/714M [00:02&lt;00:00, 317MB/s]"
      }
     },
     "1d59d1ba6d024d57b9cda3c990c2e136": {
      "model_module": "@jupyter-widgets/controls",
      "model_module_version": "2.0.0",
      "model_name": "FloatProgressModel",
      "state": {
       "_dom_classes": [],
       "_model_module": "@jupyter-widgets/controls",
       "_model_module_version": "2.0.0",
       "_model_name": "FloatProgressModel",
       "_view_count": null,
       "_view_module": "@jupyter-widgets/controls",
       "_view_module_version": "2.0.0",
       "_view_name": "ProgressView",
       "bar_style": "success",
       "description": "",
       "description_allow_html": false,
       "layout": "IPY_MODEL_2a4fbb8b826a42c9ad31eba08951274f",
       "max": 714290682,
       "min": 0,
       "orientation": "horizontal",
       "style": "IPY_MODEL_0d71b5bd2f244ea2ae68bd1e7e9c2440",
       "tabbable": null,
       "tooltip": null,
       "value": 714290682
      }
     },
     "2650b91da1e14429958c3f8e3a1bdcce": {
      "model_module": "@jupyter-widgets/controls",
      "model_module_version": "2.0.0",
      "model_name": "ProgressStyleModel",
      "state": {
       "_model_module": "@jupyter-widgets/controls",
       "_model_module_version": "2.0.0",
       "_model_name": "ProgressStyleModel",
       "_view_count": null,
       "_view_module": "@jupyter-widgets/base",
       "_view_module_version": "2.0.0",
       "_view_name": "StyleView",
       "bar_color": null,
       "description_width": ""
      }
     },
     "27e321e9fd264b6ab987c1a8481bb799": {
      "model_module": "@jupyter-widgets/controls",
      "model_module_version": "2.0.0",
      "model_name": "HTMLStyleModel",
      "state": {
       "_model_module": "@jupyter-widgets/controls",
       "_model_module_version": "2.0.0",
       "_model_name": "HTMLStyleModel",
       "_view_count": null,
       "_view_module": "@jupyter-widgets/base",
       "_view_module_version": "2.0.0",
       "_view_name": "StyleView",
       "background": null,
       "description_width": "",
       "font_size": null,
       "text_color": null
      }
     },
     "28a77ba98b3244738437fd64aab1d7d1": {
      "model_module": "@jupyter-widgets/controls",
      "model_module_version": "2.0.0",
      "model_name": "HTMLStyleModel",
      "state": {
       "_model_module": "@jupyter-widgets/controls",
       "_model_module_version": "2.0.0",
       "_model_name": "HTMLStyleModel",
       "_view_count": null,
       "_view_module": "@jupyter-widgets/base",
       "_view_module_version": "2.0.0",
       "_view_name": "StyleView",
       "background": null,
       "description_width": "",
       "font_size": null,
       "text_color": null
      }
     },
     "2a4fbb8b826a42c9ad31eba08951274f": {
      "model_module": "@jupyter-widgets/base",
      "model_module_version": "2.0.0",
      "model_name": "LayoutModel",
      "state": {
       "_model_module": "@jupyter-widgets/base",
       "_model_module_version": "2.0.0",
       "_model_name": "LayoutModel",
       "_view_count": null,
       "_view_module": "@jupyter-widgets/base",
       "_view_module_version": "2.0.0",
       "_view_name": "LayoutView",
       "align_content": null,
       "align_items": null,
       "align_self": null,
       "border_bottom": null,
       "border_left": null,
       "border_right": null,
       "border_top": null,
       "bottom": null,
       "display": null,
       "flex": null,
       "flex_flow": null,
       "grid_area": null,
       "grid_auto_columns": null,
       "grid_auto_flow": null,
       "grid_auto_rows": null,
       "grid_column": null,
       "grid_gap": null,
       "grid_row": null,
       "grid_template_areas": null,
       "grid_template_columns": null,
       "grid_template_rows": null,
       "height": null,
       "justify_content": null,
       "justify_items": null,
       "left": null,
       "margin": null,
       "max_height": null,
       "max_width": null,
       "min_height": null,
       "min_width": null,
       "object_fit": null,
       "object_position": null,
       "order": null,
       "overflow": null,
       "padding": null,
       "right": null,
       "top": null,
       "visibility": null,
       "width": null
      }
     },
     "2ef56e3a274f4da3a8765d1d62ccf780": {
      "model_module": "@jupyter-widgets/controls",
      "model_module_version": "2.0.0",
      "model_name": "HTMLModel",
      "state": {
       "_dom_classes": [],
       "_model_module": "@jupyter-widgets/controls",
       "_model_module_version": "2.0.0",
       "_model_name": "HTMLModel",
       "_view_count": null,
       "_view_module": "@jupyter-widgets/controls",
       "_view_module_version": "2.0.0",
       "_view_name": "HTMLView",
       "description": "",
       "description_allow_html": false,
       "layout": "IPY_MODEL_f00dd789051149c38cb7633b9df602f3",
       "placeholder": "​",
       "style": "IPY_MODEL_86c84000f52741b68a7c12b3c70fc912",
       "tabbable": null,
       "tooltip": null,
       "value": "config.json: 100%"
      }
     },
     "30d200855473481fa9f6b948db5278ed": {
      "model_module": "@jupyter-widgets/base",
      "model_module_version": "2.0.0",
      "model_name": "LayoutModel",
      "state": {
       "_model_module": "@jupyter-widgets/base",
       "_model_module_version": "2.0.0",
       "_model_name": "LayoutModel",
       "_view_count": null,
       "_view_module": "@jupyter-widgets/base",
       "_view_module_version": "2.0.0",
       "_view_name": "LayoutView",
       "align_content": null,
       "align_items": null,
       "align_self": null,
       "border_bottom": null,
       "border_left": null,
       "border_right": null,
       "border_top": null,
       "bottom": null,
       "display": null,
       "flex": null,
       "flex_flow": null,
       "grid_area": null,
       "grid_auto_columns": null,
       "grid_auto_flow": null,
       "grid_auto_rows": null,
       "grid_column": null,
       "grid_gap": null,
       "grid_row": null,
       "grid_template_areas": null,
       "grid_template_columns": null,
       "grid_template_rows": null,
       "height": null,
       "justify_content": null,
       "justify_items": null,
       "left": null,
       "margin": null,
       "max_height": null,
       "max_width": null,
       "min_height": null,
       "min_width": null,
       "object_fit": null,
       "object_position": null,
       "order": null,
       "overflow": null,
       "padding": null,
       "right": null,
       "top": null,
       "visibility": null,
       "width": null
      }
     },
     "318aeb4727d54197bec6cb54cf86aef5": {
      "model_module": "@jupyter-widgets/controls",
      "model_module_version": "2.0.0",
      "model_name": "HTMLStyleModel",
      "state": {
       "_model_module": "@jupyter-widgets/controls",
       "_model_module_version": "2.0.0",
       "_model_name": "HTMLStyleModel",
       "_view_count": null,
       "_view_module": "@jupyter-widgets/base",
       "_view_module_version": "2.0.0",
       "_view_name": "StyleView",
       "background": null,
       "description_width": "",
       "font_size": null,
       "text_color": null
      }
     },
     "32c1533c0e5a48e983359a1cb46def15": {
      "model_module": "@jupyter-widgets/base",
      "model_module_version": "2.0.0",
      "model_name": "LayoutModel",
      "state": {
       "_model_module": "@jupyter-widgets/base",
       "_model_module_version": "2.0.0",
       "_model_name": "LayoutModel",
       "_view_count": null,
       "_view_module": "@jupyter-widgets/base",
       "_view_module_version": "2.0.0",
       "_view_name": "LayoutView",
       "align_content": null,
       "align_items": null,
       "align_self": null,
       "border_bottom": null,
       "border_left": null,
       "border_right": null,
       "border_top": null,
       "bottom": null,
       "display": null,
       "flex": null,
       "flex_flow": null,
       "grid_area": null,
       "grid_auto_columns": null,
       "grid_auto_flow": null,
       "grid_auto_rows": null,
       "grid_column": null,
       "grid_gap": null,
       "grid_row": null,
       "grid_template_areas": null,
       "grid_template_columns": null,
       "grid_template_rows": null,
       "height": null,
       "justify_content": null,
       "justify_items": null,
       "left": null,
       "margin": null,
       "max_height": null,
       "max_width": null,
       "min_height": null,
       "min_width": null,
       "object_fit": null,
       "object_position": null,
       "order": null,
       "overflow": null,
       "padding": null,
       "right": null,
       "top": null,
       "visibility": null,
       "width": null
      }
     },
     "402d86fa9e574490aba2dbdda071fa01": {
      "model_module": "@jupyter-widgets/controls",
      "model_module_version": "2.0.0",
      "model_name": "ProgressStyleModel",
      "state": {
       "_model_module": "@jupyter-widgets/controls",
       "_model_module_version": "2.0.0",
       "_model_name": "ProgressStyleModel",
       "_view_count": null,
       "_view_module": "@jupyter-widgets/base",
       "_view_module_version": "2.0.0",
       "_view_name": "StyleView",
       "bar_color": null,
       "description_width": ""
      }
     },
     "55000ea200644b90bd6bcfb69589ab19": {
      "model_module": "@jupyter-widgets/controls",
      "model_module_version": "2.0.0",
      "model_name": "HTMLModel",
      "state": {
       "_dom_classes": [],
       "_model_module": "@jupyter-widgets/controls",
       "_model_module_version": "2.0.0",
       "_model_name": "HTMLModel",
       "_view_count": null,
       "_view_module": "@jupyter-widgets/controls",
       "_view_module_version": "2.0.0",
       "_view_name": "HTMLView",
       "description": "",
       "description_allow_html": false,
       "layout": "IPY_MODEL_99187ecdb3ec4a6cb6771ec9d26867ab",
       "placeholder": "​",
       "style": "IPY_MODEL_7792f9e802314faaa969efdc9b054938",
       "tabbable": null,
       "tooltip": null,
       "value": " 625/625 [00:00&lt;00:00, 62.0kB/s]"
      }
     },
     "58eb3e588c50462b9b6eba7116b768f9": {
      "model_module": "@jupyter-widgets/controls",
      "model_module_version": "2.0.0",
      "model_name": "HTMLModel",
      "state": {
       "_dom_classes": [],
       "_model_module": "@jupyter-widgets/controls",
       "_model_module_version": "2.0.0",
       "_model_name": "HTMLModel",
       "_view_count": null,
       "_view_module": "@jupyter-widgets/controls",
       "_view_module_version": "2.0.0",
       "_view_name": "HTMLView",
       "description": "",
       "description_allow_html": false,
       "layout": "IPY_MODEL_dbbede4e80954543b3707c1703b30e44",
       "placeholder": "​",
       "style": "IPY_MODEL_74413eb8bad345e0adb57bbaf51af8d0",
       "tabbable": null,
       "tooltip": null,
       "value": " 996k/996k [00:00&lt;00:00, 4.07MB/s]"
      }
     },
     "616b343c076a4862a91bf909497487b7": {
      "model_module": "@jupyter-widgets/base",
      "model_module_version": "2.0.0",
      "model_name": "LayoutModel",
      "state": {
       "_model_module": "@jupyter-widgets/base",
       "_model_module_version": "2.0.0",
       "_model_name": "LayoutModel",
       "_view_count": null,
       "_view_module": "@jupyter-widgets/base",
       "_view_module_version": "2.0.0",
       "_view_name": "LayoutView",
       "align_content": null,
       "align_items": null,
       "align_self": null,
       "border_bottom": null,
       "border_left": null,
       "border_right": null,
       "border_top": null,
       "bottom": null,
       "display": null,
       "flex": null,
       "flex_flow": null,
       "grid_area": null,
       "grid_auto_columns": null,
       "grid_auto_flow": null,
       "grid_auto_rows": null,
       "grid_column": null,
       "grid_gap": null,
       "grid_row": null,
       "grid_template_areas": null,
       "grid_template_columns": null,
       "grid_template_rows": null,
       "height": null,
       "justify_content": null,
       "justify_items": null,
       "left": null,
       "margin": null,
       "max_height": null,
       "max_width": null,
       "min_height": null,
       "min_width": null,
       "object_fit": null,
       "object_position": null,
       "order": null,
       "overflow": null,
       "padding": null,
       "right": null,
       "top": null,
       "visibility": null,
       "width": null
      }
     },
     "6aabba08ae794e92916e21f6f0704227": {
      "model_module": "@jupyter-widgets/controls",
      "model_module_version": "2.0.0",
      "model_name": "FloatProgressModel",
      "state": {
       "_dom_classes": [],
       "_model_module": "@jupyter-widgets/controls",
       "_model_module_version": "2.0.0",
       "_model_name": "FloatProgressModel",
       "_view_count": null,
       "_view_module": "@jupyter-widgets/controls",
       "_view_module_version": "2.0.0",
       "_view_name": "ProgressView",
       "bar_style": "success",
       "description": "",
       "description_allow_html": false,
       "layout": "IPY_MODEL_e0eb42859a4a4c82908db9dd77726591",
       "max": 625,
       "min": 0,
       "orientation": "horizontal",
       "style": "IPY_MODEL_402d86fa9e574490aba2dbdda071fa01",
       "tabbable": null,
       "tooltip": null,
       "value": 625
      }
     },
     "7108b7a957934364b60a915b6b6ef6a2": {
      "model_module": "@jupyter-widgets/base",
      "model_module_version": "2.0.0",
      "model_name": "LayoutModel",
      "state": {
       "_model_module": "@jupyter-widgets/base",
       "_model_module_version": "2.0.0",
       "_model_name": "LayoutModel",
       "_view_count": null,
       "_view_module": "@jupyter-widgets/base",
       "_view_module_version": "2.0.0",
       "_view_name": "LayoutView",
       "align_content": null,
       "align_items": null,
       "align_self": null,
       "border_bottom": null,
       "border_left": null,
       "border_right": null,
       "border_top": null,
       "bottom": null,
       "display": null,
       "flex": null,
       "flex_flow": null,
       "grid_area": null,
       "grid_auto_columns": null,
       "grid_auto_flow": null,
       "grid_auto_rows": null,
       "grid_column": null,
       "grid_gap": null,
       "grid_row": null,
       "grid_template_areas": null,
       "grid_template_columns": null,
       "grid_template_rows": null,
       "height": null,
       "justify_content": null,
       "justify_items": null,
       "left": null,
       "margin": null,
       "max_height": null,
       "max_width": null,
       "min_height": null,
       "min_width": null,
       "object_fit": null,
       "object_position": null,
       "order": null,
       "overflow": null,
       "padding": null,
       "right": null,
       "top": null,
       "visibility": null,
       "width": null
      }
     },
     "726a6c582fbd4c8897865e4293957c28": {
      "model_module": "@jupyter-widgets/controls",
      "model_module_version": "2.0.0",
      "model_name": "HTMLStyleModel",
      "state": {
       "_model_module": "@jupyter-widgets/controls",
       "_model_module_version": "2.0.0",
       "_model_name": "HTMLStyleModel",
       "_view_count": null,
       "_view_module": "@jupyter-widgets/base",
       "_view_module_version": "2.0.0",
       "_view_name": "StyleView",
       "background": null,
       "description_width": "",
       "font_size": null,
       "text_color": null
      }
     },
     "727dd8471f0d43a1944e7178746e1724": {
      "model_module": "@jupyter-widgets/controls",
      "model_module_version": "2.0.0",
      "model_name": "HTMLStyleModel",
      "state": {
       "_model_module": "@jupyter-widgets/controls",
       "_model_module_version": "2.0.0",
       "_model_name": "HTMLStyleModel",
       "_view_count": null,
       "_view_module": "@jupyter-widgets/base",
       "_view_module_version": "2.0.0",
       "_view_name": "StyleView",
       "background": null,
       "description_width": "",
       "font_size": null,
       "text_color": null
      }
     },
     "72e2baac64494fb584de04cb2c0dd06b": {
      "model_module": "@jupyter-widgets/controls",
      "model_module_version": "2.0.0",
      "model_name": "ProgressStyleModel",
      "state": {
       "_model_module": "@jupyter-widgets/controls",
       "_model_module_version": "2.0.0",
       "_model_name": "ProgressStyleModel",
       "_view_count": null,
       "_view_module": "@jupyter-widgets/base",
       "_view_module_version": "2.0.0",
       "_view_name": "StyleView",
       "bar_color": null,
       "description_width": ""
      }
     },
     "74413eb8bad345e0adb57bbaf51af8d0": {
      "model_module": "@jupyter-widgets/controls",
      "model_module_version": "2.0.0",
      "model_name": "HTMLStyleModel",
      "state": {
       "_model_module": "@jupyter-widgets/controls",
       "_model_module_version": "2.0.0",
       "_model_name": "HTMLStyleModel",
       "_view_count": null,
       "_view_module": "@jupyter-widgets/base",
       "_view_module_version": "2.0.0",
       "_view_name": "StyleView",
       "background": null,
       "description_width": "",
       "font_size": null,
       "text_color": null
      }
     },
     "7792f9e802314faaa969efdc9b054938": {
      "model_module": "@jupyter-widgets/controls",
      "model_module_version": "2.0.0",
      "model_name": "HTMLStyleModel",
      "state": {
       "_model_module": "@jupyter-widgets/controls",
       "_model_module_version": "2.0.0",
       "_model_name": "HTMLStyleModel",
       "_view_count": null,
       "_view_module": "@jupyter-widgets/base",
       "_view_module_version": "2.0.0",
       "_view_name": "StyleView",
       "background": null,
       "description_width": "",
       "font_size": null,
       "text_color": null
      }
     },
     "80653dce1e33475f91fe06855522a0d2": {
      "model_module": "@jupyter-widgets/controls",
      "model_module_version": "2.0.0",
      "model_name": "HTMLModel",
      "state": {
       "_dom_classes": [],
       "_model_module": "@jupyter-widgets/controls",
       "_model_module_version": "2.0.0",
       "_model_name": "HTMLModel",
       "_view_count": null,
       "_view_module": "@jupyter-widgets/controls",
       "_view_module_version": "2.0.0",
       "_view_name": "HTMLView",
       "description": "",
       "description_allow_html": false,
       "layout": "IPY_MODEL_bd458eebc6324de39a76a129d8e7a4c1",
       "placeholder": "​",
       "style": "IPY_MODEL_727dd8471f0d43a1944e7178746e1724",
       "tabbable": null,
       "tooltip": null,
       "value": "model.safetensors: 100%"
      }
     },
     "815b529e20ae4893b9b699de746835fa": {
      "model_module": "@jupyter-widgets/controls",
      "model_module_version": "2.0.0",
      "model_name": "FloatProgressModel",
      "state": {
       "_dom_classes": [],
       "_model_module": "@jupyter-widgets/controls",
       "_model_module_version": "2.0.0",
       "_model_name": "FloatProgressModel",
       "_view_count": null,
       "_view_module": "@jupyter-widgets/controls",
       "_view_module_version": "2.0.0",
       "_view_name": "ProgressView",
       "bar_style": "success",
       "description": "",
       "description_allow_html": false,
       "layout": "IPY_MODEL_f2a725cfe2d54cf5bbeca02c1d80df2f",
       "max": 49,
       "min": 0,
       "orientation": "horizontal",
       "style": "IPY_MODEL_2650b91da1e14429958c3f8e3a1bdcce",
       "tabbable": null,
       "tooltip": null,
       "value": 49
      }
     },
     "82fb42032c67439fb0bff5aab161766a": {
      "model_module": "@jupyter-widgets/controls",
      "model_module_version": "2.0.0",
      "model_name": "HTMLStyleModel",
      "state": {
       "_model_module": "@jupyter-widgets/controls",
       "_model_module_version": "2.0.0",
       "_model_name": "HTMLStyleModel",
       "_view_count": null,
       "_view_module": "@jupyter-widgets/base",
       "_view_module_version": "2.0.0",
       "_view_name": "StyleView",
       "background": null,
       "description_width": "",
       "font_size": null,
       "text_color": null
      }
     },
     "86c84000f52741b68a7c12b3c70fc912": {
      "model_module": "@jupyter-widgets/controls",
      "model_module_version": "2.0.0",
      "model_name": "HTMLStyleModel",
      "state": {
       "_model_module": "@jupyter-widgets/controls",
       "_model_module_version": "2.0.0",
       "_model_name": "HTMLStyleModel",
       "_view_count": null,
       "_view_module": "@jupyter-widgets/base",
       "_view_module_version": "2.0.0",
       "_view_name": "StyleView",
       "background": null,
       "description_width": "",
       "font_size": null,
       "text_color": null
      }
     },
     "875ed2c3d59847afb46922b4b774779d": {
      "model_module": "@jupyter-widgets/base",
      "model_module_version": "2.0.0",
      "model_name": "LayoutModel",
      "state": {
       "_model_module": "@jupyter-widgets/base",
       "_model_module_version": "2.0.0",
       "_model_name": "LayoutModel",
       "_view_count": null,
       "_view_module": "@jupyter-widgets/base",
       "_view_module_version": "2.0.0",
       "_view_name": "LayoutView",
       "align_content": null,
       "align_items": null,
       "align_self": null,
       "border_bottom": null,
       "border_left": null,
       "border_right": null,
       "border_top": null,
       "bottom": null,
       "display": null,
       "flex": null,
       "flex_flow": null,
       "grid_area": null,
       "grid_auto_columns": null,
       "grid_auto_flow": null,
       "grid_auto_rows": null,
       "grid_column": null,
       "grid_gap": null,
       "grid_row": null,
       "grid_template_areas": null,
       "grid_template_columns": null,
       "grid_template_rows": null,
       "height": null,
       "justify_content": null,
       "justify_items": null,
       "left": null,
       "margin": null,
       "max_height": null,
       "max_width": null,
       "min_height": null,
       "min_width": null,
       "object_fit": null,
       "object_position": null,
       "order": null,
       "overflow": null,
       "padding": null,
       "right": null,
       "top": null,
       "visibility": null,
       "width": null
      }
     },
     "89e13a065e954886a66f9ec7d7b66d6d": {
      "model_module": "@jupyter-widgets/base",
      "model_module_version": "2.0.0",
      "model_name": "LayoutModel",
      "state": {
       "_model_module": "@jupyter-widgets/base",
       "_model_module_version": "2.0.0",
       "_model_name": "LayoutModel",
       "_view_count": null,
       "_view_module": "@jupyter-widgets/base",
       "_view_module_version": "2.0.0",
       "_view_name": "LayoutView",
       "align_content": null,
       "align_items": null,
       "align_self": null,
       "border_bottom": null,
       "border_left": null,
       "border_right": null,
       "border_top": null,
       "bottom": null,
       "display": null,
       "flex": null,
       "flex_flow": null,
       "grid_area": null,
       "grid_auto_columns": null,
       "grid_auto_flow": null,
       "grid_auto_rows": null,
       "grid_column": null,
       "grid_gap": null,
       "grid_row": null,
       "grid_template_areas": null,
       "grid_template_columns": null,
       "grid_template_rows": null,
       "height": null,
       "justify_content": null,
       "justify_items": null,
       "left": null,
       "margin": null,
       "max_height": null,
       "max_width": null,
       "min_height": null,
       "min_width": null,
       "object_fit": null,
       "object_position": null,
       "order": null,
       "overflow": null,
       "padding": null,
       "right": null,
       "top": null,
       "visibility": null,
       "width": null
      }
     },
     "8a086025f6c543c398398443eca8370b": {
      "model_module": "@jupyter-widgets/controls",
      "model_module_version": "2.0.0",
      "model_name": "HBoxModel",
      "state": {
       "_dom_classes": [],
       "_model_module": "@jupyter-widgets/controls",
       "_model_module_version": "2.0.0",
       "_model_name": "HBoxModel",
       "_view_count": null,
       "_view_module": "@jupyter-widgets/controls",
       "_view_module_version": "2.0.0",
       "_view_name": "HBoxView",
       "box_style": "",
       "children": [
        "IPY_MODEL_80653dce1e33475f91fe06855522a0d2",
        "IPY_MODEL_1d59d1ba6d024d57b9cda3c990c2e136",
        "IPY_MODEL_1a90117c13b4463c950dc3c927d4db0d"
       ],
       "layout": "IPY_MODEL_32c1533c0e5a48e983359a1cb46def15",
       "tabbable": null,
       "tooltip": null
      }
     },
     "9036ea0102c54000bdbdb06c3c8b06ed": {
      "model_module": "@jupyter-widgets/controls",
      "model_module_version": "2.0.0",
      "model_name": "HBoxModel",
      "state": {
       "_dom_classes": [],
       "_model_module": "@jupyter-widgets/controls",
       "_model_module_version": "2.0.0",
       "_model_name": "HBoxModel",
       "_view_count": null,
       "_view_module": "@jupyter-widgets/controls",
       "_view_module_version": "2.0.0",
       "_view_name": "HBoxView",
       "box_style": "",
       "children": [
        "IPY_MODEL_0634d5076aea490090356caeb6d9eacb",
        "IPY_MODEL_815b529e20ae4893b9b699de746835fa",
        "IPY_MODEL_f00e47a30b21499a95218c220ee5ed4e"
       ],
       "layout": "IPY_MODEL_30d200855473481fa9f6b948db5278ed",
       "tabbable": null,
       "tooltip": null
      }
     },
     "90f90798bc93408eb4eee4801f214dae": {
      "model_module": "@jupyter-widgets/controls",
      "model_module_version": "2.0.0",
      "model_name": "HBoxModel",
      "state": {
       "_dom_classes": [],
       "_model_module": "@jupyter-widgets/controls",
       "_model_module_version": "2.0.0",
       "_model_name": "HBoxModel",
       "_view_count": null,
       "_view_module": "@jupyter-widgets/controls",
       "_view_module_version": "2.0.0",
       "_view_name": "HBoxView",
       "box_style": "",
       "children": [
        "IPY_MODEL_2ef56e3a274f4da3a8765d1d62ccf780",
        "IPY_MODEL_6aabba08ae794e92916e21f6f0704227",
        "IPY_MODEL_55000ea200644b90bd6bcfb69589ab19"
       ],
       "layout": "IPY_MODEL_d16032c87f5446209e4f41427fd0b186",
       "tabbable": null,
       "tooltip": null
      }
     },
     "93bb6e7065ac488aabf9300c6d4f66bc": {
      "model_module": "@jupyter-widgets/controls",
      "model_module_version": "2.0.0",
      "model_name": "FloatProgressModel",
      "state": {
       "_dom_classes": [],
       "_model_module": "@jupyter-widgets/controls",
       "_model_module_version": "2.0.0",
       "_model_name": "FloatProgressModel",
       "_view_count": null,
       "_view_module": "@jupyter-widgets/controls",
       "_view_module_version": "2.0.0",
       "_view_name": "ProgressView",
       "bar_style": "success",
       "description": "",
       "description_allow_html": false,
       "layout": "IPY_MODEL_89e13a065e954886a66f9ec7d7b66d6d",
       "max": 995526,
       "min": 0,
       "orientation": "horizontal",
       "style": "IPY_MODEL_9a82faeb6e5040cc87d6916861196173",
       "tabbable": null,
       "tooltip": null,
       "value": 995526
      }
     },
     "99187ecdb3ec4a6cb6771ec9d26867ab": {
      "model_module": "@jupyter-widgets/base",
      "model_module_version": "2.0.0",
      "model_name": "LayoutModel",
      "state": {
       "_model_module": "@jupyter-widgets/base",
       "_model_module_version": "2.0.0",
       "_model_name": "LayoutModel",
       "_view_count": null,
       "_view_module": "@jupyter-widgets/base",
       "_view_module_version": "2.0.0",
       "_view_name": "LayoutView",
       "align_content": null,
       "align_items": null,
       "align_self": null,
       "border_bottom": null,
       "border_left": null,
       "border_right": null,
       "border_top": null,
       "bottom": null,
       "display": null,
       "flex": null,
       "flex_flow": null,
       "grid_area": null,
       "grid_auto_columns": null,
       "grid_auto_flow": null,
       "grid_auto_rows": null,
       "grid_column": null,
       "grid_gap": null,
       "grid_row": null,
       "grid_template_areas": null,
       "grid_template_columns": null,
       "grid_template_rows": null,
       "height": null,
       "justify_content": null,
       "justify_items": null,
       "left": null,
       "margin": null,
       "max_height": null,
       "max_width": null,
       "min_height": null,
       "min_width": null,
       "object_fit": null,
       "object_position": null,
       "order": null,
       "overflow": null,
       "padding": null,
       "right": null,
       "top": null,
       "visibility": null,
       "width": null
      }
     },
     "9a82faeb6e5040cc87d6916861196173": {
      "model_module": "@jupyter-widgets/controls",
      "model_module_version": "2.0.0",
      "model_name": "ProgressStyleModel",
      "state": {
       "_model_module": "@jupyter-widgets/controls",
       "_model_module_version": "2.0.0",
       "_model_name": "ProgressStyleModel",
       "_view_count": null,
       "_view_module": "@jupyter-widgets/base",
       "_view_module_version": "2.0.0",
       "_view_name": "StyleView",
       "bar_color": null,
       "description_width": ""
      }
     },
     "b4cc71c156974d238675268ec298342d": {
      "model_module": "@jupyter-widgets/controls",
      "model_module_version": "2.0.0",
      "model_name": "HBoxModel",
      "state": {
       "_dom_classes": [],
       "_model_module": "@jupyter-widgets/controls",
       "_model_module_version": "2.0.0",
       "_model_name": "HBoxModel",
       "_view_count": null,
       "_view_module": "@jupyter-widgets/controls",
       "_view_module_version": "2.0.0",
       "_view_name": "HBoxView",
       "box_style": "",
       "children": [
        "IPY_MODEL_fd47e0a08a8d4c5793ace1828974e1d0",
        "IPY_MODEL_93bb6e7065ac488aabf9300c6d4f66bc",
        "IPY_MODEL_58eb3e588c50462b9b6eba7116b768f9"
       ],
       "layout": "IPY_MODEL_02ab99b6327f45ca84e207875e062566",
       "tabbable": null,
       "tooltip": null
      }
     },
     "bd458eebc6324de39a76a129d8e7a4c1": {
      "model_module": "@jupyter-widgets/base",
      "model_module_version": "2.0.0",
      "model_name": "LayoutModel",
      "state": {
       "_model_module": "@jupyter-widgets/base",
       "_model_module_version": "2.0.0",
       "_model_name": "LayoutModel",
       "_view_count": null,
       "_view_module": "@jupyter-widgets/base",
       "_view_module_version": "2.0.0",
       "_view_name": "LayoutView",
       "align_content": null,
       "align_items": null,
       "align_self": null,
       "border_bottom": null,
       "border_left": null,
       "border_right": null,
       "border_top": null,
       "bottom": null,
       "display": null,
       "flex": null,
       "flex_flow": null,
       "grid_area": null,
       "grid_auto_columns": null,
       "grid_auto_flow": null,
       "grid_auto_rows": null,
       "grid_column": null,
       "grid_gap": null,
       "grid_row": null,
       "grid_template_areas": null,
       "grid_template_columns": null,
       "grid_template_rows": null,
       "height": null,
       "justify_content": null,
       "justify_items": null,
       "left": null,
       "margin": null,
       "max_height": null,
       "max_width": null,
       "min_height": null,
       "min_width": null,
       "object_fit": null,
       "object_position": null,
       "order": null,
       "overflow": null,
       "padding": null,
       "right": null,
       "top": null,
       "visibility": null,
       "width": null
      }
     },
     "c07338a6c84d45c6ad01cba1205aa85a": {
      "model_module": "@jupyter-widgets/base",
      "model_module_version": "2.0.0",
      "model_name": "LayoutModel",
      "state": {
       "_model_module": "@jupyter-widgets/base",
       "_model_module_version": "2.0.0",
       "_model_name": "LayoutModel",
       "_view_count": null,
       "_view_module": "@jupyter-widgets/base",
       "_view_module_version": "2.0.0",
       "_view_name": "LayoutView",
       "align_content": null,
       "align_items": null,
       "align_self": null,
       "border_bottom": null,
       "border_left": null,
       "border_right": null,
       "border_top": null,
       "bottom": null,
       "display": null,
       "flex": null,
       "flex_flow": null,
       "grid_area": null,
       "grid_auto_columns": null,
       "grid_auto_flow": null,
       "grid_auto_rows": null,
       "grid_column": null,
       "grid_gap": null,
       "grid_row": null,
       "grid_template_areas": null,
       "grid_template_columns": null,
       "grid_template_rows": null,
       "height": null,
       "justify_content": null,
       "justify_items": null,
       "left": null,
       "margin": null,
       "max_height": null,
       "max_width": null,
       "min_height": null,
       "min_width": null,
       "object_fit": null,
       "object_position": null,
       "order": null,
       "overflow": null,
       "padding": null,
       "right": null,
       "top": null,
       "visibility": null,
       "width": null
      }
     },
     "c0ee3d4ff0864e8b88b83c73efa2a5d5": {
      "model_module": "@jupyter-widgets/controls",
      "model_module_version": "2.0.0",
      "model_name": "HTMLModel",
      "state": {
       "_dom_classes": [],
       "_model_module": "@jupyter-widgets/controls",
       "_model_module_version": "2.0.0",
       "_model_name": "HTMLModel",
       "_view_count": null,
       "_view_module": "@jupyter-widgets/controls",
       "_view_module_version": "2.0.0",
       "_view_name": "HTMLView",
       "description": "",
       "description_allow_html": false,
       "layout": "IPY_MODEL_c07338a6c84d45c6ad01cba1205aa85a",
       "placeholder": "​",
       "style": "IPY_MODEL_27e321e9fd264b6ab987c1a8481bb799",
       "tabbable": null,
       "tooltip": null,
       "value": " 1.96M/1.96M [00:00&lt;00:00, 5.92MB/s]"
      }
     },
     "cbeda142e66348a098c8d8ba8dd27265": {
      "model_module": "@jupyter-widgets/base",
      "model_module_version": "2.0.0",
      "model_name": "LayoutModel",
      "state": {
       "_model_module": "@jupyter-widgets/base",
       "_model_module_version": "2.0.0",
       "_model_name": "LayoutModel",
       "_view_count": null,
       "_view_module": "@jupyter-widgets/base",
       "_view_module_version": "2.0.0",
       "_view_name": "LayoutView",
       "align_content": null,
       "align_items": null,
       "align_self": null,
       "border_bottom": null,
       "border_left": null,
       "border_right": null,
       "border_top": null,
       "bottom": null,
       "display": null,
       "flex": null,
       "flex_flow": null,
       "grid_area": null,
       "grid_auto_columns": null,
       "grid_auto_flow": null,
       "grid_auto_rows": null,
       "grid_column": null,
       "grid_gap": null,
       "grid_row": null,
       "grid_template_areas": null,
       "grid_template_columns": null,
       "grid_template_rows": null,
       "height": null,
       "justify_content": null,
       "justify_items": null,
       "left": null,
       "margin": null,
       "max_height": null,
       "max_width": null,
       "min_height": null,
       "min_width": null,
       "object_fit": null,
       "object_position": null,
       "order": null,
       "overflow": null,
       "padding": null,
       "right": null,
       "top": null,
       "visibility": null,
       "width": null
      }
     },
     "cc7a3e20f85b48fc954782241c93423a": {
      "model_module": "@jupyter-widgets/controls",
      "model_module_version": "2.0.0",
      "model_name": "FloatProgressModel",
      "state": {
       "_dom_classes": [],
       "_model_module": "@jupyter-widgets/controls",
       "_model_module_version": "2.0.0",
       "_model_name": "FloatProgressModel",
       "_view_count": null,
       "_view_module": "@jupyter-widgets/controls",
       "_view_module_version": "2.0.0",
       "_view_name": "ProgressView",
       "bar_style": "success",
       "description": "",
       "description_allow_html": false,
       "layout": "IPY_MODEL_7108b7a957934364b60a915b6b6ef6a2",
       "max": 1961828,
       "min": 0,
       "orientation": "horizontal",
       "style": "IPY_MODEL_72e2baac64494fb584de04cb2c0dd06b",
       "tabbable": null,
       "tooltip": null,
       "value": 1961828
      }
     },
     "cde36e53bf2c483aa8bb809b41ea44e5": {
      "model_module": "@jupyter-widgets/base",
      "model_module_version": "2.0.0",
      "model_name": "LayoutModel",
      "state": {
       "_model_module": "@jupyter-widgets/base",
       "_model_module_version": "2.0.0",
       "_model_name": "LayoutModel",
       "_view_count": null,
       "_view_module": "@jupyter-widgets/base",
       "_view_module_version": "2.0.0",
       "_view_name": "LayoutView",
       "align_content": null,
       "align_items": null,
       "align_self": null,
       "border_bottom": null,
       "border_left": null,
       "border_right": null,
       "border_top": null,
       "bottom": null,
       "display": null,
       "flex": null,
       "flex_flow": null,
       "grid_area": null,
       "grid_auto_columns": null,
       "grid_auto_flow": null,
       "grid_auto_rows": null,
       "grid_column": null,
       "grid_gap": null,
       "grid_row": null,
       "grid_template_areas": null,
       "grid_template_columns": null,
       "grid_template_rows": null,
       "height": null,
       "justify_content": null,
       "justify_items": null,
       "left": null,
       "margin": null,
       "max_height": null,
       "max_width": null,
       "min_height": null,
       "min_width": null,
       "object_fit": null,
       "object_position": null,
       "order": null,
       "overflow": null,
       "padding": null,
       "right": null,
       "top": null,
       "visibility": null,
       "width": null
      }
     },
     "d16032c87f5446209e4f41427fd0b186": {
      "model_module": "@jupyter-widgets/base",
      "model_module_version": "2.0.0",
      "model_name": "LayoutModel",
      "state": {
       "_model_module": "@jupyter-widgets/base",
       "_model_module_version": "2.0.0",
       "_model_name": "LayoutModel",
       "_view_count": null,
       "_view_module": "@jupyter-widgets/base",
       "_view_module_version": "2.0.0",
       "_view_name": "LayoutView",
       "align_content": null,
       "align_items": null,
       "align_self": null,
       "border_bottom": null,
       "border_left": null,
       "border_right": null,
       "border_top": null,
       "bottom": null,
       "display": null,
       "flex": null,
       "flex_flow": null,
       "grid_area": null,
       "grid_auto_columns": null,
       "grid_auto_flow": null,
       "grid_auto_rows": null,
       "grid_column": null,
       "grid_gap": null,
       "grid_row": null,
       "grid_template_areas": null,
       "grid_template_columns": null,
       "grid_template_rows": null,
       "height": null,
       "justify_content": null,
       "justify_items": null,
       "left": null,
       "margin": null,
       "max_height": null,
       "max_width": null,
       "min_height": null,
       "min_width": null,
       "object_fit": null,
       "object_position": null,
       "order": null,
       "overflow": null,
       "padding": null,
       "right": null,
       "top": null,
       "visibility": null,
       "width": null
      }
     },
     "d40b0822425b4506a2ae70e73f28bf2e": {
      "model_module": "@jupyter-widgets/controls",
      "model_module_version": "2.0.0",
      "model_name": "HTMLStyleModel",
      "state": {
       "_model_module": "@jupyter-widgets/controls",
       "_model_module_version": "2.0.0",
       "_model_name": "HTMLStyleModel",
       "_view_count": null,
       "_view_module": "@jupyter-widgets/base",
       "_view_module_version": "2.0.0",
       "_view_name": "StyleView",
       "background": null,
       "description_width": "",
       "font_size": null,
       "text_color": null
      }
     },
     "dbbede4e80954543b3707c1703b30e44": {
      "model_module": "@jupyter-widgets/base",
      "model_module_version": "2.0.0",
      "model_name": "LayoutModel",
      "state": {
       "_model_module": "@jupyter-widgets/base",
       "_model_module_version": "2.0.0",
       "_model_name": "LayoutModel",
       "_view_count": null,
       "_view_module": "@jupyter-widgets/base",
       "_view_module_version": "2.0.0",
       "_view_name": "LayoutView",
       "align_content": null,
       "align_items": null,
       "align_self": null,
       "border_bottom": null,
       "border_left": null,
       "border_right": null,
       "border_top": null,
       "bottom": null,
       "display": null,
       "flex": null,
       "flex_flow": null,
       "grid_area": null,
       "grid_auto_columns": null,
       "grid_auto_flow": null,
       "grid_auto_rows": null,
       "grid_column": null,
       "grid_gap": null,
       "grid_row": null,
       "grid_template_areas": null,
       "grid_template_columns": null,
       "grid_template_rows": null,
       "height": null,
       "justify_content": null,
       "justify_items": null,
       "left": null,
       "margin": null,
       "max_height": null,
       "max_width": null,
       "min_height": null,
       "min_width": null,
       "object_fit": null,
       "object_position": null,
       "order": null,
       "overflow": null,
       "padding": null,
       "right": null,
       "top": null,
       "visibility": null,
       "width": null
      }
     },
     "e0eb42859a4a4c82908db9dd77726591": {
      "model_module": "@jupyter-widgets/base",
      "model_module_version": "2.0.0",
      "model_name": "LayoutModel",
      "state": {
       "_model_module": "@jupyter-widgets/base",
       "_model_module_version": "2.0.0",
       "_model_name": "LayoutModel",
       "_view_count": null,
       "_view_module": "@jupyter-widgets/base",
       "_view_module_version": "2.0.0",
       "_view_name": "LayoutView",
       "align_content": null,
       "align_items": null,
       "align_self": null,
       "border_bottom": null,
       "border_left": null,
       "border_right": null,
       "border_top": null,
       "bottom": null,
       "display": null,
       "flex": null,
       "flex_flow": null,
       "grid_area": null,
       "grid_auto_columns": null,
       "grid_auto_flow": null,
       "grid_auto_rows": null,
       "grid_column": null,
       "grid_gap": null,
       "grid_row": null,
       "grid_template_areas": null,
       "grid_template_columns": null,
       "grid_template_rows": null,
       "height": null,
       "justify_content": null,
       "justify_items": null,
       "left": null,
       "margin": null,
       "max_height": null,
       "max_width": null,
       "min_height": null,
       "min_width": null,
       "object_fit": null,
       "object_position": null,
       "order": null,
       "overflow": null,
       "padding": null,
       "right": null,
       "top": null,
       "visibility": null,
       "width": null
      }
     },
     "f00dd789051149c38cb7633b9df602f3": {
      "model_module": "@jupyter-widgets/base",
      "model_module_version": "2.0.0",
      "model_name": "LayoutModel",
      "state": {
       "_model_module": "@jupyter-widgets/base",
       "_model_module_version": "2.0.0",
       "_model_name": "LayoutModel",
       "_view_count": null,
       "_view_module": "@jupyter-widgets/base",
       "_view_module_version": "2.0.0",
       "_view_name": "LayoutView",
       "align_content": null,
       "align_items": null,
       "align_self": null,
       "border_bottom": null,
       "border_left": null,
       "border_right": null,
       "border_top": null,
       "bottom": null,
       "display": null,
       "flex": null,
       "flex_flow": null,
       "grid_area": null,
       "grid_auto_columns": null,
       "grid_auto_flow": null,
       "grid_auto_rows": null,
       "grid_column": null,
       "grid_gap": null,
       "grid_row": null,
       "grid_template_areas": null,
       "grid_template_columns": null,
       "grid_template_rows": null,
       "height": null,
       "justify_content": null,
       "justify_items": null,
       "left": null,
       "margin": null,
       "max_height": null,
       "max_width": null,
       "min_height": null,
       "min_width": null,
       "object_fit": null,
       "object_position": null,
       "order": null,
       "overflow": null,
       "padding": null,
       "right": null,
       "top": null,
       "visibility": null,
       "width": null
      }
     },
     "f00e47a30b21499a95218c220ee5ed4e": {
      "model_module": "@jupyter-widgets/controls",
      "model_module_version": "2.0.0",
      "model_name": "HTMLModel",
      "state": {
       "_dom_classes": [],
       "_model_module": "@jupyter-widgets/controls",
       "_model_module_version": "2.0.0",
       "_model_name": "HTMLModel",
       "_view_count": null,
       "_view_module": "@jupyter-widgets/controls",
       "_view_module_version": "2.0.0",
       "_view_name": "HTMLView",
       "description": "",
       "description_allow_html": false,
       "layout": "IPY_MODEL_0c1a1679b1d54da290e41b25f47a49b9",
       "placeholder": "​",
       "style": "IPY_MODEL_318aeb4727d54197bec6cb54cf86aef5",
       "tabbable": null,
       "tooltip": null,
       "value": " 49.0/49.0 [00:00&lt;00:00, 4.97kB/s]"
      }
     },
     "f2a725cfe2d54cf5bbeca02c1d80df2f": {
      "model_module": "@jupyter-widgets/base",
      "model_module_version": "2.0.0",
      "model_name": "LayoutModel",
      "state": {
       "_model_module": "@jupyter-widgets/base",
       "_model_module_version": "2.0.0",
       "_model_name": "LayoutModel",
       "_view_count": null,
       "_view_module": "@jupyter-widgets/base",
       "_view_module_version": "2.0.0",
       "_view_name": "LayoutView",
       "align_content": null,
       "align_items": null,
       "align_self": null,
       "border_bottom": null,
       "border_left": null,
       "border_right": null,
       "border_top": null,
       "bottom": null,
       "display": null,
       "flex": null,
       "flex_flow": null,
       "grid_area": null,
       "grid_auto_columns": null,
       "grid_auto_flow": null,
       "grid_auto_rows": null,
       "grid_column": null,
       "grid_gap": null,
       "grid_row": null,
       "grid_template_areas": null,
       "grid_template_columns": null,
       "grid_template_rows": null,
       "height": null,
       "justify_content": null,
       "justify_items": null,
       "left": null,
       "margin": null,
       "max_height": null,
       "max_width": null,
       "min_height": null,
       "min_width": null,
       "object_fit": null,
       "object_position": null,
       "order": null,
       "overflow": null,
       "padding": null,
       "right": null,
       "top": null,
       "visibility": null,
       "width": null
      }
     },
     "fd47e0a08a8d4c5793ace1828974e1d0": {
      "model_module": "@jupyter-widgets/controls",
      "model_module_version": "2.0.0",
      "model_name": "HTMLModel",
      "state": {
       "_dom_classes": [],
       "_model_module": "@jupyter-widgets/controls",
       "_model_module_version": "2.0.0",
       "_model_name": "HTMLModel",
       "_view_count": null,
       "_view_module": "@jupyter-widgets/controls",
       "_view_module_version": "2.0.0",
       "_view_name": "HTMLView",
       "description": "",
       "description_allow_html": false,
       "layout": "IPY_MODEL_00020c0dddba4974a77f790b3a2abbdc",
       "placeholder": "​",
       "style": "IPY_MODEL_d40b0822425b4506a2ae70e73f28bf2e",
       "tabbable": null,
       "tooltip": null,
       "value": "vocab.txt: 100%"
      }
     }
    },
    "version_major": 2,
    "version_minor": 0
   }
  }
 },
 "nbformat": 4,
 "nbformat_minor": 5
}

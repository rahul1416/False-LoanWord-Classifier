{
 "cells": [
  {
   "cell_type": "code",
   "execution_count": 1,
   "id": "f94b1cae",
   "metadata": {
    "_cell_guid": "b1076dfc-b9ad-4769-8c92-a6c4dae69d19",
    "_uuid": "8f2839f25d086af736a60e9eeb907d3b93b6e0e5",
    "execution": {
     "iopub.execute_input": "2025-04-21T07:18:20.179701Z",
     "iopub.status.busy": "2025-04-21T07:18:20.179416Z",
     "iopub.status.idle": "2025-04-21T07:18:32.831570Z",
     "shell.execute_reply": "2025-04-21T07:18:32.830498Z"
    },
    "papermill": {
     "duration": 12.658428,
     "end_time": "2025-04-21T07:18:32.833344",
     "exception": false,
     "start_time": "2025-04-21T07:18:20.174916",
     "status": "completed"
    },
    "tags": []
   },
   "outputs": [
    {
     "name": "stdout",
     "output_type": "stream",
     "text": [
      "Collecting phonetics\r\n",
      "  Downloading phonetics-1.0.5.tar.gz (8.8 kB)\r\n",
      "  Preparing metadata (setup.py) ... \u001b[?25l\u001b[?25hdone\r\n",
      "Building wheels for collected packages: phonetics\r\n",
      "  Building wheel for phonetics (setup.py) ... \u001b[?25l\u001b[?25hdone\r\n",
      "  Created wheel for phonetics: filename=phonetics-1.0.5-py2.py3-none-any.whl size=8696 sha256=d880558d6a0a9e2eab523524e53a084bed37b999c0db855a86d078b67d7f8fab\r\n",
      "  Stored in directory: /root/.cache/pip/wheels/b7/1e/82/80a78c7d1ad7fc6e0af1b4d9009360b251c0e50fe59f046edb\r\n",
      "Successfully built phonetics\r\n",
      "Installing collected packages: phonetics\r\n",
      "Successfully installed phonetics-1.0.5\r\n",
      "Collecting epitran\r\n",
      "  Downloading epitran-1.26.0-py2.py3-none-any.whl.metadata (34 kB)\r\n",
      "Requirement already satisfied: setuptools in /usr/local/lib/python3.10/dist-packages (from epitran) (75.1.0)\r\n",
      "Requirement already satisfied: regex in /usr/local/lib/python3.10/dist-packages (from epitran) (2024.11.6)\r\n",
      "Collecting panphon>=0.20 (from epitran)\r\n",
      "  Downloading panphon-0.21.2-py2.py3-none-any.whl.metadata (15 kB)\r\n",
      "Requirement already satisfied: marisa-trie in /usr/local/lib/python3.10/dist-packages (from epitran) (1.2.1)\r\n",
      "Requirement already satisfied: requests in /usr/local/lib/python3.10/dist-packages (from epitran) (2.32.3)\r\n",
      "Collecting jamo (from epitran)\r\n",
      "  Downloading jamo-0.4.1-py3-none-any.whl.metadata (2.3 kB)\r\n",
      "Collecting unicodecsv (from panphon>=0.20->epitran)\r\n",
      "  Downloading unicodecsv-0.14.1.tar.gz (10 kB)\r\n",
      "  Preparing metadata (setup.py) ... \u001b[?25l\u001b[?25hdone\r\n",
      "Requirement already satisfied: PyYAML in /usr/local/lib/python3.10/dist-packages (from panphon>=0.20->epitran) (6.0.2)\r\n",
      "Requirement already satisfied: numpy>=1.20.2 in /usr/local/lib/python3.10/dist-packages (from panphon>=0.20->epitran) (1.26.4)\r\n",
      "Requirement already satisfied: editdistance in /usr/local/lib/python3.10/dist-packages (from panphon>=0.20->epitran) (0.8.1)\r\n",
      "Collecting munkres (from panphon>=0.20->epitran)\r\n",
      "  Downloading munkres-1.1.4-py2.py3-none-any.whl.metadata (980 bytes)\r\n",
      "Requirement already satisfied: charset-normalizer<4,>=2 in /usr/local/lib/python3.10/dist-packages (from requests->epitran) (3.4.1)\r\n",
      "Requirement already satisfied: idna<4,>=2.5 in /usr/local/lib/python3.10/dist-packages (from requests->epitran) (3.10)\r\n",
      "Requirement already satisfied: urllib3<3,>=1.21.1 in /usr/local/lib/python3.10/dist-packages (from requests->epitran) (2.3.0)\r\n",
      "Requirement already satisfied: certifi>=2017.4.17 in /usr/local/lib/python3.10/dist-packages (from requests->epitran) (2025.1.31)\r\n",
      "Requirement already satisfied: mkl_fft in /usr/local/lib/python3.10/dist-packages (from numpy>=1.20.2->panphon>=0.20->epitran) (1.3.8)\r\n",
      "Requirement already satisfied: mkl_random in /usr/local/lib/python3.10/dist-packages (from numpy>=1.20.2->panphon>=0.20->epitran) (1.2.4)\r\n",
      "Requirement already satisfied: mkl_umath in /usr/local/lib/python3.10/dist-packages (from numpy>=1.20.2->panphon>=0.20->epitran) (0.1.1)\r\n",
      "Requirement already satisfied: mkl in /usr/local/lib/python3.10/dist-packages (from numpy>=1.20.2->panphon>=0.20->epitran) (2025.0.1)\r\n",
      "Requirement already satisfied: tbb4py in /usr/local/lib/python3.10/dist-packages (from numpy>=1.20.2->panphon>=0.20->epitran) (2022.0.0)\r\n",
      "Requirement already satisfied: mkl-service in /usr/local/lib/python3.10/dist-packages (from numpy>=1.20.2->panphon>=0.20->epitran) (2.4.1)\r\n",
      "Requirement already satisfied: intel-openmp>=2024 in /usr/local/lib/python3.10/dist-packages (from mkl->numpy>=1.20.2->panphon>=0.20->epitran) (2024.2.0)\r\n",
      "Requirement already satisfied: tbb==2022.* in /usr/local/lib/python3.10/dist-packages (from mkl->numpy>=1.20.2->panphon>=0.20->epitran) (2022.0.0)\r\n",
      "Requirement already satisfied: tcmlib==1.* in /usr/local/lib/python3.10/dist-packages (from tbb==2022.*->mkl->numpy>=1.20.2->panphon>=0.20->epitran) (1.2.0)\r\n",
      "Requirement already satisfied: intel-cmplr-lib-rt in /usr/local/lib/python3.10/dist-packages (from mkl_umath->numpy>=1.20.2->panphon>=0.20->epitran) (2024.2.0)\r\n",
      "Requirement already satisfied: intel-cmplr-lib-ur==2024.2.0 in /usr/local/lib/python3.10/dist-packages (from intel-openmp>=2024->mkl->numpy>=1.20.2->panphon>=0.20->epitran) (2024.2.0)\r\n",
      "Downloading epitran-1.26.0-py2.py3-none-any.whl (188 kB)\r\n",
      "\u001b[2K   \u001b[90m━━━━━━━━━━━━━━━━━━━━━━━━━━━━━━━━━━━━━━━━\u001b[0m \u001b[32m188.5/188.5 kB\u001b[0m \u001b[31m6.1 MB/s\u001b[0m eta \u001b[36m0:00:00\u001b[0m\r\n",
      "\u001b[?25hDownloading panphon-0.21.2-py2.py3-none-any.whl (75 kB)\r\n",
      "\u001b[2K   \u001b[90m━━━━━━━━━━━━━━━━━━━━━━━━━━━━━━━━━━━━━━━━\u001b[0m \u001b[32m75.4/75.4 kB\u001b[0m \u001b[31m5.3 MB/s\u001b[0m eta \u001b[36m0:00:00\u001b[0m\r\n",
      "\u001b[?25hDownloading jamo-0.4.1-py3-none-any.whl (9.5 kB)\r\n",
      "Downloading munkres-1.1.4-py2.py3-none-any.whl (7.0 kB)\r\n",
      "Building wheels for collected packages: unicodecsv\r\n",
      "  Building wheel for unicodecsv (setup.py) ... \u001b[?25l\u001b[?25hdone\r\n",
      "  Created wheel for unicodecsv: filename=unicodecsv-0.14.1-py3-none-any.whl size=10744 sha256=58d9e1eb3d58e54b3aed835740415d84c6b6b8b71a8ec1b2e89c426e4bcb0e85\r\n",
      "  Stored in directory: /root/.cache/pip/wheels/9c/ea/66/8e45247b09052a933eb1a680b7c64802298faba58aac9b346b\r\n",
      "Successfully built unicodecsv\r\n",
      "Installing collected packages: unicodecsv, munkres, jamo, panphon, epitran\r\n",
      "Successfully installed epitran-1.26.0 jamo-0.4.1 munkres-1.1.4 panphon-0.21.2 unicodecsv-0.14.1\r\n"
     ]
    }
   ],
   "source": [
    "!pip install phonetics\n",
    "!pip install epitran"
   ]
  },
  {
   "cell_type": "code",
   "execution_count": 2,
   "id": "a6270593",
   "metadata": {
    "execution": {
     "iopub.execute_input": "2025-04-21T07:18:32.843439Z",
     "iopub.status.busy": "2025-04-21T07:18:32.843178Z",
     "iopub.status.idle": "2025-04-21T07:18:55.235405Z",
     "shell.execute_reply": "2025-04-21T07:18:55.234708Z"
    },
    "papermill": {
     "duration": 22.398693,
     "end_time": "2025-04-21T07:18:55.237000",
     "exception": false,
     "start_time": "2025-04-21T07:18:32.838307",
     "status": "completed"
    },
    "tags": []
   },
   "outputs": [],
   "source": [
    "import pandas as pd\n",
    "import numpy as np\n",
    "import phonetics\n",
    "import torch\n",
    "import epitran\n",
    "from transformers import BertTokenizer, BertForSequenceClassification, AdamW\n",
    "from torch.utils.data import DataLoader, Dataset\n",
    "from scipy.spatial.distance import cosine\n",
    "from sklearn.model_selection import train_test_split\n",
    "from sklearn.ensemble import RandomForestClassifier\n",
    "from sklearn.metrics import accuracy_score"
   ]
  },
  {
   "cell_type": "code",
   "execution_count": 3,
   "id": "0860b9db",
   "metadata": {
    "execution": {
     "iopub.execute_input": "2025-04-21T07:18:55.247486Z",
     "iopub.status.busy": "2025-04-21T07:18:55.247002Z",
     "iopub.status.idle": "2025-04-21T07:18:56.436110Z",
     "shell.execute_reply": "2025-04-21T07:18:56.435369Z"
    },
    "papermill": {
     "duration": 1.195752,
     "end_time": "2025-04-21T07:18:56.437573",
     "exception": false,
     "start_time": "2025-04-21T07:18:55.241821",
     "status": "completed"
    },
    "tags": []
   },
   "outputs": [
    {
     "name": "stdout",
     "output_type": "stream",
     "text": [
      "<class 'pandas.core.frame.DataFrame'>\n",
      "RangeIndex: 47384 entries, 0 to 47383\n",
      "Data columns (total 21 columns):\n",
      " #   Column                                       Non-Null Count  Dtype  \n",
      "---  ------                                       --------------  -----  \n",
      " 0   loan_word                                    47384 non-null  object \n",
      " 1   original_word                                47384 non-null  object \n",
      " 2   loan_word_epitran                            47384 non-null  object \n",
      " 3   original_word_epitran                        47384 non-null  object \n",
      " 4   loan_english                                 47159 non-null  object \n",
      " 5   original_english                             47175 non-null  object \n",
      " 6   Fast Levenshtein Distance Div Maxlen         47384 non-null  float64\n",
      " 7   Dolgo Prime Distance Div Maxlen              47384 non-null  float64\n",
      " 8   Feature Edit Distance Div Maxlen             47384 non-null  float64\n",
      " 9   Hamming Feature Distance Div Maxlen          47384 non-null  float64\n",
      " 10  Weighted Feature Distance Div Maxlen         47384 non-null  float64\n",
      " 11  Partial Hamming Feature Distance Div Maxlen  47384 non-null  float64\n",
      " 12  plain Levenshtein                            47384 non-null  int64  \n",
      " 13  loan_unicode                                 47384 non-null  object \n",
      " 14  original_unicode                             47384 non-null  object \n",
      " 15  label                                        47384 non-null  object \n",
      " 16  label_bin                                    47384 non-null  int64  \n",
      " 17  DNN_logits                                   47384 non-null  float64\n",
      " 18  MBERT_cos_sim                                47384 non-null  float64\n",
      " 19  XLM_cos_sim                                  47384 non-null  float64\n",
      " 20  language_pair                                47384 non-null  object \n",
      "dtypes: float64(9), int64(2), object(10)\n",
      "memory usage: 7.6+ MB\n",
      "None\n"
     ]
    }
   ],
   "source": [
    "import pandas as pd\n",
    "import os\n",
    "\n",
    "# List of language pairs\n",
    "language_pairs = [\n",
    "    (\"Azerbaijani\", \"Arabic\"),\n",
    "    (\"Catalan\", \"Arabic\"),\n",
    "    (\"Chinese\", \"English\"),\n",
    "    (\"English\", \"French\"),\n",
    "    (\"English\", \"German\"),\n",
    "    (\"Finnish\", \"Swedish\"),\n",
    "    (\"German\", \"French\"),\n",
    "    (\"German\", \"Italian\"),\n",
    "    (\"Hindi\", \"Persian\"),\n",
    "    (\"Hungarian\", \"German\"),\n",
    "    (\"Indonesian\", \"Dutch\"),\n",
    "    (\"Kazakh\", \"Russian\"),\n",
    "    (\"Persian\", \"Arabic\"),\n",
    "    (\"Polish\", \"French\"),\n",
    "    (\"Romanian\", \"French\"),\n",
    "    (\"Romanian\", \"Hungarian\"),\n",
    "]\n",
    "\n",
    "def read_language(lang1, lang2):\n",
    "    file_path = f\"/kaggle/input/dataset/Datasets/production_train_test/{lang1}-{lang2}/balanced/{lang1}-{lang2}-train_production_balanced.csv\"\n",
    "    \n",
    "    if os.path.exists(file_path):  # Check if file exists\n",
    "        df = pd.read_csv(file_path)\n",
    "        df = df.drop(columns=[col for col in ['Unnamed: 0.1', 'Unnamed: 0'] if col in df.columns], errors=\"ignore\")\n",
    "        df[\"language_pair\"] = f\"{lang1}-{lang2}\"  # Add language pair column\n",
    "        return df\n",
    "    else:\n",
    "        print(f\"File not found: {file_path}\")\n",
    "        return None\n",
    "\n",
    "dfs = [read_language(lang1, lang2) for lang1, lang2 in language_pairs]\n",
    "dfs = [df for df in dfs if df is not None]  # Remove None values\n",
    "\n",
    "final_df = pd.concat(dfs, ignore_index=True)\n",
    "print(final_df.info())\n",
    "final_df.to_csv(\"all_languages_combined.csv\", index=False)"
   ]
  },
  {
   "cell_type": "code",
   "execution_count": 4,
   "id": "8da6a8e6",
   "metadata": {
    "execution": {
     "iopub.execute_input": "2025-04-21T07:18:56.447462Z",
     "iopub.status.busy": "2025-04-21T07:18:56.447232Z",
     "iopub.status.idle": "2025-04-21T07:18:57.382010Z",
     "shell.execute_reply": "2025-04-21T07:18:57.381148Z"
    },
    "papermill": {
     "duration": 0.941062,
     "end_time": "2025-04-21T07:18:57.383385",
     "exception": false,
     "start_time": "2025-04-21T07:18:56.442323",
     "status": "completed"
    },
    "tags": []
   },
   "outputs": [
    {
     "name": "stdout",
     "output_type": "stream",
     "text": [
      "Transliterated text: kana\n"
     ]
    },
    {
     "data": {
      "text/plain": [
       "{'word': 'khana',\n",
       " 'phonetic': 'kana',\n",
       " 'unicode': [4.0, 1.0, -6.0, 7.0, -6.0],\n",
       " 'length': 5}"
      ]
     },
     "execution_count": 4,
     "metadata": {},
     "output_type": "execute_result"
    }
   ],
   "source": [
    "# need to install - sudo apt-get install flite\n",
    "\n",
    "epi = epitran.Epitran('fra-Latn')\n",
    "\n",
    "def normalize(unicode_values):\n",
    "    mean_value = sum(unicode_values) / len(unicode_values)\n",
    "    return [val - mean_value for val in unicode_values]\n",
    "\n",
    "def extract_features(word):\n",
    "    try:\n",
    "        loan_epitran = epi.transliterate(word)\n",
    "        print(f\"Transliterated text: {loan_epitran}\")\n",
    "    except IndexError as e:\n",
    "        print(f\"Transliteration failed: {e}\")\n",
    "        loan_epitran = \"N/A\"\n",
    "    unicode_features = [ord(c) for c in word]\n",
    "    unicode_features = normalize(unicode_features)\n",
    "    return {\n",
    "        \"word\": word,\n",
    "        \"phonetic\": loan_epitran,\n",
    "        \"unicode\": unicode_features,\n",
    "        \"length\": len(word)\n",
    "    }\n",
    "\n",
    "extract_features(\"khana\")"
   ]
  },
  {
   "cell_type": "code",
   "execution_count": 5,
   "id": "c5f815ae",
   "metadata": {
    "execution": {
     "iopub.execute_input": "2025-04-21T07:18:57.393437Z",
     "iopub.status.busy": "2025-04-21T07:18:57.393187Z",
     "iopub.status.idle": "2025-04-21T07:18:57.421930Z",
     "shell.execute_reply": "2025-04-21T07:18:57.421115Z"
    },
    "papermill": {
     "duration": 0.035019,
     "end_time": "2025-04-21T07:18:57.423135",
     "exception": false,
     "start_time": "2025-04-21T07:18:57.388116",
     "status": "completed"
    },
    "tags": []
   },
   "outputs": [
    {
     "data": {
      "text/html": [
       "<div>\n",
       "<style scoped>\n",
       "    .dataframe tbody tr th:only-of-type {\n",
       "        vertical-align: middle;\n",
       "    }\n",
       "\n",
       "    .dataframe tbody tr th {\n",
       "        vertical-align: top;\n",
       "    }\n",
       "\n",
       "    .dataframe thead th {\n",
       "        text-align: right;\n",
       "    }\n",
       "</style>\n",
       "<table border=\"1\" class=\"dataframe\">\n",
       "  <thead>\n",
       "    <tr style=\"text-align: right;\">\n",
       "      <th></th>\n",
       "      <th>loan_word</th>\n",
       "      <th>original_word</th>\n",
       "      <th>loan_word_epitran</th>\n",
       "      <th>original_word_epitran</th>\n",
       "      <th>loan_english</th>\n",
       "      <th>original_english</th>\n",
       "      <th>Fast Levenshtein Distance Div Maxlen</th>\n",
       "      <th>Dolgo Prime Distance Div Maxlen</th>\n",
       "      <th>Feature Edit Distance Div Maxlen</th>\n",
       "      <th>Hamming Feature Distance Div Maxlen</th>\n",
       "      <th>...</th>\n",
       "      <th>Partial Hamming Feature Distance Div Maxlen</th>\n",
       "      <th>plain Levenshtein</th>\n",
       "      <th>loan_unicode</th>\n",
       "      <th>original_unicode</th>\n",
       "      <th>label</th>\n",
       "      <th>label_bin</th>\n",
       "      <th>DNN_logits</th>\n",
       "      <th>MBERT_cos_sim</th>\n",
       "      <th>XLM_cos_sim</th>\n",
       "      <th>language_pair</th>\n",
       "    </tr>\n",
       "  </thead>\n",
       "  <tbody>\n",
       "    <tr>\n",
       "      <th>0</th>\n",
       "      <td>Möhkəmlik</td>\n",
       "      <td>البطولة</td>\n",
       "      <td>mœhkæmlɪk</td>\n",
       "      <td>albtˤuːlt</td>\n",
       "      <td>Durability</td>\n",
       "      <td>Championship</td>\n",
       "      <td>1.000000</td>\n",
       "      <td>0.666667</td>\n",
       "      <td>0.354167</td>\n",
       "      <td>0.393519</td>\n",
       "      <td>...</td>\n",
       "      <td>0.377315</td>\n",
       "      <td>9</td>\n",
       "      <td>Latin</td>\n",
       "      <td>Arabic</td>\n",
       "      <td>synonym</td>\n",
       "      <td>0</td>\n",
       "      <td>-18.639088</td>\n",
       "      <td>0.805898</td>\n",
       "      <td>0.519797</td>\n",
       "      <td>Azerbaijani-Arabic</td>\n",
       "    </tr>\n",
       "    <tr>\n",
       "      <th>1</th>\n",
       "      <td>mehriban</td>\n",
       "      <td>مرن</td>\n",
       "      <td>mehrɪbɑn</td>\n",
       "      <td>mrn</td>\n",
       "      <td>kind</td>\n",
       "      <td>flexible</td>\n",
       "      <td>0.625000</td>\n",
       "      <td>0.625000</td>\n",
       "      <td>0.557292</td>\n",
       "      <td>0.625000</td>\n",
       "      <td>...</td>\n",
       "      <td>0.625000</td>\n",
       "      <td>8</td>\n",
       "      <td>Latin</td>\n",
       "      <td>Arabic</td>\n",
       "      <td>synonym</td>\n",
       "      <td>0</td>\n",
       "      <td>-9.437688</td>\n",
       "      <td>0.833718</td>\n",
       "      <td>0.753124</td>\n",
       "      <td>Azerbaijani-Arabic</td>\n",
       "    </tr>\n",
       "    <tr>\n",
       "      <th>2</th>\n",
       "      <td>qəhbə</td>\n",
       "      <td>قَحْبَة</td>\n",
       "      <td>ɡæhbæ</td>\n",
       "      <td>qَħْbَt</td>\n",
       "      <td>bastard</td>\n",
       "      <td>whore</td>\n",
       "      <td>0.857143</td>\n",
       "      <td>0.600000</td>\n",
       "      <td>0.291667</td>\n",
       "      <td>0.325000</td>\n",
       "      <td>...</td>\n",
       "      <td>0.312500</td>\n",
       "      <td>7</td>\n",
       "      <td>Latin</td>\n",
       "      <td>Arabic</td>\n",
       "      <td>loan</td>\n",
       "      <td>1</td>\n",
       "      <td>4.729791</td>\n",
       "      <td>0.672404</td>\n",
       "      <td>0.517030</td>\n",
       "      <td>Azerbaijani-Arabic</td>\n",
       "    </tr>\n",
       "    <tr>\n",
       "      <th>3</th>\n",
       "      <td>təslim olmaq</td>\n",
       "      <td>التنازل عن العرش</td>\n",
       "      <td>tæslɪm ɔlmɑɡ</td>\n",
       "      <td>altnaːzl ʕn aːlʕrʃ</td>\n",
       "      <td>surrender</td>\n",
       "      <td>abdication</td>\n",
       "      <td>0.777778</td>\n",
       "      <td>0.571429</td>\n",
       "      <td>0.299107</td>\n",
       "      <td>0.333333</td>\n",
       "      <td>...</td>\n",
       "      <td>0.318452</td>\n",
       "      <td>15</td>\n",
       "      <td>Latin</td>\n",
       "      <td>Arabic</td>\n",
       "      <td>synonym</td>\n",
       "      <td>0</td>\n",
       "      <td>-49.171078</td>\n",
       "      <td>0.902082</td>\n",
       "      <td>0.500199</td>\n",
       "      <td>Azerbaijani-Arabic</td>\n",
       "    </tr>\n",
       "    <tr>\n",
       "      <th>4</th>\n",
       "      <td>tələsmək</td>\n",
       "      <td>مضطرب</td>\n",
       "      <td>tælæsmæk</td>\n",
       "      <td>mdˤtˤrb</td>\n",
       "      <td>hurry up</td>\n",
       "      <td>مضطرب</td>\n",
       "      <td>1.000000</td>\n",
       "      <td>0.875000</td>\n",
       "      <td>0.466146</td>\n",
       "      <td>0.520833</td>\n",
       "      <td>...</td>\n",
       "      <td>0.505208</td>\n",
       "      <td>8</td>\n",
       "      <td>Latin</td>\n",
       "      <td>Arabic</td>\n",
       "      <td>synonym</td>\n",
       "      <td>0</td>\n",
       "      <td>-7.328197</td>\n",
       "      <td>0.871732</td>\n",
       "      <td>0.551427</td>\n",
       "      <td>Azerbaijani-Arabic</td>\n",
       "    </tr>\n",
       "  </tbody>\n",
       "</table>\n",
       "<p>5 rows × 21 columns</p>\n",
       "</div>"
      ],
      "text/plain": [
       "      loan_word     original_word loan_word_epitran original_word_epitran  \\\n",
       "0     Möhkəmlik           البطولة         mœhkæmlɪk             albtˤuːlt   \n",
       "1      mehriban               مرن          mehrɪbɑn                   mrn   \n",
       "2         qəhbə           قَحْبَة             ɡæhbæ               qَħْbَt   \n",
       "3  təslim olmaq  التنازل عن العرش      tæslɪm ɔlmɑɡ    altnaːzl ʕn aːlʕrʃ   \n",
       "4      tələsmək             مضطرب          tælæsmæk               mdˤtˤrb   \n",
       "\n",
       "  loan_english original_english  Fast Levenshtein Distance Div Maxlen  \\\n",
       "0   Durability     Championship                              1.000000   \n",
       "1         kind         flexible                              0.625000   \n",
       "2      bastard            whore                              0.857143   \n",
       "3    surrender       abdication                              0.777778   \n",
       "4     hurry up            مضطرب                              1.000000   \n",
       "\n",
       "   Dolgo Prime Distance Div Maxlen  Feature Edit Distance Div Maxlen  \\\n",
       "0                         0.666667                          0.354167   \n",
       "1                         0.625000                          0.557292   \n",
       "2                         0.600000                          0.291667   \n",
       "3                         0.571429                          0.299107   \n",
       "4                         0.875000                          0.466146   \n",
       "\n",
       "   Hamming Feature Distance Div Maxlen  ...  \\\n",
       "0                             0.393519  ...   \n",
       "1                             0.625000  ...   \n",
       "2                             0.325000  ...   \n",
       "3                             0.333333  ...   \n",
       "4                             0.520833  ...   \n",
       "\n",
       "   Partial Hamming Feature Distance Div Maxlen  plain Levenshtein  \\\n",
       "0                                     0.377315                  9   \n",
       "1                                     0.625000                  8   \n",
       "2                                     0.312500                  7   \n",
       "3                                     0.318452                 15   \n",
       "4                                     0.505208                  8   \n",
       "\n",
       "   loan_unicode original_unicode    label label_bin  DNN_logits  \\\n",
       "0         Latin           Arabic  synonym         0  -18.639088   \n",
       "1         Latin           Arabic  synonym         0   -9.437688   \n",
       "2         Latin           Arabic     loan         1    4.729791   \n",
       "3         Latin           Arabic  synonym         0  -49.171078   \n",
       "4         Latin           Arabic  synonym         0   -7.328197   \n",
       "\n",
       "   MBERT_cos_sim  XLM_cos_sim       language_pair  \n",
       "0       0.805898     0.519797  Azerbaijani-Arabic  \n",
       "1       0.833718     0.753124  Azerbaijani-Arabic  \n",
       "2       0.672404     0.517030  Azerbaijani-Arabic  \n",
       "3       0.902082     0.500199  Azerbaijani-Arabic  \n",
       "4       0.871732     0.551427  Azerbaijani-Arabic  \n",
       "\n",
       "[5 rows x 21 columns]"
      ]
     },
     "execution_count": 5,
     "metadata": {},
     "output_type": "execute_result"
    }
   ],
   "source": [
    "final_df.head()"
   ]
  },
  {
   "cell_type": "code",
   "execution_count": 6,
   "id": "1b312c7b",
   "metadata": {
    "execution": {
     "iopub.execute_input": "2025-04-21T07:18:57.433293Z",
     "iopub.status.busy": "2025-04-21T07:18:57.433084Z",
     "iopub.status.idle": "2025-04-21T07:19:05.828937Z",
     "shell.execute_reply": "2025-04-21T07:19:05.828153Z"
    },
    "papermill": {
     "duration": 8.402686,
     "end_time": "2025-04-21T07:19:05.830554",
     "exception": false,
     "start_time": "2025-04-21T07:18:57.427868",
     "status": "completed"
    },
    "tags": []
   },
   "outputs": [],
   "source": [
    "def normalize(unicode_values):\n",
    "    if not unicode_values:  # Handle empty case\n",
    "        return [0] * 25  # Return a zero vector of fixed size\n",
    "\n",
    "    mean_value = sum(unicode_values) / len(unicode_values)\n",
    "    return [val - mean_value for val in unicode_values]\n",
    "\n",
    "def extract_features(word):\n",
    "    unicode_features = [ord(c) for c in word] if word else [0]  # Ensure it's never empty\n",
    "    unicode_features = normalize(unicode_features)  \n",
    "\n",
    "    return {\n",
    "        \"unicode\": unicode_features,\n",
    "        \"length\": len(word)\n",
    "    }\n",
    "\n",
    "\n",
    "df_features = final_df[\"loan_word\"].apply(extract_features).apply(pd.Series)\n",
    "df_features\n",
    "df = pd.concat([final_df, df_features], axis=1)"
   ]
  },
  {
   "cell_type": "code",
   "execution_count": 7,
   "id": "b2d46722",
   "metadata": {
    "execution": {
     "iopub.execute_input": "2025-04-21T07:19:05.841350Z",
     "iopub.status.busy": "2025-04-21T07:19:05.841118Z",
     "iopub.status.idle": "2025-04-21T07:19:22.400209Z",
     "shell.execute_reply": "2025-04-21T07:19:22.399501Z"
    },
    "papermill": {
     "duration": 16.566099,
     "end_time": "2025-04-21T07:19:22.401850",
     "exception": false,
     "start_time": "2025-04-21T07:19:05.835751",
     "status": "completed"
    },
    "tags": []
   },
   "outputs": [
    {
     "name": "stderr",
     "output_type": "stream",
     "text": [
      "<ipython-input-7-bee801bd44ac>:1: FutureWarning: Downcasting behavior in `replace` is deprecated and will be removed in a future version. To retain the old behavior, explicitly call `result.infer_objects(copy=False)`. To opt-in to the future behavior, set `pd.set_option('future.no_silent_downcasting', True)`\n",
      "  df['label'] = df[\"label\"].replace(['random', 'hard_negative', 'loan', 'synonym'], [0, 1, 0, 0])\n"
     ]
    },
    {
     "data": {
      "application/vnd.jupyter.widget-view+json": {
       "model_id": "953f82b107824ab6b3ee6241b93f88af",
       "version_major": 2,
       "version_minor": 0
      },
      "text/plain": [
       "tokenizer_config.json:   0%|          | 0.00/49.0 [00:00<?, ?B/s]"
      ]
     },
     "metadata": {},
     "output_type": "display_data"
    },
    {
     "data": {
      "application/vnd.jupyter.widget-view+json": {
       "model_id": "4913b42ba17d45d68147c06c1c7e7036",
       "version_major": 2,
       "version_minor": 0
      },
      "text/plain": [
       "vocab.txt:   0%|          | 0.00/996k [00:00<?, ?B/s]"
      ]
     },
     "metadata": {},
     "output_type": "display_data"
    },
    {
     "data": {
      "application/vnd.jupyter.widget-view+json": {
       "model_id": "c3bfafb78ba048d1a457e004c1d73746",
       "version_major": 2,
       "version_minor": 0
      },
      "text/plain": [
       "tokenizer.json:   0%|          | 0.00/1.96M [00:00<?, ?B/s]"
      ]
     },
     "metadata": {},
     "output_type": "display_data"
    },
    {
     "data": {
      "application/vnd.jupyter.widget-view+json": {
       "model_id": "d92d834564394522b2008b9b42a50a25",
       "version_major": 2,
       "version_minor": 0
      },
      "text/plain": [
       "config.json:   0%|          | 0.00/625 [00:00<?, ?B/s]"
      ]
     },
     "metadata": {},
     "output_type": "display_data"
    }
   ],
   "source": [
    "df['label'] = df[\"label\"].replace(['random', 'hard_negative', 'loan', 'synonym'], [0, 1, 0, 0])\n",
    "\n",
    "# Step 2: Tokenizer\n",
    "tokenizer = BertTokenizer.from_pretrained(\"bert-base-multilingual-cased\")\n",
    "\n",
    "def tokenize_and_encode(text, tokenizer, max_length=120):\n",
    "    encoding = tokenizer(\n",
    "        text,\n",
    "        padding=\"max_length\",\n",
    "        truncation=True,\n",
    "        max_length=max_length,\n",
    "        return_tensors=\"pt\"\n",
    "    )\n",
    "    return encoding[\"input_ids\"].squeeze(0).tolist(), encoding[\"attention_mask\"].squeeze(0).tolist()\n",
    "\n",
    "df['phonetic_'], df['attention_masks'] = zip(*df['loan_word_epitran'].apply(\n",
    "    lambda x: tokenize_and_encode(x, tokenizer)\n",
    "))\n",
    "\n",
    "# Step 3: Padding the Unicode features (assumes 'unicode' column contains lists of ints or similar)\n",
    "def pad_sequence(seq, maxlen, pad_value=0):\n",
    "    try:\n",
    "        if isinstance(seq, str):\n",
    "            seq = eval(seq)  # convert stringified list to actual list\n",
    "    except:\n",
    "        seq = []\n",
    "    if len(seq) < maxlen:\n",
    "        return seq + [pad_value] * (maxlen - len(seq))\n",
    "    else:\n",
    "        return seq[:maxlen] \n",
    "\n",
    "max_unicode_len = 25\n",
    "df['unicode_padded'] = df['unicode'].apply(lambda x: pad_sequence(x, max_unicode_len))\n",
    "\n",
    "positive_df = df[df['label'] == 1]\n",
    "negative_df = df[df['label'] == 0]\n",
    "\n",
    "min_count = min(len(positive_df), len(negative_df))\n",
    "\n",
    "# Sample equal amount from both\n",
    "balanced_df = pd.concat([\n",
    "    positive_df.sample(n=min_count, random_state=42),\n",
    "    negative_df.sample(n=min_count, random_state=42)\n",
    "]).sample(frac=1).reset_index(drop=True)  # shuffle the final set\n"
   ]
  },
  {
   "cell_type": "code",
   "execution_count": 8,
   "id": "a9d4d9f7",
   "metadata": {
    "execution": {
     "iopub.execute_input": "2025-04-21T07:19:22.417867Z",
     "iopub.status.busy": "2025-04-21T07:19:22.417628Z",
     "iopub.status.idle": "2025-04-21T07:19:22.421663Z",
     "shell.execute_reply": "2025-04-21T07:19:22.420777Z"
    },
    "papermill": {
     "duration": 0.011908,
     "end_time": "2025-04-21T07:19:22.422896",
     "exception": false,
     "start_time": "2025-04-21T07:19:22.410988",
     "status": "completed"
    },
    "tags": []
   },
   "outputs": [
    {
     "name": "stdout",
     "output_type": "stream",
     "text": [
      "Balanced dataset created: 6162 samples (50% label 0, 50% label 1)\n"
     ]
    }
   ],
   "source": [
    "print(f\"Balanced dataset created: {len(balanced_df)} samples (50% label 0, 50% label 1)\")"
   ]
  },
  {
   "cell_type": "code",
   "execution_count": 9,
   "id": "7a1b182e",
   "metadata": {
    "execution": {
     "iopub.execute_input": "2025-04-21T07:19:22.434184Z",
     "iopub.status.busy": "2025-04-21T07:19:22.433958Z",
     "iopub.status.idle": "2025-04-21T07:19:22.440377Z",
     "shell.execute_reply": "2025-04-21T07:19:22.439559Z"
    },
    "papermill": {
     "duration": 0.01413,
     "end_time": "2025-04-21T07:19:22.442129",
     "exception": false,
     "start_time": "2025-04-21T07:19:22.427999",
     "status": "completed"
    },
    "tags": []
   },
   "outputs": [],
   "source": [
    "class LoanWordDataset(Dataset):\n",
    "    def __init__(self, loan_words, phonetic_seqs, unicode_features, other_features, labels, tokenizer, max_len=128):\n",
    "        self.loan_words = loan_words\n",
    "        self.phonetic_seqs = phonetic_seqs\n",
    "        self.unicode_features = unicode_features\n",
    "        self.other_features = other_features\n",
    "        self.labels = labels\n",
    "        self.tokenizer = tokenizer\n",
    "        self.max_len = max_len\n",
    "\n",
    "    def __len__(self):\n",
    "        return len(self.loan_words)\n",
    "\n",
    "    def __getitem__(self, idx):\n",
    "        loan_word = self.loan_words[idx]\n",
    "        phonetic_seq = self.phonetic_seqs[idx]\n",
    "        unicode_feature = self.unicode_features[idx]\n",
    "        other_feature = self.other_features[idx]\n",
    "        label = self.labels[idx]\n",
    "\n",
    "        # Tokenize loan word\n",
    "        encoding = self.tokenizer.encode_plus(\n",
    "            loan_word,\n",
    "            add_special_tokens=True,\n",
    "            max_length=self.max_len,\n",
    "            return_token_type_ids=False,\n",
    "            padding='max_length',\n",
    "            truncation=True,\n",
    "            return_attention_mask=True,\n",
    "            return_tensors='pt',\n",
    "        )\n",
    "\n",
    "        return {\n",
    "            # 'loan_word': loan_word,\n",
    "            'input_ids': encoding['input_ids'].flatten(),\n",
    "            'attention_mask': encoding['attention_mask'].flatten(),\n",
    "            'phonetic_seq': torch.tensor(phonetic_seq, dtype=torch.long),\n",
    "            'unicode_feature': torch.tensor(unicode_feature, dtype=torch.float),\n",
    "            'other_feature': torch.tensor(other_feature, dtype=torch.float),\n",
    "            'label': torch.tensor(label, dtype=torch.long)\n",
    "        }\n"
   ]
  },
  {
   "cell_type": "code",
   "execution_count": 10,
   "id": "898af29f",
   "metadata": {
    "execution": {
     "iopub.execute_input": "2025-04-21T07:19:22.453124Z",
     "iopub.status.busy": "2025-04-21T07:19:22.452896Z",
     "iopub.status.idle": "2025-04-21T07:19:22.478340Z",
     "shell.execute_reply": "2025-04-21T07:19:22.477493Z"
    },
    "papermill": {
     "duration": 0.032282,
     "end_time": "2025-04-21T07:19:22.479775",
     "exception": false,
     "start_time": "2025-04-21T07:19:22.447493",
     "status": "completed"
    },
    "tags": []
   },
   "outputs": [],
   "source": [
    "df = balanced_df\n",
    "loan_words = df['loan_word'].tolist()  # Convert to list\n",
    "phonetic_seqs = df['phonetic_'].apply(lambda x: x.tolist() if isinstance(x, torch.Tensor) else list(x)).tolist()\n",
    "unicode_features = df['unicode_padded'].tolist()\n",
    "other_features = df['length'].apply(lambda x: [x]).tolist()  # Convert to list\n",
    "labels = df['label'].tolist()  # Convert to list\n",
    "\n",
    "dataset = LoanWordDataset(loan_words, phonetic_seqs, unicode_features, other_features, labels, tokenizer)\n",
    "dataloader = DataLoader(dataset, batch_size=256, shuffle=True)"
   ]
  },
  {
   "cell_type": "code",
   "execution_count": 11,
   "id": "ce1fee16",
   "metadata": {
    "execution": {
     "iopub.execute_input": "2025-04-21T07:19:22.490905Z",
     "iopub.status.busy": "2025-04-21T07:19:22.490665Z",
     "iopub.status.idle": "2025-04-21T07:19:22.497339Z",
     "shell.execute_reply": "2025-04-21T07:19:22.496536Z"
    },
    "papermill": {
     "duration": 0.01363,
     "end_time": "2025-04-21T07:19:22.498718",
     "exception": false,
     "start_time": "2025-04-21T07:19:22.485088",
     "status": "completed"
    },
    "tags": []
   },
   "outputs": [],
   "source": [
    "import torch\n",
    "from transformers import BertModel\n",
    "\n",
    "\n",
    "class LoanWordClassifier(torch.nn.Module):\n",
    "    def __init__(self, num_phonetic_embeddings, num_labels=2):\n",
    "        super().__init__()\n",
    "        self.bert = BertModel.from_pretrained(\"/kaggle/input/false-loan-model/output/tuned-bert\")\n",
    "        for param in self.bert.parameters():\n",
    "            param.requires_grad = False\n",
    "            \n",
    "        self.phonetic_embedder = torch.nn.Embedding(num_phonetic_embeddings, embedding_dim=64)\n",
    "        \n",
    "        bert_hidden_size = self.bert.config.hidden_size \n",
    "        phonetic_size = 64\n",
    "        unicode_size = 25 \n",
    "        other_size = 1\n",
    "        \n",
    "        total_input_size = bert_hidden_size + phonetic_size + unicode_size + other_size\n",
    "        \n",
    "        self.classifier = torch.nn.Sequential(\n",
    "            torch.nn.Linear(total_input_size, 256),\n",
    "            torch.nn.ReLU(),\n",
    "            torch.nn.Linear(256, num_labels)\n",
    "        )\n",
    "\n",
    "    def forward(self, input_ids, attention_mask, phonetic_seq, unicode_feature, other_feature):\n",
    "        \n",
    "        outputs = self.bert(input_ids=input_ids, attention_mask=attention_mask)\n",
    "        last_hidden_states = outputs.last_hidden_state \n",
    "        pooled_output = last_hidden_states.mean(dim=1) \n",
    "        phonetic_emb = self.phonetic_embedder(phonetic_seq).mean(dim=1) \n",
    "\n",
    "    \n",
    "        unicode_feature = unicode_feature.view(unicode_feature.size(0), -1)  \n",
    "        other_feature = other_feature.view(other_feature.size(0), -1)      \n",
    "\n",
    "    \n",
    "        combined = torch.cat([\n",
    "            pooled_output,       \n",
    "            phonetic_emb,        \n",
    "            unicode_feature,     \n",
    "            other_feature        \n",
    "        ], dim=1)               \n",
    "        \n",
    "        logits = self.classifier(combined)\n",
    "        return logits"
   ]
  },
  {
   "cell_type": "code",
   "execution_count": 12,
   "id": "22d9bd39",
   "metadata": {
    "execution": {
     "iopub.execute_input": "2025-04-21T07:19:22.509459Z",
     "iopub.status.busy": "2025-04-21T07:19:22.509234Z",
     "iopub.status.idle": "2025-04-21T07:39:42.622478Z",
     "shell.execute_reply": "2025-04-21T07:39:42.621763Z"
    },
    "papermill": {
     "duration": 1220.12041,
     "end_time": "2025-04-21T07:39:42.624177",
     "exception": false,
     "start_time": "2025-04-21T07:19:22.503767",
     "status": "completed"
    },
    "tags": []
   },
   "outputs": [
    {
     "name": "stderr",
     "output_type": "stream",
     "text": [
      "Epoch 1 [Training]: 100%|██████████| 20/20 [00:19<00:00,  1.02it/s, loss=1.2]\n"
     ]
    },
    {
     "name": "stdout",
     "output_type": "stream",
     "text": [
      "Epoch 1, Training Loss: 1.1966\n"
     ]
    },
    {
     "name": "stderr",
     "output_type": "stream",
     "text": [
      "Epoch 1 [Validation]: 100%|██████████| 5/5 [00:04<00:00,  1.08it/s]\n"
     ]
    },
    {
     "name": "stdout",
     "output_type": "stream",
     "text": [
      "Epoch 1, Validation Loss: 1.0680, Accuracy: 0.5523, F1 Score: 0.5523\n"
     ]
    },
    {
     "name": "stderr",
     "output_type": "stream",
     "text": [
      "Epoch 2 [Training]: 100%|██████████| 20/20 [00:19<00:00,  1.04it/s, loss=1.08]\n"
     ]
    },
    {
     "name": "stdout",
     "output_type": "stream",
     "text": [
      "Epoch 2, Training Loss: 1.0796\n"
     ]
    },
    {
     "name": "stderr",
     "output_type": "stream",
     "text": [
      "Epoch 2 [Validation]: 100%|██████████| 5/5 [00:04<00:00,  1.06it/s]\n"
     ]
    },
    {
     "name": "stdout",
     "output_type": "stream",
     "text": [
      "Epoch 2, Validation Loss: 0.9781, Accuracy: 0.5677, F1 Score: 0.5678\n"
     ]
    },
    {
     "name": "stderr",
     "output_type": "stream",
     "text": [
      "Epoch 3 [Training]: 100%|██████████| 20/20 [00:19<00:00,  1.03it/s, loss=0.969]\n"
     ]
    },
    {
     "name": "stdout",
     "output_type": "stream",
     "text": [
      "Epoch 3, Training Loss: 0.9692\n"
     ]
    },
    {
     "name": "stderr",
     "output_type": "stream",
     "text": [
      "Epoch 3 [Validation]: 100%|██████████| 5/5 [00:04<00:00,  1.05it/s]\n"
     ]
    },
    {
     "name": "stdout",
     "output_type": "stream",
     "text": [
      "Epoch 3, Validation Loss: 0.8917, Accuracy: 0.5888, F1 Score: 0.5883\n"
     ]
    },
    {
     "name": "stderr",
     "output_type": "stream",
     "text": [
      "Epoch 4 [Training]: 100%|██████████| 20/20 [00:19<00:00,  1.03it/s, loss=0.899]\n"
     ]
    },
    {
     "name": "stdout",
     "output_type": "stream",
     "text": [
      "Epoch 4, Training Loss: 0.8993\n"
     ]
    },
    {
     "name": "stderr",
     "output_type": "stream",
     "text": [
      "Epoch 4 [Validation]: 100%|██████████| 5/5 [00:04<00:00,  1.06it/s]\n"
     ]
    },
    {
     "name": "stdout",
     "output_type": "stream",
     "text": [
      "Epoch 4, Validation Loss: 0.8403, Accuracy: 0.5953, F1 Score: 0.5946\n"
     ]
    },
    {
     "name": "stderr",
     "output_type": "stream",
     "text": [
      "Epoch 5 [Training]: 100%|██████████| 20/20 [00:19<00:00,  1.03it/s, loss=0.846]\n"
     ]
    },
    {
     "name": "stdout",
     "output_type": "stream",
     "text": [
      "Epoch 5, Training Loss: 0.8462\n"
     ]
    },
    {
     "name": "stderr",
     "output_type": "stream",
     "text": [
      "Epoch 5 [Validation]: 100%|██████████| 5/5 [00:05<00:00,  1.04s/it]\n"
     ]
    },
    {
     "name": "stdout",
     "output_type": "stream",
     "text": [
      "Epoch 5, Validation Loss: 0.7995, Accuracy: 0.6010, F1 Score: 0.5990\n"
     ]
    },
    {
     "name": "stderr",
     "output_type": "stream",
     "text": [
      "Epoch 6 [Training]: 100%|██████████| 20/20 [00:19<00:00,  1.03it/s, loss=0.814]\n"
     ]
    },
    {
     "name": "stdout",
     "output_type": "stream",
     "text": [
      "Epoch 6, Training Loss: 0.8142\n"
     ]
    },
    {
     "name": "stderr",
     "output_type": "stream",
     "text": [
      "Epoch 6 [Validation]: 100%|██████████| 5/5 [00:04<00:00,  1.06it/s]\n"
     ]
    },
    {
     "name": "stdout",
     "output_type": "stream",
     "text": [
      "Epoch 6, Validation Loss: 0.7683, Accuracy: 0.6026, F1 Score: 0.6021\n"
     ]
    },
    {
     "name": "stderr",
     "output_type": "stream",
     "text": [
      "Epoch 7 [Training]: 100%|██████████| 20/20 [00:19<00:00,  1.03it/s, loss=0.754]\n"
     ]
    },
    {
     "name": "stdout",
     "output_type": "stream",
     "text": [
      "Epoch 7, Training Loss: 0.7537\n"
     ]
    },
    {
     "name": "stderr",
     "output_type": "stream",
     "text": [
      "Epoch 7 [Validation]: 100%|██████████| 5/5 [00:04<00:00,  1.05it/s]\n"
     ]
    },
    {
     "name": "stdout",
     "output_type": "stream",
     "text": [
      "Epoch 7, Validation Loss: 0.7376, Accuracy: 0.6026, F1 Score: 0.6011\n"
     ]
    },
    {
     "name": "stderr",
     "output_type": "stream",
     "text": [
      "Epoch 8 [Training]: 100%|██████████| 20/20 [00:19<00:00,  1.03it/s, loss=0.724]\n"
     ]
    },
    {
     "name": "stdout",
     "output_type": "stream",
     "text": [
      "Epoch 8, Training Loss: 0.7242\n"
     ]
    },
    {
     "name": "stderr",
     "output_type": "stream",
     "text": [
      "Epoch 8 [Validation]: 100%|██████████| 5/5 [00:04<00:00,  1.05it/s]\n"
     ]
    },
    {
     "name": "stdout",
     "output_type": "stream",
     "text": [
      "Epoch 8, Validation Loss: 0.7269, Accuracy: 0.6075, F1 Score: 0.6058\n"
     ]
    },
    {
     "name": "stderr",
     "output_type": "stream",
     "text": [
      "Epoch 9 [Training]: 100%|██████████| 20/20 [00:19<00:00,  1.02it/s, loss=0.715]\n"
     ]
    },
    {
     "name": "stdout",
     "output_type": "stream",
     "text": [
      "Epoch 9, Training Loss: 0.7146\n"
     ]
    },
    {
     "name": "stderr",
     "output_type": "stream",
     "text": [
      "Epoch 9 [Validation]: 100%|██████████| 5/5 [00:04<00:00,  1.05it/s]\n"
     ]
    },
    {
     "name": "stdout",
     "output_type": "stream",
     "text": [
      "Epoch 9, Validation Loss: 0.7177, Accuracy: 0.6115, F1 Score: 0.6088\n"
     ]
    },
    {
     "name": "stderr",
     "output_type": "stream",
     "text": [
      "Epoch 10 [Training]: 100%|██████████| 20/20 [00:19<00:00,  1.03it/s, loss=0.709]\n"
     ]
    },
    {
     "name": "stdout",
     "output_type": "stream",
     "text": [
      "Epoch 10, Training Loss: 0.7092\n"
     ]
    },
    {
     "name": "stderr",
     "output_type": "stream",
     "text": [
      "Epoch 10 [Validation]: 100%|██████████| 5/5 [00:04<00:00,  1.05it/s]\n"
     ]
    },
    {
     "name": "stdout",
     "output_type": "stream",
     "text": [
      "Epoch 10, Validation Loss: 0.7187, Accuracy: 0.6180, F1 Score: 0.6149\n"
     ]
    },
    {
     "name": "stderr",
     "output_type": "stream",
     "text": [
      "Epoch 11 [Training]: 100%|██████████| 20/20 [00:19<00:00,  1.03it/s, loss=0.698]\n"
     ]
    },
    {
     "name": "stdout",
     "output_type": "stream",
     "text": [
      "Epoch 11, Training Loss: 0.6980\n"
     ]
    },
    {
     "name": "stderr",
     "output_type": "stream",
     "text": [
      "Epoch 11 [Validation]: 100%|██████████| 5/5 [00:04<00:00,  1.05it/s]\n"
     ]
    },
    {
     "name": "stdout",
     "output_type": "stream",
     "text": [
      "Epoch 11, Validation Loss: 0.7161, Accuracy: 0.6156, F1 Score: 0.6133\n"
     ]
    },
    {
     "name": "stderr",
     "output_type": "stream",
     "text": [
      "Epoch 12 [Training]: 100%|██████████| 20/20 [00:19<00:00,  1.03it/s, loss=0.691]\n"
     ]
    },
    {
     "name": "stdout",
     "output_type": "stream",
     "text": [
      "Epoch 12, Training Loss: 0.6908\n"
     ]
    },
    {
     "name": "stderr",
     "output_type": "stream",
     "text": [
      "Epoch 12 [Validation]: 100%|██████████| 5/5 [00:04<00:00,  1.05it/s]\n"
     ]
    },
    {
     "name": "stdout",
     "output_type": "stream",
     "text": [
      "Epoch 12, Validation Loss: 0.7119, Accuracy: 0.6139, F1 Score: 0.6110\n"
     ]
    },
    {
     "name": "stderr",
     "output_type": "stream",
     "text": [
      "Epoch 13 [Training]: 100%|██████████| 20/20 [00:19<00:00,  1.03it/s, loss=0.691]\n"
     ]
    },
    {
     "name": "stdout",
     "output_type": "stream",
     "text": [
      "Epoch 13, Training Loss: 0.6913\n"
     ]
    },
    {
     "name": "stderr",
     "output_type": "stream",
     "text": [
      "Epoch 13 [Validation]: 100%|██████████| 5/5 [00:04<00:00,  1.05it/s]\n"
     ]
    },
    {
     "name": "stdout",
     "output_type": "stream",
     "text": [
      "Epoch 13, Validation Loss: 0.7069, Accuracy: 0.6164, F1 Score: 0.6129\n"
     ]
    },
    {
     "name": "stderr",
     "output_type": "stream",
     "text": [
      "Epoch 14 [Training]: 100%|██████████| 20/20 [00:19<00:00,  1.03it/s, loss=0.687]\n"
     ]
    },
    {
     "name": "stdout",
     "output_type": "stream",
     "text": [
      "Epoch 14, Training Loss: 0.6869\n"
     ]
    },
    {
     "name": "stderr",
     "output_type": "stream",
     "text": [
      "Epoch 14 [Validation]: 100%|██████████| 5/5 [00:04<00:00,  1.05it/s]\n"
     ]
    },
    {
     "name": "stdout",
     "output_type": "stream",
     "text": [
      "Epoch 14, Validation Loss: 0.7063, Accuracy: 0.6172, F1 Score: 0.6144\n"
     ]
    },
    {
     "name": "stderr",
     "output_type": "stream",
     "text": [
      "Epoch 15 [Training]: 100%|██████████| 20/20 [00:19<00:00,  1.03it/s, loss=0.678]\n"
     ]
    },
    {
     "name": "stdout",
     "output_type": "stream",
     "text": [
      "Epoch 15, Training Loss: 0.6776\n"
     ]
    },
    {
     "name": "stderr",
     "output_type": "stream",
     "text": [
      "Epoch 15 [Validation]: 100%|██████████| 5/5 [00:04<00:00,  1.05it/s]\n"
     ]
    },
    {
     "name": "stdout",
     "output_type": "stream",
     "text": [
      "Epoch 15, Validation Loss: 0.7007, Accuracy: 0.6172, F1 Score: 0.6136\n"
     ]
    },
    {
     "name": "stderr",
     "output_type": "stream",
     "text": [
      "Epoch 16 [Training]: 100%|██████████| 20/20 [00:19<00:00,  1.03it/s, loss=0.672]\n"
     ]
    },
    {
     "name": "stdout",
     "output_type": "stream",
     "text": [
      "Epoch 16, Training Loss: 0.6721\n"
     ]
    },
    {
     "name": "stderr",
     "output_type": "stream",
     "text": [
      "Epoch 16 [Validation]: 100%|██████████| 5/5 [00:04<00:00,  1.05it/s]\n"
     ]
    },
    {
     "name": "stdout",
     "output_type": "stream",
     "text": [
      "Epoch 16, Validation Loss: 0.6985, Accuracy: 0.6196, F1 Score: 0.6171\n"
     ]
    },
    {
     "name": "stderr",
     "output_type": "stream",
     "text": [
      "Epoch 17 [Training]: 100%|██████████| 20/20 [00:19<00:00,  1.03it/s, loss=0.672]\n"
     ]
    },
    {
     "name": "stdout",
     "output_type": "stream",
     "text": [
      "Epoch 17, Training Loss: 0.6725\n"
     ]
    },
    {
     "name": "stderr",
     "output_type": "stream",
     "text": [
      "Epoch 17 [Validation]: 100%|██████████| 5/5 [00:04<00:00,  1.06it/s]\n"
     ]
    },
    {
     "name": "stdout",
     "output_type": "stream",
     "text": [
      "Epoch 17, Validation Loss: 0.6984, Accuracy: 0.6253, F1 Score: 0.6215\n"
     ]
    },
    {
     "name": "stderr",
     "output_type": "stream",
     "text": [
      "Epoch 18 [Training]: 100%|██████████| 20/20 [00:19<00:00,  1.03it/s, loss=0.693]\n"
     ]
    },
    {
     "name": "stdout",
     "output_type": "stream",
     "text": [
      "Epoch 18, Training Loss: 0.6926\n"
     ]
    },
    {
     "name": "stderr",
     "output_type": "stream",
     "text": [
      "Epoch 18 [Validation]: 100%|██████████| 5/5 [00:04<00:00,  1.06it/s]\n"
     ]
    },
    {
     "name": "stdout",
     "output_type": "stream",
     "text": [
      "Epoch 18, Validation Loss: 0.6988, Accuracy: 0.6212, F1 Score: 0.6181\n"
     ]
    },
    {
     "name": "stderr",
     "output_type": "stream",
     "text": [
      "Epoch 19 [Training]: 100%|██████████| 20/20 [00:19<00:00,  1.03it/s, loss=0.662]\n"
     ]
    },
    {
     "name": "stdout",
     "output_type": "stream",
     "text": [
      "Epoch 19, Training Loss: 0.6620\n"
     ]
    },
    {
     "name": "stderr",
     "output_type": "stream",
     "text": [
      "Epoch 19 [Validation]: 100%|██████████| 5/5 [00:04<00:00,  1.06it/s]\n"
     ]
    },
    {
     "name": "stdout",
     "output_type": "stream",
     "text": [
      "Epoch 19, Validation Loss: 0.6829, Accuracy: 0.6221, F1 Score: 0.6180\n"
     ]
    },
    {
     "name": "stderr",
     "output_type": "stream",
     "text": [
      "Epoch 20 [Training]: 100%|██████████| 20/20 [00:19<00:00,  1.03it/s, loss=0.656]\n"
     ]
    },
    {
     "name": "stdout",
     "output_type": "stream",
     "text": [
      "Epoch 20, Training Loss: 0.6556\n"
     ]
    },
    {
     "name": "stderr",
     "output_type": "stream",
     "text": [
      "Epoch 20 [Validation]: 100%|██████████| 5/5 [00:04<00:00,  1.06it/s]\n"
     ]
    },
    {
     "name": "stdout",
     "output_type": "stream",
     "text": [
      "Epoch 20, Validation Loss: 0.6956, Accuracy: 0.6188, F1 Score: 0.6144\n"
     ]
    },
    {
     "name": "stderr",
     "output_type": "stream",
     "text": [
      "Epoch 21 [Training]: 100%|██████████| 20/20 [00:19<00:00,  1.03it/s, loss=0.65]\n"
     ]
    },
    {
     "name": "stdout",
     "output_type": "stream",
     "text": [
      "Epoch 21, Training Loss: 0.6503\n"
     ]
    },
    {
     "name": "stderr",
     "output_type": "stream",
     "text": [
      "Epoch 21 [Validation]: 100%|██████████| 5/5 [00:04<00:00,  1.05it/s]\n"
     ]
    },
    {
     "name": "stdout",
     "output_type": "stream",
     "text": [
      "Epoch 21, Validation Loss: 0.6880, Accuracy: 0.6212, F1 Score: 0.6177\n"
     ]
    },
    {
     "name": "stderr",
     "output_type": "stream",
     "text": [
      "Epoch 22 [Training]: 100%|██████████| 20/20 [00:19<00:00,  1.03it/s, loss=0.656]\n"
     ]
    },
    {
     "name": "stdout",
     "output_type": "stream",
     "text": [
      "Epoch 22, Training Loss: 0.6560\n"
     ]
    },
    {
     "name": "stderr",
     "output_type": "stream",
     "text": [
      "Epoch 22 [Validation]: 100%|██████████| 5/5 [00:04<00:00,  1.05it/s]\n"
     ]
    },
    {
     "name": "stdout",
     "output_type": "stream",
     "text": [
      "Epoch 22, Validation Loss: 0.6832, Accuracy: 0.6204, F1 Score: 0.6163\n"
     ]
    },
    {
     "name": "stderr",
     "output_type": "stream",
     "text": [
      "Epoch 23 [Training]: 100%|██████████| 20/20 [00:19<00:00,  1.02it/s, loss=0.646]\n"
     ]
    },
    {
     "name": "stdout",
     "output_type": "stream",
     "text": [
      "Epoch 23, Training Loss: 0.6458\n"
     ]
    },
    {
     "name": "stderr",
     "output_type": "stream",
     "text": [
      "Epoch 23 [Validation]: 100%|██████████| 5/5 [00:04<00:00,  1.05it/s]\n"
     ]
    },
    {
     "name": "stdout",
     "output_type": "stream",
     "text": [
      "Epoch 23, Validation Loss: 0.6860, Accuracy: 0.6196, F1 Score: 0.6178\n"
     ]
    },
    {
     "name": "stderr",
     "output_type": "stream",
     "text": [
      "Epoch 24 [Training]: 100%|██████████| 20/20 [00:19<00:00,  1.03it/s, loss=0.648]\n"
     ]
    },
    {
     "name": "stdout",
     "output_type": "stream",
     "text": [
      "Epoch 24, Training Loss: 0.6484\n"
     ]
    },
    {
     "name": "stderr",
     "output_type": "stream",
     "text": [
      "Epoch 24 [Validation]: 100%|██████████| 5/5 [00:04<00:00,  1.05it/s]\n"
     ]
    },
    {
     "name": "stdout",
     "output_type": "stream",
     "text": [
      "Epoch 24, Validation Loss: 0.6848, Accuracy: 0.6237, F1 Score: 0.6200\n"
     ]
    },
    {
     "name": "stderr",
     "output_type": "stream",
     "text": [
      "Epoch 25 [Training]: 100%|██████████| 20/20 [00:19<00:00,  1.02it/s, loss=0.638]\n"
     ]
    },
    {
     "name": "stdout",
     "output_type": "stream",
     "text": [
      "Epoch 25, Training Loss: 0.6377\n"
     ]
    },
    {
     "name": "stderr",
     "output_type": "stream",
     "text": [
      "Epoch 25 [Validation]: 100%|██████████| 5/5 [00:04<00:00,  1.06it/s]\n"
     ]
    },
    {
     "name": "stdout",
     "output_type": "stream",
     "text": [
      "Epoch 25, Validation Loss: 0.6817, Accuracy: 0.6221, F1 Score: 0.6174\n"
     ]
    },
    {
     "name": "stderr",
     "output_type": "stream",
     "text": [
      "Epoch 26 [Training]: 100%|██████████| 20/20 [00:19<00:00,  1.02it/s, loss=0.642]\n"
     ]
    },
    {
     "name": "stdout",
     "output_type": "stream",
     "text": [
      "Epoch 26, Training Loss: 0.6424\n"
     ]
    },
    {
     "name": "stderr",
     "output_type": "stream",
     "text": [
      "Epoch 26 [Validation]: 100%|██████████| 5/5 [00:04<00:00,  1.06it/s]\n"
     ]
    },
    {
     "name": "stdout",
     "output_type": "stream",
     "text": [
      "Epoch 26, Validation Loss: 0.6748, Accuracy: 0.6196, F1 Score: 0.6166\n"
     ]
    },
    {
     "name": "stderr",
     "output_type": "stream",
     "text": [
      "Epoch 27 [Training]: 100%|██████████| 20/20 [00:19<00:00,  1.03it/s, loss=0.642]\n"
     ]
    },
    {
     "name": "stdout",
     "output_type": "stream",
     "text": [
      "Epoch 27, Training Loss: 0.6415\n"
     ]
    },
    {
     "name": "stderr",
     "output_type": "stream",
     "text": [
      "Epoch 27 [Validation]: 100%|██████████| 5/5 [00:04<00:00,  1.05it/s]\n"
     ]
    },
    {
     "name": "stdout",
     "output_type": "stream",
     "text": [
      "Epoch 27, Validation Loss: 0.6797, Accuracy: 0.6229, F1 Score: 0.6180\n"
     ]
    },
    {
     "name": "stderr",
     "output_type": "stream",
     "text": [
      "Epoch 28 [Training]: 100%|██████████| 20/20 [00:19<00:00,  1.02it/s, loss=0.634]\n"
     ]
    },
    {
     "name": "stdout",
     "output_type": "stream",
     "text": [
      "Epoch 28, Training Loss: 0.6338\n"
     ]
    },
    {
     "name": "stderr",
     "output_type": "stream",
     "text": [
      "Epoch 28 [Validation]: 100%|██████████| 5/5 [00:04<00:00,  1.05it/s]\n"
     ]
    },
    {
     "name": "stdout",
     "output_type": "stream",
     "text": [
      "Epoch 28, Validation Loss: 0.6770, Accuracy: 0.6245, F1 Score: 0.6204\n"
     ]
    },
    {
     "name": "stderr",
     "output_type": "stream",
     "text": [
      "Epoch 29 [Training]: 100%|██████████| 20/20 [00:19<00:00,  1.03it/s, loss=0.633]\n"
     ]
    },
    {
     "name": "stdout",
     "output_type": "stream",
     "text": [
      "Epoch 29, Training Loss: 0.6334\n"
     ]
    },
    {
     "name": "stderr",
     "output_type": "stream",
     "text": [
      "Epoch 29 [Validation]: 100%|██████████| 5/5 [00:04<00:00,  1.05it/s]\n"
     ]
    },
    {
     "name": "stdout",
     "output_type": "stream",
     "text": [
      "Epoch 29, Validation Loss: 0.6739, Accuracy: 0.6269, F1 Score: 0.6239\n"
     ]
    },
    {
     "name": "stderr",
     "output_type": "stream",
     "text": [
      "Epoch 30 [Training]: 100%|██████████| 20/20 [00:19<00:00,  1.03it/s, loss=0.634]\n"
     ]
    },
    {
     "name": "stdout",
     "output_type": "stream",
     "text": [
      "Epoch 30, Training Loss: 0.6338\n"
     ]
    },
    {
     "name": "stderr",
     "output_type": "stream",
     "text": [
      "Epoch 30 [Validation]: 100%|██████████| 5/5 [00:04<00:00,  1.05it/s]\n"
     ]
    },
    {
     "name": "stdout",
     "output_type": "stream",
     "text": [
      "Epoch 30, Validation Loss: 0.6812, Accuracy: 0.6261, F1 Score: 0.6219\n"
     ]
    },
    {
     "name": "stderr",
     "output_type": "stream",
     "text": [
      "Epoch 31 [Training]: 100%|██████████| 20/20 [00:19<00:00,  1.03it/s, loss=0.633]\n"
     ]
    },
    {
     "name": "stdout",
     "output_type": "stream",
     "text": [
      "Epoch 31, Training Loss: 0.6329\n"
     ]
    },
    {
     "name": "stderr",
     "output_type": "stream",
     "text": [
      "Epoch 31 [Validation]: 100%|██████████| 5/5 [00:04<00:00,  1.06it/s]\n"
     ]
    },
    {
     "name": "stdout",
     "output_type": "stream",
     "text": [
      "Epoch 31, Validation Loss: 0.6747, Accuracy: 0.6245, F1 Score: 0.6216\n"
     ]
    },
    {
     "name": "stderr",
     "output_type": "stream",
     "text": [
      "Epoch 32 [Training]: 100%|██████████| 20/20 [00:19<00:00,  1.03it/s, loss=0.63]\n"
     ]
    },
    {
     "name": "stdout",
     "output_type": "stream",
     "text": [
      "Epoch 32, Training Loss: 0.6304\n"
     ]
    },
    {
     "name": "stderr",
     "output_type": "stream",
     "text": [
      "Epoch 32 [Validation]: 100%|██████████| 5/5 [00:04<00:00,  1.05it/s]\n"
     ]
    },
    {
     "name": "stdout",
     "output_type": "stream",
     "text": [
      "Epoch 32, Validation Loss: 0.6777, Accuracy: 0.6245, F1 Score: 0.6200\n"
     ]
    },
    {
     "name": "stderr",
     "output_type": "stream",
     "text": [
      "Epoch 33 [Training]: 100%|██████████| 20/20 [00:19<00:00,  1.03it/s, loss=0.625]\n"
     ]
    },
    {
     "name": "stdout",
     "output_type": "stream",
     "text": [
      "Epoch 33, Training Loss: 0.6247\n"
     ]
    },
    {
     "name": "stderr",
     "output_type": "stream",
     "text": [
      "Epoch 33 [Validation]: 100%|██████████| 5/5 [00:04<00:00,  1.05it/s]\n"
     ]
    },
    {
     "name": "stdout",
     "output_type": "stream",
     "text": [
      "Epoch 33, Validation Loss: 0.6723, Accuracy: 0.6245, F1 Score: 0.6228\n"
     ]
    },
    {
     "name": "stderr",
     "output_type": "stream",
     "text": [
      "Epoch 34 [Training]: 100%|██████████| 20/20 [00:19<00:00,  1.00it/s, loss=0.619]\n"
     ]
    },
    {
     "name": "stdout",
     "output_type": "stream",
     "text": [
      "Epoch 34, Training Loss: 0.6190\n"
     ]
    },
    {
     "name": "stderr",
     "output_type": "stream",
     "text": [
      "Epoch 34 [Validation]: 100%|██████████| 5/5 [00:04<00:00,  1.05it/s]\n"
     ]
    },
    {
     "name": "stdout",
     "output_type": "stream",
     "text": [
      "Epoch 34, Validation Loss: 0.6691, Accuracy: 0.6253, F1 Score: 0.6227\n"
     ]
    },
    {
     "name": "stderr",
     "output_type": "stream",
     "text": [
      "Epoch 35 [Training]: 100%|██████████| 20/20 [00:19<00:00,  1.03it/s, loss=0.627]\n"
     ]
    },
    {
     "name": "stdout",
     "output_type": "stream",
     "text": [
      "Epoch 35, Training Loss: 0.6267\n"
     ]
    },
    {
     "name": "stderr",
     "output_type": "stream",
     "text": [
      "Epoch 35 [Validation]: 100%|██████████| 5/5 [00:04<00:00,  1.06it/s]\n"
     ]
    },
    {
     "name": "stdout",
     "output_type": "stream",
     "text": [
      "Epoch 35, Validation Loss: 0.6725, Accuracy: 0.6277, F1 Score: 0.6228\n"
     ]
    },
    {
     "name": "stderr",
     "output_type": "stream",
     "text": [
      "Epoch 36 [Training]: 100%|██████████| 20/20 [00:19<00:00,  1.03it/s, loss=0.625]\n"
     ]
    },
    {
     "name": "stdout",
     "output_type": "stream",
     "text": [
      "Epoch 36, Training Loss: 0.6251\n"
     ]
    },
    {
     "name": "stderr",
     "output_type": "stream",
     "text": [
      "Epoch 36 [Validation]: 100%|██████████| 5/5 [00:04<00:00,  1.06it/s]\n"
     ]
    },
    {
     "name": "stdout",
     "output_type": "stream",
     "text": [
      "Epoch 36, Validation Loss: 0.6674, Accuracy: 0.6245, F1 Score: 0.6219\n"
     ]
    },
    {
     "name": "stderr",
     "output_type": "stream",
     "text": [
      "Epoch 37 [Training]: 100%|██████████| 20/20 [00:19<00:00,  1.02it/s, loss=0.617]\n"
     ]
    },
    {
     "name": "stdout",
     "output_type": "stream",
     "text": [
      "Epoch 37, Training Loss: 0.6175\n"
     ]
    },
    {
     "name": "stderr",
     "output_type": "stream",
     "text": [
      "Epoch 37 [Validation]: 100%|██████████| 5/5 [00:04<00:00,  1.05it/s]\n"
     ]
    },
    {
     "name": "stdout",
     "output_type": "stream",
     "text": [
      "Epoch 37, Validation Loss: 0.6725, Accuracy: 0.6269, F1 Score: 0.6228\n"
     ]
    },
    {
     "name": "stderr",
     "output_type": "stream",
     "text": [
      "Epoch 38 [Training]: 100%|██████████| 20/20 [00:19<00:00,  1.03it/s, loss=0.621]\n"
     ]
    },
    {
     "name": "stdout",
     "output_type": "stream",
     "text": [
      "Epoch 38, Training Loss: 0.6205\n"
     ]
    },
    {
     "name": "stderr",
     "output_type": "stream",
     "text": [
      "Epoch 38 [Validation]: 100%|██████████| 5/5 [00:04<00:00,  1.05it/s]\n"
     ]
    },
    {
     "name": "stdout",
     "output_type": "stream",
     "text": [
      "Epoch 38, Validation Loss: 0.6653, Accuracy: 0.6229, F1 Score: 0.6209\n"
     ]
    },
    {
     "name": "stderr",
     "output_type": "stream",
     "text": [
      "Epoch 39 [Training]: 100%|██████████| 20/20 [00:19<00:00,  1.02it/s, loss=0.618]\n"
     ]
    },
    {
     "name": "stdout",
     "output_type": "stream",
     "text": [
      "Epoch 39, Training Loss: 0.6179\n"
     ]
    },
    {
     "name": "stderr",
     "output_type": "stream",
     "text": [
      "Epoch 39 [Validation]: 100%|██████████| 5/5 [00:04<00:00,  1.06it/s]\n"
     ]
    },
    {
     "name": "stdout",
     "output_type": "stream",
     "text": [
      "Epoch 39, Validation Loss: 0.6658, Accuracy: 0.6245, F1 Score: 0.6206\n"
     ]
    },
    {
     "name": "stderr",
     "output_type": "stream",
     "text": [
      "Epoch 40 [Training]: 100%|██████████| 20/20 [00:19<00:00,  1.02it/s, loss=0.618]\n"
     ]
    },
    {
     "name": "stdout",
     "output_type": "stream",
     "text": [
      "Epoch 40, Training Loss: 0.6176\n"
     ]
    },
    {
     "name": "stderr",
     "output_type": "stream",
     "text": [
      "Epoch 40 [Validation]: 100%|██████████| 5/5 [00:04<00:00,  1.05it/s]\n"
     ]
    },
    {
     "name": "stdout",
     "output_type": "stream",
     "text": [
      "Epoch 40, Validation Loss: 0.6664, Accuracy: 0.6277, F1 Score: 0.6253\n"
     ]
    },
    {
     "name": "stderr",
     "output_type": "stream",
     "text": [
      "Epoch 41 [Training]: 100%|██████████| 20/20 [00:19<00:00,  1.02it/s, loss=0.612]\n"
     ]
    },
    {
     "name": "stdout",
     "output_type": "stream",
     "text": [
      "Epoch 41, Training Loss: 0.6119\n"
     ]
    },
    {
     "name": "stderr",
     "output_type": "stream",
     "text": [
      "Epoch 41 [Validation]: 100%|██████████| 5/5 [00:04<00:00,  1.05it/s]\n"
     ]
    },
    {
     "name": "stdout",
     "output_type": "stream",
     "text": [
      "Epoch 41, Validation Loss: 0.6639, Accuracy: 0.6237, F1 Score: 0.6212\n"
     ]
    },
    {
     "name": "stderr",
     "output_type": "stream",
     "text": [
      "Epoch 42 [Training]: 100%|██████████| 20/20 [00:19<00:00,  1.03it/s, loss=0.613]\n"
     ]
    },
    {
     "name": "stdout",
     "output_type": "stream",
     "text": [
      "Epoch 42, Training Loss: 0.6132\n"
     ]
    },
    {
     "name": "stderr",
     "output_type": "stream",
     "text": [
      "Epoch 42 [Validation]: 100%|██████████| 5/5 [00:04<00:00,  1.05it/s]\n"
     ]
    },
    {
     "name": "stdout",
     "output_type": "stream",
     "text": [
      "Epoch 42, Validation Loss: 0.6667, Accuracy: 0.6245, F1 Score: 0.6213\n"
     ]
    },
    {
     "name": "stderr",
     "output_type": "stream",
     "text": [
      "Epoch 43 [Training]: 100%|██████████| 20/20 [00:19<00:00,  1.03it/s, loss=0.613]\n"
     ]
    },
    {
     "name": "stdout",
     "output_type": "stream",
     "text": [
      "Epoch 43, Training Loss: 0.6135\n"
     ]
    },
    {
     "name": "stderr",
     "output_type": "stream",
     "text": [
      "Epoch 43 [Validation]: 100%|██████████| 5/5 [00:04<00:00,  1.05it/s]\n"
     ]
    },
    {
     "name": "stdout",
     "output_type": "stream",
     "text": [
      "Epoch 43, Validation Loss: 0.6649, Accuracy: 0.6253, F1 Score: 0.6225\n"
     ]
    },
    {
     "name": "stderr",
     "output_type": "stream",
     "text": [
      "Epoch 44 [Training]: 100%|██████████| 20/20 [00:19<00:00,  1.03it/s, loss=0.616]\n"
     ]
    },
    {
     "name": "stdout",
     "output_type": "stream",
     "text": [
      "Epoch 44, Training Loss: 0.6156\n"
     ]
    },
    {
     "name": "stderr",
     "output_type": "stream",
     "text": [
      "Epoch 44 [Validation]: 100%|██████████| 5/5 [00:04<00:00,  1.06it/s]\n"
     ]
    },
    {
     "name": "stdout",
     "output_type": "stream",
     "text": [
      "Epoch 44, Validation Loss: 0.6653, Accuracy: 0.6294, F1 Score: 0.6270\n"
     ]
    },
    {
     "name": "stderr",
     "output_type": "stream",
     "text": [
      "Epoch 45 [Training]: 100%|██████████| 20/20 [00:19<00:00,  1.03it/s, loss=0.615]\n"
     ]
    },
    {
     "name": "stdout",
     "output_type": "stream",
     "text": [
      "Epoch 45, Training Loss: 0.6155\n"
     ]
    },
    {
     "name": "stderr",
     "output_type": "stream",
     "text": [
      "Epoch 45 [Validation]: 100%|██████████| 5/5 [00:04<00:00,  1.05it/s]\n"
     ]
    },
    {
     "name": "stdout",
     "output_type": "stream",
     "text": [
      "Epoch 45, Validation Loss: 0.6657, Accuracy: 0.6334, F1 Score: 0.6294\n"
     ]
    },
    {
     "name": "stderr",
     "output_type": "stream",
     "text": [
      "Epoch 46 [Training]: 100%|██████████| 20/20 [00:19<00:00,  1.03it/s, loss=0.607]\n"
     ]
    },
    {
     "name": "stdout",
     "output_type": "stream",
     "text": [
      "Epoch 46, Training Loss: 0.6066\n"
     ]
    },
    {
     "name": "stderr",
     "output_type": "stream",
     "text": [
      "Epoch 46 [Validation]: 100%|██████████| 5/5 [00:04<00:00,  1.05it/s]\n"
     ]
    },
    {
     "name": "stdout",
     "output_type": "stream",
     "text": [
      "Epoch 46, Validation Loss: 0.6633, Accuracy: 0.6302, F1 Score: 0.6275\n"
     ]
    },
    {
     "name": "stderr",
     "output_type": "stream",
     "text": [
      "Epoch 47 [Training]: 100%|██████████| 20/20 [00:19<00:00,  1.03it/s, loss=0.61]\n"
     ]
    },
    {
     "name": "stdout",
     "output_type": "stream",
     "text": [
      "Epoch 47, Training Loss: 0.6101\n"
     ]
    },
    {
     "name": "stderr",
     "output_type": "stream",
     "text": [
      "Epoch 47 [Validation]: 100%|██████████| 5/5 [00:04<00:00,  1.05it/s]\n"
     ]
    },
    {
     "name": "stdout",
     "output_type": "stream",
     "text": [
      "Epoch 47, Validation Loss: 0.6607, Accuracy: 0.6318, F1 Score: 0.6283\n"
     ]
    },
    {
     "name": "stderr",
     "output_type": "stream",
     "text": [
      "Epoch 48 [Training]: 100%|██████████| 20/20 [00:19<00:00,  1.03it/s, loss=0.614]\n"
     ]
    },
    {
     "name": "stdout",
     "output_type": "stream",
     "text": [
      "Epoch 48, Training Loss: 0.6142\n"
     ]
    },
    {
     "name": "stderr",
     "output_type": "stream",
     "text": [
      "Epoch 48 [Validation]: 100%|██████████| 5/5 [00:04<00:00,  1.06it/s]\n"
     ]
    },
    {
     "name": "stdout",
     "output_type": "stream",
     "text": [
      "Epoch 48, Validation Loss: 0.6609, Accuracy: 0.6326, F1 Score: 0.6294\n"
     ]
    },
    {
     "name": "stderr",
     "output_type": "stream",
     "text": [
      "Epoch 49 [Training]: 100%|██████████| 20/20 [00:19<00:00,  1.02it/s, loss=0.605]\n"
     ]
    },
    {
     "name": "stdout",
     "output_type": "stream",
     "text": [
      "Epoch 49, Training Loss: 0.6052\n"
     ]
    },
    {
     "name": "stderr",
     "output_type": "stream",
     "text": [
      "Epoch 49 [Validation]: 100%|██████████| 5/5 [00:04<00:00,  1.06it/s]\n"
     ]
    },
    {
     "name": "stdout",
     "output_type": "stream",
     "text": [
      "Epoch 49, Validation Loss: 0.6614, Accuracy: 0.6318, F1 Score: 0.6284\n"
     ]
    },
    {
     "name": "stderr",
     "output_type": "stream",
     "text": [
      "Epoch 50 [Training]: 100%|██████████| 20/20 [00:19<00:00,  1.03it/s, loss=0.609]\n"
     ]
    },
    {
     "name": "stdout",
     "output_type": "stream",
     "text": [
      "Epoch 50, Training Loss: 0.6087\n"
     ]
    },
    {
     "name": "stderr",
     "output_type": "stream",
     "text": [
      "Epoch 50 [Validation]: 100%|██████████| 5/5 [00:04<00:00,  1.05it/s]\n"
     ]
    },
    {
     "name": "stdout",
     "output_type": "stream",
     "text": [
      "Epoch 50, Validation Loss: 0.6604, Accuracy: 0.6342, F1 Score: 0.6313\n"
     ]
    }
   ],
   "source": [
    "from transformers import BertTokenizer, BertModel, BertForSequenceClassification, AdamW\n",
    "from tqdm import tqdm\n",
    "from sklearn.metrics import accuracy_score, f1_score\n",
    "import os\n",
    "os.environ[\"CUDA_LAUNCH_BLOCKING\"] = \"1\"\n",
    "\n",
    "max_phonetic_index = max([max(seq) for seq in phonetic_seqs])\n",
    "\n",
    "model = LoanWordClassifier(num_phonetic_embeddings=max_phonetic_index + 1)\n",
    "\n",
    "device = torch.device(\"cuda\" if torch.cuda.is_available() else \"cpu\")\n",
    "\n",
    "model.to(device)\n",
    "optimizer = torch.optim.AdamW(model.parameters(), lr=2e-5)\n",
    "loss_fn = torch.nn.CrossEntropyLoss()\n",
    "\n",
    "\n",
    "dataset = dataloader.dataset  # Get the dataset from DataLoader\n",
    "train_size = int(0.8 * len(dataset))\n",
    "val_size = len(dataset) - train_size\n",
    "train_dataset, val_dataset = torch.utils.data.random_split(dataset, [train_size, val_size])\n",
    "train_loader = torch.utils.data.DataLoader(train_dataset, batch_size=256, shuffle=True)\n",
    "val_loader = torch.utils.data.DataLoader(val_dataset, batch_size=256, shuffle=False)\n",
    "\n",
    "\n",
    "for epoch in range(50):\n",
    "    model.train()\n",
    "    total_train_loss = 0\n",
    "    progress_bar = tqdm(train_loader, desc=f\"Epoch {epoch+1} [Training]\")\n",
    "\n",
    "    for batch in progress_bar:\n",
    "        optimizer.zero_grad()\n",
    "        logits = model(\n",
    "            input_ids=batch[\"input_ids\"].to(device),\n",
    "            attention_mask=batch[\"attention_mask\"].to(device),\n",
    "            phonetic_seq=batch[\"phonetic_seq\"].to(device),\n",
    "            unicode_feature=batch[\"unicode_feature\"].to(device),\n",
    "            other_feature=batch[\"other_feature\"].to(device)\n",
    "        )\n",
    "        loss = loss_fn(logits, batch[\"label\"].to(device))\n",
    "        loss.backward()\n",
    "        optimizer.step()\n",
    "        total_train_loss += loss.item()\n",
    "        progress_bar.set_postfix(loss=total_train_loss / (progress_bar.n + 1))\n",
    "    \n",
    "    print(f\"Epoch {epoch + 1}, Training Loss: {total_train_loss / len(train_loader):.4f}\")\n",
    "\n",
    "    # Validation\n",
    "    model.eval()\n",
    "    total_val_loss = 0\n",
    "    all_preds, all_labels = [], []\n",
    "\n",
    "    with torch.no_grad():\n",
    "        for batch in tqdm(val_loader, desc=f\"Epoch {epoch+1} [Validation]\"):\n",
    "            logits = model(\n",
    "                input_ids=batch[\"input_ids\"].to(device),\n",
    "                attention_mask=batch[\"attention_mask\"].to(device),\n",
    "                phonetic_seq=batch[\"phonetic_seq\"].to(device),\n",
    "                unicode_feature=batch[\"unicode_feature\"].to(device),\n",
    "                other_feature=batch[\"other_feature\"].to(device)\n",
    "            )\n",
    "            loss = loss_fn(logits, batch[\"label\"].to(device))\n",
    "            total_val_loss += loss.item()\n",
    "\n",
    "            preds = torch.argmax(logits, dim=1).cpu().numpy()\n",
    "            labels = batch[\"label\"].cpu().numpy()\n",
    "\n",
    "            all_preds.extend(preds)\n",
    "            all_labels.extend(labels)\n",
    "\n",
    "    val_loss = total_val_loss / len(val_loader)\n",
    "    val_acc = accuracy_score(all_labels, all_preds)\n",
    "    val_f1 = f1_score(all_labels, all_preds, average=\"weighted\")\n",
    "\n",
    "    print(f\"Epoch {epoch+1}, Validation Loss: {val_loss:.4f}, Accuracy: {val_acc:.4f}, F1 Score: {val_f1:.4f}\")\n",
    "\n",
    "# for epoch in range(1):\n",
    "#     model.train()\n",
    "#     total_loss = 0\n",
    "#     progress_bar = tqdm(dataloader, desc=f\"Epoch {epoch+1}\")\n",
    "\n",
    "#     for batch in progress_bar:\n",
    "#         optimizer.zero_grad()\n",
    "#         logits = model(\n",
    "#             input_ids=batch[\"input_ids\"].to(device),\n",
    "#             attention_mask=batch[\"attention_mask\"].to(device),\n",
    "#             phonetic_seq=batch[\"phonetic_seq\"].to(device),\n",
    "#             unicode_feature=batch[\"unicode_feature\"].to(device),\n",
    "#             other_feature=batch[\"other_feature\"].to(device)\n",
    "#         )\n",
    "#         loss = loss_fn(logits, batch[\"label\"].to(device))\n",
    "#         loss.backward()\n",
    "#         optimizer.step()\n",
    "#         total_loss += loss.item()\n",
    "#         progress_bar.set_postfix(loss=total_loss / (progress_bar.n + 1))\n",
    "#     print(f\"Epoch {epoch + 1}, Loss: {total_loss / len(dataloader)}\")\n",
    "\n",
    "torch.save(model.state_dict(), \"loan_word_model.pth\")"
   ]
  },
  {
   "cell_type": "code",
   "execution_count": null,
   "id": "6914b315",
   "metadata": {
    "papermill": {
     "duration": 0.116963,
     "end_time": "2025-04-21T07:39:42.861309",
     "exception": false,
     "start_time": "2025-04-21T07:39:42.744346",
     "status": "completed"
    },
    "tags": []
   },
   "outputs": [],
   "source": []
  },
  {
   "cell_type": "code",
   "execution_count": 13,
   "id": "4b69022c",
   "metadata": {
    "execution": {
     "iopub.execute_input": "2025-04-21T07:39:43.098113Z",
     "iopub.status.busy": "2025-04-21T07:39:43.097814Z",
     "iopub.status.idle": "2025-04-21T07:39:44.963775Z",
     "shell.execute_reply": "2025-04-21T07:39:44.962942Z"
    },
    "papermill": {
     "duration": 1.985361,
     "end_time": "2025-04-21T07:39:44.965141",
     "exception": false,
     "start_time": "2025-04-21T07:39:42.979780",
     "status": "completed"
    },
    "tags": []
   },
   "outputs": [
    {
     "name": "stderr",
     "output_type": "stream",
     "text": [
      "<ipython-input-13-afde79c0b0ef>:6: FutureWarning: You are using `torch.load` with `weights_only=False` (the current default value), which uses the default pickle module implicitly. It is possible to construct malicious pickle data which will execute arbitrary code during unpickling (See https://github.com/pytorch/pytorch/blob/main/SECURITY.md#untrusted-models for more details). In a future release, the default value for `weights_only` will be flipped to `True`. This limits the functions that could be executed during unpickling. Arbitrary objects will no longer be allowed to be loaded via this mode unless they are explicitly allowlisted by the user via `torch.serialization.add_safe_globals`. We recommend you start setting `weights_only=True` for any use case where you don't have full control of the loaded file. Please open an issue on GitHub for any issues related to this experimental feature.\n",
      "  model.load_state_dict(torch.load(\"loan_word_model.pth\"))\n"
     ]
    },
    {
     "name": "stdout",
     "output_type": "stream",
     "text": [
      "The tensor([[0.6999, 0.3001]], device='cuda:0')\n",
      "government tensor([[0.6612, 0.3388]], device='cuda:0')\n",
      "governed tensor([[0.8090, 0.1910]], device='cuda:0')\n",
      "a tensor([[0.7958, 0.2042]], device='cuda:0')\n",
      "new tensor([[0.5417, 0.4583]], device='cuda:0')\n",
      "abordage tensor([[0.4953, 0.5047]], device='cuda:0')\n",
      "policy. tensor([[0.7249, 0.2751]], device='cuda:0')\n",
      "False loan words: ['abordage']\n"
     ]
    }
   ],
   "source": [
    "import torch\n",
    "from transformers import BertTokenizer\n",
    "import epitran\n",
    "\n",
    "# Load model and tokenizer\n",
    "model.load_state_dict(torch.load(\"loan_word_model.pth\"))\n",
    "model.eval()\n",
    "tokenizer = BertTokenizer.from_pretrained(\"bert-base-multilingual-cased\")\n",
    "epi = epitran.Epitran(\"fra-Latn\")\n",
    "\n",
    "def normalize(unicode_values):\n",
    "    mean_value = sum(unicode_values) / len(unicode_values)\n",
    "    return [val - mean_value for val in unicode_values]\n",
    "\n",
    "def extract_features(word, max_len=25):\n",
    "    try:\n",
    "        loan_epitran = epi.transliterate(word)\n",
    "        phonetic_seq = [ord(c) for c in loan_epitran] \n",
    "    except IndexError as e:\n",
    "        print(f\"Transliteration failed for '{word}': {e}\")\n",
    "        phonetic_seq = [0] \n",
    "\n",
    "    unicode_features = [ord(c) for c in word]\n",
    "    unicode_features = normalize(unicode_features)\n",
    "\n",
    "    if len(unicode_features) < max_len:\n",
    "        unicode_features = unicode_features + [0] * (max_len - len(unicode_features))\n",
    "    else:\n",
    "        unicode_features = unicode_features[:max_len]  # Truncate if longer\n",
    "\n",
    "    return phonetic_seq, unicode_features, [len(word)]\n",
    "\n",
    "\n",
    "\n",
    "sentence = \"The government governed a new abordage policy.\"\n",
    "words = sentence.split()\n",
    "\n",
    "false_loans = []\n",
    "for word in words:\n",
    "    phonetic_seq, unicode_feature, other_feature = extract_features(word)\n",
    "    inputs = tokenizer(word, return_tensors=\"pt\", padding=True, truncation=True)\n",
    "\n",
    "    with torch.no_grad():\n",
    "        logits = model(\n",
    "            input_ids=inputs[\"input_ids\"].to(device),\n",
    "            attention_mask=inputs[\"attention_mask\"].to(device),\n",
    "            phonetic_seq=torch.tensor([phonetic_seq], dtype=torch.long).to(device),\n",
    "            unicode_feature=torch.tensor([unicode_feature], dtype=torch.float).to(device),\n",
    "            other_feature=torch.tensor([other_feature], dtype=torch.float).to(device)\n",
    "        )\n",
    "        probs = torch.softmax(logits, dim=1)\n",
    "        print(word , probs)\n",
    "        \n",
    "        if torch.argmax(probs) == 1:  \n",
    "            false_loans.append(word)\n",
    "\n",
    "print(\"False loan words:\", false_loans)"
   ]
  },
  {
   "cell_type": "code",
   "execution_count": 14,
   "id": "f1131093",
   "metadata": {
    "execution": {
     "iopub.execute_input": "2025-04-21T07:39:45.203007Z",
     "iopub.status.busy": "2025-04-21T07:39:45.202721Z",
     "iopub.status.idle": "2025-04-21T07:40:23.570892Z",
     "shell.execute_reply": "2025-04-21T07:40:23.569763Z"
    },
    "papermill": {
     "duration": 38.505125,
     "end_time": "2025-04-21T07:40:23.590022",
     "exception": false,
     "start_time": "2025-04-21T07:39:45.084897",
     "status": "completed"
    },
    "tags": []
   },
   "outputs": [
    {
     "name": "stdout",
     "output_type": "stream",
     "text": [
      "  adding: kaggle/working/ (stored 0%)\r\n",
      "  adding: kaggle/working/all_languages_combined.csv (deflated 68%)\r\n",
      "  adding: kaggle/working/loan_word_model.pth (deflated 7%)\r\n",
      "  adding: kaggle/working/__notebook__.ipynb (deflated 95%)\r\n"
     ]
    }
   ],
   "source": [
    "!zip -r output.zip /kaggle/working/"
   ]
  }
 ],
 "metadata": {
  "kaggle": {
   "accelerator": "gpu",
   "dataSources": [
    {
     "datasetId": 6943082,
     "sourceId": 11132396,
     "sourceType": "datasetVersion"
    },
    {
     "datasetId": 6970853,
     "sourceId": 11170077,
     "sourceType": "datasetVersion"
    }
   ],
   "dockerImageVersionId": 30919,
   "isGpuEnabled": true,
   "isInternetEnabled": true,
   "language": "python",
   "sourceType": "notebook"
  },
  "kernelspec": {
   "display_name": "base",
   "language": "python",
   "name": "python3"
  },
  "language_info": {
   "codemirror_mode": {
    "name": "ipython",
    "version": 3
   },
   "file_extension": ".py",
   "mimetype": "text/x-python",
   "name": "python",
   "nbconvert_exporter": "python",
   "pygments_lexer": "ipython3",
   "version": "3.12.2"
  },
  "papermill": {
   "default_parameters": {},
   "duration": 1329.351389,
   "end_time": "2025-04-21T07:40:26.972293",
   "environment_variables": {},
   "exception": null,
   "input_path": "__notebook__.ipynb",
   "output_path": "__notebook__.ipynb",
   "parameters": {},
   "start_time": "2025-04-21T07:18:17.620904",
   "version": "2.6.0"
  },
  "widgets": {
   "application/vnd.jupyter.widget-state+json": {
    "state": {
     "0324d1ea73e64f3aba23da83450dfb48": {
      "model_module": "@jupyter-widgets/base",
      "model_module_version": "2.0.0",
      "model_name": "LayoutModel",
      "state": {
       "_model_module": "@jupyter-widgets/base",
       "_model_module_version": "2.0.0",
       "_model_name": "LayoutModel",
       "_view_count": null,
       "_view_module": "@jupyter-widgets/base",
       "_view_module_version": "2.0.0",
       "_view_name": "LayoutView",
       "align_content": null,
       "align_items": null,
       "align_self": null,
       "border_bottom": null,
       "border_left": null,
       "border_right": null,
       "border_top": null,
       "bottom": null,
       "display": null,
       "flex": null,
       "flex_flow": null,
       "grid_area": null,
       "grid_auto_columns": null,
       "grid_auto_flow": null,
       "grid_auto_rows": null,
       "grid_column": null,
       "grid_gap": null,
       "grid_row": null,
       "grid_template_areas": null,
       "grid_template_columns": null,
       "grid_template_rows": null,
       "height": null,
       "justify_content": null,
       "justify_items": null,
       "left": null,
       "margin": null,
       "max_height": null,
       "max_width": null,
       "min_height": null,
       "min_width": null,
       "object_fit": null,
       "object_position": null,
       "order": null,
       "overflow": null,
       "padding": null,
       "right": null,
       "top": null,
       "visibility": null,
       "width": null
      }
     },
     "06370b0ac2c144e6882649f4770bec70": {
      "model_module": "@jupyter-widgets/controls",
      "model_module_version": "2.0.0",
      "model_name": "HTMLModel",
      "state": {
       "_dom_classes": [],
       "_model_module": "@jupyter-widgets/controls",
       "_model_module_version": "2.0.0",
       "_model_name": "HTMLModel",
       "_view_count": null,
       "_view_module": "@jupyter-widgets/controls",
       "_view_module_version": "2.0.0",
       "_view_name": "HTMLView",
       "description": "",
       "description_allow_html": false,
       "layout": "IPY_MODEL_177e3bcdc5db464280db90142c24f373",
       "placeholder": "​",
       "style": "IPY_MODEL_f2403fb6a8c541e79854210966b8b97b",
       "tabbable": null,
       "tooltip": null,
       "value": "config.json: 100%"
      }
     },
     "09040612631c4ad3a2192fac382e945b": {
      "model_module": "@jupyter-widgets/base",
      "model_module_version": "2.0.0",
      "model_name": "LayoutModel",
      "state": {
       "_model_module": "@jupyter-widgets/base",
       "_model_module_version": "2.0.0",
       "_model_name": "LayoutModel",
       "_view_count": null,
       "_view_module": "@jupyter-widgets/base",
       "_view_module_version": "2.0.0",
       "_view_name": "LayoutView",
       "align_content": null,
       "align_items": null,
       "align_self": null,
       "border_bottom": null,
       "border_left": null,
       "border_right": null,
       "border_top": null,
       "bottom": null,
       "display": null,
       "flex": null,
       "flex_flow": null,
       "grid_area": null,
       "grid_auto_columns": null,
       "grid_auto_flow": null,
       "grid_auto_rows": null,
       "grid_column": null,
       "grid_gap": null,
       "grid_row": null,
       "grid_template_areas": null,
       "grid_template_columns": null,
       "grid_template_rows": null,
       "height": null,
       "justify_content": null,
       "justify_items": null,
       "left": null,
       "margin": null,
       "max_height": null,
       "max_width": null,
       "min_height": null,
       "min_width": null,
       "object_fit": null,
       "object_position": null,
       "order": null,
       "overflow": null,
       "padding": null,
       "right": null,
       "top": null,
       "visibility": null,
       "width": null
      }
     },
     "177e3bcdc5db464280db90142c24f373": {
      "model_module": "@jupyter-widgets/base",
      "model_module_version": "2.0.0",
      "model_name": "LayoutModel",
      "state": {
       "_model_module": "@jupyter-widgets/base",
       "_model_module_version": "2.0.0",
       "_model_name": "LayoutModel",
       "_view_count": null,
       "_view_module": "@jupyter-widgets/base",
       "_view_module_version": "2.0.0",
       "_view_name": "LayoutView",
       "align_content": null,
       "align_items": null,
       "align_self": null,
       "border_bottom": null,
       "border_left": null,
       "border_right": null,
       "border_top": null,
       "bottom": null,
       "display": null,
       "flex": null,
       "flex_flow": null,
       "grid_area": null,
       "grid_auto_columns": null,
       "grid_auto_flow": null,
       "grid_auto_rows": null,
       "grid_column": null,
       "grid_gap": null,
       "grid_row": null,
       "grid_template_areas": null,
       "grid_template_columns": null,
       "grid_template_rows": null,
       "height": null,
       "justify_content": null,
       "justify_items": null,
       "left": null,
       "margin": null,
       "max_height": null,
       "max_width": null,
       "min_height": null,
       "min_width": null,
       "object_fit": null,
       "object_position": null,
       "order": null,
       "overflow": null,
       "padding": null,
       "right": null,
       "top": null,
       "visibility": null,
       "width": null
      }
     },
     "17be983102b9441782b59eced31412e5": {
      "model_module": "@jupyter-widgets/base",
      "model_module_version": "2.0.0",
      "model_name": "LayoutModel",
      "state": {
       "_model_module": "@jupyter-widgets/base",
       "_model_module_version": "2.0.0",
       "_model_name": "LayoutModel",
       "_view_count": null,
       "_view_module": "@jupyter-widgets/base",
       "_view_module_version": "2.0.0",
       "_view_name": "LayoutView",
       "align_content": null,
       "align_items": null,
       "align_self": null,
       "border_bottom": null,
       "border_left": null,
       "border_right": null,
       "border_top": null,
       "bottom": null,
       "display": null,
       "flex": null,
       "flex_flow": null,
       "grid_area": null,
       "grid_auto_columns": null,
       "grid_auto_flow": null,
       "grid_auto_rows": null,
       "grid_column": null,
       "grid_gap": null,
       "grid_row": null,
       "grid_template_areas": null,
       "grid_template_columns": null,
       "grid_template_rows": null,
       "height": null,
       "justify_content": null,
       "justify_items": null,
       "left": null,
       "margin": null,
       "max_height": null,
       "max_width": null,
       "min_height": null,
       "min_width": null,
       "object_fit": null,
       "object_position": null,
       "order": null,
       "overflow": null,
       "padding": null,
       "right": null,
       "top": null,
       "visibility": null,
       "width": null
      }
     },
     "1c6e39caee334660a8600a73ae3ef8f7": {
      "model_module": "@jupyter-widgets/controls",
      "model_module_version": "2.0.0",
      "model_name": "ProgressStyleModel",
      "state": {
       "_model_module": "@jupyter-widgets/controls",
       "_model_module_version": "2.0.0",
       "_model_name": "ProgressStyleModel",
       "_view_count": null,
       "_view_module": "@jupyter-widgets/base",
       "_view_module_version": "2.0.0",
       "_view_name": "StyleView",
       "bar_color": null,
       "description_width": ""
      }
     },
     "25fd892d598d4cf1bc5b28c296fc1ab7": {
      "model_module": "@jupyter-widgets/base",
      "model_module_version": "2.0.0",
      "model_name": "LayoutModel",
      "state": {
       "_model_module": "@jupyter-widgets/base",
       "_model_module_version": "2.0.0",
       "_model_name": "LayoutModel",
       "_view_count": null,
       "_view_module": "@jupyter-widgets/base",
       "_view_module_version": "2.0.0",
       "_view_name": "LayoutView",
       "align_content": null,
       "align_items": null,
       "align_self": null,
       "border_bottom": null,
       "border_left": null,
       "border_right": null,
       "border_top": null,
       "bottom": null,
       "display": null,
       "flex": null,
       "flex_flow": null,
       "grid_area": null,
       "grid_auto_columns": null,
       "grid_auto_flow": null,
       "grid_auto_rows": null,
       "grid_column": null,
       "grid_gap": null,
       "grid_row": null,
       "grid_template_areas": null,
       "grid_template_columns": null,
       "grid_template_rows": null,
       "height": null,
       "justify_content": null,
       "justify_items": null,
       "left": null,
       "margin": null,
       "max_height": null,
       "max_width": null,
       "min_height": null,
       "min_width": null,
       "object_fit": null,
       "object_position": null,
       "order": null,
       "overflow": null,
       "padding": null,
       "right": null,
       "top": null,
       "visibility": null,
       "width": null
      }
     },
     "3066d32016b84e7d83ca6ad5023fcc69": {
      "model_module": "@jupyter-widgets/controls",
      "model_module_version": "2.0.0",
      "model_name": "HTMLStyleModel",
      "state": {
       "_model_module": "@jupyter-widgets/controls",
       "_model_module_version": "2.0.0",
       "_model_name": "HTMLStyleModel",
       "_view_count": null,
       "_view_module": "@jupyter-widgets/base",
       "_view_module_version": "2.0.0",
       "_view_name": "StyleView",
       "background": null,
       "description_width": "",
       "font_size": null,
       "text_color": null
      }
     },
     "362c6cd23acc41d6a18184a656fe9334": {
      "model_module": "@jupyter-widgets/base",
      "model_module_version": "2.0.0",
      "model_name": "LayoutModel",
      "state": {
       "_model_module": "@jupyter-widgets/base",
       "_model_module_version": "2.0.0",
       "_model_name": "LayoutModel",
       "_view_count": null,
       "_view_module": "@jupyter-widgets/base",
       "_view_module_version": "2.0.0",
       "_view_name": "LayoutView",
       "align_content": null,
       "align_items": null,
       "align_self": null,
       "border_bottom": null,
       "border_left": null,
       "border_right": null,
       "border_top": null,
       "bottom": null,
       "display": null,
       "flex": null,
       "flex_flow": null,
       "grid_area": null,
       "grid_auto_columns": null,
       "grid_auto_flow": null,
       "grid_auto_rows": null,
       "grid_column": null,
       "grid_gap": null,
       "grid_row": null,
       "grid_template_areas": null,
       "grid_template_columns": null,
       "grid_template_rows": null,
       "height": null,
       "justify_content": null,
       "justify_items": null,
       "left": null,
       "margin": null,
       "max_height": null,
       "max_width": null,
       "min_height": null,
       "min_width": null,
       "object_fit": null,
       "object_position": null,
       "order": null,
       "overflow": null,
       "padding": null,
       "right": null,
       "top": null,
       "visibility": null,
       "width": null
      }
     },
     "39d5e9e33f854a8bbef5384df6fde2c4": {
      "model_module": "@jupyter-widgets/controls",
      "model_module_version": "2.0.0",
      "model_name": "HTMLStyleModel",
      "state": {
       "_model_module": "@jupyter-widgets/controls",
       "_model_module_version": "2.0.0",
       "_model_name": "HTMLStyleModel",
       "_view_count": null,
       "_view_module": "@jupyter-widgets/base",
       "_view_module_version": "2.0.0",
       "_view_name": "StyleView",
       "background": null,
       "description_width": "",
       "font_size": null,
       "text_color": null
      }
     },
     "4913b42ba17d45d68147c06c1c7e7036": {
      "model_module": "@jupyter-widgets/controls",
      "model_module_version": "2.0.0",
      "model_name": "HBoxModel",
      "state": {
       "_dom_classes": [],
       "_model_module": "@jupyter-widgets/controls",
       "_model_module_version": "2.0.0",
       "_model_name": "HBoxModel",
       "_view_count": null,
       "_view_module": "@jupyter-widgets/controls",
       "_view_module_version": "2.0.0",
       "_view_name": "HBoxView",
       "box_style": "",
       "children": [
        "IPY_MODEL_546ea14275ba45c389b4f24343008789",
        "IPY_MODEL_7cf4b2c638214e15b37344496bfbf3c6",
        "IPY_MODEL_74a173ed316c4d19983874f8f4392bc4"
       ],
       "layout": "IPY_MODEL_7a6a1f97eeb949fea2e4a86b63ca11ea",
       "tabbable": null,
       "tooltip": null
      }
     },
     "4d774fb8957143fea97cae1eb5e96236": {
      "model_module": "@jupyter-widgets/base",
      "model_module_version": "2.0.0",
      "model_name": "LayoutModel",
      "state": {
       "_model_module": "@jupyter-widgets/base",
       "_model_module_version": "2.0.0",
       "_model_name": "LayoutModel",
       "_view_count": null,
       "_view_module": "@jupyter-widgets/base",
       "_view_module_version": "2.0.0",
       "_view_name": "LayoutView",
       "align_content": null,
       "align_items": null,
       "align_self": null,
       "border_bottom": null,
       "border_left": null,
       "border_right": null,
       "border_top": null,
       "bottom": null,
       "display": null,
       "flex": null,
       "flex_flow": null,
       "grid_area": null,
       "grid_auto_columns": null,
       "grid_auto_flow": null,
       "grid_auto_rows": null,
       "grid_column": null,
       "grid_gap": null,
       "grid_row": null,
       "grid_template_areas": null,
       "grid_template_columns": null,
       "grid_template_rows": null,
       "height": null,
       "justify_content": null,
       "justify_items": null,
       "left": null,
       "margin": null,
       "max_height": null,
       "max_width": null,
       "min_height": null,
       "min_width": null,
       "object_fit": null,
       "object_position": null,
       "order": null,
       "overflow": null,
       "padding": null,
       "right": null,
       "top": null,
       "visibility": null,
       "width": null
      }
     },
     "546ea14275ba45c389b4f24343008789": {
      "model_module": "@jupyter-widgets/controls",
      "model_module_version": "2.0.0",
      "model_name": "HTMLModel",
      "state": {
       "_dom_classes": [],
       "_model_module": "@jupyter-widgets/controls",
       "_model_module_version": "2.0.0",
       "_model_name": "HTMLModel",
       "_view_count": null,
       "_view_module": "@jupyter-widgets/controls",
       "_view_module_version": "2.0.0",
       "_view_name": "HTMLView",
       "description": "",
       "description_allow_html": false,
       "layout": "IPY_MODEL_09040612631c4ad3a2192fac382e945b",
       "placeholder": "​",
       "style": "IPY_MODEL_99f6d718e33f4b30b3860f916ea18fa5",
       "tabbable": null,
       "tooltip": null,
       "value": "vocab.txt: 100%"
      }
     },
     "574a437baf6b4df2b39e26ebabaa550b": {
      "model_module": "@jupyter-widgets/base",
      "model_module_version": "2.0.0",
      "model_name": "LayoutModel",
      "state": {
       "_model_module": "@jupyter-widgets/base",
       "_model_module_version": "2.0.0",
       "_model_name": "LayoutModel",
       "_view_count": null,
       "_view_module": "@jupyter-widgets/base",
       "_view_module_version": "2.0.0",
       "_view_name": "LayoutView",
       "align_content": null,
       "align_items": null,
       "align_self": null,
       "border_bottom": null,
       "border_left": null,
       "border_right": null,
       "border_top": null,
       "bottom": null,
       "display": null,
       "flex": null,
       "flex_flow": null,
       "grid_area": null,
       "grid_auto_columns": null,
       "grid_auto_flow": null,
       "grid_auto_rows": null,
       "grid_column": null,
       "grid_gap": null,
       "grid_row": null,
       "grid_template_areas": null,
       "grid_template_columns": null,
       "grid_template_rows": null,
       "height": null,
       "justify_content": null,
       "justify_items": null,
       "left": null,
       "margin": null,
       "max_height": null,
       "max_width": null,
       "min_height": null,
       "min_width": null,
       "object_fit": null,
       "object_position": null,
       "order": null,
       "overflow": null,
       "padding": null,
       "right": null,
       "top": null,
       "visibility": null,
       "width": null
      }
     },
     "5b03cfd70a834b04942920a20c48a456": {
      "model_module": "@jupyter-widgets/controls",
      "model_module_version": "2.0.0",
      "model_name": "FloatProgressModel",
      "state": {
       "_dom_classes": [],
       "_model_module": "@jupyter-widgets/controls",
       "_model_module_version": "2.0.0",
       "_model_name": "FloatProgressModel",
       "_view_count": null,
       "_view_module": "@jupyter-widgets/controls",
       "_view_module_version": "2.0.0",
       "_view_name": "ProgressView",
       "bar_style": "success",
       "description": "",
       "description_allow_html": false,
       "layout": "IPY_MODEL_7a03bdf4bc9d4f76847d0802886c386d",
       "max": 49,
       "min": 0,
       "orientation": "horizontal",
       "style": "IPY_MODEL_8b20220654a74c698437bbeaa50a48dc",
       "tabbable": null,
       "tooltip": null,
       "value": 49
      }
     },
     "5b4f3f3fefae40ef8cd7734c53e74f34": {
      "model_module": "@jupyter-widgets/controls",
      "model_module_version": "2.0.0",
      "model_name": "HTMLModel",
      "state": {
       "_dom_classes": [],
       "_model_module": "@jupyter-widgets/controls",
       "_model_module_version": "2.0.0",
       "_model_name": "HTMLModel",
       "_view_count": null,
       "_view_module": "@jupyter-widgets/controls",
       "_view_module_version": "2.0.0",
       "_view_name": "HTMLView",
       "description": "",
       "description_allow_html": false,
       "layout": "IPY_MODEL_cbaf3a2fc39c415f9cb03521f981c3cf",
       "placeholder": "​",
       "style": "IPY_MODEL_79e68553d0d040a3b5de28a41dcbeaff",
       "tabbable": null,
       "tooltip": null,
       "value": "tokenizer.json: 100%"
      }
     },
     "71653cfb42484be3b2ca137071101333": {
      "model_module": "@jupyter-widgets/base",
      "model_module_version": "2.0.0",
      "model_name": "LayoutModel",
      "state": {
       "_model_module": "@jupyter-widgets/base",
       "_model_module_version": "2.0.0",
       "_model_name": "LayoutModel",
       "_view_count": null,
       "_view_module": "@jupyter-widgets/base",
       "_view_module_version": "2.0.0",
       "_view_name": "LayoutView",
       "align_content": null,
       "align_items": null,
       "align_self": null,
       "border_bottom": null,
       "border_left": null,
       "border_right": null,
       "border_top": null,
       "bottom": null,
       "display": null,
       "flex": null,
       "flex_flow": null,
       "grid_area": null,
       "grid_auto_columns": null,
       "grid_auto_flow": null,
       "grid_auto_rows": null,
       "grid_column": null,
       "grid_gap": null,
       "grid_row": null,
       "grid_template_areas": null,
       "grid_template_columns": null,
       "grid_template_rows": null,
       "height": null,
       "justify_content": null,
       "justify_items": null,
       "left": null,
       "margin": null,
       "max_height": null,
       "max_width": null,
       "min_height": null,
       "min_width": null,
       "object_fit": null,
       "object_position": null,
       "order": null,
       "overflow": null,
       "padding": null,
       "right": null,
       "top": null,
       "visibility": null,
       "width": null
      }
     },
     "74a173ed316c4d19983874f8f4392bc4": {
      "model_module": "@jupyter-widgets/controls",
      "model_module_version": "2.0.0",
      "model_name": "HTMLModel",
      "state": {
       "_dom_classes": [],
       "_model_module": "@jupyter-widgets/controls",
       "_model_module_version": "2.0.0",
       "_model_name": "HTMLModel",
       "_view_count": null,
       "_view_module": "@jupyter-widgets/controls",
       "_view_module_version": "2.0.0",
       "_view_name": "HTMLView",
       "description": "",
       "description_allow_html": false,
       "layout": "IPY_MODEL_b9b97fccdf88467bbca64576bf52ed39",
       "placeholder": "​",
       "style": "IPY_MODEL_c587273b8605424f843cd0011ffdea09",
       "tabbable": null,
       "tooltip": null,
       "value": " 996k/996k [00:00&lt;00:00, 1.92MB/s]"
      }
     },
     "787468c07b594ec1b364a0b9562d6b28": {
      "model_module": "@jupyter-widgets/base",
      "model_module_version": "2.0.0",
      "model_name": "LayoutModel",
      "state": {
       "_model_module": "@jupyter-widgets/base",
       "_model_module_version": "2.0.0",
       "_model_name": "LayoutModel",
       "_view_count": null,
       "_view_module": "@jupyter-widgets/base",
       "_view_module_version": "2.0.0",
       "_view_name": "LayoutView",
       "align_content": null,
       "align_items": null,
       "align_self": null,
       "border_bottom": null,
       "border_left": null,
       "border_right": null,
       "border_top": null,
       "bottom": null,
       "display": null,
       "flex": null,
       "flex_flow": null,
       "grid_area": null,
       "grid_auto_columns": null,
       "grid_auto_flow": null,
       "grid_auto_rows": null,
       "grid_column": null,
       "grid_gap": null,
       "grid_row": null,
       "grid_template_areas": null,
       "grid_template_columns": null,
       "grid_template_rows": null,
       "height": null,
       "justify_content": null,
       "justify_items": null,
       "left": null,
       "margin": null,
       "max_height": null,
       "max_width": null,
       "min_height": null,
       "min_width": null,
       "object_fit": null,
       "object_position": null,
       "order": null,
       "overflow": null,
       "padding": null,
       "right": null,
       "top": null,
       "visibility": null,
       "width": null
      }
     },
     "79e68553d0d040a3b5de28a41dcbeaff": {
      "model_module": "@jupyter-widgets/controls",
      "model_module_version": "2.0.0",
      "model_name": "HTMLStyleModel",
      "state": {
       "_model_module": "@jupyter-widgets/controls",
       "_model_module_version": "2.0.0",
       "_model_name": "HTMLStyleModel",
       "_view_count": null,
       "_view_module": "@jupyter-widgets/base",
       "_view_module_version": "2.0.0",
       "_view_name": "StyleView",
       "background": null,
       "description_width": "",
       "font_size": null,
       "text_color": null
      }
     },
     "7a03bdf4bc9d4f76847d0802886c386d": {
      "model_module": "@jupyter-widgets/base",
      "model_module_version": "2.0.0",
      "model_name": "LayoutModel",
      "state": {
       "_model_module": "@jupyter-widgets/base",
       "_model_module_version": "2.0.0",
       "_model_name": "LayoutModel",
       "_view_count": null,
       "_view_module": "@jupyter-widgets/base",
       "_view_module_version": "2.0.0",
       "_view_name": "LayoutView",
       "align_content": null,
       "align_items": null,
       "align_self": null,
       "border_bottom": null,
       "border_left": null,
       "border_right": null,
       "border_top": null,
       "bottom": null,
       "display": null,
       "flex": null,
       "flex_flow": null,
       "grid_area": null,
       "grid_auto_columns": null,
       "grid_auto_flow": null,
       "grid_auto_rows": null,
       "grid_column": null,
       "grid_gap": null,
       "grid_row": null,
       "grid_template_areas": null,
       "grid_template_columns": null,
       "grid_template_rows": null,
       "height": null,
       "justify_content": null,
       "justify_items": null,
       "left": null,
       "margin": null,
       "max_height": null,
       "max_width": null,
       "min_height": null,
       "min_width": null,
       "object_fit": null,
       "object_position": null,
       "order": null,
       "overflow": null,
       "padding": null,
       "right": null,
       "top": null,
       "visibility": null,
       "width": null
      }
     },
     "7a289fe8176d42bbb41590a40d8ff382": {
      "model_module": "@jupyter-widgets/controls",
      "model_module_version": "2.0.0",
      "model_name": "HTMLStyleModel",
      "state": {
       "_model_module": "@jupyter-widgets/controls",
       "_model_module_version": "2.0.0",
       "_model_name": "HTMLStyleModel",
       "_view_count": null,
       "_view_module": "@jupyter-widgets/base",
       "_view_module_version": "2.0.0",
       "_view_name": "StyleView",
       "background": null,
       "description_width": "",
       "font_size": null,
       "text_color": null
      }
     },
     "7a6a1f97eeb949fea2e4a86b63ca11ea": {
      "model_module": "@jupyter-widgets/base",
      "model_module_version": "2.0.0",
      "model_name": "LayoutModel",
      "state": {
       "_model_module": "@jupyter-widgets/base",
       "_model_module_version": "2.0.0",
       "_model_name": "LayoutModel",
       "_view_count": null,
       "_view_module": "@jupyter-widgets/base",
       "_view_module_version": "2.0.0",
       "_view_name": "LayoutView",
       "align_content": null,
       "align_items": null,
       "align_self": null,
       "border_bottom": null,
       "border_left": null,
       "border_right": null,
       "border_top": null,
       "bottom": null,
       "display": null,
       "flex": null,
       "flex_flow": null,
       "grid_area": null,
       "grid_auto_columns": null,
       "grid_auto_flow": null,
       "grid_auto_rows": null,
       "grid_column": null,
       "grid_gap": null,
       "grid_row": null,
       "grid_template_areas": null,
       "grid_template_columns": null,
       "grid_template_rows": null,
       "height": null,
       "justify_content": null,
       "justify_items": null,
       "left": null,
       "margin": null,
       "max_height": null,
       "max_width": null,
       "min_height": null,
       "min_width": null,
       "object_fit": null,
       "object_position": null,
       "order": null,
       "overflow": null,
       "padding": null,
       "right": null,
       "top": null,
       "visibility": null,
       "width": null
      }
     },
     "7cf4b2c638214e15b37344496bfbf3c6": {
      "model_module": "@jupyter-widgets/controls",
      "model_module_version": "2.0.0",
      "model_name": "FloatProgressModel",
      "state": {
       "_dom_classes": [],
       "_model_module": "@jupyter-widgets/controls",
       "_model_module_version": "2.0.0",
       "_model_name": "FloatProgressModel",
       "_view_count": null,
       "_view_module": "@jupyter-widgets/controls",
       "_view_module_version": "2.0.0",
       "_view_name": "ProgressView",
       "bar_style": "success",
       "description": "",
       "description_allow_html": false,
       "layout": "IPY_MODEL_0324d1ea73e64f3aba23da83450dfb48",
       "max": 995526,
       "min": 0,
       "orientation": "horizontal",
       "style": "IPY_MODEL_1c6e39caee334660a8600a73ae3ef8f7",
       "tabbable": null,
       "tooltip": null,
       "value": 995526
      }
     },
     "8b20220654a74c698437bbeaa50a48dc": {
      "model_module": "@jupyter-widgets/controls",
      "model_module_version": "2.0.0",
      "model_name": "ProgressStyleModel",
      "state": {
       "_model_module": "@jupyter-widgets/controls",
       "_model_module_version": "2.0.0",
       "_model_name": "ProgressStyleModel",
       "_view_count": null,
       "_view_module": "@jupyter-widgets/base",
       "_view_module_version": "2.0.0",
       "_view_name": "StyleView",
       "bar_color": null,
       "description_width": ""
      }
     },
     "8cc32cb95ced413cbd55972567da139d": {
      "model_module": "@jupyter-widgets/controls",
      "model_module_version": "2.0.0",
      "model_name": "ProgressStyleModel",
      "state": {
       "_model_module": "@jupyter-widgets/controls",
       "_model_module_version": "2.0.0",
       "_model_name": "ProgressStyleModel",
       "_view_count": null,
       "_view_module": "@jupyter-widgets/base",
       "_view_module_version": "2.0.0",
       "_view_name": "StyleView",
       "bar_color": null,
       "description_width": ""
      }
     },
     "953f82b107824ab6b3ee6241b93f88af": {
      "model_module": "@jupyter-widgets/controls",
      "model_module_version": "2.0.0",
      "model_name": "HBoxModel",
      "state": {
       "_dom_classes": [],
       "_model_module": "@jupyter-widgets/controls",
       "_model_module_version": "2.0.0",
       "_model_name": "HBoxModel",
       "_view_count": null,
       "_view_module": "@jupyter-widgets/controls",
       "_view_module_version": "2.0.0",
       "_view_name": "HBoxView",
       "box_style": "",
       "children": [
        "IPY_MODEL_9c767a8b38dc4ea5bd057da2491bf31f",
        "IPY_MODEL_5b03cfd70a834b04942920a20c48a456",
        "IPY_MODEL_ce5bf8f312ae40a99255201e4adbee92"
       ],
       "layout": "IPY_MODEL_574a437baf6b4df2b39e26ebabaa550b",
       "tabbable": null,
       "tooltip": null
      }
     },
     "966a77e16f7c48d193102e600da608d2": {
      "model_module": "@jupyter-widgets/controls",
      "model_module_version": "2.0.0",
      "model_name": "HTMLModel",
      "state": {
       "_dom_classes": [],
       "_model_module": "@jupyter-widgets/controls",
       "_model_module_version": "2.0.0",
       "_model_name": "HTMLModel",
       "_view_count": null,
       "_view_module": "@jupyter-widgets/controls",
       "_view_module_version": "2.0.0",
       "_view_name": "HTMLView",
       "description": "",
       "description_allow_html": false,
       "layout": "IPY_MODEL_c5eba2ed10524974bfad349f414a4c58",
       "placeholder": "​",
       "style": "IPY_MODEL_3066d32016b84e7d83ca6ad5023fcc69",
       "tabbable": null,
       "tooltip": null,
       "value": " 625/625 [00:00&lt;00:00, 63.9kB/s]"
      }
     },
     "99f6d718e33f4b30b3860f916ea18fa5": {
      "model_module": "@jupyter-widgets/controls",
      "model_module_version": "2.0.0",
      "model_name": "HTMLStyleModel",
      "state": {
       "_model_module": "@jupyter-widgets/controls",
       "_model_module_version": "2.0.0",
       "_model_name": "HTMLStyleModel",
       "_view_count": null,
       "_view_module": "@jupyter-widgets/base",
       "_view_module_version": "2.0.0",
       "_view_name": "StyleView",
       "background": null,
       "description_width": "",
       "font_size": null,
       "text_color": null
      }
     },
     "9c767a8b38dc4ea5bd057da2491bf31f": {
      "model_module": "@jupyter-widgets/controls",
      "model_module_version": "2.0.0",
      "model_name": "HTMLModel",
      "state": {
       "_dom_classes": [],
       "_model_module": "@jupyter-widgets/controls",
       "_model_module_version": "2.0.0",
       "_model_name": "HTMLModel",
       "_view_count": null,
       "_view_module": "@jupyter-widgets/controls",
       "_view_module_version": "2.0.0",
       "_view_name": "HTMLView",
       "description": "",
       "description_allow_html": false,
       "layout": "IPY_MODEL_71653cfb42484be3b2ca137071101333",
       "placeholder": "​",
       "style": "IPY_MODEL_39d5e9e33f854a8bbef5384df6fde2c4",
       "tabbable": null,
       "tooltip": null,
       "value": "tokenizer_config.json: 100%"
      }
     },
     "b181baa436714e1d91e09210d1bb9828": {
      "model_module": "@jupyter-widgets/controls",
      "model_module_version": "2.0.0",
      "model_name": "HTMLModel",
      "state": {
       "_dom_classes": [],
       "_model_module": "@jupyter-widgets/controls",
       "_model_module_version": "2.0.0",
       "_model_name": "HTMLModel",
       "_view_count": null,
       "_view_module": "@jupyter-widgets/controls",
       "_view_module_version": "2.0.0",
       "_view_name": "HTMLView",
       "description": "",
       "description_allow_html": false,
       "layout": "IPY_MODEL_362c6cd23acc41d6a18184a656fe9334",
       "placeholder": "​",
       "style": "IPY_MODEL_ebd916fd80db4e8fbbc01b606ad9ae4f",
       "tabbable": null,
       "tooltip": null,
       "value": " 1.96M/1.96M [00:00&lt;00:00, 10.7MB/s]"
      }
     },
     "b9b97fccdf88467bbca64576bf52ed39": {
      "model_module": "@jupyter-widgets/base",
      "model_module_version": "2.0.0",
      "model_name": "LayoutModel",
      "state": {
       "_model_module": "@jupyter-widgets/base",
       "_model_module_version": "2.0.0",
       "_model_name": "LayoutModel",
       "_view_count": null,
       "_view_module": "@jupyter-widgets/base",
       "_view_module_version": "2.0.0",
       "_view_name": "LayoutView",
       "align_content": null,
       "align_items": null,
       "align_self": null,
       "border_bottom": null,
       "border_left": null,
       "border_right": null,
       "border_top": null,
       "bottom": null,
       "display": null,
       "flex": null,
       "flex_flow": null,
       "grid_area": null,
       "grid_auto_columns": null,
       "grid_auto_flow": null,
       "grid_auto_rows": null,
       "grid_column": null,
       "grid_gap": null,
       "grid_row": null,
       "grid_template_areas": null,
       "grid_template_columns": null,
       "grid_template_rows": null,
       "height": null,
       "justify_content": null,
       "justify_items": null,
       "left": null,
       "margin": null,
       "max_height": null,
       "max_width": null,
       "min_height": null,
       "min_width": null,
       "object_fit": null,
       "object_position": null,
       "order": null,
       "overflow": null,
       "padding": null,
       "right": null,
       "top": null,
       "visibility": null,
       "width": null
      }
     },
     "bf79318247264c14a90acd2a9cb15675": {
      "model_module": "@jupyter-widgets/controls",
      "model_module_version": "2.0.0",
      "model_name": "FloatProgressModel",
      "state": {
       "_dom_classes": [],
       "_model_module": "@jupyter-widgets/controls",
       "_model_module_version": "2.0.0",
       "_model_name": "FloatProgressModel",
       "_view_count": null,
       "_view_module": "@jupyter-widgets/controls",
       "_view_module_version": "2.0.0",
       "_view_name": "ProgressView",
       "bar_style": "success",
       "description": "",
       "description_allow_html": false,
       "layout": "IPY_MODEL_787468c07b594ec1b364a0b9562d6b28",
       "max": 1961828,
       "min": 0,
       "orientation": "horizontal",
       "style": "IPY_MODEL_8cc32cb95ced413cbd55972567da139d",
       "tabbable": null,
       "tooltip": null,
       "value": 1961828
      }
     },
     "c1d8a2feaca8466a85c858c11d118d10": {
      "model_module": "@jupyter-widgets/controls",
      "model_module_version": "2.0.0",
      "model_name": "ProgressStyleModel",
      "state": {
       "_model_module": "@jupyter-widgets/controls",
       "_model_module_version": "2.0.0",
       "_model_name": "ProgressStyleModel",
       "_view_count": null,
       "_view_module": "@jupyter-widgets/base",
       "_view_module_version": "2.0.0",
       "_view_name": "StyleView",
       "bar_color": null,
       "description_width": ""
      }
     },
     "c3bfafb78ba048d1a457e004c1d73746": {
      "model_module": "@jupyter-widgets/controls",
      "model_module_version": "2.0.0",
      "model_name": "HBoxModel",
      "state": {
       "_dom_classes": [],
       "_model_module": "@jupyter-widgets/controls",
       "_model_module_version": "2.0.0",
       "_model_name": "HBoxModel",
       "_view_count": null,
       "_view_module": "@jupyter-widgets/controls",
       "_view_module_version": "2.0.0",
       "_view_name": "HBoxView",
       "box_style": "",
       "children": [
        "IPY_MODEL_5b4f3f3fefae40ef8cd7734c53e74f34",
        "IPY_MODEL_bf79318247264c14a90acd2a9cb15675",
        "IPY_MODEL_b181baa436714e1d91e09210d1bb9828"
       ],
       "layout": "IPY_MODEL_17be983102b9441782b59eced31412e5",
       "tabbable": null,
       "tooltip": null
      }
     },
     "c587273b8605424f843cd0011ffdea09": {
      "model_module": "@jupyter-widgets/controls",
      "model_module_version": "2.0.0",
      "model_name": "HTMLStyleModel",
      "state": {
       "_model_module": "@jupyter-widgets/controls",
       "_model_module_version": "2.0.0",
       "_model_name": "HTMLStyleModel",
       "_view_count": null,
       "_view_module": "@jupyter-widgets/base",
       "_view_module_version": "2.0.0",
       "_view_name": "StyleView",
       "background": null,
       "description_width": "",
       "font_size": null,
       "text_color": null
      }
     },
     "c5eba2ed10524974bfad349f414a4c58": {
      "model_module": "@jupyter-widgets/base",
      "model_module_version": "2.0.0",
      "model_name": "LayoutModel",
      "state": {
       "_model_module": "@jupyter-widgets/base",
       "_model_module_version": "2.0.0",
       "_model_name": "LayoutModel",
       "_view_count": null,
       "_view_module": "@jupyter-widgets/base",
       "_view_module_version": "2.0.0",
       "_view_name": "LayoutView",
       "align_content": null,
       "align_items": null,
       "align_self": null,
       "border_bottom": null,
       "border_left": null,
       "border_right": null,
       "border_top": null,
       "bottom": null,
       "display": null,
       "flex": null,
       "flex_flow": null,
       "grid_area": null,
       "grid_auto_columns": null,
       "grid_auto_flow": null,
       "grid_auto_rows": null,
       "grid_column": null,
       "grid_gap": null,
       "grid_row": null,
       "grid_template_areas": null,
       "grid_template_columns": null,
       "grid_template_rows": null,
       "height": null,
       "justify_content": null,
       "justify_items": null,
       "left": null,
       "margin": null,
       "max_height": null,
       "max_width": null,
       "min_height": null,
       "min_width": null,
       "object_fit": null,
       "object_position": null,
       "order": null,
       "overflow": null,
       "padding": null,
       "right": null,
       "top": null,
       "visibility": null,
       "width": null
      }
     },
     "cbaf3a2fc39c415f9cb03521f981c3cf": {
      "model_module": "@jupyter-widgets/base",
      "model_module_version": "2.0.0",
      "model_name": "LayoutModel",
      "state": {
       "_model_module": "@jupyter-widgets/base",
       "_model_module_version": "2.0.0",
       "_model_name": "LayoutModel",
       "_view_count": null,
       "_view_module": "@jupyter-widgets/base",
       "_view_module_version": "2.0.0",
       "_view_name": "LayoutView",
       "align_content": null,
       "align_items": null,
       "align_self": null,
       "border_bottom": null,
       "border_left": null,
       "border_right": null,
       "border_top": null,
       "bottom": null,
       "display": null,
       "flex": null,
       "flex_flow": null,
       "grid_area": null,
       "grid_auto_columns": null,
       "grid_auto_flow": null,
       "grid_auto_rows": null,
       "grid_column": null,
       "grid_gap": null,
       "grid_row": null,
       "grid_template_areas": null,
       "grid_template_columns": null,
       "grid_template_rows": null,
       "height": null,
       "justify_content": null,
       "justify_items": null,
       "left": null,
       "margin": null,
       "max_height": null,
       "max_width": null,
       "min_height": null,
       "min_width": null,
       "object_fit": null,
       "object_position": null,
       "order": null,
       "overflow": null,
       "padding": null,
       "right": null,
       "top": null,
       "visibility": null,
       "width": null
      }
     },
     "ce5bf8f312ae40a99255201e4adbee92": {
      "model_module": "@jupyter-widgets/controls",
      "model_module_version": "2.0.0",
      "model_name": "HTMLModel",
      "state": {
       "_dom_classes": [],
       "_model_module": "@jupyter-widgets/controls",
       "_model_module_version": "2.0.0",
       "_model_name": "HTMLModel",
       "_view_count": null,
       "_view_module": "@jupyter-widgets/controls",
       "_view_module_version": "2.0.0",
       "_view_name": "HTMLView",
       "description": "",
       "description_allow_html": false,
       "layout": "IPY_MODEL_e4c86f301e204f86ab5651174640b09d",
       "placeholder": "​",
       "style": "IPY_MODEL_7a289fe8176d42bbb41590a40d8ff382",
       "tabbable": null,
       "tooltip": null,
       "value": " 49.0/49.0 [00:00&lt;00:00, 5.07kB/s]"
      }
     },
     "d802afdc8a4a4cb5a26c48a1fc381a3b": {
      "model_module": "@jupyter-widgets/controls",
      "model_module_version": "2.0.0",
      "model_name": "FloatProgressModel",
      "state": {
       "_dom_classes": [],
       "_model_module": "@jupyter-widgets/controls",
       "_model_module_version": "2.0.0",
       "_model_name": "FloatProgressModel",
       "_view_count": null,
       "_view_module": "@jupyter-widgets/controls",
       "_view_module_version": "2.0.0",
       "_view_name": "ProgressView",
       "bar_style": "success",
       "description": "",
       "description_allow_html": false,
       "layout": "IPY_MODEL_25fd892d598d4cf1bc5b28c296fc1ab7",
       "max": 625,
       "min": 0,
       "orientation": "horizontal",
       "style": "IPY_MODEL_c1d8a2feaca8466a85c858c11d118d10",
       "tabbable": null,
       "tooltip": null,
       "value": 625
      }
     },
     "d92d834564394522b2008b9b42a50a25": {
      "model_module": "@jupyter-widgets/controls",
      "model_module_version": "2.0.0",
      "model_name": "HBoxModel",
      "state": {
       "_dom_classes": [],
       "_model_module": "@jupyter-widgets/controls",
       "_model_module_version": "2.0.0",
       "_model_name": "HBoxModel",
       "_view_count": null,
       "_view_module": "@jupyter-widgets/controls",
       "_view_module_version": "2.0.0",
       "_view_name": "HBoxView",
       "box_style": "",
       "children": [
        "IPY_MODEL_06370b0ac2c144e6882649f4770bec70",
        "IPY_MODEL_d802afdc8a4a4cb5a26c48a1fc381a3b",
        "IPY_MODEL_966a77e16f7c48d193102e600da608d2"
       ],
       "layout": "IPY_MODEL_4d774fb8957143fea97cae1eb5e96236",
       "tabbable": null,
       "tooltip": null
      }
     },
     "e4c86f301e204f86ab5651174640b09d": {
      "model_module": "@jupyter-widgets/base",
      "model_module_version": "2.0.0",
      "model_name": "LayoutModel",
      "state": {
       "_model_module": "@jupyter-widgets/base",
       "_model_module_version": "2.0.0",
       "_model_name": "LayoutModel",
       "_view_count": null,
       "_view_module": "@jupyter-widgets/base",
       "_view_module_version": "2.0.0",
       "_view_name": "LayoutView",
       "align_content": null,
       "align_items": null,
       "align_self": null,
       "border_bottom": null,
       "border_left": null,
       "border_right": null,
       "border_top": null,
       "bottom": null,
       "display": null,
       "flex": null,
       "flex_flow": null,
       "grid_area": null,
       "grid_auto_columns": null,
       "grid_auto_flow": null,
       "grid_auto_rows": null,
       "grid_column": null,
       "grid_gap": null,
       "grid_row": null,
       "grid_template_areas": null,
       "grid_template_columns": null,
       "grid_template_rows": null,
       "height": null,
       "justify_content": null,
       "justify_items": null,
       "left": null,
       "margin": null,
       "max_height": null,
       "max_width": null,
       "min_height": null,
       "min_width": null,
       "object_fit": null,
       "object_position": null,
       "order": null,
       "overflow": null,
       "padding": null,
       "right": null,
       "top": null,
       "visibility": null,
       "width": null
      }
     },
     "ebd916fd80db4e8fbbc01b606ad9ae4f": {
      "model_module": "@jupyter-widgets/controls",
      "model_module_version": "2.0.0",
      "model_name": "HTMLStyleModel",
      "state": {
       "_model_module": "@jupyter-widgets/controls",
       "_model_module_version": "2.0.0",
       "_model_name": "HTMLStyleModel",
       "_view_count": null,
       "_view_module": "@jupyter-widgets/base",
       "_view_module_version": "2.0.0",
       "_view_name": "StyleView",
       "background": null,
       "description_width": "",
       "font_size": null,
       "text_color": null
      }
     },
     "f2403fb6a8c541e79854210966b8b97b": {
      "model_module": "@jupyter-widgets/controls",
      "model_module_version": "2.0.0",
      "model_name": "HTMLStyleModel",
      "state": {
       "_model_module": "@jupyter-widgets/controls",
       "_model_module_version": "2.0.0",
       "_model_name": "HTMLStyleModel",
       "_view_count": null,
       "_view_module": "@jupyter-widgets/base",
       "_view_module_version": "2.0.0",
       "_view_name": "StyleView",
       "background": null,
       "description_width": "",
       "font_size": null,
       "text_color": null
      }
     }
    },
    "version_major": 2,
    "version_minor": 0
   }
  }
 },
 "nbformat": 4,
 "nbformat_minor": 5
}

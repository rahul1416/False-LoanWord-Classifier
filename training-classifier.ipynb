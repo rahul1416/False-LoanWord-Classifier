{
 "cells": [
  {
   "cell_type": "code",
   "execution_count": null,
   "id": "df7ba85c",
   "metadata": {
    "_cell_guid": "b1076dfc-b9ad-4769-8c92-a6c4dae69d19",
    "_uuid": "8f2839f25d086af736a60e9eeb907d3b93b6e0e5",
    "execution": {
     "iopub.execute_input": "2025-03-26T08:31:27.452048Z",
     "iopub.status.busy": "2025-03-26T08:31:27.451679Z",
     "iopub.status.idle": "2025-03-26T08:31:39.830085Z",
     "shell.execute_reply": "2025-03-26T08:31:39.829217Z"
    },
    "papermill": {
     "duration": 12.384548,
     "end_time": "2025-03-26T08:31:39.831821",
     "exception": false,
     "start_time": "2025-03-26T08:31:27.447273",
     "status": "completed"
    },
    "tags": []
   },
   "outputs": [],
   "source": []
  },
  {
   "cell_type": "code",
   "execution_count": 2,
   "id": "bf1432e0",
   "metadata": {
    "execution": {
     "iopub.execute_input": "2025-03-26T08:31:39.842794Z",
     "iopub.status.busy": "2025-03-26T08:31:39.842541Z",
     "iopub.status.idle": "2025-03-26T08:32:03.213737Z",
     "shell.execute_reply": "2025-03-26T08:32:03.212770Z"
    },
    "papermill": {
     "duration": 23.378201,
     "end_time": "2025-03-26T08:32:03.215380",
     "exception": false,
     "start_time": "2025-03-26T08:31:39.837179",
     "status": "completed"
    },
    "tags": []
   },
   "outputs": [],
   "source": [
    "import pandas as pd\n",
    "import numpy as np\n",
    "import phonetics\n",
    "import torch\n",
    "import epitran\n",
    "from transformers import BertTokenizer, BertForSequenceClassification, AdamW\n",
    "from torch.utils.data import DataLoader, Dataset\n",
    "from scipy.spatial.distance import cosine\n",
    "from sklearn.model_selection import train_test_split\n",
    "from sklearn.ensemble import RandomForestClassifier\n",
    "from sklearn.metrics import accuracy_score"
   ]
  },
  {
   "cell_type": "code",
   "execution_count": null,
   "id": "fb4b7659",
   "metadata": {
    "execution": {
     "iopub.execute_input": "2025-03-26T08:32:03.225834Z",
     "iopub.status.busy": "2025-03-26T08:32:03.225280Z",
     "iopub.status.idle": "2025-03-26T08:32:08.306129Z",
     "shell.execute_reply": "2025-03-26T08:32:08.305424Z"
    },
    "papermill": {
     "duration": 5.08741,
     "end_time": "2025-03-26T08:32:08.307678",
     "exception": false,
     "start_time": "2025-03-26T08:32:03.220268",
     "status": "completed"
    },
    "tags": []
   },
   "outputs": [
    {
     "name": "stdout",
     "output_type": "stream",
     "text": [
      "<class 'pandas.core.frame.DataFrame'>\n",
      "RangeIndex: 210684 entries, 0 to 210683\n",
      "Data columns (total 21 columns):\n",
      " #   Column                                       Non-Null Count   Dtype  \n",
      "---  ------                                       --------------   -----  \n",
      " 0   loan_word                                    210684 non-null  object \n",
      " 1   original_word                                210684 non-null  object \n",
      " 2   loan_word_epitran                            210684 non-null  object \n",
      " 3   original_word_epitran                        210684 non-null  object \n",
      " 4   loan_english                                 209624 non-null  object \n",
      " 5   original_english                             209631 non-null  object \n",
      " 6   Fast Levenshtein Distance Div Maxlen         210684 non-null  float64\n",
      " 7   Dolgo Prime Distance Div Maxlen              210684 non-null  float64\n",
      " 8   Feature Edit Distance Div Maxlen             210684 non-null  float64\n",
      " 9   Hamming Feature Distance Div Maxlen          210684 non-null  float64\n",
      " 10  Weighted Feature Distance Div Maxlen         210684 non-null  float64\n",
      " 11  Partial Hamming Feature Distance Div Maxlen  210684 non-null  float64\n",
      " 12  plain Levenshtein                            210684 non-null  int64  \n",
      " 13  loan_unicode                                 210684 non-null  object \n",
      " 14  original_unicode                             210684 non-null  object \n",
      " 15  label                                        210684 non-null  object \n",
      " 16  label_bin                                    210684 non-null  int64  \n",
      " 17  DNN_logits                                   210684 non-null  float64\n",
      " 18  MBERT_cos_sim                                210684 non-null  float64\n",
      " 19  XLM_cos_sim                                  210684 non-null  float64\n",
      " 20  language_pair                                210684 non-null  object \n",
      "dtypes: float64(9), int64(2), object(10)\n",
      "memory usage: 33.8+ MB\n",
      "None\n"
     ]
    }
   ],
   "source": [
    "import pandas as pd\n",
    "import os\n",
    "\n",
    "# List of language pairs\n",
    "language_pairs = [\n",
    "    (\"Azerbaijani\", \"Arabic\"),\n",
    "    (\"Catalan\", \"Arabic\"),\n",
    "    (\"Chinese\", \"English\"),\n",
    "    (\"English\", \"French\"),\n",
    "    (\"English\", \"German\"),\n",
    "    (\"Finnish\", \"Swedish\"),\n",
    "    (\"German\", \"French\"),\n",
    "    (\"German\", \"Italian\"),\n",
    "    (\"Hindi\", \"Persian\"),\n",
    "    (\"Hungarian\", \"German\"),\n",
    "    (\"Indonesian\", \"Dutch\"),\n",
    "    (\"Kazakh\", \"Russian\"),\n",
    "    (\"Persian\", \"Arabic\"),\n",
    "    (\"Polish\", \"French\"),\n",
    "    (\"Romanian\", \"French\"),\n",
    "    (\"Romanian\", \"Hungarian\"),\n",
    "]\n",
    "\n",
    "def read_language(lang1, lang2):\n",
    "    file_path = f\"data/production_train_test/{lang1}-{lang2}/alldata/{lang1}-{lang2}-train_production_alldata.csv\"\n",
    "    \n",
    "    if os.path.exists(file_path):  # Check if file exists\n",
    "        df = pd.read_csv(file_path)\n",
    "        df = df.drop(columns=[col for col in ['Unnamed: 0.1', 'Unnamed: 0'] if col in df.columns], errors=\"ignore\")\n",
    "        df[\"language_pair\"] = f\"{lang1}-{lang2}\"  # Add language pair column\n",
    "        return df\n",
    "    else:\n",
    "        print(f\"File not found: {file_path}\")\n",
    "        return None\n",
    "\n",
    "dfs = [read_language(lang1, lang2) for lang1, lang2 in language_pairs]\n",
    "dfs = [df for df in dfs if df is not None]  # Remove None values\n",
    "\n",
    "final_df = pd.concat(dfs, ignore_index=True)\n",
    "print(final_df.info())\n",
    "final_df.to_csv(\"all_languages_combined.csv\", index=False)"
   ]
  },
  {
   "cell_type": "code",
   "execution_count": 4,
   "id": "db06e80e",
   "metadata": {
    "execution": {
     "iopub.execute_input": "2025-03-26T08:32:08.318071Z",
     "iopub.status.busy": "2025-03-26T08:32:08.317778Z",
     "iopub.status.idle": "2025-03-26T08:32:09.294003Z",
     "shell.execute_reply": "2025-03-26T08:32:09.293232Z"
    },
    "papermill": {
     "duration": 0.982767,
     "end_time": "2025-03-26T08:32:09.295370",
     "exception": false,
     "start_time": "2025-03-26T08:32:08.312603",
     "status": "completed"
    },
    "tags": []
   },
   "outputs": [
    {
     "name": "stdout",
     "output_type": "stream",
     "text": [
      "Transliterated text: kana\n"
     ]
    },
    {
     "data": {
      "text/plain": [
       "{'word': 'khana',\n",
       " 'phonetic': 'kana',\n",
       " 'unicode': [4.0, 1.0, -6.0, 7.0, -6.0],\n",
       " 'length': 5}"
      ]
     },
     "execution_count": 4,
     "metadata": {},
     "output_type": "execute_result"
    }
   ],
   "source": [
    "# need to install - sudo apt-get install flite\n",
    "\n",
    "epi = epitran.Epitran('fra-Latn')\n",
    "\n",
    "def normalize(unicode_values):\n",
    "    mean_value = sum(unicode_values) / len(unicode_values)\n",
    "    return [val - mean_value for val in unicode_values]\n",
    "\n",
    "def extract_features(word):\n",
    "    try:\n",
    "        loan_epitran = epi.transliterate(word)\n",
    "        print(f\"Transliterated text: {loan_epitran}\")\n",
    "    except IndexError as e:\n",
    "        print(f\"Transliteration failed: {e}\")\n",
    "        loan_epitran = \"N/A\"\n",
    "    unicode_features = [ord(c) for c in word]\n",
    "    unicode_features = normalize(unicode_features)\n",
    "    return {\n",
    "        \"word\": word,\n",
    "        \"phonetic\": loan_epitran,\n",
    "        \"unicode\": unicode_features,\n",
    "        \"length\": len(word)\n",
    "    }\n",
    "\n",
    "extract_features(\"khana\")"
   ]
  },
  {
   "cell_type": "code",
   "execution_count": 5,
   "id": "e493a62f",
   "metadata": {
    "execution": {
     "iopub.execute_input": "2025-03-26T08:32:09.305600Z",
     "iopub.status.busy": "2025-03-26T08:32:09.305350Z",
     "iopub.status.idle": "2025-03-26T08:33:04.280304Z",
     "shell.execute_reply": "2025-03-26T08:33:04.279623Z"
    },
    "papermill": {
     "duration": 54.981747,
     "end_time": "2025-03-26T08:33:04.281974",
     "exception": false,
     "start_time": "2025-03-26T08:32:09.300227",
     "status": "completed"
    },
    "tags": []
   },
   "outputs": [],
   "source": [
    "epi = epitran.Epitran('fra-Latn')\n",
    "\n",
    "def normalize(unicode_values):\n",
    "    if not unicode_values:  # Handle empty case\n",
    "        return [0] * 25  # Return a zero vector of fixed size\n",
    "\n",
    "    mean_value = sum(unicode_values) / len(unicode_values)\n",
    "    return [val - mean_value for val in unicode_values]\n",
    "\n",
    "def extract_features(word):\n",
    "    try:\n",
    "        loan_epitran = epi.transliterate(word)  \n",
    "    except Exception as e:  # Catch all exceptions\n",
    "        print(f\"Transliteration failed for '{word}': {e}\")\n",
    "        loan_epitran = \"\"  # Default value to avoid NoneType errors\n",
    "\n",
    "    unicode_features = [ord(c) for c in word] if word else [0]  # Ensure it's never empty\n",
    "    unicode_features = normalize(unicode_features)  \n",
    "\n",
    "    return {\n",
    "        \"phonetic\": loan_epitran,\n",
    "        \"unicode\": unicode_features,\n",
    "        \"length\": len(word)\n",
    "    }\n",
    "\n",
    "\n",
    "df_features = final_df[\"loan_word\"].apply(extract_features).apply(pd.Series)\n",
    "df_features\n",
    "df = pd.concat([final_df, df_features], axis=1)"
   ]
  },
  {
   "cell_type": "code",
   "execution_count": 6,
   "id": "b1b0c157",
   "metadata": {
    "execution": {
     "iopub.execute_input": "2025-03-26T08:33:04.292002Z",
     "iopub.status.busy": "2025-03-26T08:33:04.291751Z",
     "iopub.status.idle": "2025-03-26T08:34:07.860006Z",
     "shell.execute_reply": "2025-03-26T08:34:07.859195Z"
    },
    "papermill": {
     "duration": 63.57488,
     "end_time": "2025-03-26T08:34:07.861697",
     "exception": false,
     "start_time": "2025-03-26T08:33:04.286817",
     "status": "completed"
    },
    "tags": []
   },
   "outputs": [
    {
     "name": "stderr",
     "output_type": "stream",
     "text": [
      "<ipython-input-6-0d6cf48fd047>:1: FutureWarning: Downcasting behavior in `replace` is deprecated and will be removed in a future version. To retain the old behavior, explicitly call `result.infer_objects(copy=False)`. To opt-in to the future behavior, set `pd.set_option('future.no_silent_downcasting', True)`\n",
      "  df['label'] = df[\"label\"].replace(['random', 'hard_negative', 'loan', 'synonym'],[0,1,0,0])\n"
     ]
    },
    {
     "data": {
      "application/vnd.jupyter.widget-view+json": {
       "model_id": "2a787e14099f44dc9de5e05b0e9f905b",
       "version_major": 2,
       "version_minor": 0
      },
      "text/plain": [
       "tokenizer_config.json:   0%|          | 0.00/49.0 [00:00<?, ?B/s]"
      ]
     },
     "metadata": {},
     "output_type": "display_data"
    },
    {
     "data": {
      "application/vnd.jupyter.widget-view+json": {
       "model_id": "96d699645bf541988e2d85a41190b5ae",
       "version_major": 2,
       "version_minor": 0
      },
      "text/plain": [
       "vocab.txt:   0%|          | 0.00/996k [00:00<?, ?B/s]"
      ]
     },
     "metadata": {},
     "output_type": "display_data"
    },
    {
     "data": {
      "application/vnd.jupyter.widget-view+json": {
       "model_id": "bfe8cc58aee94dbc8ffb537a32af78a5",
       "version_major": 2,
       "version_minor": 0
      },
      "text/plain": [
       "tokenizer.json:   0%|          | 0.00/1.96M [00:00<?, ?B/s]"
      ]
     },
     "metadata": {},
     "output_type": "display_data"
    },
    {
     "data": {
      "application/vnd.jupyter.widget-view+json": {
       "model_id": "54c31327c3134967983627552ab8fba1",
       "version_major": 2,
       "version_minor": 0
      },
      "text/plain": [
       "config.json:   0%|          | 0.00/625 [00:00<?, ?B/s]"
      ]
     },
     "metadata": {},
     "output_type": "display_data"
    }
   ],
   "source": [
    "df['label'] = df[\"label\"].replace(['random', 'hard_negative', 'loan', 'synonym'],[0,1,0,0])\n",
    "tokenizer = BertTokenizer.from_pretrained(\"bert-base-multilingual-cased\")\n",
    "\n",
    "\n",
    "def tokenize_and_encode(text, tokenizer, max_length=120):\n",
    "    encoding = tokenizer(\n",
    "        text,\n",
    "        padding=\"max_length\",\n",
    "        truncation=True,\n",
    "        max_length=max_length,\n",
    "        return_tensors=\"pt\"\n",
    "    )\n",
    "    return encoding[\"input_ids\"].squeeze(0), encoding[\"attention_mask\"].squeeze(0)\n",
    "\n",
    "df['phonetic_'], df['attention_masks'] = zip(*df['phonetic'].apply(\n",
    "    lambda x: tokenize_and_encode(x, tokenizer)\n",
    "))\n",
    "\n",
    "def pad_sequence(seq, maxlen, pad_value=0):\n",
    "    if len(seq) < maxlen:\n",
    "        return seq + [pad_value] * (maxlen - len(seq))\n",
    "    else:\n",
    "        return seq[:maxlen] \n",
    "\n",
    "max_unicode_len = 25\n",
    "\n",
    "df['unicode_padded'] = df['unicode'].apply(lambda x: pad_sequence(x, max_unicode_len))\n"
   ]
  },
  {
   "cell_type": "code",
   "execution_count": 7,
   "id": "f746557a",
   "metadata": {
    "execution": {
     "iopub.execute_input": "2025-03-26T08:34:07.872854Z",
     "iopub.status.busy": "2025-03-26T08:34:07.872616Z",
     "iopub.status.idle": "2025-03-26T08:34:08.048761Z",
     "shell.execute_reply": "2025-03-26T08:34:08.047870Z"
    },
    "papermill": {
     "duration": 0.182942,
     "end_time": "2025-03-26T08:34:08.050029",
     "exception": false,
     "start_time": "2025-03-26T08:34:07.867087",
     "status": "completed"
    },
    "tags": []
   },
   "outputs": [
    {
     "data": {
      "text/html": [
       "<div>\n",
       "<style scoped>\n",
       "    .dataframe tbody tr th:only-of-type {\n",
       "        vertical-align: middle;\n",
       "    }\n",
       "\n",
       "    .dataframe tbody tr th {\n",
       "        vertical-align: top;\n",
       "    }\n",
       "\n",
       "    .dataframe thead th {\n",
       "        text-align: right;\n",
       "    }\n",
       "</style>\n",
       "<table border=\"1\" class=\"dataframe\">\n",
       "  <thead>\n",
       "    <tr style=\"text-align: right;\">\n",
       "      <th></th>\n",
       "      <th>loan_word</th>\n",
       "      <th>original_word</th>\n",
       "      <th>loan_word_epitran</th>\n",
       "      <th>original_word_epitran</th>\n",
       "      <th>loan_english</th>\n",
       "      <th>original_english</th>\n",
       "      <th>Fast Levenshtein Distance Div Maxlen</th>\n",
       "      <th>Dolgo Prime Distance Div Maxlen</th>\n",
       "      <th>Feature Edit Distance Div Maxlen</th>\n",
       "      <th>Hamming Feature Distance Div Maxlen</th>\n",
       "      <th>...</th>\n",
       "      <th>DNN_logits</th>\n",
       "      <th>MBERT_cos_sim</th>\n",
       "      <th>XLM_cos_sim</th>\n",
       "      <th>language_pair</th>\n",
       "      <th>phonetic</th>\n",
       "      <th>unicode</th>\n",
       "      <th>length</th>\n",
       "      <th>phonetic_</th>\n",
       "      <th>attention_masks</th>\n",
       "      <th>unicode_padded</th>\n",
       "    </tr>\n",
       "  </thead>\n",
       "  <tbody>\n",
       "    <tr>\n",
       "      <th>0</th>\n",
       "      <td>Qorxulu</td>\n",
       "      <td>سيى</td>\n",
       "      <td>ɡɔrxulu</td>\n",
       "      <td>siːa</td>\n",
       "      <td>It's scary</td>\n",
       "      <td>bad</td>\n",
       "      <td>1.000000</td>\n",
       "      <td>0.714286</td>\n",
       "      <td>0.586310</td>\n",
       "      <td>0.654762</td>\n",
       "      <td>...</td>\n",
       "      <td>-14.315687</td>\n",
       "      <td>0.879653</td>\n",
       "      <td>0.584688</td>\n",
       "      <td>Azerbaijani-Arabic</td>\n",
       "      <td>kɔʀɡzyly</td>\n",
       "      <td>[-28.714285714285708, 1.2857142857142918, 4.28...</td>\n",
       "      <td>7</td>\n",
       "      <td>[tensor(101), tensor(100), tensor(102), tensor...</td>\n",
       "      <td>[tensor(1), tensor(1), tensor(1), tensor(0), t...</td>\n",
       "      <td>[-28.714285714285708, 1.2857142857142918, 4.28...</td>\n",
       "    </tr>\n",
       "    <tr>\n",
       "      <th>1</th>\n",
       "      <td>hamilə</td>\n",
       "      <td>أمثل</td>\n",
       "      <td>hɑmɪlæ</td>\n",
       "      <td>aٔmθl</td>\n",
       "      <td>pregnant</td>\n",
       "      <td>optimum</td>\n",
       "      <td>0.666667</td>\n",
       "      <td>0.500000</td>\n",
       "      <td>0.361111</td>\n",
       "      <td>0.409722</td>\n",
       "      <td>...</td>\n",
       "      <td>-6.240551</td>\n",
       "      <td>0.892106</td>\n",
       "      <td>0.546299</td>\n",
       "      <td>Azerbaijani-Arabic</td>\n",
       "      <td>amil</td>\n",
       "      <td>[-83.33333333333334, -90.33333333333334, -78.3...</td>\n",
       "      <td>6</td>\n",
       "      <td>[tensor(101), tensor(16992), tensor(10161), te...</td>\n",
       "      <td>[tensor(1), tensor(1), tensor(1), tensor(1), t...</td>\n",
       "      <td>[-83.33333333333334, -90.33333333333334, -78.3...</td>\n",
       "    </tr>\n",
       "    <tr>\n",
       "      <th>2</th>\n",
       "      <td>təvəkkül</td>\n",
       "      <td>تآكل</td>\n",
       "      <td>tævækkyl</td>\n",
       "      <td>tʔaːkl</td>\n",
       "      <td>put your trust</td>\n",
       "      <td>Eat</td>\n",
       "      <td>0.625000</td>\n",
       "      <td>0.500000</td>\n",
       "      <td>0.375000</td>\n",
       "      <td>0.416667</td>\n",
       "      <td>...</td>\n",
       "      <td>-3.535368</td>\n",
       "      <td>0.875178</td>\n",
       "      <td>0.528974</td>\n",
       "      <td>Azerbaijani-Arabic</td>\n",
       "      <td>təvəkkÿl</td>\n",
       "      <td>[-135.25, 349.75, -133.25, 349.75, -144.25, -1...</td>\n",
       "      <td>8</td>\n",
       "      <td>[tensor(101), tensor(188), tensor(11562), tens...</td>\n",
       "      <td>[tensor(1), tensor(1), tensor(1), tensor(1), t...</td>\n",
       "      <td>[-135.25, 349.75, -133.25, 349.75, -144.25, -1...</td>\n",
       "    </tr>\n",
       "    <tr>\n",
       "      <th>3</th>\n",
       "      <td>Sınaq</td>\n",
       "      <td>لوم</td>\n",
       "      <td>sɯnɑɡ</td>\n",
       "      <td>luːm</td>\n",
       "      <td>Experiment</td>\n",
       "      <td>blame</td>\n",
       "      <td>1.000000</td>\n",
       "      <td>0.800000</td>\n",
       "      <td>0.433333</td>\n",
       "      <td>0.483333</td>\n",
       "      <td>...</td>\n",
       "      <td>-6.917460</td>\n",
       "      <td>0.885054</td>\n",
       "      <td>0.673596</td>\n",
       "      <td>Azerbaijani-Arabic</td>\n",
       "      <td>sınak</td>\n",
       "      <td>[-58.599999999999994, 163.4, -31.5999999999999...</td>\n",
       "      <td>5</td>\n",
       "      <td>[tensor(101), tensor(187), tensor(18932), tens...</td>\n",
       "      <td>[tensor(1), tensor(1), tensor(1), tensor(1), t...</td>\n",
       "      <td>[-58.599999999999994, 163.4, -31.5999999999999...</td>\n",
       "    </tr>\n",
       "    <tr>\n",
       "      <th>4</th>\n",
       "      <td>elan et</td>\n",
       "      <td>يخبر</td>\n",
       "      <td>elɑn et</td>\n",
       "      <td>iːxbr</td>\n",
       "      <td>momentum and</td>\n",
       "      <td>Tells</td>\n",
       "      <td>1.000000</td>\n",
       "      <td>0.833333</td>\n",
       "      <td>0.427083</td>\n",
       "      <td>0.486111</td>\n",
       "      <td>...</td>\n",
       "      <td>-10.755716</td>\n",
       "      <td>0.822872</td>\n",
       "      <td>0.708838</td>\n",
       "      <td>Azerbaijani-Arabic</td>\n",
       "      <td>əlan ɛ</td>\n",
       "      <td>[6.0, 13.0, 2.0, 15.0, -63.0, 6.0, 21.0]</td>\n",
       "      <td>7</td>\n",
       "      <td>[tensor(101), tensor(87449), tensor(10206), te...</td>\n",
       "      <td>[tensor(1), tensor(1), tensor(1), tensor(1), t...</td>\n",
       "      <td>[6.0, 13.0, 2.0, 15.0, -63.0, 6.0, 21.0, 0, 0,...</td>\n",
       "    </tr>\n",
       "  </tbody>\n",
       "</table>\n",
       "<p>5 rows × 27 columns</p>\n",
       "</div>"
      ],
      "text/plain": [
       "  loan_word original_word loan_word_epitran original_word_epitran  \\\n",
       "0   Qorxulu           سيى           ɡɔrxulu                  siːa   \n",
       "1    hamilə          أمثل            hɑmɪlæ                 aٔmθl   \n",
       "2  təvəkkül          تآكل          tævækkyl                tʔaːkl   \n",
       "3     Sınaq           لوم             sɯnɑɡ                  luːm   \n",
       "4   elan et          يخبر           elɑn et                 iːxbr   \n",
       "\n",
       "     loan_english original_english  Fast Levenshtein Distance Div Maxlen  \\\n",
       "0      It's scary              bad                              1.000000   \n",
       "1        pregnant          optimum                              0.666667   \n",
       "2  put your trust              Eat                              0.625000   \n",
       "3      Experiment            blame                              1.000000   \n",
       "4    momentum and            Tells                              1.000000   \n",
       "\n",
       "   Dolgo Prime Distance Div Maxlen  Feature Edit Distance Div Maxlen  \\\n",
       "0                         0.714286                          0.586310   \n",
       "1                         0.500000                          0.361111   \n",
       "2                         0.500000                          0.375000   \n",
       "3                         0.800000                          0.433333   \n",
       "4                         0.833333                          0.427083   \n",
       "\n",
       "   Hamming Feature Distance Div Maxlen  ...  DNN_logits  MBERT_cos_sim  \\\n",
       "0                             0.654762  ...  -14.315687       0.879653   \n",
       "1                             0.409722  ...   -6.240551       0.892106   \n",
       "2                             0.416667  ...   -3.535368       0.875178   \n",
       "3                             0.483333  ...   -6.917460       0.885054   \n",
       "4                             0.486111  ...  -10.755716       0.822872   \n",
       "\n",
       "   XLM_cos_sim       language_pair  phonetic  \\\n",
       "0     0.584688  Azerbaijani-Arabic  kɔʀɡzyly   \n",
       "1     0.546299  Azerbaijani-Arabic      amil   \n",
       "2     0.528974  Azerbaijani-Arabic  təvəkkÿl   \n",
       "3     0.673596  Azerbaijani-Arabic     sınak   \n",
       "4     0.708838  Azerbaijani-Arabic    əlan ɛ   \n",
       "\n",
       "                                             unicode  length  \\\n",
       "0  [-28.714285714285708, 1.2857142857142918, 4.28...       7   \n",
       "1  [-83.33333333333334, -90.33333333333334, -78.3...       6   \n",
       "2  [-135.25, 349.75, -133.25, 349.75, -144.25, -1...       8   \n",
       "3  [-58.599999999999994, 163.4, -31.5999999999999...       5   \n",
       "4           [6.0, 13.0, 2.0, 15.0, -63.0, 6.0, 21.0]       7   \n",
       "\n",
       "                                           phonetic_  \\\n",
       "0  [tensor(101), tensor(100), tensor(102), tensor...   \n",
       "1  [tensor(101), tensor(16992), tensor(10161), te...   \n",
       "2  [tensor(101), tensor(188), tensor(11562), tens...   \n",
       "3  [tensor(101), tensor(187), tensor(18932), tens...   \n",
       "4  [tensor(101), tensor(87449), tensor(10206), te...   \n",
       "\n",
       "                                     attention_masks  \\\n",
       "0  [tensor(1), tensor(1), tensor(1), tensor(0), t...   \n",
       "1  [tensor(1), tensor(1), tensor(1), tensor(1), t...   \n",
       "2  [tensor(1), tensor(1), tensor(1), tensor(1), t...   \n",
       "3  [tensor(1), tensor(1), tensor(1), tensor(1), t...   \n",
       "4  [tensor(1), tensor(1), tensor(1), tensor(1), t...   \n",
       "\n",
       "                                      unicode_padded  \n",
       "0  [-28.714285714285708, 1.2857142857142918, 4.28...  \n",
       "1  [-83.33333333333334, -90.33333333333334, -78.3...  \n",
       "2  [-135.25, 349.75, -133.25, 349.75, -144.25, -1...  \n",
       "3  [-58.599999999999994, 163.4, -31.5999999999999...  \n",
       "4  [6.0, 13.0, 2.0, 15.0, -63.0, 6.0, 21.0, 0, 0,...  \n",
       "\n",
       "[5 rows x 27 columns]"
      ]
     },
     "execution_count": 7,
     "metadata": {},
     "output_type": "execute_result"
    }
   ],
   "source": [
    "df.head()"
   ]
  },
  {
   "cell_type": "code",
   "execution_count": 8,
   "id": "4bb98e15",
   "metadata": {
    "execution": {
     "iopub.execute_input": "2025-03-26T08:34:08.061357Z",
     "iopub.status.busy": "2025-03-26T08:34:08.061073Z",
     "iopub.status.idle": "2025-03-26T08:34:08.067229Z",
     "shell.execute_reply": "2025-03-26T08:34:08.066404Z"
    },
    "papermill": {
     "duration": 0.013112,
     "end_time": "2025-03-26T08:34:08.068419",
     "exception": false,
     "start_time": "2025-03-26T08:34:08.055307",
     "status": "completed"
    },
    "tags": []
   },
   "outputs": [],
   "source": [
    "class LoanWordDataset(Dataset):\n",
    "    def __init__(self, loan_words, phonetic_seqs, unicode_features, other_features, labels, tokenizer, max_len=128):\n",
    "        self.loan_words = loan_words\n",
    "        self.phonetic_seqs = phonetic_seqs\n",
    "        self.unicode_features = unicode_features\n",
    "        self.other_features = other_features\n",
    "        self.labels = labels\n",
    "        self.tokenizer = tokenizer\n",
    "        self.max_len = max_len\n",
    "\n",
    "    def __len__(self):\n",
    "        return len(self.loan_words)\n",
    "\n",
    "    def __getitem__(self, idx):\n",
    "        loan_word = self.loan_words[idx]\n",
    "        phonetic_seq = self.phonetic_seqs[idx]\n",
    "        unicode_feature = self.unicode_features[idx]\n",
    "        other_feature = self.other_features[idx]\n",
    "        label = self.labels[idx]\n",
    "\n",
    "        # Tokenize loan word\n",
    "        encoding = self.tokenizer.encode_plus(\n",
    "            loan_word,\n",
    "            add_special_tokens=True,\n",
    "            max_length=self.max_len,\n",
    "            return_token_type_ids=False,\n",
    "            padding='max_length',\n",
    "            truncation=True,\n",
    "            return_attention_mask=True,\n",
    "            return_tensors='pt',\n",
    "        )\n",
    "\n",
    "        return {\n",
    "            # 'loan_word': loan_word,\n",
    "            'input_ids': encoding['input_ids'].flatten(),\n",
    "            'attention_mask': encoding['attention_mask'].flatten(),\n",
    "            'phonetic_seq': torch.tensor(phonetic_seq, dtype=torch.long),\n",
    "            'unicode_feature': torch.tensor(unicode_feature, dtype=torch.float),\n",
    "            'other_feature': torch.tensor(other_feature, dtype=torch.float),\n",
    "            'label': torch.tensor(label, dtype=torch.long)\n",
    "        }\n"
   ]
  },
  {
   "cell_type": "code",
   "execution_count": 9,
   "id": "05dcb666",
   "metadata": {
    "execution": {
     "iopub.execute_input": "2025-03-26T08:34:08.079467Z",
     "iopub.status.busy": "2025-03-26T08:34:08.079201Z",
     "iopub.status.idle": "2025-03-26T08:34:09.961765Z",
     "shell.execute_reply": "2025-03-26T08:34:09.960766Z"
    },
    "papermill": {
     "duration": 1.889845,
     "end_time": "2025-03-26T08:34:09.963471",
     "exception": false,
     "start_time": "2025-03-26T08:34:08.073626",
     "status": "completed"
    },
    "tags": []
   },
   "outputs": [],
   "source": [
    "loan_words = df['loan_word'].tolist()  # Convert to list\n",
    "phonetic_seqs = df['phonetic_'].apply(lambda x: x.tolist() if isinstance(x, torch.Tensor) else list(x)).tolist()\n",
    "unicode_features = df['unicode_padded'].tolist()\n",
    "other_features = df['length'].apply(lambda x: [x]).tolist()  # Convert to list\n",
    "labels = df['label'].tolist()  # Convert to list\n",
    "\n",
    "dataset = LoanWordDataset(loan_words, phonetic_seqs, unicode_features, other_features, labels, tokenizer)\n",
    "dataloader = DataLoader(dataset, batch_size=256, shuffle=True)"
   ]
  },
  {
   "cell_type": "code",
   "execution_count": 10,
   "id": "a35b2e6d",
   "metadata": {
    "execution": {
     "iopub.execute_input": "2025-03-26T08:34:09.975592Z",
     "iopub.status.busy": "2025-03-26T08:34:09.975287Z",
     "iopub.status.idle": "2025-03-26T08:34:09.985209Z",
     "shell.execute_reply": "2025-03-26T08:34:09.984318Z"
    },
    "papermill": {
     "duration": 0.017504,
     "end_time": "2025-03-26T08:34:09.986584",
     "exception": false,
     "start_time": "2025-03-26T08:34:09.969080",
     "status": "completed"
    },
    "tags": []
   },
   "outputs": [],
   "source": [
    "import torch\n",
    "from transformers import BertModel\n",
    "\n",
    "\n",
    "class LoanWordClassifier(torch.nn.Module):\n",
    "    def __init__(self, num_phonetic_embeddings, num_labels=2):\n",
    "        super().__init__()\n",
    "        self.bert = BertModel.from_pretrained(\"/kaggle/input/false-loan-model/output/tuned-bert\")\n",
    "        for param in self.bert.parameters():\n",
    "            param.requires_grad = False\n",
    "            \n",
    "        self.phonetic_embedder = torch.nn.Embedding(num_phonetic_embeddings, embedding_dim=64)\n",
    "        \n",
    "        bert_hidden_size = self.bert.config.hidden_size \n",
    "        phonetic_size = 64\n",
    "        unicode_size = 25 \n",
    "        other_size = 1\n",
    "        \n",
    "        total_input_size = bert_hidden_size + phonetic_size + unicode_size + other_size\n",
    "        \n",
    "        self.classifier = torch.nn.Sequential(\n",
    "            torch.nn.Linear(total_input_size, 256),\n",
    "            torch.nn.ReLU(),\n",
    "            torch.nn.Linear(256, num_labels)\n",
    "        )\n",
    "\n",
    "    def forward(self, input_ids, attention_mask, phonetic_seq, unicode_feature, other_feature):\n",
    "        \n",
    "        outputs = self.bert(input_ids=input_ids, attention_mask=attention_mask)\n",
    "        last_hidden_states = outputs.last_hidden_state \n",
    "        pooled_output = last_hidden_states.mean(dim=1) \n",
    "        phonetic_emb = self.phonetic_embedder(phonetic_seq).mean(dim=1) \n",
    "\n",
    "    \n",
    "        unicode_feature = unicode_feature.view(unicode_feature.size(0), -1)  \n",
    "        other_feature = other_feature.view(other_feature.size(0), -1)      \n",
    "\n",
    "    \n",
    "        combined = torch.cat([\n",
    "            pooled_output,       \n",
    "            phonetic_emb,        \n",
    "            unicode_feature,     \n",
    "            other_feature        \n",
    "        ], dim=1)               \n",
    "        \n",
    "        logits = self.classifier(combined)\n",
    "        return logits"
   ]
  },
  {
   "cell_type": "code",
   "execution_count": 11,
   "id": "97466c98",
   "metadata": {
    "execution": {
     "iopub.execute_input": "2025-03-26T08:34:09.997853Z",
     "iopub.status.busy": "2025-03-26T08:34:09.997630Z",
     "iopub.status.idle": "2025-03-26T19:57:51.390533Z",
     "shell.execute_reply": "2025-03-26T19:57:51.389719Z"
    },
    "papermill": {
     "duration": 41021.400475,
     "end_time": "2025-03-26T19:57:51.392294",
     "exception": false,
     "start_time": "2025-03-26T08:34:09.991819",
     "status": "completed"
    },
    "tags": []
   },
   "outputs": [
    {
     "name": "stderr",
     "output_type": "stream",
     "text": [
      "Epoch 1 [Training]: 100%|██████████| 659/659 [10:58<00:00,  1.00it/s, loss=0.866]\n"
     ]
    },
    {
     "name": "stdout",
     "output_type": "stream",
     "text": [
      "Epoch 1, Training Loss: 0.8658\n"
     ]
    },
    {
     "name": "stderr",
     "output_type": "stream",
     "text": [
      "Epoch 1 [Validation]: 100%|██████████| 165/165 [02:39<00:00,  1.03it/s]\n"
     ]
    },
    {
     "name": "stdout",
     "output_type": "stream",
     "text": [
      "Epoch 1, Validation Loss: 0.6046, Accuracy: 0.6830, F1 Score: 0.6815\n"
     ]
    },
    {
     "name": "stderr",
     "output_type": "stream",
     "text": [
      "Epoch 2 [Training]: 100%|██████████| 659/659 [10:56<00:00,  1.00it/s, loss=0.593]\n"
     ]
    },
    {
     "name": "stdout",
     "output_type": "stream",
     "text": [
      "Epoch 2, Training Loss: 0.5931\n"
     ]
    },
    {
     "name": "stderr",
     "output_type": "stream",
     "text": [
      "Epoch 2 [Validation]: 100%|██████████| 165/165 [02:39<00:00,  1.04it/s]\n"
     ]
    },
    {
     "name": "stdout",
     "output_type": "stream",
     "text": [
      "Epoch 2, Validation Loss: 0.5635, Accuracy: 0.6908, F1 Score: 0.6896\n"
     ]
    },
    {
     "name": "stderr",
     "output_type": "stream",
     "text": [
      "Epoch 3 [Training]: 100%|██████████| 659/659 [10:55<00:00,  1.01it/s, loss=0.569]\n"
     ]
    },
    {
     "name": "stdout",
     "output_type": "stream",
     "text": [
      "Epoch 3, Training Loss: 0.5687\n"
     ]
    },
    {
     "name": "stderr",
     "output_type": "stream",
     "text": [
      "Epoch 3 [Validation]: 100%|██████████| 165/165 [02:39<00:00,  1.03it/s]\n"
     ]
    },
    {
     "name": "stdout",
     "output_type": "stream",
     "text": [
      "Epoch 3, Validation Loss: 0.5492, Accuracy: 0.6950, F1 Score: 0.6967\n"
     ]
    },
    {
     "name": "stderr",
     "output_type": "stream",
     "text": [
      "Epoch 4 [Training]: 100%|██████████| 659/659 [10:57<00:00,  1.00it/s, loss=0.561]\n"
     ]
    },
    {
     "name": "stdout",
     "output_type": "stream",
     "text": [
      "Epoch 4, Training Loss: 0.5605\n"
     ]
    },
    {
     "name": "stderr",
     "output_type": "stream",
     "text": [
      "Epoch 4 [Validation]: 100%|██████████| 165/165 [02:39<00:00,  1.03it/s]\n"
     ]
    },
    {
     "name": "stdout",
     "output_type": "stream",
     "text": [
      "Epoch 4, Validation Loss: 0.5461, Accuracy: 0.6957, F1 Score: 0.6972\n"
     ]
    },
    {
     "name": "stderr",
     "output_type": "stream",
     "text": [
      "Epoch 5 [Training]: 100%|██████████| 659/659 [10:55<00:00,  1.00it/s, loss=0.553]\n"
     ]
    },
    {
     "name": "stdout",
     "output_type": "stream",
     "text": [
      "Epoch 5, Training Loss: 0.5532\n"
     ]
    },
    {
     "name": "stderr",
     "output_type": "stream",
     "text": [
      "Epoch 5 [Validation]: 100%|██████████| 165/165 [02:39<00:00,  1.04it/s]\n"
     ]
    },
    {
     "name": "stdout",
     "output_type": "stream",
     "text": [
      "Epoch 5, Validation Loss: 0.5433, Accuracy: 0.6975, F1 Score: 0.6994\n"
     ]
    },
    {
     "name": "stderr",
     "output_type": "stream",
     "text": [
      "Epoch 6 [Training]: 100%|██████████| 659/659 [10:57<00:00,  1.00it/s, loss=0.549]\n"
     ]
    },
    {
     "name": "stdout",
     "output_type": "stream",
     "text": [
      "Epoch 6, Training Loss: 0.5495\n"
     ]
    },
    {
     "name": "stderr",
     "output_type": "stream",
     "text": [
      "Epoch 6 [Validation]: 100%|██████████| 165/165 [02:39<00:00,  1.03it/s]\n"
     ]
    },
    {
     "name": "stdout",
     "output_type": "stream",
     "text": [
      "Epoch 6, Validation Loss: 0.5364, Accuracy: 0.6999, F1 Score: 0.7023\n"
     ]
    },
    {
     "name": "stderr",
     "output_type": "stream",
     "text": [
      "Epoch 7 [Training]: 100%|██████████| 659/659 [10:55<00:00,  1.00it/s, loss=0.546]\n"
     ]
    },
    {
     "name": "stdout",
     "output_type": "stream",
     "text": [
      "Epoch 7, Training Loss: 0.5463\n"
     ]
    },
    {
     "name": "stderr",
     "output_type": "stream",
     "text": [
      "Epoch 7 [Validation]: 100%|██████████| 165/165 [02:39<00:00,  1.04it/s]\n"
     ]
    },
    {
     "name": "stdout",
     "output_type": "stream",
     "text": [
      "Epoch 7, Validation Loss: 0.5328, Accuracy: 0.7013, F1 Score: 0.7044\n"
     ]
    },
    {
     "name": "stderr",
     "output_type": "stream",
     "text": [
      "Epoch 8 [Training]: 100%|██████████| 659/659 [10:56<00:00,  1.00it/s, loss=0.543]\n"
     ]
    },
    {
     "name": "stdout",
     "output_type": "stream",
     "text": [
      "Epoch 8, Training Loss: 0.5431\n"
     ]
    },
    {
     "name": "stderr",
     "output_type": "stream",
     "text": [
      "Epoch 8 [Validation]: 100%|██████████| 165/165 [02:39<00:00,  1.04it/s]\n"
     ]
    },
    {
     "name": "stdout",
     "output_type": "stream",
     "text": [
      "Epoch 8, Validation Loss: 0.5332, Accuracy: 0.6998, F1 Score: 0.7023\n"
     ]
    },
    {
     "name": "stderr",
     "output_type": "stream",
     "text": [
      "Epoch 9 [Training]: 100%|██████████| 659/659 [10:56<00:00,  1.00it/s, loss=0.542]\n"
     ]
    },
    {
     "name": "stdout",
     "output_type": "stream",
     "text": [
      "Epoch 9, Training Loss: 0.5415\n"
     ]
    },
    {
     "name": "stderr",
     "output_type": "stream",
     "text": [
      "Epoch 9 [Validation]: 100%|██████████| 165/165 [02:39<00:00,  1.04it/s]\n"
     ]
    },
    {
     "name": "stdout",
     "output_type": "stream",
     "text": [
      "Epoch 9, Validation Loss: 0.5316, Accuracy: 0.7023, F1 Score: 0.7056\n"
     ]
    },
    {
     "name": "stderr",
     "output_type": "stream",
     "text": [
      "Epoch 10 [Training]: 100%|██████████| 659/659 [10:57<00:00,  1.00it/s, loss=0.54]\n"
     ]
    },
    {
     "name": "stdout",
     "output_type": "stream",
     "text": [
      "Epoch 10, Training Loss: 0.5401\n"
     ]
    },
    {
     "name": "stderr",
     "output_type": "stream",
     "text": [
      "Epoch 10 [Validation]: 100%|██████████| 165/165 [02:39<00:00,  1.04it/s]\n"
     ]
    },
    {
     "name": "stdout",
     "output_type": "stream",
     "text": [
      "Epoch 10, Validation Loss: 0.5298, Accuracy: 0.7018, F1 Score: 0.7044\n"
     ]
    },
    {
     "name": "stderr",
     "output_type": "stream",
     "text": [
      "Epoch 11 [Training]: 100%|██████████| 659/659 [10:56<00:00,  1.00it/s, loss=0.539]\n"
     ]
    },
    {
     "name": "stdout",
     "output_type": "stream",
     "text": [
      "Epoch 11, Training Loss: 0.5394\n"
     ]
    },
    {
     "name": "stderr",
     "output_type": "stream",
     "text": [
      "Epoch 11 [Validation]: 100%|██████████| 165/165 [02:39<00:00,  1.03it/s]\n"
     ]
    },
    {
     "name": "stdout",
     "output_type": "stream",
     "text": [
      "Epoch 11, Validation Loss: 0.5322, Accuracy: 0.7040, F1 Score: 0.7080\n"
     ]
    },
    {
     "name": "stderr",
     "output_type": "stream",
     "text": [
      "Epoch 12 [Training]: 100%|██████████| 659/659 [10:57<00:00,  1.00it/s, loss=0.537]\n"
     ]
    },
    {
     "name": "stdout",
     "output_type": "stream",
     "text": [
      "Epoch 12, Training Loss: 0.5369\n"
     ]
    },
    {
     "name": "stderr",
     "output_type": "stream",
     "text": [
      "Epoch 12 [Validation]: 100%|██████████| 165/165 [02:39<00:00,  1.04it/s]\n"
     ]
    },
    {
     "name": "stdout",
     "output_type": "stream",
     "text": [
      "Epoch 12, Validation Loss: 0.5260, Accuracy: 0.7036, F1 Score: 0.7069\n"
     ]
    },
    {
     "name": "stderr",
     "output_type": "stream",
     "text": [
      "Epoch 13 [Training]: 100%|██████████| 659/659 [10:56<00:00,  1.00it/s, loss=0.536]\n"
     ]
    },
    {
     "name": "stdout",
     "output_type": "stream",
     "text": [
      "Epoch 13, Training Loss: 0.5360\n"
     ]
    },
    {
     "name": "stderr",
     "output_type": "stream",
     "text": [
      "Epoch 13 [Validation]: 100%|██████████| 165/165 [02:39<00:00,  1.03it/s]\n"
     ]
    },
    {
     "name": "stdout",
     "output_type": "stream",
     "text": [
      "Epoch 13, Validation Loss: 0.5270, Accuracy: 0.7041, F1 Score: 0.7078\n"
     ]
    },
    {
     "name": "stderr",
     "output_type": "stream",
     "text": [
      "Epoch 14 [Training]: 100%|██████████| 659/659 [10:58<00:00,  1.00it/s, loss=0.534]\n"
     ]
    },
    {
     "name": "stdout",
     "output_type": "stream",
     "text": [
      "Epoch 14, Training Loss: 0.5344\n"
     ]
    },
    {
     "name": "stderr",
     "output_type": "stream",
     "text": [
      "Epoch 14 [Validation]: 100%|██████████| 165/165 [02:39<00:00,  1.04it/s]\n"
     ]
    },
    {
     "name": "stdout",
     "output_type": "stream",
     "text": [
      "Epoch 14, Validation Loss: 0.5248, Accuracy: 0.7048, F1 Score: 0.7087\n"
     ]
    },
    {
     "name": "stderr",
     "output_type": "stream",
     "text": [
      "Epoch 15 [Training]: 100%|██████████| 659/659 [10:56<00:00,  1.00it/s, loss=0.534]\n"
     ]
    },
    {
     "name": "stdout",
     "output_type": "stream",
     "text": [
      "Epoch 15, Training Loss: 0.5339\n"
     ]
    },
    {
     "name": "stderr",
     "output_type": "stream",
     "text": [
      "Epoch 15 [Validation]: 100%|██████████| 165/165 [02:39<00:00,  1.03it/s]\n"
     ]
    },
    {
     "name": "stdout",
     "output_type": "stream",
     "text": [
      "Epoch 15, Validation Loss: 0.5255, Accuracy: 0.7061, F1 Score: 0.7102\n"
     ]
    },
    {
     "name": "stderr",
     "output_type": "stream",
     "text": [
      "Epoch 16 [Training]: 100%|██████████| 659/659 [10:58<00:00,  1.00it/s, loss=0.534]\n"
     ]
    },
    {
     "name": "stdout",
     "output_type": "stream",
     "text": [
      "Epoch 16, Training Loss: 0.5340\n"
     ]
    },
    {
     "name": "stderr",
     "output_type": "stream",
     "text": [
      "Epoch 16 [Validation]: 100%|██████████| 165/165 [02:39<00:00,  1.04it/s]\n"
     ]
    },
    {
     "name": "stdout",
     "output_type": "stream",
     "text": [
      "Epoch 16, Validation Loss: 0.5252, Accuracy: 0.7045, F1 Score: 0.7078\n"
     ]
    },
    {
     "name": "stderr",
     "output_type": "stream",
     "text": [
      "Epoch 17 [Training]: 100%|██████████| 659/659 [10:57<00:00,  1.00it/s, loss=0.534]\n"
     ]
    },
    {
     "name": "stdout",
     "output_type": "stream",
     "text": [
      "Epoch 17, Training Loss: 0.5338\n"
     ]
    },
    {
     "name": "stderr",
     "output_type": "stream",
     "text": [
      "Epoch 17 [Validation]: 100%|██████████| 165/165 [02:39<00:00,  1.03it/s]\n"
     ]
    },
    {
     "name": "stdout",
     "output_type": "stream",
     "text": [
      "Epoch 17, Validation Loss: 0.5254, Accuracy: 0.7055, F1 Score: 0.7095\n"
     ]
    },
    {
     "name": "stderr",
     "output_type": "stream",
     "text": [
      "Epoch 18 [Training]: 100%|██████████| 659/659 [10:58<00:00,  1.00it/s, loss=0.532]\n"
     ]
    },
    {
     "name": "stdout",
     "output_type": "stream",
     "text": [
      "Epoch 18, Training Loss: 0.5324\n"
     ]
    },
    {
     "name": "stderr",
     "output_type": "stream",
     "text": [
      "Epoch 18 [Validation]: 100%|██████████| 165/165 [02:39<00:00,  1.03it/s]\n"
     ]
    },
    {
     "name": "stdout",
     "output_type": "stream",
     "text": [
      "Epoch 18, Validation Loss: 0.5219, Accuracy: 0.7056, F1 Score: 0.7092\n"
     ]
    },
    {
     "name": "stderr",
     "output_type": "stream",
     "text": [
      "Epoch 19 [Training]: 100%|██████████| 659/659 [10:56<00:00,  1.00it/s, loss=0.532]\n"
     ]
    },
    {
     "name": "stdout",
     "output_type": "stream",
     "text": [
      "Epoch 19, Training Loss: 0.5316\n"
     ]
    },
    {
     "name": "stderr",
     "output_type": "stream",
     "text": [
      "Epoch 19 [Validation]: 100%|██████████| 165/165 [02:39<00:00,  1.03it/s]\n"
     ]
    },
    {
     "name": "stdout",
     "output_type": "stream",
     "text": [
      "Epoch 19, Validation Loss: 0.5193, Accuracy: 0.7054, F1 Score: 0.7088\n"
     ]
    },
    {
     "name": "stderr",
     "output_type": "stream",
     "text": [
      "Epoch 20 [Training]: 100%|██████████| 659/659 [10:57<00:00,  1.00it/s, loss=0.531]\n"
     ]
    },
    {
     "name": "stdout",
     "output_type": "stream",
     "text": [
      "Epoch 20, Training Loss: 0.5311\n"
     ]
    },
    {
     "name": "stderr",
     "output_type": "stream",
     "text": [
      "Epoch 20 [Validation]: 100%|██████████| 165/165 [02:39<00:00,  1.04it/s]\n"
     ]
    },
    {
     "name": "stdout",
     "output_type": "stream",
     "text": [
      "Epoch 20, Validation Loss: 0.5226, Accuracy: 0.7068, F1 Score: 0.7109\n"
     ]
    },
    {
     "name": "stderr",
     "output_type": "stream",
     "text": [
      "Epoch 21 [Training]: 100%|██████████| 659/659 [10:56<00:00,  1.00it/s, loss=0.53]\n"
     ]
    },
    {
     "name": "stdout",
     "output_type": "stream",
     "text": [
      "Epoch 21, Training Loss: 0.5301\n"
     ]
    },
    {
     "name": "stderr",
     "output_type": "stream",
     "text": [
      "Epoch 21 [Validation]: 100%|██████████| 165/165 [02:40<00:00,  1.03it/s]\n"
     ]
    },
    {
     "name": "stdout",
     "output_type": "stream",
     "text": [
      "Epoch 21, Validation Loss: 0.5211, Accuracy: 0.7078, F1 Score: 0.7121\n"
     ]
    },
    {
     "name": "stderr",
     "output_type": "stream",
     "text": [
      "Epoch 22 [Training]: 100%|██████████| 659/659 [11:00<00:00,  1.00s/it, loss=0.53]\n"
     ]
    },
    {
     "name": "stdout",
     "output_type": "stream",
     "text": [
      "Epoch 22, Training Loss: 0.5297\n"
     ]
    },
    {
     "name": "stderr",
     "output_type": "stream",
     "text": [
      "Epoch 22 [Validation]: 100%|██████████| 165/165 [02:39<00:00,  1.03it/s]\n"
     ]
    },
    {
     "name": "stdout",
     "output_type": "stream",
     "text": [
      "Epoch 22, Validation Loss: 0.5251, Accuracy: 0.7065, F1 Score: 0.7108\n"
     ]
    },
    {
     "name": "stderr",
     "output_type": "stream",
     "text": [
      "Epoch 23 [Training]: 100%|██████████| 659/659 [10:56<00:00,  1.00it/s, loss=0.528]\n"
     ]
    },
    {
     "name": "stdout",
     "output_type": "stream",
     "text": [
      "Epoch 23, Training Loss: 0.5285\n"
     ]
    },
    {
     "name": "stderr",
     "output_type": "stream",
     "text": [
      "Epoch 23 [Validation]: 100%|██████████| 165/165 [02:39<00:00,  1.03it/s]\n"
     ]
    },
    {
     "name": "stdout",
     "output_type": "stream",
     "text": [
      "Epoch 23, Validation Loss: 0.5208, Accuracy: 0.7074, F1 Score: 0.7118\n"
     ]
    },
    {
     "name": "stderr",
     "output_type": "stream",
     "text": [
      "Epoch 24 [Training]: 100%|██████████| 659/659 [10:57<00:00,  1.00it/s, loss=0.528]\n"
     ]
    },
    {
     "name": "stdout",
     "output_type": "stream",
     "text": [
      "Epoch 24, Training Loss: 0.5281\n"
     ]
    },
    {
     "name": "stderr",
     "output_type": "stream",
     "text": [
      "Epoch 24 [Validation]: 100%|██████████| 165/165 [02:39<00:00,  1.03it/s]\n"
     ]
    },
    {
     "name": "stdout",
     "output_type": "stream",
     "text": [
      "Epoch 24, Validation Loss: 0.5199, Accuracy: 0.7075, F1 Score: 0.7118\n"
     ]
    },
    {
     "name": "stderr",
     "output_type": "stream",
     "text": [
      "Epoch 25 [Training]: 100%|██████████| 659/659 [10:56<00:00,  1.00it/s, loss=0.529]\n"
     ]
    },
    {
     "name": "stdout",
     "output_type": "stream",
     "text": [
      "Epoch 25, Training Loss: 0.5288\n"
     ]
    },
    {
     "name": "stderr",
     "output_type": "stream",
     "text": [
      "Epoch 25 [Validation]: 100%|██████████| 165/165 [02:39<00:00,  1.03it/s]\n"
     ]
    },
    {
     "name": "stdout",
     "output_type": "stream",
     "text": [
      "Epoch 25, Validation Loss: 0.5241, Accuracy: 0.7066, F1 Score: 0.7100\n"
     ]
    },
    {
     "name": "stderr",
     "output_type": "stream",
     "text": [
      "Epoch 26 [Training]: 100%|██████████| 659/659 [10:57<00:00,  1.00it/s, loss=0.527]\n"
     ]
    },
    {
     "name": "stdout",
     "output_type": "stream",
     "text": [
      "Epoch 26, Training Loss: 0.5275\n"
     ]
    },
    {
     "name": "stderr",
     "output_type": "stream",
     "text": [
      "Epoch 26 [Validation]: 100%|██████████| 165/165 [02:39<00:00,  1.03it/s]\n"
     ]
    },
    {
     "name": "stdout",
     "output_type": "stream",
     "text": [
      "Epoch 26, Validation Loss: 0.5198, Accuracy: 0.7067, F1 Score: 0.7102\n"
     ]
    },
    {
     "name": "stderr",
     "output_type": "stream",
     "text": [
      "Epoch 27 [Training]: 100%|██████████| 659/659 [10:57<00:00,  1.00it/s, loss=0.527]\n"
     ]
    },
    {
     "name": "stdout",
     "output_type": "stream",
     "text": [
      "Epoch 27, Training Loss: 0.5268\n"
     ]
    },
    {
     "name": "stderr",
     "output_type": "stream",
     "text": [
      "Epoch 27 [Validation]: 100%|██████████| 165/165 [02:39<00:00,  1.03it/s]\n"
     ]
    },
    {
     "name": "stdout",
     "output_type": "stream",
     "text": [
      "Epoch 27, Validation Loss: 0.5206, Accuracy: 0.7058, F1 Score: 0.7094\n"
     ]
    },
    {
     "name": "stderr",
     "output_type": "stream",
     "text": [
      "Epoch 28 [Training]: 100%|██████████| 659/659 [10:59<00:00,  1.00s/it, loss=0.526]\n"
     ]
    },
    {
     "name": "stdout",
     "output_type": "stream",
     "text": [
      "Epoch 28, Training Loss: 0.5264\n"
     ]
    },
    {
     "name": "stderr",
     "output_type": "stream",
     "text": [
      "Epoch 28 [Validation]: 100%|██████████| 165/165 [02:39<00:00,  1.03it/s]\n"
     ]
    },
    {
     "name": "stdout",
     "output_type": "stream",
     "text": [
      "Epoch 28, Validation Loss: 0.5216, Accuracy: 0.7068, F1 Score: 0.7106\n"
     ]
    },
    {
     "name": "stderr",
     "output_type": "stream",
     "text": [
      "Epoch 29 [Training]: 100%|██████████| 659/659 [10:57<00:00,  1.00it/s, loss=0.527]\n"
     ]
    },
    {
     "name": "stdout",
     "output_type": "stream",
     "text": [
      "Epoch 29, Training Loss: 0.5273\n"
     ]
    },
    {
     "name": "stderr",
     "output_type": "stream",
     "text": [
      "Epoch 29 [Validation]: 100%|██████████| 165/165 [02:39<00:00,  1.03it/s]\n"
     ]
    },
    {
     "name": "stdout",
     "output_type": "stream",
     "text": [
      "Epoch 29, Validation Loss: 0.5192, Accuracy: 0.7075, F1 Score: 0.7115\n"
     ]
    },
    {
     "name": "stderr",
     "output_type": "stream",
     "text": [
      "Epoch 30 [Training]: 100%|██████████| 659/659 [10:58<00:00,  1.00it/s, loss=0.525]\n"
     ]
    },
    {
     "name": "stdout",
     "output_type": "stream",
     "text": [
      "Epoch 30, Training Loss: 0.5250\n"
     ]
    },
    {
     "name": "stderr",
     "output_type": "stream",
     "text": [
      "Epoch 30 [Validation]: 100%|██████████| 165/165 [02:39<00:00,  1.03it/s]\n"
     ]
    },
    {
     "name": "stdout",
     "output_type": "stream",
     "text": [
      "Epoch 30, Validation Loss: 0.5275, Accuracy: 0.7043, F1 Score: 0.7081\n"
     ]
    },
    {
     "name": "stderr",
     "output_type": "stream",
     "text": [
      "Epoch 31 [Training]: 100%|██████████| 659/659 [10:57<00:00,  1.00it/s, loss=0.526]\n"
     ]
    },
    {
     "name": "stdout",
     "output_type": "stream",
     "text": [
      "Epoch 31, Training Loss: 0.5261\n"
     ]
    },
    {
     "name": "stderr",
     "output_type": "stream",
     "text": [
      "Epoch 31 [Validation]: 100%|██████████| 165/165 [02:39<00:00,  1.03it/s]\n"
     ]
    },
    {
     "name": "stdout",
     "output_type": "stream",
     "text": [
      "Epoch 31, Validation Loss: 0.5174, Accuracy: 0.7088, F1 Score: 0.7133\n"
     ]
    },
    {
     "name": "stderr",
     "output_type": "stream",
     "text": [
      "Epoch 32 [Training]: 100%|██████████| 659/659 [10:58<00:00,  1.00it/s, loss=0.525]\n"
     ]
    },
    {
     "name": "stdout",
     "output_type": "stream",
     "text": [
      "Epoch 32, Training Loss: 0.5249\n"
     ]
    },
    {
     "name": "stderr",
     "output_type": "stream",
     "text": [
      "Epoch 32 [Validation]: 100%|██████████| 165/165 [02:39<00:00,  1.03it/s]\n"
     ]
    },
    {
     "name": "stdout",
     "output_type": "stream",
     "text": [
      "Epoch 32, Validation Loss: 0.5205, Accuracy: 0.7078, F1 Score: 0.7117\n"
     ]
    },
    {
     "name": "stderr",
     "output_type": "stream",
     "text": [
      "Epoch 33 [Training]: 100%|██████████| 659/659 [10:56<00:00,  1.00it/s, loss=0.525]\n"
     ]
    },
    {
     "name": "stdout",
     "output_type": "stream",
     "text": [
      "Epoch 33, Training Loss: 0.5245\n"
     ]
    },
    {
     "name": "stderr",
     "output_type": "stream",
     "text": [
      "Epoch 33 [Validation]: 100%|██████████| 165/165 [02:39<00:00,  1.03it/s]\n"
     ]
    },
    {
     "name": "stdout",
     "output_type": "stream",
     "text": [
      "Epoch 33, Validation Loss: 0.5176, Accuracy: 0.7052, F1 Score: 0.7087\n"
     ]
    },
    {
     "name": "stderr",
     "output_type": "stream",
     "text": [
      "Epoch 34 [Training]: 100%|██████████| 659/659 [10:57<00:00,  1.00it/s, loss=0.524]\n"
     ]
    },
    {
     "name": "stdout",
     "output_type": "stream",
     "text": [
      "Epoch 34, Training Loss: 0.5243\n"
     ]
    },
    {
     "name": "stderr",
     "output_type": "stream",
     "text": [
      "Epoch 34 [Validation]: 100%|██████████| 165/165 [02:39<00:00,  1.03it/s]\n"
     ]
    },
    {
     "name": "stdout",
     "output_type": "stream",
     "text": [
      "Epoch 34, Validation Loss: 0.5213, Accuracy: 0.7085, F1 Score: 0.7128\n"
     ]
    },
    {
     "name": "stderr",
     "output_type": "stream",
     "text": [
      "Epoch 35 [Training]: 100%|██████████| 659/659 [10:57<00:00,  1.00it/s, loss=0.523]\n"
     ]
    },
    {
     "name": "stdout",
     "output_type": "stream",
     "text": [
      "Epoch 35, Training Loss: 0.5230\n"
     ]
    },
    {
     "name": "stderr",
     "output_type": "stream",
     "text": [
      "Epoch 35 [Validation]: 100%|██████████| 165/165 [02:39<00:00,  1.03it/s]\n"
     ]
    },
    {
     "name": "stdout",
     "output_type": "stream",
     "text": [
      "Epoch 35, Validation Loss: 0.5225, Accuracy: 0.7082, F1 Score: 0.7127\n"
     ]
    },
    {
     "name": "stderr",
     "output_type": "stream",
     "text": [
      "Epoch 36 [Training]: 100%|██████████| 659/659 [10:57<00:00,  1.00it/s, loss=0.523]\n"
     ]
    },
    {
     "name": "stdout",
     "output_type": "stream",
     "text": [
      "Epoch 36, Training Loss: 0.5233\n"
     ]
    },
    {
     "name": "stderr",
     "output_type": "stream",
     "text": [
      "Epoch 36 [Validation]: 100%|██████████| 165/165 [02:39<00:00,  1.03it/s]\n"
     ]
    },
    {
     "name": "stdout",
     "output_type": "stream",
     "text": [
      "Epoch 36, Validation Loss: 0.5155, Accuracy: 0.7100, F1 Score: 0.7144\n"
     ]
    },
    {
     "name": "stderr",
     "output_type": "stream",
     "text": [
      "Epoch 37 [Training]: 100%|██████████| 659/659 [10:56<00:00,  1.00it/s, loss=0.524]\n"
     ]
    },
    {
     "name": "stdout",
     "output_type": "stream",
     "text": [
      "Epoch 37, Training Loss: 0.5235\n"
     ]
    },
    {
     "name": "stderr",
     "output_type": "stream",
     "text": [
      "Epoch 37 [Validation]: 100%|██████████| 165/165 [02:39<00:00,  1.03it/s]\n"
     ]
    },
    {
     "name": "stdout",
     "output_type": "stream",
     "text": [
      "Epoch 37, Validation Loss: 0.5195, Accuracy: 0.7098, F1 Score: 0.7145\n"
     ]
    },
    {
     "name": "stderr",
     "output_type": "stream",
     "text": [
      "Epoch 38 [Training]: 100%|██████████| 659/659 [10:57<00:00,  1.00it/s, loss=0.523]\n"
     ]
    },
    {
     "name": "stdout",
     "output_type": "stream",
     "text": [
      "Epoch 38, Training Loss: 0.5234\n"
     ]
    },
    {
     "name": "stderr",
     "output_type": "stream",
     "text": [
      "Epoch 38 [Validation]: 100%|██████████| 165/165 [02:39<00:00,  1.04it/s]\n"
     ]
    },
    {
     "name": "stdout",
     "output_type": "stream",
     "text": [
      "Epoch 38, Validation Loss: 0.5177, Accuracy: 0.7083, F1 Score: 0.7122\n"
     ]
    },
    {
     "name": "stderr",
     "output_type": "stream",
     "text": [
      "Epoch 39 [Training]: 100%|██████████| 659/659 [10:56<00:00,  1.00it/s, loss=0.523]\n"
     ]
    },
    {
     "name": "stdout",
     "output_type": "stream",
     "text": [
      "Epoch 39, Training Loss: 0.5234\n"
     ]
    },
    {
     "name": "stderr",
     "output_type": "stream",
     "text": [
      "Epoch 39 [Validation]: 100%|██████████| 165/165 [02:39<00:00,  1.03it/s]\n"
     ]
    },
    {
     "name": "stdout",
     "output_type": "stream",
     "text": [
      "Epoch 39, Validation Loss: 0.5168, Accuracy: 0.7083, F1 Score: 0.7121\n"
     ]
    },
    {
     "name": "stderr",
     "output_type": "stream",
     "text": [
      "Epoch 40 [Training]: 100%|██████████| 659/659 [10:58<00:00,  1.00it/s, loss=0.522]\n"
     ]
    },
    {
     "name": "stdout",
     "output_type": "stream",
     "text": [
      "Epoch 40, Training Loss: 0.5224\n"
     ]
    },
    {
     "name": "stderr",
     "output_type": "stream",
     "text": [
      "Epoch 40 [Validation]: 100%|██████████| 165/165 [02:40<00:00,  1.03it/s]\n"
     ]
    },
    {
     "name": "stdout",
     "output_type": "stream",
     "text": [
      "Epoch 40, Validation Loss: 0.5204, Accuracy: 0.7095, F1 Score: 0.7139\n"
     ]
    },
    {
     "name": "stderr",
     "output_type": "stream",
     "text": [
      "Epoch 41 [Training]: 100%|██████████| 659/659 [11:11<00:00,  1.02s/it, loss=0.522]\n"
     ]
    },
    {
     "name": "stdout",
     "output_type": "stream",
     "text": [
      "Epoch 41, Training Loss: 0.5215\n"
     ]
    },
    {
     "name": "stderr",
     "output_type": "stream",
     "text": [
      "Epoch 41 [Validation]: 100%|██████████| 165/165 [02:43<00:00,  1.01it/s]\n"
     ]
    },
    {
     "name": "stdout",
     "output_type": "stream",
     "text": [
      "Epoch 41, Validation Loss: 0.5150, Accuracy: 0.7081, F1 Score: 0.7121\n"
     ]
    },
    {
     "name": "stderr",
     "output_type": "stream",
     "text": [
      "Epoch 42 [Training]: 100%|██████████| 659/659 [11:13<00:00,  1.02s/it, loss=0.522]\n"
     ]
    },
    {
     "name": "stdout",
     "output_type": "stream",
     "text": [
      "Epoch 42, Training Loss: 0.5215\n"
     ]
    },
    {
     "name": "stderr",
     "output_type": "stream",
     "text": [
      "Epoch 42 [Validation]: 100%|██████████| 165/165 [02:42<00:00,  1.01it/s]\n"
     ]
    },
    {
     "name": "stdout",
     "output_type": "stream",
     "text": [
      "Epoch 42, Validation Loss: 0.5141, Accuracy: 0.7092, F1 Score: 0.7132\n"
     ]
    },
    {
     "name": "stderr",
     "output_type": "stream",
     "text": [
      "Epoch 43 [Training]: 100%|██████████| 659/659 [11:09<00:00,  1.02s/it, loss=0.522]\n"
     ]
    },
    {
     "name": "stdout",
     "output_type": "stream",
     "text": [
      "Epoch 43, Training Loss: 0.5220\n"
     ]
    },
    {
     "name": "stderr",
     "output_type": "stream",
     "text": [
      "Epoch 43 [Validation]: 100%|██████████| 165/165 [02:42<00:00,  1.02it/s]\n"
     ]
    },
    {
     "name": "stdout",
     "output_type": "stream",
     "text": [
      "Epoch 43, Validation Loss: 0.5138, Accuracy: 0.7078, F1 Score: 0.7118\n"
     ]
    },
    {
     "name": "stderr",
     "output_type": "stream",
     "text": [
      "Epoch 44 [Training]: 100%|██████████| 659/659 [11:08<00:00,  1.01s/it, loss=0.521]\n"
     ]
    },
    {
     "name": "stdout",
     "output_type": "stream",
     "text": [
      "Epoch 44, Training Loss: 0.5212\n"
     ]
    },
    {
     "name": "stderr",
     "output_type": "stream",
     "text": [
      "Epoch 44 [Validation]: 100%|██████████| 165/165 [02:41<00:00,  1.02it/s]\n"
     ]
    },
    {
     "name": "stdout",
     "output_type": "stream",
     "text": [
      "Epoch 44, Validation Loss: 0.5252, Accuracy: 0.7080, F1 Score: 0.7120\n"
     ]
    },
    {
     "name": "stderr",
     "output_type": "stream",
     "text": [
      "Epoch 45 [Training]: 100%|██████████| 659/659 [11:05<00:00,  1.01s/it, loss=0.521]\n"
     ]
    },
    {
     "name": "stdout",
     "output_type": "stream",
     "text": [
      "Epoch 45, Training Loss: 0.5211\n"
     ]
    },
    {
     "name": "stderr",
     "output_type": "stream",
     "text": [
      "Epoch 45 [Validation]: 100%|██████████| 165/165 [02:42<00:00,  1.02it/s]\n"
     ]
    },
    {
     "name": "stdout",
     "output_type": "stream",
     "text": [
      "Epoch 45, Validation Loss: 0.5147, Accuracy: 0.7090, F1 Score: 0.7130\n"
     ]
    },
    {
     "name": "stderr",
     "output_type": "stream",
     "text": [
      "Epoch 46 [Training]: 100%|██████████| 659/659 [11:09<00:00,  1.02s/it, loss=0.52]\n"
     ]
    },
    {
     "name": "stdout",
     "output_type": "stream",
     "text": [
      "Epoch 46, Training Loss: 0.5196\n"
     ]
    },
    {
     "name": "stderr",
     "output_type": "stream",
     "text": [
      "Epoch 46 [Validation]: 100%|██████████| 165/165 [02:42<00:00,  1.02it/s]\n"
     ]
    },
    {
     "name": "stdout",
     "output_type": "stream",
     "text": [
      "Epoch 46, Validation Loss: 0.5163, Accuracy: 0.7081, F1 Score: 0.7120\n"
     ]
    },
    {
     "name": "stderr",
     "output_type": "stream",
     "text": [
      "Epoch 47 [Training]: 100%|██████████| 659/659 [11:11<00:00,  1.02s/it, loss=0.52]\n"
     ]
    },
    {
     "name": "stdout",
     "output_type": "stream",
     "text": [
      "Epoch 47, Training Loss: 0.5203\n"
     ]
    },
    {
     "name": "stderr",
     "output_type": "stream",
     "text": [
      "Epoch 47 [Validation]: 100%|██████████| 165/165 [02:42<00:00,  1.02it/s]\n"
     ]
    },
    {
     "name": "stdout",
     "output_type": "stream",
     "text": [
      "Epoch 47, Validation Loss: 0.5164, Accuracy: 0.7105, F1 Score: 0.7151\n"
     ]
    },
    {
     "name": "stderr",
     "output_type": "stream",
     "text": [
      "Epoch 48 [Training]: 100%|██████████| 659/659 [11:13<00:00,  1.02s/it, loss=0.52]\n"
     ]
    },
    {
     "name": "stdout",
     "output_type": "stream",
     "text": [
      "Epoch 48, Training Loss: 0.5200\n"
     ]
    },
    {
     "name": "stderr",
     "output_type": "stream",
     "text": [
      "Epoch 48 [Validation]: 100%|██████████| 165/165 [02:42<00:00,  1.01it/s]\n"
     ]
    },
    {
     "name": "stdout",
     "output_type": "stream",
     "text": [
      "Epoch 48, Validation Loss: 0.5201, Accuracy: 0.7117, F1 Score: 0.7162\n"
     ]
    },
    {
     "name": "stderr",
     "output_type": "stream",
     "text": [
      "Epoch 49 [Training]: 100%|██████████| 659/659 [11:11<00:00,  1.02s/it, loss=0.519]\n"
     ]
    },
    {
     "name": "stdout",
     "output_type": "stream",
     "text": [
      "Epoch 49, Training Loss: 0.5195\n"
     ]
    },
    {
     "name": "stderr",
     "output_type": "stream",
     "text": [
      "Epoch 49 [Validation]: 100%|██████████| 165/165 [02:43<00:00,  1.01it/s]\n"
     ]
    },
    {
     "name": "stdout",
     "output_type": "stream",
     "text": [
      "Epoch 49, Validation Loss: 0.5157, Accuracy: 0.7109, F1 Score: 0.7155\n"
     ]
    },
    {
     "name": "stderr",
     "output_type": "stream",
     "text": [
      "Epoch 50 [Training]: 100%|██████████| 659/659 [11:14<00:00,  1.02s/it, loss=0.52]\n"
     ]
    },
    {
     "name": "stdout",
     "output_type": "stream",
     "text": [
      "Epoch 50, Training Loss: 0.5195\n"
     ]
    },
    {
     "name": "stderr",
     "output_type": "stream",
     "text": [
      "Epoch 50 [Validation]: 100%|██████████| 165/165 [02:42<00:00,  1.01it/s]\n"
     ]
    },
    {
     "name": "stdout",
     "output_type": "stream",
     "text": [
      "Epoch 50, Validation Loss: 0.5147, Accuracy: 0.7120, F1 Score: 0.7165\n"
     ]
    }
   ],
   "source": [
    "from transformers import BertTokenizer, BertModel, BertForSequenceClassification, AdamW\n",
    "from tqdm import tqdm\n",
    "from sklearn.metrics import accuracy_score, f1_score\n",
    "import os\n",
    "os.environ[\"CUDA_LAUNCH_BLOCKING\"] = \"1\"\n",
    "\n",
    "max_phonetic_index = max([max(seq) for seq in phonetic_seqs])\n",
    "\n",
    "model = LoanWordClassifier(num_phonetic_embeddings=max_phonetic_index + 1)\n",
    "\n",
    "device = torch.device(\"cuda\" if torch.cuda.is_available() else \"cpu\")\n",
    "\n",
    "model.to(device)\n",
    "optimizer = torch.optim.AdamW(model.parameters(), lr=2e-5)\n",
    "loss_fn = torch.nn.CrossEntropyLoss()\n",
    "\n",
    "\n",
    "dataset = dataloader.dataset  # Get the dataset from DataLoader\n",
    "train_size = int(0.8 * len(dataset))\n",
    "val_size = len(dataset) - train_size\n",
    "train_dataset, val_dataset = torch.utils.data.random_split(dataset, [train_size, val_size])\n",
    "train_loader = torch.utils.data.DataLoader(train_dataset, batch_size=256, shuffle=True)\n",
    "val_loader = torch.utils.data.DataLoader(val_dataset, batch_size=256, shuffle=False)\n",
    "\n",
    "\n",
    "for epoch in range(50):\n",
    "    model.train()\n",
    "    total_train_loss = 0\n",
    "    progress_bar = tqdm(train_loader, desc=f\"Epoch {epoch+1} [Training]\")\n",
    "\n",
    "    for batch in progress_bar:\n",
    "        optimizer.zero_grad()\n",
    "        logits = model(\n",
    "            input_ids=batch[\"input_ids\"].to(device),\n",
    "            attention_mask=batch[\"attention_mask\"].to(device),\n",
    "            phonetic_seq=batch[\"phonetic_seq\"].to(device),\n",
    "            unicode_feature=batch[\"unicode_feature\"].to(device),\n",
    "            other_feature=batch[\"other_feature\"].to(device)\n",
    "        )\n",
    "        loss = loss_fn(logits, batch[\"label\"].to(device))\n",
    "        loss.backward()\n",
    "        optimizer.step()\n",
    "        total_train_loss += loss.item()\n",
    "        progress_bar.set_postfix(loss=total_train_loss / (progress_bar.n + 1))\n",
    "    \n",
    "    print(f\"Epoch {epoch + 1}, Training Loss: {total_train_loss / len(train_loader):.4f}\")\n",
    "\n",
    "    # Validation\n",
    "    model.eval()\n",
    "    total_val_loss = 0\n",
    "    all_preds, all_labels = [], []\n",
    "\n",
    "    with torch.no_grad():\n",
    "        for batch in tqdm(val_loader, desc=f\"Epoch {epoch+1} [Validation]\"):\n",
    "            logits = model(\n",
    "                input_ids=batch[\"input_ids\"].to(device),\n",
    "                attention_mask=batch[\"attention_mask\"].to(device),\n",
    "                phonetic_seq=batch[\"phonetic_seq\"].to(device),\n",
    "                unicode_feature=batch[\"unicode_feature\"].to(device),\n",
    "                other_feature=batch[\"other_feature\"].to(device)\n",
    "            )\n",
    "            loss = loss_fn(logits, batch[\"label\"].to(device))\n",
    "            total_val_loss += loss.item()\n",
    "\n",
    "            preds = torch.argmax(logits, dim=1).cpu().numpy()\n",
    "            labels = batch[\"label\"].cpu().numpy()\n",
    "\n",
    "            all_preds.extend(preds)\n",
    "            all_labels.extend(labels)\n",
    "\n",
    "    val_loss = total_val_loss / len(val_loader)\n",
    "    val_acc = accuracy_score(all_labels, all_preds)\n",
    "    val_f1 = f1_score(all_labels, all_preds, average=\"weighted\")\n",
    "\n",
    "    print(f\"Epoch {epoch+1}, Validation Loss: {val_loss:.4f}, Accuracy: {val_acc:.4f}, F1 Score: {val_f1:.4f}\")\n",
    "\n",
    "# for epoch in range(1):\n",
    "#     model.train()\n",
    "#     total_loss = 0\n",
    "#     progress_bar = tqdm(dataloader, desc=f\"Epoch {epoch+1}\")\n",
    "\n",
    "#     for batch in progress_bar:\n",
    "#         optimizer.zero_grad()\n",
    "#         logits = model(\n",
    "#             input_ids=batch[\"input_ids\"].to(device),\n",
    "#             attention_mask=batch[\"attention_mask\"].to(device),\n",
    "#             phonetic_seq=batch[\"phonetic_seq\"].to(device),\n",
    "#             unicode_feature=batch[\"unicode_feature\"].to(device),\n",
    "#             other_feature=batch[\"other_feature\"].to(device)\n",
    "#         )\n",
    "#         loss = loss_fn(logits, batch[\"label\"].to(device))\n",
    "#         loss.backward()\n",
    "#         optimizer.step()\n",
    "#         total_loss += loss.item()\n",
    "#         progress_bar.set_postfix(loss=total_loss / (progress_bar.n + 1))\n",
    "#     print(f\"Epoch {epoch + 1}, Loss: {total_loss / len(dataloader)}\")\n",
    "\n",
    "torch.save(model.state_dict(), \"loan_word_model.pth\")"
   ]
  },
  {
   "cell_type": "code",
   "execution_count": null,
   "id": "8e1c310e",
   "metadata": {
    "papermill": {
     "duration": 4.332596,
     "end_time": "2025-03-26T19:57:59.666332",
     "exception": false,
     "start_time": "2025-03-26T19:57:55.333736",
     "status": "completed"
    },
    "tags": []
   },
   "outputs": [],
   "source": []
  },
  {
   "cell_type": "code",
   "execution_count": 12,
   "id": "47b9a335",
   "metadata": {
    "execution": {
     "iopub.execute_input": "2025-03-26T19:58:07.985665Z",
     "iopub.status.busy": "2025-03-26T19:58:07.985298Z",
     "iopub.status.idle": "2025-03-26T19:58:10.414274Z",
     "shell.execute_reply": "2025-03-26T19:58:10.413215Z"
    },
    "papermill": {
     "duration": 6.612818,
     "end_time": "2025-03-26T19:58:10.415803",
     "exception": false,
     "start_time": "2025-03-26T19:58:03.802985",
     "status": "completed"
    },
    "tags": []
   },
   "outputs": [
    {
     "name": "stderr",
     "output_type": "stream",
     "text": [
      "<ipython-input-12-afde79c0b0ef>:6: FutureWarning: You are using `torch.load` with `weights_only=False` (the current default value), which uses the default pickle module implicitly. It is possible to construct malicious pickle data which will execute arbitrary code during unpickling (See https://github.com/pytorch/pytorch/blob/main/SECURITY.md#untrusted-models for more details). In a future release, the default value for `weights_only` will be flipped to `True`. This limits the functions that could be executed during unpickling. Arbitrary objects will no longer be allowed to be loaded via this mode unless they are explicitly allowlisted by the user via `torch.serialization.add_safe_globals`. We recommend you start setting `weights_only=True` for any use case where you don't have full control of the loaded file. Please open an issue on GitHub for any issues related to this experimental feature.\n",
      "  model.load_state_dict(torch.load(\"loan_word_model.pth\"))\n"
     ]
    },
    {
     "name": "stdout",
     "output_type": "stream",
     "text": [
      "The tensor([[0.9558, 0.0442]], device='cuda:0')\n",
      "government tensor([[0.4837, 0.5163]], device='cuda:0')\n",
      "governed tensor([[0.9047, 0.0953]], device='cuda:0')\n",
      "a tensor([[0.6857, 0.3143]], device='cuda:0')\n",
      "new tensor([[0.6918, 0.3082]], device='cuda:0')\n",
      "abordage tensor([[0.2388, 0.7612]], device='cuda:0')\n",
      "policy. tensor([[0.6006, 0.3994]], device='cuda:0')\n",
      "False loan words: ['government', 'abordage']\n"
     ]
    }
   ],
   "source": [
    "import torch\n",
    "from transformers import BertTokenizer\n",
    "import epitran\n",
    "\n",
    "# Load model and tokenizer\n",
    "model.load_state_dict(torch.load(\"loan_word_model.pth\"))\n",
    "model.eval()\n",
    "tokenizer = BertTokenizer.from_pretrained(\"bert-base-multilingual-cased\")\n",
    "epi = epitran.Epitran(\"fra-Latn\")\n",
    "\n",
    "def normalize(unicode_values):\n",
    "    mean_value = sum(unicode_values) / len(unicode_values)\n",
    "    return [val - mean_value for val in unicode_values]\n",
    "\n",
    "def extract_features(word, max_len=25):\n",
    "    try:\n",
    "        loan_epitran = epi.transliterate(word)\n",
    "        phonetic_seq = [ord(c) for c in loan_epitran] \n",
    "    except IndexError as e:\n",
    "        print(f\"Transliteration failed for '{word}': {e}\")\n",
    "        phonetic_seq = [0] \n",
    "\n",
    "    unicode_features = [ord(c) for c in word]\n",
    "    unicode_features = normalize(unicode_features)\n",
    "\n",
    "    if len(unicode_features) < max_len:\n",
    "        unicode_features = unicode_features + [0] * (max_len - len(unicode_features))\n",
    "    else:\n",
    "        unicode_features = unicode_features[:max_len]  # Truncate if longer\n",
    "\n",
    "    return phonetic_seq, unicode_features, [len(word)]\n",
    "\n",
    "\n",
    "\n",
    "sentence = \"The government governed a new abordage policy.\"\n",
    "words = sentence.split()\n",
    "\n",
    "false_loans = []\n",
    "for word in words:\n",
    "    phonetic_seq, unicode_feature, other_feature = extract_features(word)\n",
    "    inputs = tokenizer(word, return_tensors=\"pt\", padding=True, truncation=True)\n",
    "\n",
    "    with torch.no_grad():\n",
    "        logits = model(\n",
    "            input_ids=inputs[\"input_ids\"].to(device),\n",
    "            attention_mask=inputs[\"attention_mask\"].to(device),\n",
    "            phonetic_seq=torch.tensor([phonetic_seq], dtype=torch.long).to(device),\n",
    "            unicode_feature=torch.tensor([unicode_feature], dtype=torch.float).to(device),\n",
    "            other_feature=torch.tensor([other_feature], dtype=torch.float).to(device)\n",
    "        )\n",
    "        probs = torch.softmax(logits, dim=1)\n",
    "        print(word , probs)\n",
    "        \n",
    "        if torch.argmax(probs) == 1:  \n",
    "            false_loans.append(word)\n",
    "\n",
    "print(\"False loan words:\", false_loans)"
   ]
  },
  {
   "cell_type": "code",
   "execution_count": 13,
   "id": "de73d0f6",
   "metadata": {
    "execution": {
     "iopub.execute_input": "2025-03-26T19:58:18.646721Z",
     "iopub.status.busy": "2025-03-26T19:58:18.646256Z",
     "iopub.status.idle": "2025-03-26T19:59:05.879589Z",
     "shell.execute_reply": "2025-03-26T19:59:05.878218Z"
    },
    "papermill": {
     "duration": 52.931879,
     "end_time": "2025-03-26T19:59:07.243608",
     "exception": false,
     "start_time": "2025-03-26T19:58:14.311729",
     "status": "completed"
    },
    "tags": []
   },
   "outputs": [
    {
     "name": "stdout",
     "output_type": "stream",
     "text": [
      "  adding: kaggle/working/ (stored 0%)\r\n",
      "  adding: kaggle/working/__notebook__.ipynb (deflated 97%)\r\n",
      "  adding: kaggle/working/loan_word_model.pth (deflated 7%)\r\n",
      "  adding: kaggle/working/all_languages_combined.csv (deflated 67%)\r\n"
     ]
    }
   ],
   "source": [
    "!zip -r output.zip /kaggle/working/"
   ]
  }
 ],
 "metadata": {
  "kaggle": {
   "accelerator": "gpu",
   "dataSources": [
    {
     "datasetId": 6943082,
     "sourceId": 11132396,
     "sourceType": "datasetVersion"
    },
    {
     "datasetId": 6970853,
     "sourceId": 11170077,
     "sourceType": "datasetVersion"
    }
   ],
   "dockerImageVersionId": 30919,
   "isGpuEnabled": true,
   "isInternetEnabled": true,
   "language": "python",
   "sourceType": "notebook"
  },
  "kernelspec": {
   "display_name": "base",
   "language": "python",
   "name": "python3"
  },
  "language_info": {
   "codemirror_mode": {
    "name": "ipython",
    "version": 3
   },
   "file_extension": ".py",
   "mimetype": "text/x-python",
   "name": "python",
   "nbconvert_exporter": "python",
   "pygments_lexer": "ipython3",
   "version": "3.12.2"
  },
  "papermill": {
   "default_parameters": {},
   "duration": 41269.438921,
   "end_time": "2025-03-26T19:59:14.229305",
   "environment_variables": {},
   "exception": null,
   "input_path": "__notebook__.ipynb",
   "output_path": "__notebook__.ipynb",
   "parameters": {},
   "start_time": "2025-03-26T08:31:24.790384",
   "version": "2.6.0"
  },
  "widgets": {
   "application/vnd.jupyter.widget-state+json": {
    "state": {
     "1da845b4934b48a199447e4079fdc698": {
      "model_module": "@jupyter-widgets/base",
      "model_module_version": "2.0.0",
      "model_name": "LayoutModel",
      "state": {
       "_model_module": "@jupyter-widgets/base",
       "_model_module_version": "2.0.0",
       "_model_name": "LayoutModel",
       "_view_count": null,
       "_view_module": "@jupyter-widgets/base",
       "_view_module_version": "2.0.0",
       "_view_name": "LayoutView",
       "align_content": null,
       "align_items": null,
       "align_self": null,
       "border_bottom": null,
       "border_left": null,
       "border_right": null,
       "border_top": null,
       "bottom": null,
       "display": null,
       "flex": null,
       "flex_flow": null,
       "grid_area": null,
       "grid_auto_columns": null,
       "grid_auto_flow": null,
       "grid_auto_rows": null,
       "grid_column": null,
       "grid_gap": null,
       "grid_row": null,
       "grid_template_areas": null,
       "grid_template_columns": null,
       "grid_template_rows": null,
       "height": null,
       "justify_content": null,
       "justify_items": null,
       "left": null,
       "margin": null,
       "max_height": null,
       "max_width": null,
       "min_height": null,
       "min_width": null,
       "object_fit": null,
       "object_position": null,
       "order": null,
       "overflow": null,
       "padding": null,
       "right": null,
       "top": null,
       "visibility": null,
       "width": null
      }
     },
     "27eabdb5bf814a64b71fd3b02e1ed0fc": {
      "model_module": "@jupyter-widgets/controls",
      "model_module_version": "2.0.0",
      "model_name": "FloatProgressModel",
      "state": {
       "_dom_classes": [],
       "_model_module": "@jupyter-widgets/controls",
       "_model_module_version": "2.0.0",
       "_model_name": "FloatProgressModel",
       "_view_count": null,
       "_view_module": "@jupyter-widgets/controls",
       "_view_module_version": "2.0.0",
       "_view_name": "ProgressView",
       "bar_style": "success",
       "description": "",
       "description_allow_html": false,
       "layout": "IPY_MODEL_8630266cdf594ad1ac11f27864a9d55f",
       "max": 995526,
       "min": 0,
       "orientation": "horizontal",
       "style": "IPY_MODEL_a5dce1d8156d44cc8dbb39ea17e0bab3",
       "tabbable": null,
       "tooltip": null,
       "value": 995526
      }
     },
     "2a787e14099f44dc9de5e05b0e9f905b": {
      "model_module": "@jupyter-widgets/controls",
      "model_module_version": "2.0.0",
      "model_name": "HBoxModel",
      "state": {
       "_dom_classes": [],
       "_model_module": "@jupyter-widgets/controls",
       "_model_module_version": "2.0.0",
       "_model_name": "HBoxModel",
       "_view_count": null,
       "_view_module": "@jupyter-widgets/controls",
       "_view_module_version": "2.0.0",
       "_view_name": "HBoxView",
       "box_style": "",
       "children": [
        "IPY_MODEL_6bf33f10597e4c47ad9e9309bf6fa6b7",
        "IPY_MODEL_f7b1ed4b97c847708f143135f9fa152c",
        "IPY_MODEL_f70181449a444920b7c2e5de2edce7f2"
       ],
       "layout": "IPY_MODEL_e9c066248f8b43918b329ccfcfc9438f",
       "tabbable": null,
       "tooltip": null
      }
     },
     "355cf23bb0484a1ebf27fddbe1b29d8e": {
      "model_module": "@jupyter-widgets/controls",
      "model_module_version": "2.0.0",
      "model_name": "HTMLModel",
      "state": {
       "_dom_classes": [],
       "_model_module": "@jupyter-widgets/controls",
       "_model_module_version": "2.0.0",
       "_model_name": "HTMLModel",
       "_view_count": null,
       "_view_module": "@jupyter-widgets/controls",
       "_view_module_version": "2.0.0",
       "_view_name": "HTMLView",
       "description": "",
       "description_allow_html": false,
       "layout": "IPY_MODEL_73cf4fe6d81a44a2a5dad881f9b6d8c7",
       "placeholder": "​",
       "style": "IPY_MODEL_90e3a8f80f75467bb7bf86414cabb738",
       "tabbable": null,
       "tooltip": null,
       "value": " 625/625 [00:00&lt;00:00, 69.0kB/s]"
      }
     },
     "3a56164a7f4d462ca19e8f743acd7f91": {
      "model_module": "@jupyter-widgets/base",
      "model_module_version": "2.0.0",
      "model_name": "LayoutModel",
      "state": {
       "_model_module": "@jupyter-widgets/base",
       "_model_module_version": "2.0.0",
       "_model_name": "LayoutModel",
       "_view_count": null,
       "_view_module": "@jupyter-widgets/base",
       "_view_module_version": "2.0.0",
       "_view_name": "LayoutView",
       "align_content": null,
       "align_items": null,
       "align_self": null,
       "border_bottom": null,
       "border_left": null,
       "border_right": null,
       "border_top": null,
       "bottom": null,
       "display": null,
       "flex": null,
       "flex_flow": null,
       "grid_area": null,
       "grid_auto_columns": null,
       "grid_auto_flow": null,
       "grid_auto_rows": null,
       "grid_column": null,
       "grid_gap": null,
       "grid_row": null,
       "grid_template_areas": null,
       "grid_template_columns": null,
       "grid_template_rows": null,
       "height": null,
       "justify_content": null,
       "justify_items": null,
       "left": null,
       "margin": null,
       "max_height": null,
       "max_width": null,
       "min_height": null,
       "min_width": null,
       "object_fit": null,
       "object_position": null,
       "order": null,
       "overflow": null,
       "padding": null,
       "right": null,
       "top": null,
       "visibility": null,
       "width": null
      }
     },
     "3cc34a64547a487099d933dc4e222ec1": {
      "model_module": "@jupyter-widgets/base",
      "model_module_version": "2.0.0",
      "model_name": "LayoutModel",
      "state": {
       "_model_module": "@jupyter-widgets/base",
       "_model_module_version": "2.0.0",
       "_model_name": "LayoutModel",
       "_view_count": null,
       "_view_module": "@jupyter-widgets/base",
       "_view_module_version": "2.0.0",
       "_view_name": "LayoutView",
       "align_content": null,
       "align_items": null,
       "align_self": null,
       "border_bottom": null,
       "border_left": null,
       "border_right": null,
       "border_top": null,
       "bottom": null,
       "display": null,
       "flex": null,
       "flex_flow": null,
       "grid_area": null,
       "grid_auto_columns": null,
       "grid_auto_flow": null,
       "grid_auto_rows": null,
       "grid_column": null,
       "grid_gap": null,
       "grid_row": null,
       "grid_template_areas": null,
       "grid_template_columns": null,
       "grid_template_rows": null,
       "height": null,
       "justify_content": null,
       "justify_items": null,
       "left": null,
       "margin": null,
       "max_height": null,
       "max_width": null,
       "min_height": null,
       "min_width": null,
       "object_fit": null,
       "object_position": null,
       "order": null,
       "overflow": null,
       "padding": null,
       "right": null,
       "top": null,
       "visibility": null,
       "width": null
      }
     },
     "3dd034ddb4d342ada2b0d9f5b83926a6": {
      "model_module": "@jupyter-widgets/base",
      "model_module_version": "2.0.0",
      "model_name": "LayoutModel",
      "state": {
       "_model_module": "@jupyter-widgets/base",
       "_model_module_version": "2.0.0",
       "_model_name": "LayoutModel",
       "_view_count": null,
       "_view_module": "@jupyter-widgets/base",
       "_view_module_version": "2.0.0",
       "_view_name": "LayoutView",
       "align_content": null,
       "align_items": null,
       "align_self": null,
       "border_bottom": null,
       "border_left": null,
       "border_right": null,
       "border_top": null,
       "bottom": null,
       "display": null,
       "flex": null,
       "flex_flow": null,
       "grid_area": null,
       "grid_auto_columns": null,
       "grid_auto_flow": null,
       "grid_auto_rows": null,
       "grid_column": null,
       "grid_gap": null,
       "grid_row": null,
       "grid_template_areas": null,
       "grid_template_columns": null,
       "grid_template_rows": null,
       "height": null,
       "justify_content": null,
       "justify_items": null,
       "left": null,
       "margin": null,
       "max_height": null,
       "max_width": null,
       "min_height": null,
       "min_width": null,
       "object_fit": null,
       "object_position": null,
       "order": null,
       "overflow": null,
       "padding": null,
       "right": null,
       "top": null,
       "visibility": null,
       "width": null
      }
     },
     "4305bbdc6dfd43088f2a6b237efd6315": {
      "model_module": "@jupyter-widgets/base",
      "model_module_version": "2.0.0",
      "model_name": "LayoutModel",
      "state": {
       "_model_module": "@jupyter-widgets/base",
       "_model_module_version": "2.0.0",
       "_model_name": "LayoutModel",
       "_view_count": null,
       "_view_module": "@jupyter-widgets/base",
       "_view_module_version": "2.0.0",
       "_view_name": "LayoutView",
       "align_content": null,
       "align_items": null,
       "align_self": null,
       "border_bottom": null,
       "border_left": null,
       "border_right": null,
       "border_top": null,
       "bottom": null,
       "display": null,
       "flex": null,
       "flex_flow": null,
       "grid_area": null,
       "grid_auto_columns": null,
       "grid_auto_flow": null,
       "grid_auto_rows": null,
       "grid_column": null,
       "grid_gap": null,
       "grid_row": null,
       "grid_template_areas": null,
       "grid_template_columns": null,
       "grid_template_rows": null,
       "height": null,
       "justify_content": null,
       "justify_items": null,
       "left": null,
       "margin": null,
       "max_height": null,
       "max_width": null,
       "min_height": null,
       "min_width": null,
       "object_fit": null,
       "object_position": null,
       "order": null,
       "overflow": null,
       "padding": null,
       "right": null,
       "top": null,
       "visibility": null,
       "width": null
      }
     },
     "44341a0b27a243909fbf88609ac7c736": {
      "model_module": "@jupyter-widgets/controls",
      "model_module_version": "2.0.0",
      "model_name": "HTMLStyleModel",
      "state": {
       "_model_module": "@jupyter-widgets/controls",
       "_model_module_version": "2.0.0",
       "_model_name": "HTMLStyleModel",
       "_view_count": null,
       "_view_module": "@jupyter-widgets/base",
       "_view_module_version": "2.0.0",
       "_view_name": "StyleView",
       "background": null,
       "description_width": "",
       "font_size": null,
       "text_color": null
      }
     },
     "44f7ff56833c4c219e2a508b61c05141": {
      "model_module": "@jupyter-widgets/controls",
      "model_module_version": "2.0.0",
      "model_name": "HTMLModel",
      "state": {
       "_dom_classes": [],
       "_model_module": "@jupyter-widgets/controls",
       "_model_module_version": "2.0.0",
       "_model_name": "HTMLModel",
       "_view_count": null,
       "_view_module": "@jupyter-widgets/controls",
       "_view_module_version": "2.0.0",
       "_view_name": "HTMLView",
       "description": "",
       "description_allow_html": false,
       "layout": "IPY_MODEL_721632873a3e42f6ab5eed8662950c96",
       "placeholder": "​",
       "style": "IPY_MODEL_44341a0b27a243909fbf88609ac7c736",
       "tabbable": null,
       "tooltip": null,
       "value": " 1.96M/1.96M [00:00&lt;00:00, 16.7MB/s]"
      }
     },
     "52ea96760dd54e1c84209e692191f2b3": {
      "model_module": "@jupyter-widgets/controls",
      "model_module_version": "2.0.0",
      "model_name": "HTMLModel",
      "state": {
       "_dom_classes": [],
       "_model_module": "@jupyter-widgets/controls",
       "_model_module_version": "2.0.0",
       "_model_name": "HTMLModel",
       "_view_count": null,
       "_view_module": "@jupyter-widgets/controls",
       "_view_module_version": "2.0.0",
       "_view_name": "HTMLView",
       "description": "",
       "description_allow_html": false,
       "layout": "IPY_MODEL_ff5295a39ead420bb92d61710ebae682",
       "placeholder": "​",
       "style": "IPY_MODEL_e3424c87cced47b4b1451cc75beb109f",
       "tabbable": null,
       "tooltip": null,
       "value": "vocab.txt: 100%"
      }
     },
     "54c31327c3134967983627552ab8fba1": {
      "model_module": "@jupyter-widgets/controls",
      "model_module_version": "2.0.0",
      "model_name": "HBoxModel",
      "state": {
       "_dom_classes": [],
       "_model_module": "@jupyter-widgets/controls",
       "_model_module_version": "2.0.0",
       "_model_name": "HBoxModel",
       "_view_count": null,
       "_view_module": "@jupyter-widgets/controls",
       "_view_module_version": "2.0.0",
       "_view_name": "HBoxView",
       "box_style": "",
       "children": [
        "IPY_MODEL_610991cd0a354d3599014e46dd4bb2b0",
        "IPY_MODEL_7f6245f2e5ca4efea79754143c006f0c",
        "IPY_MODEL_355cf23bb0484a1ebf27fddbe1b29d8e"
       ],
       "layout": "IPY_MODEL_fead586fd5b047d0a4fdd5a0b24b2d4d",
       "tabbable": null,
       "tooltip": null
      }
     },
     "57511356405a4879a3cc25bae0e092df": {
      "model_module": "@jupyter-widgets/controls",
      "model_module_version": "2.0.0",
      "model_name": "ProgressStyleModel",
      "state": {
       "_model_module": "@jupyter-widgets/controls",
       "_model_module_version": "2.0.0",
       "_model_name": "ProgressStyleModel",
       "_view_count": null,
       "_view_module": "@jupyter-widgets/base",
       "_view_module_version": "2.0.0",
       "_view_name": "StyleView",
       "bar_color": null,
       "description_width": ""
      }
     },
     "60e9765c49dd4cb99484f89b4e1e73df": {
      "model_module": "@jupyter-widgets/controls",
      "model_module_version": "2.0.0",
      "model_name": "FloatProgressModel",
      "state": {
       "_dom_classes": [],
       "_model_module": "@jupyter-widgets/controls",
       "_model_module_version": "2.0.0",
       "_model_name": "FloatProgressModel",
       "_view_count": null,
       "_view_module": "@jupyter-widgets/controls",
       "_view_module_version": "2.0.0",
       "_view_name": "ProgressView",
       "bar_style": "success",
       "description": "",
       "description_allow_html": false,
       "layout": "IPY_MODEL_1da845b4934b48a199447e4079fdc698",
       "max": 1961828,
       "min": 0,
       "orientation": "horizontal",
       "style": "IPY_MODEL_57511356405a4879a3cc25bae0e092df",
       "tabbable": null,
       "tooltip": null,
       "value": 1961828
      }
     },
     "610991cd0a354d3599014e46dd4bb2b0": {
      "model_module": "@jupyter-widgets/controls",
      "model_module_version": "2.0.0",
      "model_name": "HTMLModel",
      "state": {
       "_dom_classes": [],
       "_model_module": "@jupyter-widgets/controls",
       "_model_module_version": "2.0.0",
       "_model_name": "HTMLModel",
       "_view_count": null,
       "_view_module": "@jupyter-widgets/controls",
       "_view_module_version": "2.0.0",
       "_view_name": "HTMLView",
       "description": "",
       "description_allow_html": false,
       "layout": "IPY_MODEL_d35be4849ec849b3bbc5825ddee28f2b",
       "placeholder": "​",
       "style": "IPY_MODEL_720fabdfd3f04024b22c0507cd6fcc88",
       "tabbable": null,
       "tooltip": null,
       "value": "config.json: 100%"
      }
     },
     "6bf33f10597e4c47ad9e9309bf6fa6b7": {
      "model_module": "@jupyter-widgets/controls",
      "model_module_version": "2.0.0",
      "model_name": "HTMLModel",
      "state": {
       "_dom_classes": [],
       "_model_module": "@jupyter-widgets/controls",
       "_model_module_version": "2.0.0",
       "_model_name": "HTMLModel",
       "_view_count": null,
       "_view_module": "@jupyter-widgets/controls",
       "_view_module_version": "2.0.0",
       "_view_name": "HTMLView",
       "description": "",
       "description_allow_html": false,
       "layout": "IPY_MODEL_bd99cdb8e11b4f7a92d58ab213f3e625",
       "placeholder": "​",
       "style": "IPY_MODEL_a758302a25a64869be5910ec8cd6ac3a",
       "tabbable": null,
       "tooltip": null,
       "value": "tokenizer_config.json: 100%"
      }
     },
     "720fabdfd3f04024b22c0507cd6fcc88": {
      "model_module": "@jupyter-widgets/controls",
      "model_module_version": "2.0.0",
      "model_name": "HTMLStyleModel",
      "state": {
       "_model_module": "@jupyter-widgets/controls",
       "_model_module_version": "2.0.0",
       "_model_name": "HTMLStyleModel",
       "_view_count": null,
       "_view_module": "@jupyter-widgets/base",
       "_view_module_version": "2.0.0",
       "_view_name": "StyleView",
       "background": null,
       "description_width": "",
       "font_size": null,
       "text_color": null
      }
     },
     "721632873a3e42f6ab5eed8662950c96": {
      "model_module": "@jupyter-widgets/base",
      "model_module_version": "2.0.0",
      "model_name": "LayoutModel",
      "state": {
       "_model_module": "@jupyter-widgets/base",
       "_model_module_version": "2.0.0",
       "_model_name": "LayoutModel",
       "_view_count": null,
       "_view_module": "@jupyter-widgets/base",
       "_view_module_version": "2.0.0",
       "_view_name": "LayoutView",
       "align_content": null,
       "align_items": null,
       "align_self": null,
       "border_bottom": null,
       "border_left": null,
       "border_right": null,
       "border_top": null,
       "bottom": null,
       "display": null,
       "flex": null,
       "flex_flow": null,
       "grid_area": null,
       "grid_auto_columns": null,
       "grid_auto_flow": null,
       "grid_auto_rows": null,
       "grid_column": null,
       "grid_gap": null,
       "grid_row": null,
       "grid_template_areas": null,
       "grid_template_columns": null,
       "grid_template_rows": null,
       "height": null,
       "justify_content": null,
       "justify_items": null,
       "left": null,
       "margin": null,
       "max_height": null,
       "max_width": null,
       "min_height": null,
       "min_width": null,
       "object_fit": null,
       "object_position": null,
       "order": null,
       "overflow": null,
       "padding": null,
       "right": null,
       "top": null,
       "visibility": null,
       "width": null
      }
     },
     "73cf4fe6d81a44a2a5dad881f9b6d8c7": {
      "model_module": "@jupyter-widgets/base",
      "model_module_version": "2.0.0",
      "model_name": "LayoutModel",
      "state": {
       "_model_module": "@jupyter-widgets/base",
       "_model_module_version": "2.0.0",
       "_model_name": "LayoutModel",
       "_view_count": null,
       "_view_module": "@jupyter-widgets/base",
       "_view_module_version": "2.0.0",
       "_view_name": "LayoutView",
       "align_content": null,
       "align_items": null,
       "align_self": null,
       "border_bottom": null,
       "border_left": null,
       "border_right": null,
       "border_top": null,
       "bottom": null,
       "display": null,
       "flex": null,
       "flex_flow": null,
       "grid_area": null,
       "grid_auto_columns": null,
       "grid_auto_flow": null,
       "grid_auto_rows": null,
       "grid_column": null,
       "grid_gap": null,
       "grid_row": null,
       "grid_template_areas": null,
       "grid_template_columns": null,
       "grid_template_rows": null,
       "height": null,
       "justify_content": null,
       "justify_items": null,
       "left": null,
       "margin": null,
       "max_height": null,
       "max_width": null,
       "min_height": null,
       "min_width": null,
       "object_fit": null,
       "object_position": null,
       "order": null,
       "overflow": null,
       "padding": null,
       "right": null,
       "top": null,
       "visibility": null,
       "width": null
      }
     },
     "7f6245f2e5ca4efea79754143c006f0c": {
      "model_module": "@jupyter-widgets/controls",
      "model_module_version": "2.0.0",
      "model_name": "FloatProgressModel",
      "state": {
       "_dom_classes": [],
       "_model_module": "@jupyter-widgets/controls",
       "_model_module_version": "2.0.0",
       "_model_name": "FloatProgressModel",
       "_view_count": null,
       "_view_module": "@jupyter-widgets/controls",
       "_view_module_version": "2.0.0",
       "_view_name": "ProgressView",
       "bar_style": "success",
       "description": "",
       "description_allow_html": false,
       "layout": "IPY_MODEL_a0081d4cec9f4b85a5daf47cf391c006",
       "max": 625,
       "min": 0,
       "orientation": "horizontal",
       "style": "IPY_MODEL_82f98422f1e848b1a0f79f6b64bf1d62",
       "tabbable": null,
       "tooltip": null,
       "value": 625
      }
     },
     "82f98422f1e848b1a0f79f6b64bf1d62": {
      "model_module": "@jupyter-widgets/controls",
      "model_module_version": "2.0.0",
      "model_name": "ProgressStyleModel",
      "state": {
       "_model_module": "@jupyter-widgets/controls",
       "_model_module_version": "2.0.0",
       "_model_name": "ProgressStyleModel",
       "_view_count": null,
       "_view_module": "@jupyter-widgets/base",
       "_view_module_version": "2.0.0",
       "_view_name": "StyleView",
       "bar_color": null,
       "description_width": ""
      }
     },
     "8630266cdf594ad1ac11f27864a9d55f": {
      "model_module": "@jupyter-widgets/base",
      "model_module_version": "2.0.0",
      "model_name": "LayoutModel",
      "state": {
       "_model_module": "@jupyter-widgets/base",
       "_model_module_version": "2.0.0",
       "_model_name": "LayoutModel",
       "_view_count": null,
       "_view_module": "@jupyter-widgets/base",
       "_view_module_version": "2.0.0",
       "_view_name": "LayoutView",
       "align_content": null,
       "align_items": null,
       "align_self": null,
       "border_bottom": null,
       "border_left": null,
       "border_right": null,
       "border_top": null,
       "bottom": null,
       "display": null,
       "flex": null,
       "flex_flow": null,
       "grid_area": null,
       "grid_auto_columns": null,
       "grid_auto_flow": null,
       "grid_auto_rows": null,
       "grid_column": null,
       "grid_gap": null,
       "grid_row": null,
       "grid_template_areas": null,
       "grid_template_columns": null,
       "grid_template_rows": null,
       "height": null,
       "justify_content": null,
       "justify_items": null,
       "left": null,
       "margin": null,
       "max_height": null,
       "max_width": null,
       "min_height": null,
       "min_width": null,
       "object_fit": null,
       "object_position": null,
       "order": null,
       "overflow": null,
       "padding": null,
       "right": null,
       "top": null,
       "visibility": null,
       "width": null
      }
     },
     "90e3a8f80f75467bb7bf86414cabb738": {
      "model_module": "@jupyter-widgets/controls",
      "model_module_version": "2.0.0",
      "model_name": "HTMLStyleModel",
      "state": {
       "_model_module": "@jupyter-widgets/controls",
       "_model_module_version": "2.0.0",
       "_model_name": "HTMLStyleModel",
       "_view_count": null,
       "_view_module": "@jupyter-widgets/base",
       "_view_module_version": "2.0.0",
       "_view_name": "StyleView",
       "background": null,
       "description_width": "",
       "font_size": null,
       "text_color": null
      }
     },
     "96d699645bf541988e2d85a41190b5ae": {
      "model_module": "@jupyter-widgets/controls",
      "model_module_version": "2.0.0",
      "model_name": "HBoxModel",
      "state": {
       "_dom_classes": [],
       "_model_module": "@jupyter-widgets/controls",
       "_model_module_version": "2.0.0",
       "_model_name": "HBoxModel",
       "_view_count": null,
       "_view_module": "@jupyter-widgets/controls",
       "_view_module_version": "2.0.0",
       "_view_name": "HBoxView",
       "box_style": "",
       "children": [
        "IPY_MODEL_52ea96760dd54e1c84209e692191f2b3",
        "IPY_MODEL_27eabdb5bf814a64b71fd3b02e1ed0fc",
        "IPY_MODEL_ceac2539c69e49f293fc0ca568ab2392"
       ],
       "layout": "IPY_MODEL_d486eb6bdd5e487dbf40682e1aa696a5",
       "tabbable": null,
       "tooltip": null
      }
     },
     "a0081d4cec9f4b85a5daf47cf391c006": {
      "model_module": "@jupyter-widgets/base",
      "model_module_version": "2.0.0",
      "model_name": "LayoutModel",
      "state": {
       "_model_module": "@jupyter-widgets/base",
       "_model_module_version": "2.0.0",
       "_model_name": "LayoutModel",
       "_view_count": null,
       "_view_module": "@jupyter-widgets/base",
       "_view_module_version": "2.0.0",
       "_view_name": "LayoutView",
       "align_content": null,
       "align_items": null,
       "align_self": null,
       "border_bottom": null,
       "border_left": null,
       "border_right": null,
       "border_top": null,
       "bottom": null,
       "display": null,
       "flex": null,
       "flex_flow": null,
       "grid_area": null,
       "grid_auto_columns": null,
       "grid_auto_flow": null,
       "grid_auto_rows": null,
       "grid_column": null,
       "grid_gap": null,
       "grid_row": null,
       "grid_template_areas": null,
       "grid_template_columns": null,
       "grid_template_rows": null,
       "height": null,
       "justify_content": null,
       "justify_items": null,
       "left": null,
       "margin": null,
       "max_height": null,
       "max_width": null,
       "min_height": null,
       "min_width": null,
       "object_fit": null,
       "object_position": null,
       "order": null,
       "overflow": null,
       "padding": null,
       "right": null,
       "top": null,
       "visibility": null,
       "width": null
      }
     },
     "a5dce1d8156d44cc8dbb39ea17e0bab3": {
      "model_module": "@jupyter-widgets/controls",
      "model_module_version": "2.0.0",
      "model_name": "ProgressStyleModel",
      "state": {
       "_model_module": "@jupyter-widgets/controls",
       "_model_module_version": "2.0.0",
       "_model_name": "ProgressStyleModel",
       "_view_count": null,
       "_view_module": "@jupyter-widgets/base",
       "_view_module_version": "2.0.0",
       "_view_name": "StyleView",
       "bar_color": null,
       "description_width": ""
      }
     },
     "a758302a25a64869be5910ec8cd6ac3a": {
      "model_module": "@jupyter-widgets/controls",
      "model_module_version": "2.0.0",
      "model_name": "HTMLStyleModel",
      "state": {
       "_model_module": "@jupyter-widgets/controls",
       "_model_module_version": "2.0.0",
       "_model_name": "HTMLStyleModel",
       "_view_count": null,
       "_view_module": "@jupyter-widgets/base",
       "_view_module_version": "2.0.0",
       "_view_name": "StyleView",
       "background": null,
       "description_width": "",
       "font_size": null,
       "text_color": null
      }
     },
     "ab42c72692664a9eab875515bbe7f714": {
      "model_module": "@jupyter-widgets/controls",
      "model_module_version": "2.0.0",
      "model_name": "HTMLStyleModel",
      "state": {
       "_model_module": "@jupyter-widgets/controls",
       "_model_module_version": "2.0.0",
       "_model_name": "HTMLStyleModel",
       "_view_count": null,
       "_view_module": "@jupyter-widgets/base",
       "_view_module_version": "2.0.0",
       "_view_name": "StyleView",
       "background": null,
       "description_width": "",
       "font_size": null,
       "text_color": null
      }
     },
     "bd99cdb8e11b4f7a92d58ab213f3e625": {
      "model_module": "@jupyter-widgets/base",
      "model_module_version": "2.0.0",
      "model_name": "LayoutModel",
      "state": {
       "_model_module": "@jupyter-widgets/base",
       "_model_module_version": "2.0.0",
       "_model_name": "LayoutModel",
       "_view_count": null,
       "_view_module": "@jupyter-widgets/base",
       "_view_module_version": "2.0.0",
       "_view_name": "LayoutView",
       "align_content": null,
       "align_items": null,
       "align_self": null,
       "border_bottom": null,
       "border_left": null,
       "border_right": null,
       "border_top": null,
       "bottom": null,
       "display": null,
       "flex": null,
       "flex_flow": null,
       "grid_area": null,
       "grid_auto_columns": null,
       "grid_auto_flow": null,
       "grid_auto_rows": null,
       "grid_column": null,
       "grid_gap": null,
       "grid_row": null,
       "grid_template_areas": null,
       "grid_template_columns": null,
       "grid_template_rows": null,
       "height": null,
       "justify_content": null,
       "justify_items": null,
       "left": null,
       "margin": null,
       "max_height": null,
       "max_width": null,
       "min_height": null,
       "min_width": null,
       "object_fit": null,
       "object_position": null,
       "order": null,
       "overflow": null,
       "padding": null,
       "right": null,
       "top": null,
       "visibility": null,
       "width": null
      }
     },
     "bfe8cc58aee94dbc8ffb537a32af78a5": {
      "model_module": "@jupyter-widgets/controls",
      "model_module_version": "2.0.0",
      "model_name": "HBoxModel",
      "state": {
       "_dom_classes": [],
       "_model_module": "@jupyter-widgets/controls",
       "_model_module_version": "2.0.0",
       "_model_name": "HBoxModel",
       "_view_count": null,
       "_view_module": "@jupyter-widgets/controls",
       "_view_module_version": "2.0.0",
       "_view_name": "HBoxView",
       "box_style": "",
       "children": [
        "IPY_MODEL_c17f8d29002542d5830fd398bc8049f5",
        "IPY_MODEL_60e9765c49dd4cb99484f89b4e1e73df",
        "IPY_MODEL_44f7ff56833c4c219e2a508b61c05141"
       ],
       "layout": "IPY_MODEL_3cc34a64547a487099d933dc4e222ec1",
       "tabbable": null,
       "tooltip": null
      }
     },
     "c17f8d29002542d5830fd398bc8049f5": {
      "model_module": "@jupyter-widgets/controls",
      "model_module_version": "2.0.0",
      "model_name": "HTMLModel",
      "state": {
       "_dom_classes": [],
       "_model_module": "@jupyter-widgets/controls",
       "_model_module_version": "2.0.0",
       "_model_name": "HTMLModel",
       "_view_count": null,
       "_view_module": "@jupyter-widgets/controls",
       "_view_module_version": "2.0.0",
       "_view_name": "HTMLView",
       "description": "",
       "description_allow_html": false,
       "layout": "IPY_MODEL_4305bbdc6dfd43088f2a6b237efd6315",
       "placeholder": "​",
       "style": "IPY_MODEL_ab42c72692664a9eab875515bbe7f714",
       "tabbable": null,
       "tooltip": null,
       "value": "tokenizer.json: 100%"
      }
     },
     "ceac2539c69e49f293fc0ca568ab2392": {
      "model_module": "@jupyter-widgets/controls",
      "model_module_version": "2.0.0",
      "model_name": "HTMLModel",
      "state": {
       "_dom_classes": [],
       "_model_module": "@jupyter-widgets/controls",
       "_model_module_version": "2.0.0",
       "_model_name": "HTMLModel",
       "_view_count": null,
       "_view_module": "@jupyter-widgets/controls",
       "_view_module_version": "2.0.0",
       "_view_name": "HTMLView",
       "description": "",
       "description_allow_html": false,
       "layout": "IPY_MODEL_3a56164a7f4d462ca19e8f743acd7f91",
       "placeholder": "​",
       "style": "IPY_MODEL_f64c6c9efc9b43038869193a330f0083",
       "tabbable": null,
       "tooltip": null,
       "value": " 996k/996k [00:00&lt;00:00, 12.7MB/s]"
      }
     },
     "cec851e709bf46d69c08e2f5eff7672c": {
      "model_module": "@jupyter-widgets/base",
      "model_module_version": "2.0.0",
      "model_name": "LayoutModel",
      "state": {
       "_model_module": "@jupyter-widgets/base",
       "_model_module_version": "2.0.0",
       "_model_name": "LayoutModel",
       "_view_count": null,
       "_view_module": "@jupyter-widgets/base",
       "_view_module_version": "2.0.0",
       "_view_name": "LayoutView",
       "align_content": null,
       "align_items": null,
       "align_self": null,
       "border_bottom": null,
       "border_left": null,
       "border_right": null,
       "border_top": null,
       "bottom": null,
       "display": null,
       "flex": null,
       "flex_flow": null,
       "grid_area": null,
       "grid_auto_columns": null,
       "grid_auto_flow": null,
       "grid_auto_rows": null,
       "grid_column": null,
       "grid_gap": null,
       "grid_row": null,
       "grid_template_areas": null,
       "grid_template_columns": null,
       "grid_template_rows": null,
       "height": null,
       "justify_content": null,
       "justify_items": null,
       "left": null,
       "margin": null,
       "max_height": null,
       "max_width": null,
       "min_height": null,
       "min_width": null,
       "object_fit": null,
       "object_position": null,
       "order": null,
       "overflow": null,
       "padding": null,
       "right": null,
       "top": null,
       "visibility": null,
       "width": null
      }
     },
     "d35be4849ec849b3bbc5825ddee28f2b": {
      "model_module": "@jupyter-widgets/base",
      "model_module_version": "2.0.0",
      "model_name": "LayoutModel",
      "state": {
       "_model_module": "@jupyter-widgets/base",
       "_model_module_version": "2.0.0",
       "_model_name": "LayoutModel",
       "_view_count": null,
       "_view_module": "@jupyter-widgets/base",
       "_view_module_version": "2.0.0",
       "_view_name": "LayoutView",
       "align_content": null,
       "align_items": null,
       "align_self": null,
       "border_bottom": null,
       "border_left": null,
       "border_right": null,
       "border_top": null,
       "bottom": null,
       "display": null,
       "flex": null,
       "flex_flow": null,
       "grid_area": null,
       "grid_auto_columns": null,
       "grid_auto_flow": null,
       "grid_auto_rows": null,
       "grid_column": null,
       "grid_gap": null,
       "grid_row": null,
       "grid_template_areas": null,
       "grid_template_columns": null,
       "grid_template_rows": null,
       "height": null,
       "justify_content": null,
       "justify_items": null,
       "left": null,
       "margin": null,
       "max_height": null,
       "max_width": null,
       "min_height": null,
       "min_width": null,
       "object_fit": null,
       "object_position": null,
       "order": null,
       "overflow": null,
       "padding": null,
       "right": null,
       "top": null,
       "visibility": null,
       "width": null
      }
     },
     "d486eb6bdd5e487dbf40682e1aa696a5": {
      "model_module": "@jupyter-widgets/base",
      "model_module_version": "2.0.0",
      "model_name": "LayoutModel",
      "state": {
       "_model_module": "@jupyter-widgets/base",
       "_model_module_version": "2.0.0",
       "_model_name": "LayoutModel",
       "_view_count": null,
       "_view_module": "@jupyter-widgets/base",
       "_view_module_version": "2.0.0",
       "_view_name": "LayoutView",
       "align_content": null,
       "align_items": null,
       "align_self": null,
       "border_bottom": null,
       "border_left": null,
       "border_right": null,
       "border_top": null,
       "bottom": null,
       "display": null,
       "flex": null,
       "flex_flow": null,
       "grid_area": null,
       "grid_auto_columns": null,
       "grid_auto_flow": null,
       "grid_auto_rows": null,
       "grid_column": null,
       "grid_gap": null,
       "grid_row": null,
       "grid_template_areas": null,
       "grid_template_columns": null,
       "grid_template_rows": null,
       "height": null,
       "justify_content": null,
       "justify_items": null,
       "left": null,
       "margin": null,
       "max_height": null,
       "max_width": null,
       "min_height": null,
       "min_width": null,
       "object_fit": null,
       "object_position": null,
       "order": null,
       "overflow": null,
       "padding": null,
       "right": null,
       "top": null,
       "visibility": null,
       "width": null
      }
     },
     "e3424c87cced47b4b1451cc75beb109f": {
      "model_module": "@jupyter-widgets/controls",
      "model_module_version": "2.0.0",
      "model_name": "HTMLStyleModel",
      "state": {
       "_model_module": "@jupyter-widgets/controls",
       "_model_module_version": "2.0.0",
       "_model_name": "HTMLStyleModel",
       "_view_count": null,
       "_view_module": "@jupyter-widgets/base",
       "_view_module_version": "2.0.0",
       "_view_name": "StyleView",
       "background": null,
       "description_width": "",
       "font_size": null,
       "text_color": null
      }
     },
     "e9c066248f8b43918b329ccfcfc9438f": {
      "model_module": "@jupyter-widgets/base",
      "model_module_version": "2.0.0",
      "model_name": "LayoutModel",
      "state": {
       "_model_module": "@jupyter-widgets/base",
       "_model_module_version": "2.0.0",
       "_model_name": "LayoutModel",
       "_view_count": null,
       "_view_module": "@jupyter-widgets/base",
       "_view_module_version": "2.0.0",
       "_view_name": "LayoutView",
       "align_content": null,
       "align_items": null,
       "align_self": null,
       "border_bottom": null,
       "border_left": null,
       "border_right": null,
       "border_top": null,
       "bottom": null,
       "display": null,
       "flex": null,
       "flex_flow": null,
       "grid_area": null,
       "grid_auto_columns": null,
       "grid_auto_flow": null,
       "grid_auto_rows": null,
       "grid_column": null,
       "grid_gap": null,
       "grid_row": null,
       "grid_template_areas": null,
       "grid_template_columns": null,
       "grid_template_rows": null,
       "height": null,
       "justify_content": null,
       "justify_items": null,
       "left": null,
       "margin": null,
       "max_height": null,
       "max_width": null,
       "min_height": null,
       "min_width": null,
       "object_fit": null,
       "object_position": null,
       "order": null,
       "overflow": null,
       "padding": null,
       "right": null,
       "top": null,
       "visibility": null,
       "width": null
      }
     },
     "f64c6c9efc9b43038869193a330f0083": {
      "model_module": "@jupyter-widgets/controls",
      "model_module_version": "2.0.0",
      "model_name": "HTMLStyleModel",
      "state": {
       "_model_module": "@jupyter-widgets/controls",
       "_model_module_version": "2.0.0",
       "_model_name": "HTMLStyleModel",
       "_view_count": null,
       "_view_module": "@jupyter-widgets/base",
       "_view_module_version": "2.0.0",
       "_view_name": "StyleView",
       "background": null,
       "description_width": "",
       "font_size": null,
       "text_color": null
      }
     },
     "f70181449a444920b7c2e5de2edce7f2": {
      "model_module": "@jupyter-widgets/controls",
      "model_module_version": "2.0.0",
      "model_name": "HTMLModel",
      "state": {
       "_dom_classes": [],
       "_model_module": "@jupyter-widgets/controls",
       "_model_module_version": "2.0.0",
       "_model_name": "HTMLModel",
       "_view_count": null,
       "_view_module": "@jupyter-widgets/controls",
       "_view_module_version": "2.0.0",
       "_view_name": "HTMLView",
       "description": "",
       "description_allow_html": false,
       "layout": "IPY_MODEL_cec851e709bf46d69c08e2f5eff7672c",
       "placeholder": "​",
       "style": "IPY_MODEL_f86084f9166543449f97124ac4e13346",
       "tabbable": null,
       "tooltip": null,
       "value": " 49.0/49.0 [00:00&lt;00:00, 4.27kB/s]"
      }
     },
     "f7b1ed4b97c847708f143135f9fa152c": {
      "model_module": "@jupyter-widgets/controls",
      "model_module_version": "2.0.0",
      "model_name": "FloatProgressModel",
      "state": {
       "_dom_classes": [],
       "_model_module": "@jupyter-widgets/controls",
       "_model_module_version": "2.0.0",
       "_model_name": "FloatProgressModel",
       "_view_count": null,
       "_view_module": "@jupyter-widgets/controls",
       "_view_module_version": "2.0.0",
       "_view_name": "ProgressView",
       "bar_style": "success",
       "description": "",
       "description_allow_html": false,
       "layout": "IPY_MODEL_3dd034ddb4d342ada2b0d9f5b83926a6",
       "max": 49,
       "min": 0,
       "orientation": "horizontal",
       "style": "IPY_MODEL_f912733d6990497a96fe0e719bad506a",
       "tabbable": null,
       "tooltip": null,
       "value": 49
      }
     },
     "f86084f9166543449f97124ac4e13346": {
      "model_module": "@jupyter-widgets/controls",
      "model_module_version": "2.0.0",
      "model_name": "HTMLStyleModel",
      "state": {
       "_model_module": "@jupyter-widgets/controls",
       "_model_module_version": "2.0.0",
       "_model_name": "HTMLStyleModel",
       "_view_count": null,
       "_view_module": "@jupyter-widgets/base",
       "_view_module_version": "2.0.0",
       "_view_name": "StyleView",
       "background": null,
       "description_width": "",
       "font_size": null,
       "text_color": null
      }
     },
     "f912733d6990497a96fe0e719bad506a": {
      "model_module": "@jupyter-widgets/controls",
      "model_module_version": "2.0.0",
      "model_name": "ProgressStyleModel",
      "state": {
       "_model_module": "@jupyter-widgets/controls",
       "_model_module_version": "2.0.0",
       "_model_name": "ProgressStyleModel",
       "_view_count": null,
       "_view_module": "@jupyter-widgets/base",
       "_view_module_version": "2.0.0",
       "_view_name": "StyleView",
       "bar_color": null,
       "description_width": ""
      }
     },
     "fead586fd5b047d0a4fdd5a0b24b2d4d": {
      "model_module": "@jupyter-widgets/base",
      "model_module_version": "2.0.0",
      "model_name": "LayoutModel",
      "state": {
       "_model_module": "@jupyter-widgets/base",
       "_model_module_version": "2.0.0",
       "_model_name": "LayoutModel",
       "_view_count": null,
       "_view_module": "@jupyter-widgets/base",
       "_view_module_version": "2.0.0",
       "_view_name": "LayoutView",
       "align_content": null,
       "align_items": null,
       "align_self": null,
       "border_bottom": null,
       "border_left": null,
       "border_right": null,
       "border_top": null,
       "bottom": null,
       "display": null,
       "flex": null,
       "flex_flow": null,
       "grid_area": null,
       "grid_auto_columns": null,
       "grid_auto_flow": null,
       "grid_auto_rows": null,
       "grid_column": null,
       "grid_gap": null,
       "grid_row": null,
       "grid_template_areas": null,
       "grid_template_columns": null,
       "grid_template_rows": null,
       "height": null,
       "justify_content": null,
       "justify_items": null,
       "left": null,
       "margin": null,
       "max_height": null,
       "max_width": null,
       "min_height": null,
       "min_width": null,
       "object_fit": null,
       "object_position": null,
       "order": null,
       "overflow": null,
       "padding": null,
       "right": null,
       "top": null,
       "visibility": null,
       "width": null
      }
     },
     "ff5295a39ead420bb92d61710ebae682": {
      "model_module": "@jupyter-widgets/base",
      "model_module_version": "2.0.0",
      "model_name": "LayoutModel",
      "state": {
       "_model_module": "@jupyter-widgets/base",
       "_model_module_version": "2.0.0",
       "_model_name": "LayoutModel",
       "_view_count": null,
       "_view_module": "@jupyter-widgets/base",
       "_view_module_version": "2.0.0",
       "_view_name": "LayoutView",
       "align_content": null,
       "align_items": null,
       "align_self": null,
       "border_bottom": null,
       "border_left": null,
       "border_right": null,
       "border_top": null,
       "bottom": null,
       "display": null,
       "flex": null,
       "flex_flow": null,
       "grid_area": null,
       "grid_auto_columns": null,
       "grid_auto_flow": null,
       "grid_auto_rows": null,
       "grid_column": null,
       "grid_gap": null,
       "grid_row": null,
       "grid_template_areas": null,
       "grid_template_columns": null,
       "grid_template_rows": null,
       "height": null,
       "justify_content": null,
       "justify_items": null,
       "left": null,
       "margin": null,
       "max_height": null,
       "max_width": null,
       "min_height": null,
       "min_width": null,
       "object_fit": null,
       "object_position": null,
       "order": null,
       "overflow": null,
       "padding": null,
       "right": null,
       "top": null,
       "visibility": null,
       "width": null
      }
     }
    },
    "version_major": 2,
    "version_minor": 0
   }
  }
 },
 "nbformat": 4,
 "nbformat_minor": 5
}
